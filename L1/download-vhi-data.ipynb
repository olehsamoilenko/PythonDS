{
 "metadata": {
  "language_info": {
   "codemirror_mode": {
    "name": "ipython",
    "version": 3
   },
   "file_extension": ".py",
   "mimetype": "text/x-python",
   "name": "python",
   "nbconvert_exporter": "python",
   "pygments_lexer": "ipython3",
   "version": "3.7.5-final"
  },
  "orig_nbformat": 2,
  "kernelspec": {
   "name": "python3",
   "display_name": "Python 3"
  }
 },
 "nbformat": 4,
 "nbformat_minor": 2,
 "cells": [
  {
   "cell_type": "code",
   "execution_count": 26,
   "metadata": {
    "tags": []
   },
   "outputs": [
    {
     "output_type": "stream",
     "name": "stdout",
     "text": "VHI 1 is downloaded.\n"
    }
   ],
   "source": [
    "import urllib.request\n",
    "\n",
    "def request_data(year_from: int, year_to: int, province_id: int, path=\"./\"):\n",
    "    '''\n",
    "    Function requests data for a province during a period and dumps it to csv file.\n",
    "    Output file directory can be changed with `path` parameter,\n",
    "    by default it's current directory. \n",
    "    '''\n",
    "    url = \"https://www.star.nesdis.noaa.gov/smcd/emb/vci/VH/get_TS_admin.php?country=UKR\" + \\\n",
    "        \"&provinceID=%d&year1=%d&year2=%d&type=Mean\" % (province_id, year_from, year_to)\n",
    "\n",
    "    vhi_url = urllib.request.urlopen(url)\n",
    "    data_plus_header = vhi_url.read().decode()\n",
    "\n",
    "    # get rid of html stuff\n",
    "    substrs = data_plus_header.replace('</pre>', '<pre>').split('<pre>')\n",
    "    # fix ugly csv format\n",
    "    pure_data = substrs[1].replace(',\\n', '\\n')\n",
    "\n",
    "    out = open(os.path.join(path, 'vhi_id_%d.csv' % province_id), 'w')\n",
    "    out.write(pure_data)\n",
    "    out.close()\n",
    "\n",
    "    print(\"VHI %d is downloaded.\" % province_id)\n",
    "\n",
    "# test: downloading vhi_id_1.csv\n",
    "request_data(2018, 2019, 1)"
   ]
  },
  {
   "cell_type": "code",
   "execution_count": 27,
   "metadata": {
    "tags": []
   },
   "outputs": [
    {
     "output_type": "execute_result",
     "data": {
      "text/plain": "         province_id   ndvi      bt    vci    tci    vhi\n2018 1             1  0.056  258.38  45.03  45.90  45.47\n     2             1  0.055  256.59  47.07  49.96  48.52\n     3             1  0.054  254.79  45.36  61.56  53.46\n     4             1  0.053  253.97  43.79  65.97  54.88\n     5             1  0.051  254.32  40.20  64.18  52.20\n...              ...    ...     ...    ...    ...    ...\n2019 48            1  0.083  270.15  45.09  23.88  34.49\n     49            1  0.075  268.90  44.71  25.80  35.25\n     50            1  0.069  267.68  45.50  25.60  35.55\n     51            1  0.066  266.30  47.51  24.94  36.22\n     52            1  0.065  265.70  50.47  23.60  37.03\n\n[104 rows x 6 columns]",
      "text/html": "<div>\n<style scoped>\n    .dataframe tbody tr th:only-of-type {\n        vertical-align: middle;\n    }\n\n    .dataframe tbody tr th {\n        vertical-align: top;\n    }\n\n    .dataframe thead th {\n        text-align: right;\n    }\n</style>\n<table border=\"1\" class=\"dataframe\">\n  <thead>\n    <tr style=\"text-align: right;\">\n      <th></th>\n      <th></th>\n      <th>province_id</th>\n      <th>ndvi</th>\n      <th>bt</th>\n      <th>vci</th>\n      <th>tci</th>\n      <th>vhi</th>\n    </tr>\n  </thead>\n  <tbody>\n    <tr>\n      <th rowspan=\"5\" valign=\"top\">2018</th>\n      <th>1</th>\n      <td>1</td>\n      <td>0.056</td>\n      <td>258.38</td>\n      <td>45.03</td>\n      <td>45.90</td>\n      <td>45.47</td>\n    </tr>\n    <tr>\n      <th>2</th>\n      <td>1</td>\n      <td>0.055</td>\n      <td>256.59</td>\n      <td>47.07</td>\n      <td>49.96</td>\n      <td>48.52</td>\n    </tr>\n    <tr>\n      <th>3</th>\n      <td>1</td>\n      <td>0.054</td>\n      <td>254.79</td>\n      <td>45.36</td>\n      <td>61.56</td>\n      <td>53.46</td>\n    </tr>\n    <tr>\n      <th>4</th>\n      <td>1</td>\n      <td>0.053</td>\n      <td>253.97</td>\n      <td>43.79</td>\n      <td>65.97</td>\n      <td>54.88</td>\n    </tr>\n    <tr>\n      <th>5</th>\n      <td>1</td>\n      <td>0.051</td>\n      <td>254.32</td>\n      <td>40.20</td>\n      <td>64.18</td>\n      <td>52.20</td>\n    </tr>\n    <tr>\n      <th>...</th>\n      <th>...</th>\n      <td>...</td>\n      <td>...</td>\n      <td>...</td>\n      <td>...</td>\n      <td>...</td>\n      <td>...</td>\n    </tr>\n    <tr>\n      <th rowspan=\"5\" valign=\"top\">2019</th>\n      <th>48</th>\n      <td>1</td>\n      <td>0.083</td>\n      <td>270.15</td>\n      <td>45.09</td>\n      <td>23.88</td>\n      <td>34.49</td>\n    </tr>\n    <tr>\n      <th>49</th>\n      <td>1</td>\n      <td>0.075</td>\n      <td>268.90</td>\n      <td>44.71</td>\n      <td>25.80</td>\n      <td>35.25</td>\n    </tr>\n    <tr>\n      <th>50</th>\n      <td>1</td>\n      <td>0.069</td>\n      <td>267.68</td>\n      <td>45.50</td>\n      <td>25.60</td>\n      <td>35.55</td>\n    </tr>\n    <tr>\n      <th>51</th>\n      <td>1</td>\n      <td>0.066</td>\n      <td>266.30</td>\n      <td>47.51</td>\n      <td>24.94</td>\n      <td>36.22</td>\n    </tr>\n    <tr>\n      <th>52</th>\n      <td>1</td>\n      <td>0.065</td>\n      <td>265.70</td>\n      <td>50.47</td>\n      <td>23.60</td>\n      <td>37.03</td>\n    </tr>\n  </tbody>\n</table>\n<p>104 rows × 6 columns</p>\n</div>"
     },
     "metadata": {},
     "execution_count": 27
    }
   ],
   "source": [
    "import pandas as pd\n",
    "\n",
    "def province_to_frame(province_id: int, path=\"./\") -> pd.DataFrame:\n",
    "    '''\n",
    "    Function converts a csv file to DataFrame.\n",
    "    Input file path can be specified with `path` parameter,\n",
    "    by default it's current directory.\n",
    "    '''\n",
    "    df = pd.read_csv(os.path.join(path, 'vhi_id_%d.csv' % province_id), names=[\n",
    "        'ndvi', # Provincial mean NDVI (with noise reduced)\n",
    "        'bt',   # Provincial mean Brightness Temperature (with noise reduced)\n",
    "        'vci',  # Vegetation Condition Index\n",
    "        'tci',  # Thermal Contition Index\n",
    "        'vhi'   # Vegetation Health Index\n",
    "        ])\n",
    "    # ! add a new column filled with 'province_id' value !\n",
    "    df.insert(0, 'province_id', province_id)\n",
    "    return df\n",
    "\n",
    "# test: frame for province 1\n",
    "province_to_frame(1)"
   ]
  },
  {
   "cell_type": "code",
   "execution_count": 28,
   "metadata": {
    "tags": []
   },
   "outputs": [
    {
     "output_type": "stream",
     "name": "stdout",
     "text": "VHI 1 is downloaded.\nVHI 2 is downloaded.\nVHI 3 is downloaded.\nVHI 4 is downloaded.\nVHI 5 is downloaded.\nVHI 6 is downloaded.\nVHI 7 is downloaded.\nVHI 8 is downloaded.\nVHI 9 is downloaded.\nVHI 10 is downloaded.\nVHI 11 is downloaded.\nVHI 12 is downloaded.\nVHI 13 is downloaded.\nVHI 14 is downloaded.\nVHI 15 is downloaded.\nVHI 16 is downloaded.\nVHI 17 is downloaded.\nVHI 18 is downloaded.\nVHI 19 is downloaded.\nVHI 20 is downloaded.\nVHI 21 is downloaded.\nVHI 22 is downloaded.\nVHI 23 is downloaded.\nVHI 24 is downloaded.\nVHI 25 is downloaded.\nVHI 26 is downloaded.\nVHI 27 is downloaded.\n"
    }
   ],
   "source": [
    "from datetime import datetime\n",
    "\n",
    "def load_all_provinces(year_from: int, year_to: int) -> str:\n",
    "    '''\n",
    "    Function downloads csv files for all of 27 possible provinces to ./data/current-date directory,\n",
    "    returns a path to the output directory.\n",
    "    '''\n",
    "    timestamp_str = datetime.today().strftime('%Y-%m-%d')\n",
    "    res_dir = os.path.join('data', timestamp_str)\n",
    "    if not os.path.exists(res_dir):\n",
    "        os.makedirs(res_dir)\n",
    "    for i in range(1, 28):\n",
    "        request_data(year_from, year_to, i, path=res_dir)\n",
    "    return res_dir\n",
    "\n",
    "data_dir = load_all_provinces(2018, 2019)"
   ]
  },
  {
   "cell_type": "code",
   "execution_count": 29,
   "metadata": {},
   "outputs": [
    {
     "output_type": "execute_result",
     "data": {
      "text/plain": "         province_id   ndvi      bt    vci    tci    vhi\n2018 1             1  0.056  258.38  45.03  45.90  45.47\n     2             1  0.055  256.59  47.07  49.96  48.52\n     3             1  0.054  254.79  45.36  61.56  53.46\n     4             1  0.053  253.97  43.79  65.97  54.88\n     5             1  0.051  254.32  40.20  64.18  52.20\n...              ...    ...     ...    ...    ...    ...\n2019 48           27  0.141  274.97  75.95   4.24  40.10\n     49           27  0.135  274.25  76.95   4.29  40.62\n     50           27  0.131  273.19  78.24   3.26  40.75\n     51           27  0.126  271.71  77.84   2.85  40.35\n     52           27  0.122  270.70  78.63   3.60  41.12\n\n[2808 rows x 6 columns]",
      "text/html": "<div>\n<style scoped>\n    .dataframe tbody tr th:only-of-type {\n        vertical-align: middle;\n    }\n\n    .dataframe tbody tr th {\n        vertical-align: top;\n    }\n\n    .dataframe thead th {\n        text-align: right;\n    }\n</style>\n<table border=\"1\" class=\"dataframe\">\n  <thead>\n    <tr style=\"text-align: right;\">\n      <th></th>\n      <th></th>\n      <th>province_id</th>\n      <th>ndvi</th>\n      <th>bt</th>\n      <th>vci</th>\n      <th>tci</th>\n      <th>vhi</th>\n    </tr>\n  </thead>\n  <tbody>\n    <tr>\n      <th rowspan=\"5\" valign=\"top\">2018</th>\n      <th>1</th>\n      <td>1</td>\n      <td>0.056</td>\n      <td>258.38</td>\n      <td>45.03</td>\n      <td>45.90</td>\n      <td>45.47</td>\n    </tr>\n    <tr>\n      <th>2</th>\n      <td>1</td>\n      <td>0.055</td>\n      <td>256.59</td>\n      <td>47.07</td>\n      <td>49.96</td>\n      <td>48.52</td>\n    </tr>\n    <tr>\n      <th>3</th>\n      <td>1</td>\n      <td>0.054</td>\n      <td>254.79</td>\n      <td>45.36</td>\n      <td>61.56</td>\n      <td>53.46</td>\n    </tr>\n    <tr>\n      <th>4</th>\n      <td>1</td>\n      <td>0.053</td>\n      <td>253.97</td>\n      <td>43.79</td>\n      <td>65.97</td>\n      <td>54.88</td>\n    </tr>\n    <tr>\n      <th>5</th>\n      <td>1</td>\n      <td>0.051</td>\n      <td>254.32</td>\n      <td>40.20</td>\n      <td>64.18</td>\n      <td>52.20</td>\n    </tr>\n    <tr>\n      <th>...</th>\n      <th>...</th>\n      <td>...</td>\n      <td>...</td>\n      <td>...</td>\n      <td>...</td>\n      <td>...</td>\n      <td>...</td>\n    </tr>\n    <tr>\n      <th rowspan=\"5\" valign=\"top\">2019</th>\n      <th>48</th>\n      <td>27</td>\n      <td>0.141</td>\n      <td>274.97</td>\n      <td>75.95</td>\n      <td>4.24</td>\n      <td>40.10</td>\n    </tr>\n    <tr>\n      <th>49</th>\n      <td>27</td>\n      <td>0.135</td>\n      <td>274.25</td>\n      <td>76.95</td>\n      <td>4.29</td>\n      <td>40.62</td>\n    </tr>\n    <tr>\n      <th>50</th>\n      <td>27</td>\n      <td>0.131</td>\n      <td>273.19</td>\n      <td>78.24</td>\n      <td>3.26</td>\n      <td>40.75</td>\n    </tr>\n    <tr>\n      <th>51</th>\n      <td>27</td>\n      <td>0.126</td>\n      <td>271.71</td>\n      <td>77.84</td>\n      <td>2.85</td>\n      <td>40.35</td>\n    </tr>\n    <tr>\n      <th>52</th>\n      <td>27</td>\n      <td>0.122</td>\n      <td>270.70</td>\n      <td>78.63</td>\n      <td>3.60</td>\n      <td>41.12</td>\n    </tr>\n  </tbody>\n</table>\n<p>2808 rows × 6 columns</p>\n</div>"
     },
     "metadata": {},
     "execution_count": 29
    }
   ],
   "source": [
    "def concat_all_provinces(dir: str) -> pd.DataFrame:\n",
    "    '''\n",
    "    Function concatenates all csv files from input `dir` to a single DataFrame.\n",
    "    '''\n",
    "    res = None\n",
    "    for i in range(1, 28):\n",
    "        res = pd.concat([res, province_to_frame(i, path=dir)])\n",
    "    return res\n",
    "\n",
    "concat_all_provinces(data_dir)"
   ]
  },
  {
   "cell_type": "code",
   "execution_count": 30,
   "metadata": {},
   "outputs": [
    {
     "output_type": "execute_result",
     "data": {
      "text/plain": "         province_id   ndvi      bt    vci    tci    vhi\n2018 1     Черкаська  0.056  258.38  45.03  45.90  45.47\n     2     Черкаська  0.055  256.59  47.07  49.96  48.52\n     3     Черкаська  0.054  254.79  45.36  61.56  53.46\n     4     Черкаська  0.053  253.97  43.79  65.97  54.88\n     5     Черкаська  0.051  254.32  40.20  64.18  52.20\n...              ...    ...     ...    ...    ...    ...\n2019 48  Житомирська  0.141  274.97  75.95   4.24  40.10\n     49  Житомирська  0.135  274.25  76.95   4.29  40.62\n     50  Житомирська  0.131  273.19  78.24   3.26  40.75\n     51  Житомирська  0.126  271.71  77.84   2.85  40.35\n     52  Житомирська  0.122  270.70  78.63   3.60  41.12\n\n[2808 rows x 6 columns]",
      "text/html": "<div>\n<style scoped>\n    .dataframe tbody tr th:only-of-type {\n        vertical-align: middle;\n    }\n\n    .dataframe tbody tr th {\n        vertical-align: top;\n    }\n\n    .dataframe thead th {\n        text-align: right;\n    }\n</style>\n<table border=\"1\" class=\"dataframe\">\n  <thead>\n    <tr style=\"text-align: right;\">\n      <th></th>\n      <th></th>\n      <th>province_id</th>\n      <th>ndvi</th>\n      <th>bt</th>\n      <th>vci</th>\n      <th>tci</th>\n      <th>vhi</th>\n    </tr>\n  </thead>\n  <tbody>\n    <tr>\n      <th rowspan=\"5\" valign=\"top\">2018</th>\n      <th>1</th>\n      <td>Черкаська</td>\n      <td>0.056</td>\n      <td>258.38</td>\n      <td>45.03</td>\n      <td>45.90</td>\n      <td>45.47</td>\n    </tr>\n    <tr>\n      <th>2</th>\n      <td>Черкаська</td>\n      <td>0.055</td>\n      <td>256.59</td>\n      <td>47.07</td>\n      <td>49.96</td>\n      <td>48.52</td>\n    </tr>\n    <tr>\n      <th>3</th>\n      <td>Черкаська</td>\n      <td>0.054</td>\n      <td>254.79</td>\n      <td>45.36</td>\n      <td>61.56</td>\n      <td>53.46</td>\n    </tr>\n    <tr>\n      <th>4</th>\n      <td>Черкаська</td>\n      <td>0.053</td>\n      <td>253.97</td>\n      <td>43.79</td>\n      <td>65.97</td>\n      <td>54.88</td>\n    </tr>\n    <tr>\n      <th>5</th>\n      <td>Черкаська</td>\n      <td>0.051</td>\n      <td>254.32</td>\n      <td>40.20</td>\n      <td>64.18</td>\n      <td>52.20</td>\n    </tr>\n    <tr>\n      <th>...</th>\n      <th>...</th>\n      <td>...</td>\n      <td>...</td>\n      <td>...</td>\n      <td>...</td>\n      <td>...</td>\n      <td>...</td>\n    </tr>\n    <tr>\n      <th rowspan=\"5\" valign=\"top\">2019</th>\n      <th>48</th>\n      <td>Житомирська</td>\n      <td>0.141</td>\n      <td>274.97</td>\n      <td>75.95</td>\n      <td>4.24</td>\n      <td>40.10</td>\n    </tr>\n    <tr>\n      <th>49</th>\n      <td>Житомирська</td>\n      <td>0.135</td>\n      <td>274.25</td>\n      <td>76.95</td>\n      <td>4.29</td>\n      <td>40.62</td>\n    </tr>\n    <tr>\n      <th>50</th>\n      <td>Житомирська</td>\n      <td>0.131</td>\n      <td>273.19</td>\n      <td>78.24</td>\n      <td>3.26</td>\n      <td>40.75</td>\n    </tr>\n    <tr>\n      <th>51</th>\n      <td>Житомирська</td>\n      <td>0.126</td>\n      <td>271.71</td>\n      <td>77.84</td>\n      <td>2.85</td>\n      <td>40.35</td>\n    </tr>\n    <tr>\n      <th>52</th>\n      <td>Житомирська</td>\n      <td>0.122</td>\n      <td>270.70</td>\n      <td>78.63</td>\n      <td>3.60</td>\n      <td>41.12</td>\n    </tr>\n  </tbody>\n</table>\n<p>2808 rows × 6 columns</p>\n</div>"
     },
     "metadata": {},
     "execution_count": 30
    }
   ],
   "source": [
    "def rename_province(row):\n",
    "    row.province_id = {\n",
    "         1: 'Черкаська',\n",
    "         2: 'Чернігівська',\n",
    "         3: 'Чернівецька',\n",
    "         4: 'Республіка Крим',\n",
    "         5: 'Дніпропетровська',\n",
    "         6: 'Донецька',\n",
    "         7: 'Івано-Франківська',\n",
    "         8: 'Харківська',\n",
    "         9: 'Херсонська',\n",
    "        10: 'Хмельницька',\n",
    "        11: 'Київська',\n",
    "        12: 'місто Київ',\n",
    "        13: 'Кировоградська',\n",
    "        14: 'Луганська',\n",
    "        15: 'Львівська',\n",
    "        16: 'Миколаївська',\n",
    "        17: 'Одеська',\n",
    "        18: 'Полтавська',\n",
    "        19: 'Рівненська',\n",
    "        20: 'місто Севастополь',\n",
    "        21: 'Сумська',\n",
    "        22: 'Тернопільська',\n",
    "        23: 'Закарпатська',\n",
    "        24: 'Вінницька',\n",
    "        25: 'Волинська',\n",
    "        26: 'Запорізька',\n",
    "        27: 'Житомирська'\n",
    "    }[row.province_id]\n",
    "    return row\n",
    "\n",
    "final_frame = concat_all_provinces(data_dir).apply(rename_province, axis='columns')\n",
    "final_frame"
   ]
  },
  {
   "cell_type": "code",
   "execution_count": 31,
   "metadata": {},
   "outputs": [
    {
     "output_type": "execute_result",
     "data": {
      "text/plain": "        province_id   ndvi      bt    vci    tci    vhi\n2018 1    Черкаська  0.056  258.38  45.03  45.90  45.47\n     2    Черкаська  0.055  256.59  47.07  49.96  48.52\n     3    Черкаська  0.054  254.79  45.36  61.56  53.46\n     4    Черкаська  0.053  253.97  43.79  65.97  54.88\n     5    Черкаська  0.051  254.32  40.20  64.18  52.20\n...             ...    ...     ...    ...    ...    ...\n2019 48   Черкаська  0.083  270.15  45.09  23.88  34.49\n     49   Черкаська  0.075  268.90  44.71  25.80  35.25\n     50   Черкаська  0.069  267.68  45.50  25.60  35.55\n     51   Черкаська  0.066  266.30  47.51  24.94  36.22\n     52   Черкаська  0.065  265.70  50.47  23.60  37.03\n\n[104 rows x 6 columns]",
      "text/html": "<div>\n<style scoped>\n    .dataframe tbody tr th:only-of-type {\n        vertical-align: middle;\n    }\n\n    .dataframe tbody tr th {\n        vertical-align: top;\n    }\n\n    .dataframe thead th {\n        text-align: right;\n    }\n</style>\n<table border=\"1\" class=\"dataframe\">\n  <thead>\n    <tr style=\"text-align: right;\">\n      <th></th>\n      <th></th>\n      <th>province_id</th>\n      <th>ndvi</th>\n      <th>bt</th>\n      <th>vci</th>\n      <th>tci</th>\n      <th>vhi</th>\n    </tr>\n  </thead>\n  <tbody>\n    <tr>\n      <th rowspan=\"5\" valign=\"top\">2018</th>\n      <th>1</th>\n      <td>Черкаська</td>\n      <td>0.056</td>\n      <td>258.38</td>\n      <td>45.03</td>\n      <td>45.90</td>\n      <td>45.47</td>\n    </tr>\n    <tr>\n      <th>2</th>\n      <td>Черкаська</td>\n      <td>0.055</td>\n      <td>256.59</td>\n      <td>47.07</td>\n      <td>49.96</td>\n      <td>48.52</td>\n    </tr>\n    <tr>\n      <th>3</th>\n      <td>Черкаська</td>\n      <td>0.054</td>\n      <td>254.79</td>\n      <td>45.36</td>\n      <td>61.56</td>\n      <td>53.46</td>\n    </tr>\n    <tr>\n      <th>4</th>\n      <td>Черкаська</td>\n      <td>0.053</td>\n      <td>253.97</td>\n      <td>43.79</td>\n      <td>65.97</td>\n      <td>54.88</td>\n    </tr>\n    <tr>\n      <th>5</th>\n      <td>Черкаська</td>\n      <td>0.051</td>\n      <td>254.32</td>\n      <td>40.20</td>\n      <td>64.18</td>\n      <td>52.20</td>\n    </tr>\n    <tr>\n      <th>...</th>\n      <th>...</th>\n      <td>...</td>\n      <td>...</td>\n      <td>...</td>\n      <td>...</td>\n      <td>...</td>\n      <td>...</td>\n    </tr>\n    <tr>\n      <th rowspan=\"5\" valign=\"top\">2019</th>\n      <th>48</th>\n      <td>Черкаська</td>\n      <td>0.083</td>\n      <td>270.15</td>\n      <td>45.09</td>\n      <td>23.88</td>\n      <td>34.49</td>\n    </tr>\n    <tr>\n      <th>49</th>\n      <td>Черкаська</td>\n      <td>0.075</td>\n      <td>268.90</td>\n      <td>44.71</td>\n      <td>25.80</td>\n      <td>35.25</td>\n    </tr>\n    <tr>\n      <th>50</th>\n      <td>Черкаська</td>\n      <td>0.069</td>\n      <td>267.68</td>\n      <td>45.50</td>\n      <td>25.60</td>\n      <td>35.55</td>\n    </tr>\n    <tr>\n      <th>51</th>\n      <td>Черкаська</td>\n      <td>0.066</td>\n      <td>266.30</td>\n      <td>47.51</td>\n      <td>24.94</td>\n      <td>36.22</td>\n    </tr>\n    <tr>\n      <th>52</th>\n      <td>Черкаська</td>\n      <td>0.065</td>\n      <td>265.70</td>\n      <td>50.47</td>\n      <td>23.60</td>\n      <td>37.03</td>\n    </tr>\n  </tbody>\n</table>\n<p>104 rows × 6 columns</p>\n</div>"
     },
     "metadata": {},
     "execution_count": 31
    }
   ],
   "source": [
    "# filter by province\n",
    "final_frame[final_frame.province_id == 'Черкаська']"
   ]
  },
  {
   "cell_type": "code",
   "execution_count": 32,
   "metadata": {},
   "outputs": [
    {
     "output_type": "execute_result",
     "data": {
      "text/plain": "               province_id   ndvi      bt    vci    tci    vhi\n2019 10          Черкаська  0.127  277.71  62.93  19.86  41.32\n     10       Чернігівська  0.138  274.80  61.24  22.85  42.05\n     10        Чернівецька  0.175  281.38  72.67  15.62  44.14\n     10    Республіка Крим  0.224  286.74  82.17   6.28  44.16\n     10   Дніпропетровська  0.149  284.33  73.48   3.09  38.29\n     10           Донецька  0.109  281.39  64.19  10.45  37.32\n     10  Івано-Франківська  0.213  280.36  76.76  14.97  45.87\n     10         Харківська  0.095  274.84  52.48  23.80  38.14\n     10         Херсонська  0.186  286.49  71.88   2.76  37.32\n     10        Хмельницька  0.164  280.44  84.87  10.70  47.78\n     10           Київська  0.161  278.18  72.33  14.21  43.25\n     10         місто Київ  0.145  276.44  65.21  20.42  42.82\n     10     Кировоградська  0.128  280.39  61.33  17.04  39.19\n     10          Луганська  0.091  273.05  50.90  28.00  39.45\n     10          Львівська  0.206  281.26  80.90  10.64  45.77\n     10       Миколаївська  0.181  285.63  75.71   7.38  41.55\n     10            Одеська  0.181  286.15  76.75   9.12  42.92\n     10         Полтавська  0.100  276.01  51.75  19.45  35.60\n     10         Рівненська  0.212  278.34  83.30  20.35  51.82\n     10  місто Севастополь  0.228  285.35  82.81  12.85  47.83\n     10            Сумська  0.097  271.55  48.22  34.37  41.30\n     10      Тернопільська  0.158  279.63  81.61  11.24  46.42\n     10       Закарпатська  0.179  276.96  60.60  36.26  48.42\n     10          Вінницька  0.157  280.89  80.50  12.17  46.33\n     10          Волинська  0.211  279.48  83.23  13.18  48.20\n     10         Запорізька  0.167  286.71  76.30   2.43  39.35\n     10        Житомирська  0.205  279.74  89.24   9.84  49.54",
      "text/html": "<div>\n<style scoped>\n    .dataframe tbody tr th:only-of-type {\n        vertical-align: middle;\n    }\n\n    .dataframe tbody tr th {\n        vertical-align: top;\n    }\n\n    .dataframe thead th {\n        text-align: right;\n    }\n</style>\n<table border=\"1\" class=\"dataframe\">\n  <thead>\n    <tr style=\"text-align: right;\">\n      <th></th>\n      <th></th>\n      <th>province_id</th>\n      <th>ndvi</th>\n      <th>bt</th>\n      <th>vci</th>\n      <th>tci</th>\n      <th>vhi</th>\n    </tr>\n  </thead>\n  <tbody>\n    <tr>\n      <th rowspan=\"27\" valign=\"top\">2019</th>\n      <th>10</th>\n      <td>Черкаська</td>\n      <td>0.127</td>\n      <td>277.71</td>\n      <td>62.93</td>\n      <td>19.86</td>\n      <td>41.32</td>\n    </tr>\n    <tr>\n      <th>10</th>\n      <td>Чернігівська</td>\n      <td>0.138</td>\n      <td>274.80</td>\n      <td>61.24</td>\n      <td>22.85</td>\n      <td>42.05</td>\n    </tr>\n    <tr>\n      <th>10</th>\n      <td>Чернівецька</td>\n      <td>0.175</td>\n      <td>281.38</td>\n      <td>72.67</td>\n      <td>15.62</td>\n      <td>44.14</td>\n    </tr>\n    <tr>\n      <th>10</th>\n      <td>Республіка Крим</td>\n      <td>0.224</td>\n      <td>286.74</td>\n      <td>82.17</td>\n      <td>6.28</td>\n      <td>44.16</td>\n    </tr>\n    <tr>\n      <th>10</th>\n      <td>Дніпропетровська</td>\n      <td>0.149</td>\n      <td>284.33</td>\n      <td>73.48</td>\n      <td>3.09</td>\n      <td>38.29</td>\n    </tr>\n    <tr>\n      <th>10</th>\n      <td>Донецька</td>\n      <td>0.109</td>\n      <td>281.39</td>\n      <td>64.19</td>\n      <td>10.45</td>\n      <td>37.32</td>\n    </tr>\n    <tr>\n      <th>10</th>\n      <td>Івано-Франківська</td>\n      <td>0.213</td>\n      <td>280.36</td>\n      <td>76.76</td>\n      <td>14.97</td>\n      <td>45.87</td>\n    </tr>\n    <tr>\n      <th>10</th>\n      <td>Харківська</td>\n      <td>0.095</td>\n      <td>274.84</td>\n      <td>52.48</td>\n      <td>23.80</td>\n      <td>38.14</td>\n    </tr>\n    <tr>\n      <th>10</th>\n      <td>Херсонська</td>\n      <td>0.186</td>\n      <td>286.49</td>\n      <td>71.88</td>\n      <td>2.76</td>\n      <td>37.32</td>\n    </tr>\n    <tr>\n      <th>10</th>\n      <td>Хмельницька</td>\n      <td>0.164</td>\n      <td>280.44</td>\n      <td>84.87</td>\n      <td>10.70</td>\n      <td>47.78</td>\n    </tr>\n    <tr>\n      <th>10</th>\n      <td>Київська</td>\n      <td>0.161</td>\n      <td>278.18</td>\n      <td>72.33</td>\n      <td>14.21</td>\n      <td>43.25</td>\n    </tr>\n    <tr>\n      <th>10</th>\n      <td>місто Київ</td>\n      <td>0.145</td>\n      <td>276.44</td>\n      <td>65.21</td>\n      <td>20.42</td>\n      <td>42.82</td>\n    </tr>\n    <tr>\n      <th>10</th>\n      <td>Кировоградська</td>\n      <td>0.128</td>\n      <td>280.39</td>\n      <td>61.33</td>\n      <td>17.04</td>\n      <td>39.19</td>\n    </tr>\n    <tr>\n      <th>10</th>\n      <td>Луганська</td>\n      <td>0.091</td>\n      <td>273.05</td>\n      <td>50.90</td>\n      <td>28.00</td>\n      <td>39.45</td>\n    </tr>\n    <tr>\n      <th>10</th>\n      <td>Львівська</td>\n      <td>0.206</td>\n      <td>281.26</td>\n      <td>80.90</td>\n      <td>10.64</td>\n      <td>45.77</td>\n    </tr>\n    <tr>\n      <th>10</th>\n      <td>Миколаївська</td>\n      <td>0.181</td>\n      <td>285.63</td>\n      <td>75.71</td>\n      <td>7.38</td>\n      <td>41.55</td>\n    </tr>\n    <tr>\n      <th>10</th>\n      <td>Одеська</td>\n      <td>0.181</td>\n      <td>286.15</td>\n      <td>76.75</td>\n      <td>9.12</td>\n      <td>42.92</td>\n    </tr>\n    <tr>\n      <th>10</th>\n      <td>Полтавська</td>\n      <td>0.100</td>\n      <td>276.01</td>\n      <td>51.75</td>\n      <td>19.45</td>\n      <td>35.60</td>\n    </tr>\n    <tr>\n      <th>10</th>\n      <td>Рівненська</td>\n      <td>0.212</td>\n      <td>278.34</td>\n      <td>83.30</td>\n      <td>20.35</td>\n      <td>51.82</td>\n    </tr>\n    <tr>\n      <th>10</th>\n      <td>місто Севастополь</td>\n      <td>0.228</td>\n      <td>285.35</td>\n      <td>82.81</td>\n      <td>12.85</td>\n      <td>47.83</td>\n    </tr>\n    <tr>\n      <th>10</th>\n      <td>Сумська</td>\n      <td>0.097</td>\n      <td>271.55</td>\n      <td>48.22</td>\n      <td>34.37</td>\n      <td>41.30</td>\n    </tr>\n    <tr>\n      <th>10</th>\n      <td>Тернопільська</td>\n      <td>0.158</td>\n      <td>279.63</td>\n      <td>81.61</td>\n      <td>11.24</td>\n      <td>46.42</td>\n    </tr>\n    <tr>\n      <th>10</th>\n      <td>Закарпатська</td>\n      <td>0.179</td>\n      <td>276.96</td>\n      <td>60.60</td>\n      <td>36.26</td>\n      <td>48.42</td>\n    </tr>\n    <tr>\n      <th>10</th>\n      <td>Вінницька</td>\n      <td>0.157</td>\n      <td>280.89</td>\n      <td>80.50</td>\n      <td>12.17</td>\n      <td>46.33</td>\n    </tr>\n    <tr>\n      <th>10</th>\n      <td>Волинська</td>\n      <td>0.211</td>\n      <td>279.48</td>\n      <td>83.23</td>\n      <td>13.18</td>\n      <td>48.20</td>\n    </tr>\n    <tr>\n      <th>10</th>\n      <td>Запорізька</td>\n      <td>0.167</td>\n      <td>286.71</td>\n      <td>76.30</td>\n      <td>2.43</td>\n      <td>39.35</td>\n    </tr>\n    <tr>\n      <th>10</th>\n      <td>Житомирська</td>\n      <td>0.205</td>\n      <td>279.74</td>\n      <td>89.24</td>\n      <td>9.84</td>\n      <td>49.54</td>\n    </tr>\n  </tbody>\n</table>\n</div>"
     },
     "metadata": {},
     "execution_count": 32
    }
   ],
   "source": [
    "# filter by index\n",
    "final_frame.loc[(2019, 10)]"
   ]
  }
 ]
}