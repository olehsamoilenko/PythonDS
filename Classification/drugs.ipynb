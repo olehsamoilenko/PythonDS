{
 "metadata": {
  "language_info": {
   "codemirror_mode": {
    "name": "ipython",
    "version": 3
   },
   "file_extension": ".py",
   "mimetype": "text/x-python",
   "name": "python",
   "nbconvert_exporter": "python",
   "pygments_lexer": "ipython3",
   "version": "3.7.5-final"
  },
  "orig_nbformat": 2,
  "kernelspec": {
   "name": "python37564bita1407803385845249f26873a8a1784fa",
   "display_name": "Python 3.7.5 64-bit",
   "language": "python"
  }
 },
 "nbformat": 4,
 "nbformat_minor": 2,
 "cells": [
  {
   "cell_type": "code",
   "execution_count": 7,
   "metadata": {},
   "outputs": [
    {
     "output_type": "execute_result",
     "data": {
      "text/plain": [
       "     Age Sex      BP Cholesterol  Na_to_K   Drug\n",
       "0     23   F    HIGH        HIGH   25.355  DrugY\n",
       "1     47   M     LOW        HIGH   13.093  drugC\n",
       "2     47   M     LOW        HIGH   10.114  drugC\n",
       "3     28   F  NORMAL        HIGH    7.798  drugX\n",
       "4     61   F     LOW        HIGH   18.043  DrugY\n",
       "..   ...  ..     ...         ...      ...    ...\n",
       "195   56   F     LOW        HIGH   11.567  drugC\n",
       "196   16   M     LOW        HIGH   12.006  drugC\n",
       "197   52   M  NORMAL        HIGH    9.894  drugX\n",
       "198   23   M  NORMAL      NORMAL   14.020  drugX\n",
       "199   40   F     LOW      NORMAL   11.349  drugX\n",
       "\n",
       "[200 rows x 6 columns]"
      ],
      "text/html": "<div>\n<style scoped>\n    .dataframe tbody tr th:only-of-type {\n        vertical-align: middle;\n    }\n\n    .dataframe tbody tr th {\n        vertical-align: top;\n    }\n\n    .dataframe thead th {\n        text-align: right;\n    }\n</style>\n<table border=\"1\" class=\"dataframe\">\n  <thead>\n    <tr style=\"text-align: right;\">\n      <th></th>\n      <th>Age</th>\n      <th>Sex</th>\n      <th>BP</th>\n      <th>Cholesterol</th>\n      <th>Na_to_K</th>\n      <th>Drug</th>\n    </tr>\n  </thead>\n  <tbody>\n    <tr>\n      <th>0</th>\n      <td>23</td>\n      <td>F</td>\n      <td>HIGH</td>\n      <td>HIGH</td>\n      <td>25.355</td>\n      <td>DrugY</td>\n    </tr>\n    <tr>\n      <th>1</th>\n      <td>47</td>\n      <td>M</td>\n      <td>LOW</td>\n      <td>HIGH</td>\n      <td>13.093</td>\n      <td>drugC</td>\n    </tr>\n    <tr>\n      <th>2</th>\n      <td>47</td>\n      <td>M</td>\n      <td>LOW</td>\n      <td>HIGH</td>\n      <td>10.114</td>\n      <td>drugC</td>\n    </tr>\n    <tr>\n      <th>3</th>\n      <td>28</td>\n      <td>F</td>\n      <td>NORMAL</td>\n      <td>HIGH</td>\n      <td>7.798</td>\n      <td>drugX</td>\n    </tr>\n    <tr>\n      <th>4</th>\n      <td>61</td>\n      <td>F</td>\n      <td>LOW</td>\n      <td>HIGH</td>\n      <td>18.043</td>\n      <td>DrugY</td>\n    </tr>\n    <tr>\n      <th>...</th>\n      <td>...</td>\n      <td>...</td>\n      <td>...</td>\n      <td>...</td>\n      <td>...</td>\n      <td>...</td>\n    </tr>\n    <tr>\n      <th>195</th>\n      <td>56</td>\n      <td>F</td>\n      <td>LOW</td>\n      <td>HIGH</td>\n      <td>11.567</td>\n      <td>drugC</td>\n    </tr>\n    <tr>\n      <th>196</th>\n      <td>16</td>\n      <td>M</td>\n      <td>LOW</td>\n      <td>HIGH</td>\n      <td>12.006</td>\n      <td>drugC</td>\n    </tr>\n    <tr>\n      <th>197</th>\n      <td>52</td>\n      <td>M</td>\n      <td>NORMAL</td>\n      <td>HIGH</td>\n      <td>9.894</td>\n      <td>drugX</td>\n    </tr>\n    <tr>\n      <th>198</th>\n      <td>23</td>\n      <td>M</td>\n      <td>NORMAL</td>\n      <td>NORMAL</td>\n      <td>14.020</td>\n      <td>drugX</td>\n    </tr>\n    <tr>\n      <th>199</th>\n      <td>40</td>\n      <td>F</td>\n      <td>LOW</td>\n      <td>NORMAL</td>\n      <td>11.349</td>\n      <td>drugX</td>\n    </tr>\n  </tbody>\n</table>\n<p>200 rows × 6 columns</p>\n</div>"
     },
     "metadata": {},
     "execution_count": 7
    }
   ],
   "source": [
    "import pandas as pd\n",
    "\n",
    "df = pd.read_csv('drug200.csv')\n",
    "df"
   ]
  },
  {
   "cell_type": "code",
   "execution_count": 8,
   "metadata": {},
   "outputs": [
    {
     "output_type": "stream",
     "name": "stdout",
     "text": [
      "<class 'pandas.core.frame.DataFrame'>\nRangeIndex: 200 entries, 0 to 199\nData columns (total 6 columns):\n #   Column       Non-Null Count  Dtype  \n---  ------       --------------  -----  \n 0   Age          200 non-null    int64  \n 1   Sex          200 non-null    object \n 2   BP           200 non-null    object \n 3   Cholesterol  200 non-null    object \n 4   Na_to_K      200 non-null    float64\n 5   Drug         200 non-null    object \ndtypes: float64(1), int64(1), object(4)\nmemory usage: 9.5+ KB\n"
     ]
    }
   ],
   "source": [
    "df.info()"
   ]
  },
  {
   "cell_type": "code",
   "execution_count": 10,
   "metadata": {},
   "outputs": [
    {
     "output_type": "execute_result",
     "data": {
      "text/plain": [
       "              Age     Na_to_K\n",
       "count  200.000000  200.000000\n",
       "mean    44.315000   16.084485\n",
       "std     16.544315    7.223956\n",
       "min     15.000000    6.269000\n",
       "25%     31.000000   10.445500\n",
       "50%     45.000000   13.936500\n",
       "75%     58.000000   19.380000\n",
       "max     74.000000   38.247000"
      ],
      "text/html": "<div>\n<style scoped>\n    .dataframe tbody tr th:only-of-type {\n        vertical-align: middle;\n    }\n\n    .dataframe tbody tr th {\n        vertical-align: top;\n    }\n\n    .dataframe thead th {\n        text-align: right;\n    }\n</style>\n<table border=\"1\" class=\"dataframe\">\n  <thead>\n    <tr style=\"text-align: right;\">\n      <th></th>\n      <th>Age</th>\n      <th>Na_to_K</th>\n    </tr>\n  </thead>\n  <tbody>\n    <tr>\n      <th>count</th>\n      <td>200.000000</td>\n      <td>200.000000</td>\n    </tr>\n    <tr>\n      <th>mean</th>\n      <td>44.315000</td>\n      <td>16.084485</td>\n    </tr>\n    <tr>\n      <th>std</th>\n      <td>16.544315</td>\n      <td>7.223956</td>\n    </tr>\n    <tr>\n      <th>min</th>\n      <td>15.000000</td>\n      <td>6.269000</td>\n    </tr>\n    <tr>\n      <th>25%</th>\n      <td>31.000000</td>\n      <td>10.445500</td>\n    </tr>\n    <tr>\n      <th>50%</th>\n      <td>45.000000</td>\n      <td>13.936500</td>\n    </tr>\n    <tr>\n      <th>75%</th>\n      <td>58.000000</td>\n      <td>19.380000</td>\n    </tr>\n    <tr>\n      <th>max</th>\n      <td>74.000000</td>\n      <td>38.247000</td>\n    </tr>\n  </tbody>\n</table>\n</div>"
     },
     "metadata": {},
     "execution_count": 10
    }
   ],
   "source": [
    "df.describe()"
   ]
  },
  {
   "cell_type": "code",
   "execution_count": 23,
   "metadata": {},
   "outputs": [
    {
     "output_type": "stream",
     "name": "stdout",
     "text": [
      "M    104\nF     96\nName: Sex, dtype: int64\n\nHIGH      77\nLOW       64\nNORMAL    59\nName: BP, dtype: int64\n\nHIGH      103\nNORMAL     97\nName: Cholesterol, dtype: int64\n\nDrugY    91\ndrugX    54\ndrugA    23\ndrugB    16\ndrugC    16\nName: Drug, dtype: int64\n"
     ]
    }
   ],
   "source": [
    "print(df.Sex.value_counts(),\n",
    "      df.BP.value_counts(), # Blood Pressure Levels\n",
    "      df.Cholesterol.value_counts(),\n",
    "      df.Drug.value_counts(),\n",
    "      sep='\\n'*2)"
   ]
  },
  {
   "cell_type": "code",
   "execution_count": 51,
   "metadata": {},
   "outputs": [
    {
     "output_type": "stream",
     "name": "stdout",
     "text": [
      "Sex ['F' 'M'] => [0 1]\nBP ['HIGH' 'LOW' 'NORMAL'] => [0 1 2]\nCholesterol ['HIGH' 'NORMAL'] => [0 1]\nDrug ['DrugY' 'drugC' 'drugX' 'drugA' 'drugB'] => [0 3 4 1 2]\n"
     ]
    }
   ],
   "source": [
    "from sklearn.preprocessing import LabelEncoder\n",
    "\n",
    "df_int = df.copy()\n",
    "for col in ['Sex', 'BP', 'Cholesterol', 'Drug']:\n",
    "    df_int[col] = LabelEncoder().fit_transform(df[col])\n",
    "    print(col, df[col].unique(), '=>', df_int[col].unique())"
   ]
  },
  {
   "cell_type": "code",
   "execution_count": 78,
   "metadata": {},
   "outputs": [
    {
     "output_type": "stream",
     "name": "stdout",
     "text": [
      "(160, 5) (160,)\n(40, 5) (40,)\n"
     ]
    },
    {
     "output_type": "execute_result",
     "data": {
      "text/plain": [
       "     Age  Sex  BP  Cholesterol  Na_to_K\n",
       "2     47    1   1            0   10.114\n",
       "139   69    0   2            0   10.065\n",
       "198   23    1   2            1   14.020\n",
       "68    54    1   2            0   24.658\n",
       "180   22    0   0            1   22.818\n",
       "..   ...  ...  ..          ...      ...\n",
       "143   74    1   0            1   15.436\n",
       "94    56    1   1            0   15.015\n",
       "32    49    1   1            1   11.014\n",
       "46    37    0   0            0   13.091\n",
       "128   47    1   1            1   33.542\n",
       "\n",
       "[160 rows x 5 columns]"
      ],
      "text/html": "<div>\n<style scoped>\n    .dataframe tbody tr th:only-of-type {\n        vertical-align: middle;\n    }\n\n    .dataframe tbody tr th {\n        vertical-align: top;\n    }\n\n    .dataframe thead th {\n        text-align: right;\n    }\n</style>\n<table border=\"1\" class=\"dataframe\">\n  <thead>\n    <tr style=\"text-align: right;\">\n      <th></th>\n      <th>Age</th>\n      <th>Sex</th>\n      <th>BP</th>\n      <th>Cholesterol</th>\n      <th>Na_to_K</th>\n    </tr>\n  </thead>\n  <tbody>\n    <tr>\n      <th>2</th>\n      <td>47</td>\n      <td>1</td>\n      <td>1</td>\n      <td>0</td>\n      <td>10.114</td>\n    </tr>\n    <tr>\n      <th>139</th>\n      <td>69</td>\n      <td>0</td>\n      <td>2</td>\n      <td>0</td>\n      <td>10.065</td>\n    </tr>\n    <tr>\n      <th>198</th>\n      <td>23</td>\n      <td>1</td>\n      <td>2</td>\n      <td>1</td>\n      <td>14.020</td>\n    </tr>\n    <tr>\n      <th>68</th>\n      <td>54</td>\n      <td>1</td>\n      <td>2</td>\n      <td>0</td>\n      <td>24.658</td>\n    </tr>\n    <tr>\n      <th>180</th>\n      <td>22</td>\n      <td>0</td>\n      <td>0</td>\n      <td>1</td>\n      <td>22.818</td>\n    </tr>\n    <tr>\n      <th>...</th>\n      <td>...</td>\n      <td>...</td>\n      <td>...</td>\n      <td>...</td>\n      <td>...</td>\n    </tr>\n    <tr>\n      <th>143</th>\n      <td>74</td>\n      <td>1</td>\n      <td>0</td>\n      <td>1</td>\n      <td>15.436</td>\n    </tr>\n    <tr>\n      <th>94</th>\n      <td>56</td>\n      <td>1</td>\n      <td>1</td>\n      <td>0</td>\n      <td>15.015</td>\n    </tr>\n    <tr>\n      <th>32</th>\n      <td>49</td>\n      <td>1</td>\n      <td>1</td>\n      <td>1</td>\n      <td>11.014</td>\n    </tr>\n    <tr>\n      <th>46</th>\n      <td>37</td>\n      <td>0</td>\n      <td>0</td>\n      <td>0</td>\n      <td>13.091</td>\n    </tr>\n    <tr>\n      <th>128</th>\n      <td>47</td>\n      <td>1</td>\n      <td>1</td>\n      <td>1</td>\n      <td>33.542</td>\n    </tr>\n  </tbody>\n</table>\n<p>160 rows × 5 columns</p>\n</div>"
     },
     "metadata": {},
     "execution_count": 78
    }
   ],
   "source": [
    "from sklearn.model_selection import train_test_split\n",
    "\n",
    "X = df_int[['Age', 'Sex', 'BP', 'Cholesterol', 'Na_to_K']]\n",
    "Y = df_int['Drug']\n",
    "\n",
    "X_train, X_test, Y_train, Y_test = train_test_split(X, Y, test_size=0.2)\n",
    "print(X_train.shape, Y_train.shape)\n",
    "print(X_test.shape, Y_test.shape)\n",
    "\n",
    "X_train"
   ]
  },
  {
   "cell_type": "code",
   "execution_count": 81,
   "metadata": {},
   "outputs": [
    {
     "output_type": "stream",
     "name": "stdout",
     "text": [
      "[[34.     1.     0.     0.    18.703]\n [51.     1.     0.     0.    18.295]\n [31.     1.     0.     1.    17.069]\n [66.     1.     0.     0.    16.347]\n [24.     0.     0.     1.    18.457]\n [43.     1.     1.     0.    15.376]\n [36.     0.     0.     1.    15.49 ]\n [60.     1.     2.     0.    15.171]\n [61.     0.     1.     0.    18.043]\n [57.     1.     1.     1.    19.128]\n [16.     1.     0.     1.    19.007]\n [50.     0.     2.     1.    17.211]\n [49.     0.     2.     0.    16.275]\n [41.     0.     1.     1.    18.739]\n [39.     0.     2.     1.    17.225]\n [37.     1.     1.     1.    16.724]\n [69.     1.     1.     0.    15.478]\n [74.     0.     1.     0.    20.942]\n [67.     0.     2.     0.    15.891]\n [48.     0.     1.     0.    15.036]\n [23.     1.     2.     0.    16.85 ]\n [39.     1.     2.     0.    15.969]\n [28.     0.     0.     1.    18.809]\n [36.     0.     2.     0.    16.753]\n [38.     1.     1.     0.    18.295]\n [62.     1.     2.     0.    16.594]\n [45.     1.     1.     0.    17.951]\n [15.     1.     0.     1.    17.206]\n [15.     0.     0.     1.    16.725]\n [26.     0.     0.     1.    19.161]\n [58.     0.     0.     0.    19.416]\n [72.     1.     1.     0.    16.31 ]\n [34.     0.     0.     1.    19.199]\n [58.     1.     0.     0.    18.991]\n [74.     1.     0.     1.    15.436]\n [56.     1.     1.     0.    15.015]\n [31.     1.     0.     1.    11.227]\n [36.     0.     0.     0.    11.198]\n [42.     1.     0.     1.    12.766]\n [32.     0.     0.     1.    10.292]\n [31.     1.     0.     1.    11.871]\n [24.     1.     0.     1.     9.475]\n [48.     1.     0.     1.    10.446]\n [29.     1.     0.     0.    12.856]\n [32.     1.     0.     1.     9.445]\n [45.     0.     0.     0.    12.854]\n [38.     0.     0.     1.    11.326]\n [26.     0.     0.     1.    12.307]\n [39.     1.     0.     0.     9.664]\n [20.     0.     0.     0.    11.262]\n [50.     1.     0.     0.     7.49 ]\n [47.     1.     0.     0.    10.403]\n [43.     1.     0.     0.    13.972]\n [49.     1.     0.     1.     8.7  ]\n [35.     0.     0.     0.    12.894]\n [37.     0.     0.     0.    13.091]\n [70.     1.     0.     0.    13.967]\n [57.     0.     0.     1.     9.945]\n [65.     1.     0.     1.    11.34 ]\n [72.     1.     0.     1.     9.677]\n [70.     1.     0.     0.     9.849]\n [60.     0.     0.     0.    13.303]\n [60.     1.     0.     0.    13.934]\n [58.     0.     0.     1.    14.239]\n [59.     1.     0.     0.    13.935]\n [55.     0.     0.     0.    10.977]\n [60.     1.     0.     1.     8.621]\n [68.     0.     0.     1.    10.189]\n [47.     1.     1.     0.    10.114]\n [26.     0.     1.     0.    14.16 ]\n [23.     1.     1.     0.     7.298]\n [59.     0.     1.     0.    10.444]\n [56.     0.     1.     0.    11.567]\n [22.     1.     1.     0.     8.151]\n [72.     1.     1.     0.     6.769]\n [47.     0.     1.     0.    10.067]\n [47.     1.     1.     0.    13.093]\n [16.     1.     1.     0.    12.006]\n [41.     1.     1.     0.    11.037]\n [28.     0.     1.     0.    13.127]\n [47.     0.     1.     0.    11.767]\n [69.     0.     2.     0.    10.065]\n [23.     1.     2.     1.    14.02 ]\n [50.     0.     2.     1.    12.295]\n [60.     1.     2.     1.    10.091]\n [56.     1.     2.     0.     8.966]\n [34.     0.     1.     1.    12.923]\n [45.     1.     1.     1.     8.37 ]\n [35.     1.     2.     1.     7.845]\n [18.     0.     2.     1.     8.75 ]\n [32.     0.     2.     0.     7.477]\n [20.     0.     1.     1.    11.686]\n [17.     1.     2.     1.    10.832]\n [40.     0.     1.     1.    11.349]\n [61.     0.     1.     1.     7.34 ]\n [45.     1.     1.     1.    10.017]\n [52.     1.     2.     0.     9.894]\n [55.     1.     2.     1.     7.261]\n [49.     1.     1.     1.    13.598]\n [39.     0.     2.     1.     9.709]\n [36.     1.     1.     1.    11.424]\n [57.     0.     2.     0.    14.216]\n [49.     0.     2.     1.     9.381]\n [69.     1.     1.     1.    11.455]\n [30.     0.     2.     0.    10.443]\n [20.     0.     2.     1.     9.281]\n [23.     1.     2.     0.    12.26 ]\n [39.     1.     1.     1.    13.938]\n [72.     0.     1.     1.    14.642]\n [51.     0.     2.     0.    13.597]\n [66.     0.     2.     1.     8.107]\n [35.     1.     1.     1.     9.17 ]\n [28.     0.     2.     0.     7.798]\n [53.     1.     2.     0.    14.133]\n [40.     0.     2.     0.    10.103]\n [28.     0.     2.     0.    12.879]\n [65.     0.     1.     1.    13.769]\n [43.     1.     2.     1.    12.859]\n [67.     1.     2.     1.     9.514]\n [49.     1.     1.     1.    11.014]]\nSVM accuracy:  0.725\nSVM confusion matrix:\n[[17  0  0  0  0]\n [ 1  0  0  0  2]\n [ 0  0  0  0  4]\n [ 0  0  0  0  3]\n [ 1  0  0  0 12]]\n"
     ]
    }
   ],
   "source": [
    "from sklearn.svm import SVC\n",
    "from sklearn.metrics import confusion_matrix\n",
    "\n",
    "svm = SVC()\n",
    "# TODO: SVC(kernel='linear)\n",
    "svm.fit(X_train, Y_train)\n",
    "# print(svm.support_vectors_)\n",
    "\n",
    "print('SVM accuracy: ', svm.score(X_test, Y_test))\n",
    "print('SVM confusion matrix:')\n",
    "print(confusion_matrix(Y_test, svm.predict(X_test))) # x - prediction, y - actual"
   ]
  },
  {
   "cell_type": "code",
   "execution_count": 80,
   "metadata": {},
   "outputs": [
    {
     "output_type": "stream",
     "name": "stdout",
     "text": [
      "Random forest accuracy:  0.95\nRandom forest confusion matrix:\n[[17  0  0  0  0]\n [ 0  3  0  0  0]\n [ 0  2  2  0  0]\n [ 0  0  0  3  0]\n [ 0  0  0  0 13]]\n"
     ]
    }
   ],
   "source": [
    "from sklearn.ensemble import RandomForestClassifier\n",
    "\n",
    "rf = RandomForestClassifier()\n",
    "rf.fit(X_train, Y_train)\n",
    "\n",
    "print('Random forest accuracy: ', rf.score(X_test, Y_test))\n",
    "print('Random forest confusion matrix:')\n",
    "print(confusion_matrix(Y_test, rf.predict(X_test)))"
   ]
  },
  {
   "cell_type": "code",
   "execution_count": null,
   "metadata": {},
   "outputs": [],
   "source": [
    "\"\"\"\n",
    "https://www.kaggle.com/philippurwokoap/svm-multiclass-classification\n",
    "SVM: 0.7\n",
    "\n",
    "https://www.kaggle.com/karanpatel219/drug-classification-100-random-forest\n",
    "RF: 1.0 (?)\n",
    "\"\"\""
   ]
  }
 ]
}