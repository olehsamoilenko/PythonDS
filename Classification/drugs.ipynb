{
 "metadata": {
  "language_info": {
   "codemirror_mode": {
    "name": "ipython",
    "version": 3
   },
   "file_extension": ".py",
   "mimetype": "text/x-python",
   "name": "python",
   "nbconvert_exporter": "python",
   "pygments_lexer": "ipython3",
   "version": "3.7.5-final"
  },
  "orig_nbformat": 2,
  "kernelspec": {
   "name": "python37564bita1407803385845249f26873a8a1784fa",
   "display_name": "Python 3.7.5 64-bit",
   "language": "python"
  }
 },
 "nbformat": 4,
 "nbformat_minor": 2,
 "cells": [
  {
   "cell_type": "code",
   "execution_count": 2,
   "metadata": {},
   "outputs": [
    {
     "output_type": "execute_result",
     "data": {
      "text/plain": [
       "     Age Sex      BP Cholesterol  Na_to_K   Drug\n",
       "0     23   F    HIGH        HIGH   25.355  DrugY\n",
       "1     47   M     LOW        HIGH   13.093  drugC\n",
       "2     47   M     LOW        HIGH   10.114  drugC\n",
       "3     28   F  NORMAL        HIGH    7.798  drugX\n",
       "4     61   F     LOW        HIGH   18.043  DrugY\n",
       "..   ...  ..     ...         ...      ...    ...\n",
       "195   56   F     LOW        HIGH   11.567  drugC\n",
       "196   16   M     LOW        HIGH   12.006  drugC\n",
       "197   52   M  NORMAL        HIGH    9.894  drugX\n",
       "198   23   M  NORMAL      NORMAL   14.020  drugX\n",
       "199   40   F     LOW      NORMAL   11.349  drugX\n",
       "\n",
       "[200 rows x 6 columns]"
      ],
      "text/html": "<div>\n<style scoped>\n    .dataframe tbody tr th:only-of-type {\n        vertical-align: middle;\n    }\n\n    .dataframe tbody tr th {\n        vertical-align: top;\n    }\n\n    .dataframe thead th {\n        text-align: right;\n    }\n</style>\n<table border=\"1\" class=\"dataframe\">\n  <thead>\n    <tr style=\"text-align: right;\">\n      <th></th>\n      <th>Age</th>\n      <th>Sex</th>\n      <th>BP</th>\n      <th>Cholesterol</th>\n      <th>Na_to_K</th>\n      <th>Drug</th>\n    </tr>\n  </thead>\n  <tbody>\n    <tr>\n      <th>0</th>\n      <td>23</td>\n      <td>F</td>\n      <td>HIGH</td>\n      <td>HIGH</td>\n      <td>25.355</td>\n      <td>DrugY</td>\n    </tr>\n    <tr>\n      <th>1</th>\n      <td>47</td>\n      <td>M</td>\n      <td>LOW</td>\n      <td>HIGH</td>\n      <td>13.093</td>\n      <td>drugC</td>\n    </tr>\n    <tr>\n      <th>2</th>\n      <td>47</td>\n      <td>M</td>\n      <td>LOW</td>\n      <td>HIGH</td>\n      <td>10.114</td>\n      <td>drugC</td>\n    </tr>\n    <tr>\n      <th>3</th>\n      <td>28</td>\n      <td>F</td>\n      <td>NORMAL</td>\n      <td>HIGH</td>\n      <td>7.798</td>\n      <td>drugX</td>\n    </tr>\n    <tr>\n      <th>4</th>\n      <td>61</td>\n      <td>F</td>\n      <td>LOW</td>\n      <td>HIGH</td>\n      <td>18.043</td>\n      <td>DrugY</td>\n    </tr>\n    <tr>\n      <th>...</th>\n      <td>...</td>\n      <td>...</td>\n      <td>...</td>\n      <td>...</td>\n      <td>...</td>\n      <td>...</td>\n    </tr>\n    <tr>\n      <th>195</th>\n      <td>56</td>\n      <td>F</td>\n      <td>LOW</td>\n      <td>HIGH</td>\n      <td>11.567</td>\n      <td>drugC</td>\n    </tr>\n    <tr>\n      <th>196</th>\n      <td>16</td>\n      <td>M</td>\n      <td>LOW</td>\n      <td>HIGH</td>\n      <td>12.006</td>\n      <td>drugC</td>\n    </tr>\n    <tr>\n      <th>197</th>\n      <td>52</td>\n      <td>M</td>\n      <td>NORMAL</td>\n      <td>HIGH</td>\n      <td>9.894</td>\n      <td>drugX</td>\n    </tr>\n    <tr>\n      <th>198</th>\n      <td>23</td>\n      <td>M</td>\n      <td>NORMAL</td>\n      <td>NORMAL</td>\n      <td>14.020</td>\n      <td>drugX</td>\n    </tr>\n    <tr>\n      <th>199</th>\n      <td>40</td>\n      <td>F</td>\n      <td>LOW</td>\n      <td>NORMAL</td>\n      <td>11.349</td>\n      <td>drugX</td>\n    </tr>\n  </tbody>\n</table>\n<p>200 rows × 6 columns</p>\n</div>"
     },
     "metadata": {},
     "execution_count": 2
    }
   ],
   "source": [
    "import pandas as pd\n",
    "\n",
    "df = pd.read_csv('drug200.csv')\n",
    "df"
   ]
  },
  {
   "cell_type": "code",
   "execution_count": 3,
   "metadata": {},
   "outputs": [
    {
     "output_type": "stream",
     "name": "stdout",
     "text": [
      "<class 'pandas.core.frame.DataFrame'>\nRangeIndex: 200 entries, 0 to 199\nData columns (total 6 columns):\n #   Column       Non-Null Count  Dtype  \n---  ------       --------------  -----  \n 0   Age          200 non-null    int64  \n 1   Sex          200 non-null    object \n 2   BP           200 non-null    object \n 3   Cholesterol  200 non-null    object \n 4   Na_to_K      200 non-null    float64\n 5   Drug         200 non-null    object \ndtypes: float64(1), int64(1), object(4)\nmemory usage: 9.5+ KB\n"
     ]
    }
   ],
   "source": [
    "df.info()"
   ]
  },
  {
   "cell_type": "code",
   "execution_count": 4,
   "metadata": {},
   "outputs": [
    {
     "output_type": "execute_result",
     "data": {
      "text/plain": [
       "              Age     Na_to_K\n",
       "count  200.000000  200.000000\n",
       "mean    44.315000   16.084485\n",
       "std     16.544315    7.223956\n",
       "min     15.000000    6.269000\n",
       "25%     31.000000   10.445500\n",
       "50%     45.000000   13.936500\n",
       "75%     58.000000   19.380000\n",
       "max     74.000000   38.247000"
      ],
      "text/html": "<div>\n<style scoped>\n    .dataframe tbody tr th:only-of-type {\n        vertical-align: middle;\n    }\n\n    .dataframe tbody tr th {\n        vertical-align: top;\n    }\n\n    .dataframe thead th {\n        text-align: right;\n    }\n</style>\n<table border=\"1\" class=\"dataframe\">\n  <thead>\n    <tr style=\"text-align: right;\">\n      <th></th>\n      <th>Age</th>\n      <th>Na_to_K</th>\n    </tr>\n  </thead>\n  <tbody>\n    <tr>\n      <th>count</th>\n      <td>200.000000</td>\n      <td>200.000000</td>\n    </tr>\n    <tr>\n      <th>mean</th>\n      <td>44.315000</td>\n      <td>16.084485</td>\n    </tr>\n    <tr>\n      <th>std</th>\n      <td>16.544315</td>\n      <td>7.223956</td>\n    </tr>\n    <tr>\n      <th>min</th>\n      <td>15.000000</td>\n      <td>6.269000</td>\n    </tr>\n    <tr>\n      <th>25%</th>\n      <td>31.000000</td>\n      <td>10.445500</td>\n    </tr>\n    <tr>\n      <th>50%</th>\n      <td>45.000000</td>\n      <td>13.936500</td>\n    </tr>\n    <tr>\n      <th>75%</th>\n      <td>58.000000</td>\n      <td>19.380000</td>\n    </tr>\n    <tr>\n      <th>max</th>\n      <td>74.000000</td>\n      <td>38.247000</td>\n    </tr>\n  </tbody>\n</table>\n</div>"
     },
     "metadata": {},
     "execution_count": 4
    }
   ],
   "source": [
    "df.describe()"
   ]
  },
  {
   "cell_type": "code",
   "execution_count": 5,
   "metadata": {},
   "outputs": [
    {
     "output_type": "stream",
     "name": "stdout",
     "text": [
      "M    104\nF     96\nName: Sex, dtype: int64\n\nHIGH      77\nLOW       64\nNORMAL    59\nName: BP, dtype: int64\n\nHIGH      103\nNORMAL     97\nName: Cholesterol, dtype: int64\n\nDrugY    91\ndrugX    54\ndrugA    23\ndrugC    16\ndrugB    16\nName: Drug, dtype: int64\n"
     ]
    }
   ],
   "source": [
    "print(df.Sex.value_counts(),\n",
    "      df.BP.value_counts(), # Blood Pressure Levels\n",
    "      df.Cholesterol.value_counts(),\n",
    "      df.Drug.value_counts(),\n",
    "      sep='\\n'*2)"
   ]
  },
  {
   "cell_type": "code",
   "execution_count": 6,
   "metadata": {},
   "outputs": [
    {
     "output_type": "stream",
     "name": "stdout",
     "text": [
      "(134, 9) (134,)\n(66, 9) (66,)\n"
     ]
    },
    {
     "output_type": "execute_result",
     "data": {
      "text/plain": [
       "     Age  Na_to_K  Sex_F  Sex_M  BP_HIGH  BP_LOW  BP_NORMAL  Cholesterol_HIGH  \\\n",
       "127   35    7.845      0      1        0       0          1                 0   \n",
       "105   37    8.968      0      1        0       1          0                 0   \n",
       "48    23   31.686      0      1        0       0          1                 1   \n",
       "66    29   12.856      0      1        1       0          0                 1   \n",
       "54    68   10.189      1      0        1       0          0                 0   \n",
       "..   ...      ...    ...    ...      ...     ...        ...               ...   \n",
       "133   24   25.786      0      1        0       0          1                 1   \n",
       "137   35   12.894      1      0        1       0          0                 1   \n",
       "72    24   10.605      1      0        0       0          1                 1   \n",
       "140   49    6.269      0      1        1       0          0                 0   \n",
       "37    39   13.938      0      1        0       1          0                 0   \n",
       "\n",
       "     Cholesterol_NORMAL  \n",
       "127                   1  \n",
       "105                   1  \n",
       "48                    0  \n",
       "66                    0  \n",
       "54                    1  \n",
       "..                  ...  \n",
       "133                   0  \n",
       "137                   0  \n",
       "72                    0  \n",
       "140                   1  \n",
       "37                    1  \n",
       "\n",
       "[134 rows x 9 columns]"
      ],
      "text/html": "<div>\n<style scoped>\n    .dataframe tbody tr th:only-of-type {\n        vertical-align: middle;\n    }\n\n    .dataframe tbody tr th {\n        vertical-align: top;\n    }\n\n    .dataframe thead th {\n        text-align: right;\n    }\n</style>\n<table border=\"1\" class=\"dataframe\">\n  <thead>\n    <tr style=\"text-align: right;\">\n      <th></th>\n      <th>Age</th>\n      <th>Na_to_K</th>\n      <th>Sex_F</th>\n      <th>Sex_M</th>\n      <th>BP_HIGH</th>\n      <th>BP_LOW</th>\n      <th>BP_NORMAL</th>\n      <th>Cholesterol_HIGH</th>\n      <th>Cholesterol_NORMAL</th>\n    </tr>\n  </thead>\n  <tbody>\n    <tr>\n      <th>127</th>\n      <td>35</td>\n      <td>7.845</td>\n      <td>0</td>\n      <td>1</td>\n      <td>0</td>\n      <td>0</td>\n      <td>1</td>\n      <td>0</td>\n      <td>1</td>\n    </tr>\n    <tr>\n      <th>105</th>\n      <td>37</td>\n      <td>8.968</td>\n      <td>0</td>\n      <td>1</td>\n      <td>0</td>\n      <td>1</td>\n      <td>0</td>\n      <td>0</td>\n      <td>1</td>\n    </tr>\n    <tr>\n      <th>48</th>\n      <td>23</td>\n      <td>31.686</td>\n      <td>0</td>\n      <td>1</td>\n      <td>0</td>\n      <td>0</td>\n      <td>1</td>\n      <td>1</td>\n      <td>0</td>\n    </tr>\n    <tr>\n      <th>66</th>\n      <td>29</td>\n      <td>12.856</td>\n      <td>0</td>\n      <td>1</td>\n      <td>1</td>\n      <td>0</td>\n      <td>0</td>\n      <td>1</td>\n      <td>0</td>\n    </tr>\n    <tr>\n      <th>54</th>\n      <td>68</td>\n      <td>10.189</td>\n      <td>1</td>\n      <td>0</td>\n      <td>1</td>\n      <td>0</td>\n      <td>0</td>\n      <td>0</td>\n      <td>1</td>\n    </tr>\n    <tr>\n      <th>...</th>\n      <td>...</td>\n      <td>...</td>\n      <td>...</td>\n      <td>...</td>\n      <td>...</td>\n      <td>...</td>\n      <td>...</td>\n      <td>...</td>\n      <td>...</td>\n    </tr>\n    <tr>\n      <th>133</th>\n      <td>24</td>\n      <td>25.786</td>\n      <td>0</td>\n      <td>1</td>\n      <td>0</td>\n      <td>0</td>\n      <td>1</td>\n      <td>1</td>\n      <td>0</td>\n    </tr>\n    <tr>\n      <th>137</th>\n      <td>35</td>\n      <td>12.894</td>\n      <td>1</td>\n      <td>0</td>\n      <td>1</td>\n      <td>0</td>\n      <td>0</td>\n      <td>1</td>\n      <td>0</td>\n    </tr>\n    <tr>\n      <th>72</th>\n      <td>24</td>\n      <td>10.605</td>\n      <td>1</td>\n      <td>0</td>\n      <td>0</td>\n      <td>0</td>\n      <td>1</td>\n      <td>1</td>\n      <td>0</td>\n    </tr>\n    <tr>\n      <th>140</th>\n      <td>49</td>\n      <td>6.269</td>\n      <td>0</td>\n      <td>1</td>\n      <td>1</td>\n      <td>0</td>\n      <td>0</td>\n      <td>0</td>\n      <td>1</td>\n    </tr>\n    <tr>\n      <th>37</th>\n      <td>39</td>\n      <td>13.938</td>\n      <td>0</td>\n      <td>1</td>\n      <td>0</td>\n      <td>1</td>\n      <td>0</td>\n      <td>0</td>\n      <td>1</td>\n    </tr>\n  </tbody>\n</table>\n<p>134 rows × 9 columns</p>\n</div>"
     },
     "metadata": {},
     "execution_count": 6
    }
   ],
   "source": [
    "from sklearn.model_selection import train_test_split\n",
    "from sklearn.preprocessing import LabelEncoder\n",
    "\n",
    "le = LabelEncoder()\n",
    "X = pd.get_dummies(df[['Age', 'Sex', 'BP', 'Cholesterol', 'Na_to_K']])\n",
    "Y = le.fit_transform(df['Drug'])\n",
    "\n",
    "X_train, X_test, Y_train, Y_test = train_test_split(X, Y, random_state=1, test_size=0.33)\n",
    "print(X_train.shape, Y_train.shape)\n",
    "print(X_test.shape, Y_test.shape)\n",
    "\n",
    "X_train"
   ]
  },
  {
   "cell_type": "code",
   "execution_count": 7,
   "metadata": {},
   "outputs": [
    {
     "output_type": "stream",
     "name": "stdout",
     "text": [
      "SVM accuracy:  0.9848484848484849\n"
     ]
    },
    {
     "output_type": "display_data",
     "data": {
      "text/plain": "<Figure size 576x576 with 2 Axes>",
      "image/svg+xml": "<?xml version=\"1.0\" encoding=\"utf-8\" standalone=\"no\"?>\n<!DOCTYPE svg PUBLIC \"-//W3C//DTD SVG 1.1//EN\"\n  \"http://www.w3.org/Graphics/SVG/1.1/DTD/svg11.dtd\">\n<!-- Created with matplotlib (https://matplotlib.org/) -->\n<svg height=\"455.158906pt\" version=\"1.1\" viewBox=\"0 0 465.66525 455.158906\" width=\"465.66525pt\" xmlns=\"http://www.w3.org/2000/svg\" xmlns:xlink=\"http://www.w3.org/1999/xlink\">\n <metadata>\n  <rdf:RDF xmlns:cc=\"http://creativecommons.org/ns#\" xmlns:dc=\"http://purl.org/dc/elements/1.1/\" xmlns:rdf=\"http://www.w3.org/1999/02/22-rdf-syntax-ns#\">\n   <cc:Work>\n    <dc:type rdf:resource=\"http://purl.org/dc/dcmitype/StillImage\"/>\n    <dc:date>2020-12-23T22:44:37.201600</dc:date>\n    <dc:format>image/svg+xml</dc:format>\n    <dc:creator>\n     <cc:Agent>\n      <dc:title>Matplotlib v3.3.2, https://matplotlib.org/</dc:title>\n     </cc:Agent>\n    </dc:creator>\n   </cc:Work>\n  </rdf:RDF>\n </metadata>\n <defs>\n  <style type=\"text/css\">*{stroke-linecap:butt;stroke-linejoin:round;}</style>\n </defs>\n <g id=\"figure_1\">\n  <g id=\"patch_1\">\n   <path d=\"M 0 455.158906 \nL 465.66525 455.158906 \nL 465.66525 0 \nL 0 0 \nz\n\" style=\"fill:none;\"/>\n  </g>\n  <g id=\"axes_1\">\n   <g id=\"patch_2\">\n    <path d=\"M 37.55625 403.2 \nL 394.67625 403.2 \nL 394.67625 46.08 \nL 37.55625 46.08 \nz\n\" style=\"fill:#ffffff;\"/>\n   </g>\n   <g id=\"QuadMesh_1\">\n    <path clip-path=\"url(#pfef20021f4)\" d=\"M 37.55625 46.08 \nL 108.98025 46.08 \nL 108.98025 117.504 \nL 37.55625 117.504 \nL 37.55625 46.08 \n\" style=\"fill:#faebdd;\"/>\n    <path clip-path=\"url(#pfef20021f4)\" d=\"M 108.98025 46.08 \nL 180.40425 46.08 \nL 180.40425 117.504 \nL 108.98025 117.504 \nL 108.98025 46.08 \n\" style=\"fill:#03051a;\"/>\n    <path clip-path=\"url(#pfef20021f4)\" d=\"M 180.40425 46.08 \nL 251.82825 46.08 \nL 251.82825 117.504 \nL 180.40425 117.504 \nL 180.40425 46.08 \n\" style=\"fill:#03051a;\"/>\n    <path clip-path=\"url(#pfef20021f4)\" d=\"M 251.82825 46.08 \nL 323.25225 46.08 \nL 323.25225 117.504 \nL 251.82825 117.504 \nL 251.82825 46.08 \n\" style=\"fill:#03051a;\"/>\n    <path clip-path=\"url(#pfef20021f4)\" d=\"M 323.25225 46.08 \nL 394.67625 46.08 \nL 394.67625 117.504 \nL 323.25225 117.504 \nL 323.25225 46.08 \n\" style=\"fill:#03051a;\"/>\n    <path clip-path=\"url(#pfef20021f4)\" d=\"M 37.55625 117.504 \nL 108.98025 117.504 \nL 108.98025 188.928 \nL 37.55625 188.928 \nL 37.55625 117.504 \n\" style=\"fill:#03051a;\"/>\n    <path clip-path=\"url(#pfef20021f4)\" d=\"M 108.98025 117.504 \nL 180.40425 117.504 \nL 180.40425 188.928 \nL 108.98025 188.928 \nL 108.98025 117.504 \n\" style=\"fill:#511e4d;\"/>\n    <path clip-path=\"url(#pfef20021f4)\" d=\"M 180.40425 117.504 \nL 251.82825 117.504 \nL 251.82825 188.928 \nL 180.40425 188.928 \nL 180.40425 117.504 \n\" style=\"fill:#03051a;\"/>\n    <path clip-path=\"url(#pfef20021f4)\" d=\"M 251.82825 117.504 \nL 323.25225 117.504 \nL 323.25225 188.928 \nL 251.82825 188.928 \nL 251.82825 117.504 \n\" style=\"fill:#03051a;\"/>\n    <path clip-path=\"url(#pfef20021f4)\" d=\"M 323.25225 117.504 \nL 394.67625 117.504 \nL 394.67625 188.928 \nL 323.25225 188.928 \nL 323.25225 117.504 \n\" style=\"fill:#03051a;\"/>\n    <path clip-path=\"url(#pfef20021f4)\" d=\"M 37.55625 188.928 \nL 108.98025 188.928 \nL 108.98025 260.352 \nL 37.55625 260.352 \nL 37.55625 188.928 \n\" style=\"fill:#03051a;\"/>\n    <path clip-path=\"url(#pfef20021f4)\" d=\"M 108.98025 188.928 \nL 180.40425 188.928 \nL 180.40425 260.352 \nL 108.98025 260.352 \nL 108.98025 188.928 \n\" style=\"fill:#0e0b22;\"/>\n    <path clip-path=\"url(#pfef20021f4)\" d=\"M 180.40425 188.928 \nL 251.82825 188.928 \nL 251.82825 260.352 \nL 180.40425 260.352 \nL 180.40425 188.928 \n\" style=\"fill:#431c46;\"/>\n    <path clip-path=\"url(#pfef20021f4)\" d=\"M 251.82825 188.928 \nL 323.25225 188.928 \nL 323.25225 260.352 \nL 251.82825 260.352 \nL 251.82825 188.928 \n\" style=\"fill:#03051a;\"/>\n    <path clip-path=\"url(#pfef20021f4)\" d=\"M 323.25225 188.928 \nL 394.67625 188.928 \nL 394.67625 260.352 \nL 323.25225 260.352 \nL 323.25225 188.928 \n\" style=\"fill:#03051a;\"/>\n    <path clip-path=\"url(#pfef20021f4)\" d=\"M 37.55625 260.352 \nL 108.98025 260.352 \nL 108.98025 331.776 \nL 37.55625 331.776 \nL 37.55625 260.352 \n\" style=\"fill:#03051a;\"/>\n    <path clip-path=\"url(#pfef20021f4)\" d=\"M 108.98025 260.352 \nL 180.40425 260.352 \nL 180.40425 331.776 \nL 108.98025 331.776 \nL 108.98025 260.352 \n\" style=\"fill:#03051a;\"/>\n    <path clip-path=\"url(#pfef20021f4)\" d=\"M 180.40425 260.352 \nL 251.82825 260.352 \nL 251.82825 331.776 \nL 180.40425 331.776 \nL 180.40425 260.352 \n\" style=\"fill:#03051a;\"/>\n    <path clip-path=\"url(#pfef20021f4)\" d=\"M 251.82825 260.352 \nL 323.25225 260.352 \nL 323.25225 331.776 \nL 251.82825 331.776 \nL 251.82825 260.352 \n\" style=\"fill:#35193e;\"/>\n    <path clip-path=\"url(#pfef20021f4)\" d=\"M 323.25225 260.352 \nL 394.67625 260.352 \nL 394.67625 331.776 \nL 323.25225 331.776 \nL 323.25225 260.352 \n\" style=\"fill:#03051a;\"/>\n    <path clip-path=\"url(#pfef20021f4)\" d=\"M 37.55625 331.776 \nL 108.98025 331.776 \nL 108.98025 403.2 \nL 37.55625 403.2 \nL 37.55625 331.776 \n\" style=\"fill:#03051a;\"/>\n    <path clip-path=\"url(#pfef20021f4)\" d=\"M 108.98025 331.776 \nL 180.40425 331.776 \nL 180.40425 403.2 \nL 108.98025 403.2 \nL 108.98025 331.776 \n\" style=\"fill:#03051a;\"/>\n    <path clip-path=\"url(#pfef20021f4)\" d=\"M 180.40425 331.776 \nL 251.82825 331.776 \nL 251.82825 403.2 \nL 180.40425 403.2 \nL 180.40425 331.776 \n\" style=\"fill:#03051a;\"/>\n    <path clip-path=\"url(#pfef20021f4)\" d=\"M 251.82825 331.776 \nL 323.25225 331.776 \nL 323.25225 403.2 \nL 251.82825 403.2 \nL 251.82825 331.776 \n\" style=\"fill:#03051a;\"/>\n    <path clip-path=\"url(#pfef20021f4)\" d=\"M 323.25225 331.776 \nL 394.67625 331.776 \nL 394.67625 403.2 \nL 323.25225 403.2 \nL 323.25225 331.776 \n\" style=\"fill:#f5976e;\"/>\n   </g>\n   <g id=\"matplotlib.axis_1\">\n    <g id=\"xtick_1\">\n     <g id=\"line2d_1\">\n      <defs>\n       <path d=\"M 0 0 \nL 0 3.5 \n\" id=\"m7161b77b14\" style=\"stroke:#000000;stroke-width:0.8;\"/>\n      </defs>\n      <g>\n       <use style=\"stroke:#000000;stroke-width:0.8;\" x=\"73.26825\" xlink:href=\"#m7161b77b14\" y=\"403.2\"/>\n      </g>\n     </g>\n     <g id=\"text_1\">\n      <!-- DrugY -->\n      <g transform=\"translate(57.965906 417.798437)scale(0.1 -0.1)\">\n       <defs>\n        <path d=\"M 19.671875 64.796875 \nL 19.671875 8.109375 \nL 31.59375 8.109375 \nQ 46.6875 8.109375 53.6875 14.9375 \nQ 60.6875 21.78125 60.6875 36.53125 \nQ 60.6875 51.171875 53.6875 57.984375 \nQ 46.6875 64.796875 31.59375 64.796875 \nz\nM 9.8125 72.90625 \nL 30.078125 72.90625 \nQ 51.265625 72.90625 61.171875 64.09375 \nQ 71.09375 55.28125 71.09375 36.53125 \nQ 71.09375 17.671875 61.125 8.828125 \nQ 51.171875 0 30.078125 0 \nL 9.8125 0 \nz\n\" id=\"DejaVuSans-68\"/>\n        <path d=\"M 41.109375 46.296875 \nQ 39.59375 47.171875 37.8125 47.578125 \nQ 36.03125 48 33.890625 48 \nQ 26.265625 48 22.1875 43.046875 \nQ 18.109375 38.09375 18.109375 28.8125 \nL 18.109375 0 \nL 9.078125 0 \nL 9.078125 54.6875 \nL 18.109375 54.6875 \nL 18.109375 46.1875 \nQ 20.953125 51.171875 25.484375 53.578125 \nQ 30.03125 56 36.53125 56 \nQ 37.453125 56 38.578125 55.875 \nQ 39.703125 55.765625 41.0625 55.515625 \nz\n\" id=\"DejaVuSans-114\"/>\n        <path d=\"M 8.5 21.578125 \nL 8.5 54.6875 \nL 17.484375 54.6875 \nL 17.484375 21.921875 \nQ 17.484375 14.15625 20.5 10.265625 \nQ 23.53125 6.390625 29.59375 6.390625 \nQ 36.859375 6.390625 41.078125 11.03125 \nQ 45.3125 15.671875 45.3125 23.6875 \nL 45.3125 54.6875 \nL 54.296875 54.6875 \nL 54.296875 0 \nL 45.3125 0 \nL 45.3125 8.40625 \nQ 42.046875 3.421875 37.71875 1 \nQ 33.40625 -1.421875 27.6875 -1.421875 \nQ 18.265625 -1.421875 13.375 4.4375 \nQ 8.5 10.296875 8.5 21.578125 \nz\nM 31.109375 56 \nz\n\" id=\"DejaVuSans-117\"/>\n        <path d=\"M 45.40625 27.984375 \nQ 45.40625 37.75 41.375 43.109375 \nQ 37.359375 48.484375 30.078125 48.484375 \nQ 22.859375 48.484375 18.828125 43.109375 \nQ 14.796875 37.75 14.796875 27.984375 \nQ 14.796875 18.265625 18.828125 12.890625 \nQ 22.859375 7.515625 30.078125 7.515625 \nQ 37.359375 7.515625 41.375 12.890625 \nQ 45.40625 18.265625 45.40625 27.984375 \nz\nM 54.390625 6.78125 \nQ 54.390625 -7.171875 48.1875 -13.984375 \nQ 42 -20.796875 29.203125 -20.796875 \nQ 24.46875 -20.796875 20.265625 -20.09375 \nQ 16.0625 -19.390625 12.109375 -17.921875 \nL 12.109375 -9.1875 \nQ 16.0625 -11.328125 19.921875 -12.34375 \nQ 23.78125 -13.375 27.78125 -13.375 \nQ 36.625 -13.375 41.015625 -8.765625 \nQ 45.40625 -4.15625 45.40625 5.171875 \nL 45.40625 9.625 \nQ 42.625 4.78125 38.28125 2.390625 \nQ 33.9375 0 27.875 0 \nQ 17.828125 0 11.671875 7.65625 \nQ 5.515625 15.328125 5.515625 27.984375 \nQ 5.515625 40.671875 11.671875 48.328125 \nQ 17.828125 56 27.875 56 \nQ 33.9375 56 38.28125 53.609375 \nQ 42.625 51.21875 45.40625 46.390625 \nL 45.40625 54.6875 \nL 54.390625 54.6875 \nz\n\" id=\"DejaVuSans-103\"/>\n        <path d=\"M -0.203125 72.90625 \nL 10.40625 72.90625 \nL 30.609375 42.921875 \nL 50.6875 72.90625 \nL 61.28125 72.90625 \nL 35.5 34.71875 \nL 35.5 0 \nL 25.59375 0 \nL 25.59375 34.71875 \nz\n\" id=\"DejaVuSans-89\"/>\n       </defs>\n       <use xlink:href=\"#DejaVuSans-68\"/>\n       <use x=\"77.001953\" xlink:href=\"#DejaVuSans-114\"/>\n       <use x=\"118.115234\" xlink:href=\"#DejaVuSans-117\"/>\n       <use x=\"181.494141\" xlink:href=\"#DejaVuSans-103\"/>\n       <use x=\"244.970703\" xlink:href=\"#DejaVuSans-89\"/>\n      </g>\n     </g>\n    </g>\n    <g id=\"xtick_2\">\n     <g id=\"line2d_2\">\n      <g>\n       <use style=\"stroke:#000000;stroke-width:0.8;\" x=\"144.69225\" xlink:href=\"#m7161b77b14\" y=\"403.2\"/>\n      </g>\n     </g>\n     <g id=\"text_2\">\n      <!-- drugA -->\n      <g transform=\"translate(129.699281 417.798437)scale(0.1 -0.1)\">\n       <defs>\n        <path d=\"M 45.40625 46.390625 \nL 45.40625 75.984375 \nL 54.390625 75.984375 \nL 54.390625 0 \nL 45.40625 0 \nL 45.40625 8.203125 \nQ 42.578125 3.328125 38.25 0.953125 \nQ 33.9375 -1.421875 27.875 -1.421875 \nQ 17.96875 -1.421875 11.734375 6.484375 \nQ 5.515625 14.40625 5.515625 27.296875 \nQ 5.515625 40.1875 11.734375 48.09375 \nQ 17.96875 56 27.875 56 \nQ 33.9375 56 38.25 53.625 \nQ 42.578125 51.265625 45.40625 46.390625 \nz\nM 14.796875 27.296875 \nQ 14.796875 17.390625 18.875 11.75 \nQ 22.953125 6.109375 30.078125 6.109375 \nQ 37.203125 6.109375 41.296875 11.75 \nQ 45.40625 17.390625 45.40625 27.296875 \nQ 45.40625 37.203125 41.296875 42.84375 \nQ 37.203125 48.484375 30.078125 48.484375 \nQ 22.953125 48.484375 18.875 42.84375 \nQ 14.796875 37.203125 14.796875 27.296875 \nz\n\" id=\"DejaVuSans-100\"/>\n        <path d=\"M 34.1875 63.1875 \nL 20.796875 26.90625 \nL 47.609375 26.90625 \nz\nM 28.609375 72.90625 \nL 39.796875 72.90625 \nL 67.578125 0 \nL 57.328125 0 \nL 50.6875 18.703125 \nL 17.828125 18.703125 \nL 11.1875 0 \nL 0.78125 0 \nz\n\" id=\"DejaVuSans-65\"/>\n       </defs>\n       <use xlink:href=\"#DejaVuSans-100\"/>\n       <use x=\"63.476562\" xlink:href=\"#DejaVuSans-114\"/>\n       <use x=\"104.589844\" xlink:href=\"#DejaVuSans-117\"/>\n       <use x=\"167.96875\" xlink:href=\"#DejaVuSans-103\"/>\n       <use x=\"231.445312\" xlink:href=\"#DejaVuSans-65\"/>\n      </g>\n     </g>\n    </g>\n    <g id=\"xtick_3\">\n     <g id=\"line2d_3\">\n      <g>\n       <use style=\"stroke:#000000;stroke-width:0.8;\" x=\"216.11625\" xlink:href=\"#m7161b77b14\" y=\"403.2\"/>\n      </g>\n     </g>\n     <g id=\"text_3\">\n      <!-- drugB -->\n      <g transform=\"translate(201.113125 417.798437)scale(0.1 -0.1)\">\n       <defs>\n        <path d=\"M 19.671875 34.8125 \nL 19.671875 8.109375 \nL 35.5 8.109375 \nQ 43.453125 8.109375 47.28125 11.40625 \nQ 51.125 14.703125 51.125 21.484375 \nQ 51.125 28.328125 47.28125 31.5625 \nQ 43.453125 34.8125 35.5 34.8125 \nz\nM 19.671875 64.796875 \nL 19.671875 42.828125 \nL 34.28125 42.828125 \nQ 41.5 42.828125 45.03125 45.53125 \nQ 48.578125 48.25 48.578125 53.8125 \nQ 48.578125 59.328125 45.03125 62.0625 \nQ 41.5 64.796875 34.28125 64.796875 \nz\nM 9.8125 72.90625 \nL 35.015625 72.90625 \nQ 46.296875 72.90625 52.390625 68.21875 \nQ 58.5 63.53125 58.5 54.890625 \nQ 58.5 48.1875 55.375 44.234375 \nQ 52.25 40.28125 46.1875 39.3125 \nQ 53.46875 37.75 57.5 32.78125 \nQ 61.53125 27.828125 61.53125 20.40625 \nQ 61.53125 10.640625 54.890625 5.3125 \nQ 48.25 0 35.984375 0 \nL 9.8125 0 \nz\n\" id=\"DejaVuSans-66\"/>\n       </defs>\n       <use xlink:href=\"#DejaVuSans-100\"/>\n       <use x=\"63.476562\" xlink:href=\"#DejaVuSans-114\"/>\n       <use x=\"104.589844\" xlink:href=\"#DejaVuSans-117\"/>\n       <use x=\"167.96875\" xlink:href=\"#DejaVuSans-103\"/>\n       <use x=\"231.445312\" xlink:href=\"#DejaVuSans-66\"/>\n      </g>\n     </g>\n    </g>\n    <g id=\"xtick_4\">\n     <g id=\"line2d_4\">\n      <g>\n       <use style=\"stroke:#000000;stroke-width:0.8;\" x=\"287.54025\" xlink:href=\"#m7161b77b14\" y=\"403.2\"/>\n      </g>\n     </g>\n     <g id=\"text_4\">\n      <!-- drugC -->\n      <g transform=\"translate(272.476188 417.798437)scale(0.1 -0.1)\">\n       <defs>\n        <path d=\"M 64.40625 67.28125 \nL 64.40625 56.890625 \nQ 59.421875 61.53125 53.78125 63.8125 \nQ 48.140625 66.109375 41.796875 66.109375 \nQ 29.296875 66.109375 22.65625 58.46875 \nQ 16.015625 50.828125 16.015625 36.375 \nQ 16.015625 21.96875 22.65625 14.328125 \nQ 29.296875 6.6875 41.796875 6.6875 \nQ 48.140625 6.6875 53.78125 8.984375 \nQ 59.421875 11.28125 64.40625 15.921875 \nL 64.40625 5.609375 \nQ 59.234375 2.09375 53.4375 0.328125 \nQ 47.65625 -1.421875 41.21875 -1.421875 \nQ 24.65625 -1.421875 15.125 8.703125 \nQ 5.609375 18.84375 5.609375 36.375 \nQ 5.609375 53.953125 15.125 64.078125 \nQ 24.65625 74.21875 41.21875 74.21875 \nQ 47.75 74.21875 53.53125 72.484375 \nQ 59.328125 70.75 64.40625 67.28125 \nz\n\" id=\"DejaVuSans-67\"/>\n       </defs>\n       <use xlink:href=\"#DejaVuSans-100\"/>\n       <use x=\"63.476562\" xlink:href=\"#DejaVuSans-114\"/>\n       <use x=\"104.589844\" xlink:href=\"#DejaVuSans-117\"/>\n       <use x=\"167.96875\" xlink:href=\"#DejaVuSans-103\"/>\n       <use x=\"231.445312\" xlink:href=\"#DejaVuSans-67\"/>\n      </g>\n     </g>\n    </g>\n    <g id=\"xtick_5\">\n     <g id=\"line2d_5\">\n      <g>\n       <use style=\"stroke:#000000;stroke-width:0.8;\" x=\"358.96425\" xlink:href=\"#m7161b77b14\" y=\"403.2\"/>\n      </g>\n     </g>\n     <g id=\"text_5\">\n      <!-- drugX -->\n      <g transform=\"translate(343.966594 417.798437)scale(0.1 -0.1)\">\n       <defs>\n        <path d=\"M 6.296875 72.90625 \nL 16.890625 72.90625 \nL 35.015625 45.796875 \nL 53.21875 72.90625 \nL 63.8125 72.90625 \nL 40.375 37.890625 \nL 65.375 0 \nL 54.78125 0 \nL 34.28125 31 \nL 13.625 0 \nL 2.984375 0 \nL 29 38.921875 \nz\n\" id=\"DejaVuSans-88\"/>\n       </defs>\n       <use xlink:href=\"#DejaVuSans-100\"/>\n       <use x=\"63.476562\" xlink:href=\"#DejaVuSans-114\"/>\n       <use x=\"104.589844\" xlink:href=\"#DejaVuSans-117\"/>\n       <use x=\"167.96875\" xlink:href=\"#DejaVuSans-103\"/>\n       <use x=\"231.445312\" xlink:href=\"#DejaVuSans-88\"/>\n      </g>\n     </g>\n    </g>\n    <g id=\"text_6\">\n     <!-- predicted label -->\n     <g transform=\"translate(178.717031 431.476562)scale(0.1 -0.1)\">\n      <defs>\n       <path d=\"M 18.109375 8.203125 \nL 18.109375 -20.796875 \nL 9.078125 -20.796875 \nL 9.078125 54.6875 \nL 18.109375 54.6875 \nL 18.109375 46.390625 \nQ 20.953125 51.265625 25.265625 53.625 \nQ 29.59375 56 35.59375 56 \nQ 45.5625 56 51.78125 48.09375 \nQ 58.015625 40.1875 58.015625 27.296875 \nQ 58.015625 14.40625 51.78125 6.484375 \nQ 45.5625 -1.421875 35.59375 -1.421875 \nQ 29.59375 -1.421875 25.265625 0.953125 \nQ 20.953125 3.328125 18.109375 8.203125 \nz\nM 48.6875 27.296875 \nQ 48.6875 37.203125 44.609375 42.84375 \nQ 40.53125 48.484375 33.40625 48.484375 \nQ 26.265625 48.484375 22.1875 42.84375 \nQ 18.109375 37.203125 18.109375 27.296875 \nQ 18.109375 17.390625 22.1875 11.75 \nQ 26.265625 6.109375 33.40625 6.109375 \nQ 40.53125 6.109375 44.609375 11.75 \nQ 48.6875 17.390625 48.6875 27.296875 \nz\n\" id=\"DejaVuSans-112\"/>\n       <path d=\"M 56.203125 29.59375 \nL 56.203125 25.203125 \nL 14.890625 25.203125 \nQ 15.484375 15.921875 20.484375 11.0625 \nQ 25.484375 6.203125 34.421875 6.203125 \nQ 39.59375 6.203125 44.453125 7.46875 \nQ 49.3125 8.734375 54.109375 11.28125 \nL 54.109375 2.78125 \nQ 49.265625 0.734375 44.1875 -0.34375 \nQ 39.109375 -1.421875 33.890625 -1.421875 \nQ 20.796875 -1.421875 13.15625 6.1875 \nQ 5.515625 13.8125 5.515625 26.8125 \nQ 5.515625 40.234375 12.765625 48.109375 \nQ 20.015625 56 32.328125 56 \nQ 43.359375 56 49.78125 48.890625 \nQ 56.203125 41.796875 56.203125 29.59375 \nz\nM 47.21875 32.234375 \nQ 47.125 39.59375 43.09375 43.984375 \nQ 39.0625 48.390625 32.421875 48.390625 \nQ 24.90625 48.390625 20.390625 44.140625 \nQ 15.875 39.890625 15.1875 32.171875 \nz\n\" id=\"DejaVuSans-101\"/>\n       <path d=\"M 9.421875 54.6875 \nL 18.40625 54.6875 \nL 18.40625 0 \nL 9.421875 0 \nz\nM 9.421875 75.984375 \nL 18.40625 75.984375 \nL 18.40625 64.59375 \nL 9.421875 64.59375 \nz\n\" id=\"DejaVuSans-105\"/>\n       <path d=\"M 48.78125 52.59375 \nL 48.78125 44.1875 \nQ 44.96875 46.296875 41.140625 47.34375 \nQ 37.3125 48.390625 33.40625 48.390625 \nQ 24.65625 48.390625 19.8125 42.84375 \nQ 14.984375 37.3125 14.984375 27.296875 \nQ 14.984375 17.28125 19.8125 11.734375 \nQ 24.65625 6.203125 33.40625 6.203125 \nQ 37.3125 6.203125 41.140625 7.25 \nQ 44.96875 8.296875 48.78125 10.40625 \nL 48.78125 2.09375 \nQ 45.015625 0.34375 40.984375 -0.53125 \nQ 36.96875 -1.421875 32.421875 -1.421875 \nQ 20.0625 -1.421875 12.78125 6.34375 \nQ 5.515625 14.109375 5.515625 27.296875 \nQ 5.515625 40.671875 12.859375 48.328125 \nQ 20.21875 56 33.015625 56 \nQ 37.15625 56 41.109375 55.140625 \nQ 45.0625 54.296875 48.78125 52.59375 \nz\n\" id=\"DejaVuSans-99\"/>\n       <path d=\"M 18.3125 70.21875 \nL 18.3125 54.6875 \nL 36.8125 54.6875 \nL 36.8125 47.703125 \nL 18.3125 47.703125 \nL 18.3125 18.015625 \nQ 18.3125 11.328125 20.140625 9.421875 \nQ 21.96875 7.515625 27.59375 7.515625 \nL 36.8125 7.515625 \nL 36.8125 0 \nL 27.59375 0 \nQ 17.1875 0 13.234375 3.875 \nQ 9.28125 7.765625 9.28125 18.015625 \nL 9.28125 47.703125 \nL 2.6875 47.703125 \nL 2.6875 54.6875 \nL 9.28125 54.6875 \nL 9.28125 70.21875 \nz\n\" id=\"DejaVuSans-116\"/>\n       <path id=\"DejaVuSans-32\"/>\n       <path d=\"M 9.421875 75.984375 \nL 18.40625 75.984375 \nL 18.40625 0 \nL 9.421875 0 \nz\n\" id=\"DejaVuSans-108\"/>\n       <path d=\"M 34.28125 27.484375 \nQ 23.390625 27.484375 19.1875 25 \nQ 14.984375 22.515625 14.984375 16.5 \nQ 14.984375 11.71875 18.140625 8.90625 \nQ 21.296875 6.109375 26.703125 6.109375 \nQ 34.1875 6.109375 38.703125 11.40625 \nQ 43.21875 16.703125 43.21875 25.484375 \nL 43.21875 27.484375 \nz\nM 52.203125 31.203125 \nL 52.203125 0 \nL 43.21875 0 \nL 43.21875 8.296875 \nQ 40.140625 3.328125 35.546875 0.953125 \nQ 30.953125 -1.421875 24.3125 -1.421875 \nQ 15.921875 -1.421875 10.953125 3.296875 \nQ 6 8.015625 6 15.921875 \nQ 6 25.140625 12.171875 29.828125 \nQ 18.359375 34.515625 30.609375 34.515625 \nL 43.21875 34.515625 \nL 43.21875 35.40625 \nQ 43.21875 41.609375 39.140625 45 \nQ 35.0625 48.390625 27.6875 48.390625 \nQ 23 48.390625 18.546875 47.265625 \nQ 14.109375 46.140625 10.015625 43.890625 \nL 10.015625 52.203125 \nQ 14.9375 54.109375 19.578125 55.046875 \nQ 24.21875 56 28.609375 56 \nQ 40.484375 56 46.34375 49.84375 \nQ 52.203125 43.703125 52.203125 31.203125 \nz\n\" id=\"DejaVuSans-97\"/>\n       <path d=\"M 48.6875 27.296875 \nQ 48.6875 37.203125 44.609375 42.84375 \nQ 40.53125 48.484375 33.40625 48.484375 \nQ 26.265625 48.484375 22.1875 42.84375 \nQ 18.109375 37.203125 18.109375 27.296875 \nQ 18.109375 17.390625 22.1875 11.75 \nQ 26.265625 6.109375 33.40625 6.109375 \nQ 40.53125 6.109375 44.609375 11.75 \nQ 48.6875 17.390625 48.6875 27.296875 \nz\nM 18.109375 46.390625 \nQ 20.953125 51.265625 25.265625 53.625 \nQ 29.59375 56 35.59375 56 \nQ 45.5625 56 51.78125 48.09375 \nQ 58.015625 40.1875 58.015625 27.296875 \nQ 58.015625 14.40625 51.78125 6.484375 \nQ 45.5625 -1.421875 35.59375 -1.421875 \nQ 29.59375 -1.421875 25.265625 0.953125 \nQ 20.953125 3.328125 18.109375 8.203125 \nL 18.109375 0 \nL 9.078125 0 \nL 9.078125 75.984375 \nL 18.109375 75.984375 \nz\n\" id=\"DejaVuSans-98\"/>\n      </defs>\n      <use xlink:href=\"#DejaVuSans-112\"/>\n      <use x=\"63.476562\" xlink:href=\"#DejaVuSans-114\"/>\n      <use x=\"102.339844\" xlink:href=\"#DejaVuSans-101\"/>\n      <use x=\"163.863281\" xlink:href=\"#DejaVuSans-100\"/>\n      <use x=\"227.339844\" xlink:href=\"#DejaVuSans-105\"/>\n      <use x=\"255.123047\" xlink:href=\"#DejaVuSans-99\"/>\n      <use x=\"310.103516\" xlink:href=\"#DejaVuSans-116\"/>\n      <use x=\"349.3125\" xlink:href=\"#DejaVuSans-101\"/>\n      <use x=\"410.835938\" xlink:href=\"#DejaVuSans-100\"/>\n      <use x=\"474.3125\" xlink:href=\"#DejaVuSans-32\"/>\n      <use x=\"506.099609\" xlink:href=\"#DejaVuSans-108\"/>\n      <use x=\"533.882812\" xlink:href=\"#DejaVuSans-97\"/>\n      <use x=\"595.162109\" xlink:href=\"#DejaVuSans-98\"/>\n      <use x=\"658.638672\" xlink:href=\"#DejaVuSans-101\"/>\n      <use x=\"720.162109\" xlink:href=\"#DejaVuSans-108\"/>\n     </g>\n    </g>\n   </g>\n   <g id=\"matplotlib.axis_2\">\n    <g id=\"ytick_1\">\n     <g id=\"line2d_6\">\n      <defs>\n       <path d=\"M 0 0 \nL -3.5 0 \n\" id=\"mc2917c3d09\" style=\"stroke:#000000;stroke-width:0.8;\"/>\n      </defs>\n      <g>\n       <use style=\"stroke:#000000;stroke-width:0.8;\" x=\"37.55625\" xlink:href=\"#mc2917c3d09\" y=\"81.792\"/>\n      </g>\n     </g>\n     <g id=\"text_7\">\n      <!-- DrugY -->\n      <g transform=\"translate(28.476563 108.597469)rotate(-90)scale(0.1 -0.1)\">\n       <use xlink:href=\"#DejaVuSans-68\"/>\n       <use x=\"77.001953\" xlink:href=\"#DejaVuSans-114\"/>\n       <use x=\"118.115234\" xlink:href=\"#DejaVuSans-117\"/>\n       <use x=\"181.494141\" xlink:href=\"#DejaVuSans-103\"/>\n       <use x=\"244.970703\" xlink:href=\"#DejaVuSans-89\"/>\n      </g>\n     </g>\n    </g>\n    <g id=\"ytick_2\">\n     <g id=\"line2d_7\">\n      <g>\n       <use style=\"stroke:#000000;stroke-width:0.8;\" x=\"37.55625\" xlink:href=\"#mc2917c3d09\" y=\"153.216\"/>\n      </g>\n     </g>\n     <g id=\"text_8\">\n      <!-- drugA -->\n      <g transform=\"translate(28.476563 179.402719)rotate(-90)scale(0.1 -0.1)\">\n       <use xlink:href=\"#DejaVuSans-100\"/>\n       <use x=\"63.476562\" xlink:href=\"#DejaVuSans-114\"/>\n       <use x=\"104.589844\" xlink:href=\"#DejaVuSans-117\"/>\n       <use x=\"167.96875\" xlink:href=\"#DejaVuSans-103\"/>\n       <use x=\"231.445312\" xlink:href=\"#DejaVuSans-65\"/>\n      </g>\n     </g>\n    </g>\n    <g id=\"ytick_3\">\n     <g id=\"line2d_8\">\n      <g>\n       <use style=\"stroke:#000000;stroke-width:0.8;\" x=\"37.55625\" xlink:href=\"#mc2917c3d09\" y=\"224.64\"/>\n      </g>\n     </g>\n     <g id=\"text_9\">\n      <!-- drugB -->\n      <g transform=\"translate(28.476563 250.847031)rotate(-90)scale(0.1 -0.1)\">\n       <use xlink:href=\"#DejaVuSans-100\"/>\n       <use x=\"63.476562\" xlink:href=\"#DejaVuSans-114\"/>\n       <use x=\"104.589844\" xlink:href=\"#DejaVuSans-117\"/>\n       <use x=\"167.96875\" xlink:href=\"#DejaVuSans-103\"/>\n       <use x=\"231.445312\" xlink:href=\"#DejaVuSans-66\"/>\n      </g>\n     </g>\n    </g>\n    <g id=\"ytick_4\">\n     <g id=\"line2d_9\">\n      <g>\n       <use style=\"stroke:#000000;stroke-width:0.8;\" x=\"37.55625\" xlink:href=\"#mc2917c3d09\" y=\"296.064\"/>\n      </g>\n     </g>\n     <g id=\"text_10\">\n      <!-- drugC -->\n      <g transform=\"translate(28.476563 322.392906)rotate(-90)scale(0.1 -0.1)\">\n       <use xlink:href=\"#DejaVuSans-100\"/>\n       <use x=\"63.476562\" xlink:href=\"#DejaVuSans-114\"/>\n       <use x=\"104.589844\" xlink:href=\"#DejaVuSans-117\"/>\n       <use x=\"167.96875\" xlink:href=\"#DejaVuSans-103\"/>\n       <use x=\"231.445312\" xlink:href=\"#DejaVuSans-67\"/>\n      </g>\n     </g>\n    </g>\n    <g id=\"ytick_5\">\n     <g id=\"line2d_10\">\n      <g>\n       <use style=\"stroke:#000000;stroke-width:0.8;\" x=\"37.55625\" xlink:href=\"#mc2917c3d09\" y=\"367.488\"/>\n      </g>\n     </g>\n     <g id=\"text_11\">\n      <!-- drugX -->\n      <g transform=\"translate(28.476563 393.684094)rotate(-90)scale(0.1 -0.1)\">\n       <use xlink:href=\"#DejaVuSans-100\"/>\n       <use x=\"63.476562\" xlink:href=\"#DejaVuSans-114\"/>\n       <use x=\"104.589844\" xlink:href=\"#DejaVuSans-117\"/>\n       <use x=\"167.96875\" xlink:href=\"#DejaVuSans-103\"/>\n       <use x=\"231.445312\" xlink:href=\"#DejaVuSans-88\"/>\n      </g>\n     </g>\n    </g>\n    <g id=\"text_12\">\n     <!-- true label -->\n     <g transform=\"translate(14.798438 248.582969)rotate(-90)scale(0.1 -0.1)\">\n      <use xlink:href=\"#DejaVuSans-116\"/>\n      <use x=\"39.208984\" xlink:href=\"#DejaVuSans-114\"/>\n      <use x=\"80.322266\" xlink:href=\"#DejaVuSans-117\"/>\n      <use x=\"143.701172\" xlink:href=\"#DejaVuSans-101\"/>\n      <use x=\"205.224609\" xlink:href=\"#DejaVuSans-32\"/>\n      <use x=\"237.011719\" xlink:href=\"#DejaVuSans-108\"/>\n      <use x=\"264.794922\" xlink:href=\"#DejaVuSans-97\"/>\n      <use x=\"326.074219\" xlink:href=\"#DejaVuSans-98\"/>\n      <use x=\"389.550781\" xlink:href=\"#DejaVuSans-101\"/>\n      <use x=\"451.074219\" xlink:href=\"#DejaVuSans-108\"/>\n     </g>\n    </g>\n   </g>\n   <g id=\"text_13\">\n    <!-- 28 -->\n    <g style=\"fill:#262626;\" transform=\"translate(66.90575 84.551375)scale(0.1 -0.1)\">\n     <defs>\n      <path d=\"M 19.1875 8.296875 \nL 53.609375 8.296875 \nL 53.609375 0 \nL 7.328125 0 \nL 7.328125 8.296875 \nQ 12.9375 14.109375 22.625 23.890625 \nQ 32.328125 33.6875 34.8125 36.53125 \nQ 39.546875 41.84375 41.421875 45.53125 \nQ 43.3125 49.21875 43.3125 52.78125 \nQ 43.3125 58.59375 39.234375 62.25 \nQ 35.15625 65.921875 28.609375 65.921875 \nQ 23.96875 65.921875 18.8125 64.3125 \nQ 13.671875 62.703125 7.8125 59.421875 \nL 7.8125 69.390625 \nQ 13.765625 71.78125 18.9375 73 \nQ 24.125 74.21875 28.421875 74.21875 \nQ 39.75 74.21875 46.484375 68.546875 \nQ 53.21875 62.890625 53.21875 53.421875 \nQ 53.21875 48.921875 51.53125 44.890625 \nQ 49.859375 40.875 45.40625 35.40625 \nQ 44.1875 33.984375 37.640625 27.21875 \nQ 31.109375 20.453125 19.1875 8.296875 \nz\n\" id=\"DejaVuSans-50\"/>\n      <path d=\"M 31.78125 34.625 \nQ 24.75 34.625 20.71875 30.859375 \nQ 16.703125 27.09375 16.703125 20.515625 \nQ 16.703125 13.921875 20.71875 10.15625 \nQ 24.75 6.390625 31.78125 6.390625 \nQ 38.8125 6.390625 42.859375 10.171875 \nQ 46.921875 13.96875 46.921875 20.515625 \nQ 46.921875 27.09375 42.890625 30.859375 \nQ 38.875 34.625 31.78125 34.625 \nz\nM 21.921875 38.8125 \nQ 15.578125 40.375 12.03125 44.71875 \nQ 8.5 49.078125 8.5 55.328125 \nQ 8.5 64.0625 14.71875 69.140625 \nQ 20.953125 74.21875 31.78125 74.21875 \nQ 42.671875 74.21875 48.875 69.140625 \nQ 55.078125 64.0625 55.078125 55.328125 \nQ 55.078125 49.078125 51.53125 44.71875 \nQ 48 40.375 41.703125 38.8125 \nQ 48.828125 37.15625 52.796875 32.3125 \nQ 56.78125 27.484375 56.78125 20.515625 \nQ 56.78125 9.90625 50.3125 4.234375 \nQ 43.84375 -1.421875 31.78125 -1.421875 \nQ 19.734375 -1.421875 13.25 4.234375 \nQ 6.78125 9.90625 6.78125 20.515625 \nQ 6.78125 27.484375 10.78125 32.3125 \nQ 14.796875 37.15625 21.921875 38.8125 \nz\nM 18.3125 54.390625 \nQ 18.3125 48.734375 21.84375 45.5625 \nQ 25.390625 42.390625 31.78125 42.390625 \nQ 38.140625 42.390625 41.71875 45.5625 \nQ 45.3125 48.734375 45.3125 54.390625 \nQ 45.3125 60.0625 41.71875 63.234375 \nQ 38.140625 66.40625 31.78125 66.40625 \nQ 25.390625 66.40625 21.84375 63.234375 \nQ 18.3125 60.0625 18.3125 54.390625 \nz\n\" id=\"DejaVuSans-56\"/>\n     </defs>\n     <use xlink:href=\"#DejaVuSans-50\"/>\n     <use x=\"63.623047\" xlink:href=\"#DejaVuSans-56\"/>\n    </g>\n   </g>\n   <g id=\"text_14\">\n    <!-- 0 -->\n    <g style=\"fill:#ffffff;\" transform=\"translate(141.511 84.551375)scale(0.1 -0.1)\">\n     <defs>\n      <path d=\"M 31.78125 66.40625 \nQ 24.171875 66.40625 20.328125 58.90625 \nQ 16.5 51.421875 16.5 36.375 \nQ 16.5 21.390625 20.328125 13.890625 \nQ 24.171875 6.390625 31.78125 6.390625 \nQ 39.453125 6.390625 43.28125 13.890625 \nQ 47.125 21.390625 47.125 36.375 \nQ 47.125 51.421875 43.28125 58.90625 \nQ 39.453125 66.40625 31.78125 66.40625 \nz\nM 31.78125 74.21875 \nQ 44.046875 74.21875 50.515625 64.515625 \nQ 56.984375 54.828125 56.984375 36.375 \nQ 56.984375 17.96875 50.515625 8.265625 \nQ 44.046875 -1.421875 31.78125 -1.421875 \nQ 19.53125 -1.421875 13.0625 8.265625 \nQ 6.59375 17.96875 6.59375 36.375 \nQ 6.59375 54.828125 13.0625 64.515625 \nQ 19.53125 74.21875 31.78125 74.21875 \nz\n\" id=\"DejaVuSans-48\"/>\n     </defs>\n     <use xlink:href=\"#DejaVuSans-48\"/>\n    </g>\n   </g>\n   <g id=\"text_15\">\n    <!-- 0 -->\n    <g style=\"fill:#ffffff;\" transform=\"translate(212.935 84.551375)scale(0.1 -0.1)\">\n     <use xlink:href=\"#DejaVuSans-48\"/>\n    </g>\n   </g>\n   <g id=\"text_16\">\n    <!-- 0 -->\n    <g style=\"fill:#ffffff;\" transform=\"translate(284.359 84.551375)scale(0.1 -0.1)\">\n     <use xlink:href=\"#DejaVuSans-48\"/>\n    </g>\n   </g>\n   <g id=\"text_17\">\n    <!-- 0 -->\n    <g style=\"fill:#ffffff;\" transform=\"translate(355.783 84.551375)scale(0.1 -0.1)\">\n     <use xlink:href=\"#DejaVuSans-48\"/>\n    </g>\n   </g>\n   <g id=\"text_18\">\n    <!-- 0 -->\n    <g style=\"fill:#ffffff;\" transform=\"translate(70.087 155.975375)scale(0.1 -0.1)\">\n     <use xlink:href=\"#DejaVuSans-48\"/>\n    </g>\n   </g>\n   <g id=\"text_19\">\n    <!-- 6 -->\n    <g style=\"fill:#ffffff;\" transform=\"translate(141.511 155.975375)scale(0.1 -0.1)\">\n     <defs>\n      <path d=\"M 33.015625 40.375 \nQ 26.375 40.375 22.484375 35.828125 \nQ 18.609375 31.296875 18.609375 23.390625 \nQ 18.609375 15.53125 22.484375 10.953125 \nQ 26.375 6.390625 33.015625 6.390625 \nQ 39.65625 6.390625 43.53125 10.953125 \nQ 47.40625 15.53125 47.40625 23.390625 \nQ 47.40625 31.296875 43.53125 35.828125 \nQ 39.65625 40.375 33.015625 40.375 \nz\nM 52.59375 71.296875 \nL 52.59375 62.3125 \nQ 48.875 64.0625 45.09375 64.984375 \nQ 41.3125 65.921875 37.59375 65.921875 \nQ 27.828125 65.921875 22.671875 59.328125 \nQ 17.53125 52.734375 16.796875 39.40625 \nQ 19.671875 43.65625 24.015625 45.921875 \nQ 28.375 48.1875 33.59375 48.1875 \nQ 44.578125 48.1875 50.953125 41.515625 \nQ 57.328125 34.859375 57.328125 23.390625 \nQ 57.328125 12.15625 50.6875 5.359375 \nQ 44.046875 -1.421875 33.015625 -1.421875 \nQ 20.359375 -1.421875 13.671875 8.265625 \nQ 6.984375 17.96875 6.984375 36.375 \nQ 6.984375 53.65625 15.1875 63.9375 \nQ 23.390625 74.21875 37.203125 74.21875 \nQ 40.921875 74.21875 44.703125 73.484375 \nQ 48.484375 72.75 52.59375 71.296875 \nz\n\" id=\"DejaVuSans-54\"/>\n     </defs>\n     <use xlink:href=\"#DejaVuSans-54\"/>\n    </g>\n   </g>\n   <g id=\"text_20\">\n    <!-- 0 -->\n    <g style=\"fill:#ffffff;\" transform=\"translate(212.935 155.975375)scale(0.1 -0.1)\">\n     <use xlink:href=\"#DejaVuSans-48\"/>\n    </g>\n   </g>\n   <g id=\"text_21\">\n    <!-- 0 -->\n    <g style=\"fill:#ffffff;\" transform=\"translate(284.359 155.975375)scale(0.1 -0.1)\">\n     <use xlink:href=\"#DejaVuSans-48\"/>\n    </g>\n   </g>\n   <g id=\"text_22\">\n    <!-- 0 -->\n    <g style=\"fill:#ffffff;\" transform=\"translate(355.783 155.975375)scale(0.1 -0.1)\">\n     <use xlink:href=\"#DejaVuSans-48\"/>\n    </g>\n   </g>\n   <g id=\"text_23\">\n    <!-- 0 -->\n    <g style=\"fill:#ffffff;\" transform=\"translate(70.087 227.399375)scale(0.1 -0.1)\">\n     <use xlink:href=\"#DejaVuSans-48\"/>\n    </g>\n   </g>\n   <g id=\"text_24\">\n    <!-- 1 -->\n    <g style=\"fill:#ffffff;\" transform=\"translate(141.511 227.399375)scale(0.1 -0.1)\">\n     <defs>\n      <path d=\"M 12.40625 8.296875 \nL 28.515625 8.296875 \nL 28.515625 63.921875 \nL 10.984375 60.40625 \nL 10.984375 69.390625 \nL 28.421875 72.90625 \nL 38.28125 72.90625 \nL 38.28125 8.296875 \nL 54.390625 8.296875 \nL 54.390625 0 \nL 12.40625 0 \nz\n\" id=\"DejaVuSans-49\"/>\n     </defs>\n     <use xlink:href=\"#DejaVuSans-49\"/>\n    </g>\n   </g>\n   <g id=\"text_25\">\n    <!-- 5 -->\n    <g style=\"fill:#ffffff;\" transform=\"translate(212.935 227.399375)scale(0.1 -0.1)\">\n     <defs>\n      <path d=\"M 10.796875 72.90625 \nL 49.515625 72.90625 \nL 49.515625 64.59375 \nL 19.828125 64.59375 \nL 19.828125 46.734375 \nQ 21.96875 47.46875 24.109375 47.828125 \nQ 26.265625 48.1875 28.421875 48.1875 \nQ 40.625 48.1875 47.75 41.5 \nQ 54.890625 34.8125 54.890625 23.390625 \nQ 54.890625 11.625 47.5625 5.09375 \nQ 40.234375 -1.421875 26.90625 -1.421875 \nQ 22.3125 -1.421875 17.546875 -0.640625 \nQ 12.796875 0.140625 7.71875 1.703125 \nL 7.71875 11.625 \nQ 12.109375 9.234375 16.796875 8.0625 \nQ 21.484375 6.890625 26.703125 6.890625 \nQ 35.15625 6.890625 40.078125 11.328125 \nQ 45.015625 15.765625 45.015625 23.390625 \nQ 45.015625 31 40.078125 35.4375 \nQ 35.15625 39.890625 26.703125 39.890625 \nQ 22.75 39.890625 18.8125 39.015625 \nQ 14.890625 38.140625 10.796875 36.28125 \nz\n\" id=\"DejaVuSans-53\"/>\n     </defs>\n     <use xlink:href=\"#DejaVuSans-53\"/>\n    </g>\n   </g>\n   <g id=\"text_26\">\n    <!-- 0 -->\n    <g style=\"fill:#ffffff;\" transform=\"translate(284.359 227.399375)scale(0.1 -0.1)\">\n     <use xlink:href=\"#DejaVuSans-48\"/>\n    </g>\n   </g>\n   <g id=\"text_27\">\n    <!-- 0 -->\n    <g style=\"fill:#ffffff;\" transform=\"translate(355.783 227.399375)scale(0.1 -0.1)\">\n     <use xlink:href=\"#DejaVuSans-48\"/>\n    </g>\n   </g>\n   <g id=\"text_28\">\n    <!-- 0 -->\n    <g style=\"fill:#ffffff;\" transform=\"translate(70.087 298.823375)scale(0.1 -0.1)\">\n     <use xlink:href=\"#DejaVuSans-48\"/>\n    </g>\n   </g>\n   <g id=\"text_29\">\n    <!-- 0 -->\n    <g style=\"fill:#ffffff;\" transform=\"translate(141.511 298.823375)scale(0.1 -0.1)\">\n     <use xlink:href=\"#DejaVuSans-48\"/>\n    </g>\n   </g>\n   <g id=\"text_30\">\n    <!-- 0 -->\n    <g style=\"fill:#ffffff;\" transform=\"translate(212.935 298.823375)scale(0.1 -0.1)\">\n     <use xlink:href=\"#DejaVuSans-48\"/>\n    </g>\n   </g>\n   <g id=\"text_31\">\n    <!-- 4 -->\n    <g style=\"fill:#ffffff;\" transform=\"translate(284.359 298.823375)scale(0.1 -0.1)\">\n     <defs>\n      <path d=\"M 37.796875 64.3125 \nL 12.890625 25.390625 \nL 37.796875 25.390625 \nz\nM 35.203125 72.90625 \nL 47.609375 72.90625 \nL 47.609375 25.390625 \nL 58.015625 25.390625 \nL 58.015625 17.1875 \nL 47.609375 17.1875 \nL 47.609375 0 \nL 37.796875 0 \nL 37.796875 17.1875 \nL 4.890625 17.1875 \nL 4.890625 26.703125 \nz\n\" id=\"DejaVuSans-52\"/>\n     </defs>\n     <use xlink:href=\"#DejaVuSans-52\"/>\n    </g>\n   </g>\n   <g id=\"text_32\">\n    <!-- 0 -->\n    <g style=\"fill:#ffffff;\" transform=\"translate(355.783 298.823375)scale(0.1 -0.1)\">\n     <use xlink:href=\"#DejaVuSans-48\"/>\n    </g>\n   </g>\n   <g id=\"text_33\">\n    <!-- 0 -->\n    <g style=\"fill:#ffffff;\" transform=\"translate(70.087 370.247375)scale(0.1 -0.1)\">\n     <use xlink:href=\"#DejaVuSans-48\"/>\n    </g>\n   </g>\n   <g id=\"text_34\">\n    <!-- 0 -->\n    <g style=\"fill:#ffffff;\" transform=\"translate(141.511 370.247375)scale(0.1 -0.1)\">\n     <use xlink:href=\"#DejaVuSans-48\"/>\n    </g>\n   </g>\n   <g id=\"text_35\">\n    <!-- 0 -->\n    <g style=\"fill:#ffffff;\" transform=\"translate(212.935 370.247375)scale(0.1 -0.1)\">\n     <use xlink:href=\"#DejaVuSans-48\"/>\n    </g>\n   </g>\n   <g id=\"text_36\">\n    <!-- 0 -->\n    <g style=\"fill:#ffffff;\" transform=\"translate(284.359 370.247375)scale(0.1 -0.1)\">\n     <use xlink:href=\"#DejaVuSans-48\"/>\n    </g>\n   </g>\n   <g id=\"text_37\">\n    <!-- 22 -->\n    <g style=\"fill:#262626;\" transform=\"translate(352.60175 370.247375)scale(0.1 -0.1)\">\n     <use xlink:href=\"#DejaVuSans-50\"/>\n     <use x=\"63.623047\" xlink:href=\"#DejaVuSans-50\"/>\n    </g>\n   </g>\n  </g>\n  <g id=\"axes_2\">\n   <g id=\"patch_3\">\n    <path clip-path=\"url(#p687629710d)\" d=\"M 416.99625 442.08 \nL 416.99625 440.38125 \nL 416.99625 8.89875 \nL 416.99625 7.2 \nL 438.74025 7.2 \nL 438.74025 8.89875 \nL 438.74025 440.38125 \nL 438.74025 442.08 \nz\n\" style=\"fill:#ffffff;stroke:#ffffff;stroke-linejoin:miter;stroke-width:0.01;\"/>\n   </g>\n   <image height=\"435\" id=\"image3b471f30cd\" transform=\"scale(1 -1)translate(0 -435)\" width=\"22\" x=\"417\" xlink:href=\"data:image/png;base64,\niVBORw0KGgoAAAANSUhEUgAAABYAAAGzCAYAAAArEufSAAACQElEQVR4nO2d23HDMBADSZlpIv33aX+IhNQAPnZmt4CbGwAE5Uec+fn7/44CazamjjGu0tyx5uzszNt4zaEUN72NL83b1KQwbmFdpVQQpcBtXCv6Vip4UhQ3bp08c3zg1SZPY6QUndl2ReBJwXuuUIpg3IJxC8iryVv6BvhQ2LulNW9jV4TiWzeVscQ7z64IdkVonjyeFB2MWzBuARg3P2A5AM3zlj5oXiB2RWWsT/QvagcEmeMOvK4ASsG7mlrtBpSCFzfbLYOBt7TmncGad9C8oHlhXZU/KDBuL3hS8A6I5gVeV2hecONg3ALRvNbg6QPLhrcx8GnTrjhY9KFpXkcLoHm8HAPj9u24p3nBrgjNosdJURrM21jzQrPdakWPM6/U9DzzeAdkzdLL/2bcaBv3vrjBkwK3cUvjVfrmn+Y9IA9IbTBNCqB5pddjxK4oScFrN2SOO4N55vEOiF0ReBtrXuC1G7KEOoN5cQNKMYzbhrcxUIrWaKB5SnHgxW3N0ucVPCmacVPjDKZJoXmvwTQpiOaV/oIFaB7u1yB4Ghfj1lmaJwWv3YBSDNyvu1v0hzXtig3vgBClMG4ZbG1ueO0GlMK4HXjttgbw5RgvbnbFDbIrSuYB38XSvA1vY4s+8A4IUQrexq3/1wSUgrexV1MGK8WGFzeiFLyNNW9jV7wGK8Wm+dn/pzKYpzHQPA/IMxgoBe7keUtvgHGz6J/BOPM8IM9ga3PDi9uaSrExbqF2pJFS0DZuHWmgFMS4wS7TH5ToLyU5TBn/AAAAAElFTkSuQmCC\" y=\"-7\"/>\n   <g id=\"matplotlib.axis_3\"/>\n   <g id=\"matplotlib.axis_4\">\n    <g id=\"ytick_6\">\n     <g id=\"line2d_11\">\n      <defs>\n       <path d=\"M 0 0 \nL 3.5 0 \n\" id=\"m3f81e6f092\" style=\"stroke:#000000;stroke-width:0.8;\"/>\n      </defs>\n      <g>\n       <use style=\"stroke:#000000;stroke-width:0.8;\" x=\"438.74025\" xlink:href=\"#m3f81e6f092\" y=\"442.08\"/>\n      </g>\n     </g>\n     <g id=\"text_38\">\n      <!-- 0 -->\n      <g transform=\"translate(445.74025 445.879219)scale(0.1 -0.1)\">\n       <use xlink:href=\"#DejaVuSans-48\"/>\n      </g>\n     </g>\n    </g>\n    <g id=\"ytick_7\">\n     <g id=\"line2d_12\">\n      <g>\n       <use style=\"stroke:#000000;stroke-width:0.8;\" x=\"438.74025\" xlink:href=\"#m3f81e6f092\" y=\"364.422857\"/>\n      </g>\n     </g>\n     <g id=\"text_39\">\n      <!-- 5 -->\n      <g transform=\"translate(445.74025 368.222076)scale(0.1 -0.1)\">\n       <use xlink:href=\"#DejaVuSans-53\"/>\n      </g>\n     </g>\n    </g>\n    <g id=\"ytick_8\">\n     <g id=\"line2d_13\">\n      <g>\n       <use style=\"stroke:#000000;stroke-width:0.8;\" x=\"438.74025\" xlink:href=\"#m3f81e6f092\" y=\"286.765714\"/>\n      </g>\n     </g>\n     <g id=\"text_40\">\n      <!-- 10 -->\n      <g transform=\"translate(445.74025 290.564933)scale(0.1 -0.1)\">\n       <use xlink:href=\"#DejaVuSans-49\"/>\n       <use x=\"63.623047\" xlink:href=\"#DejaVuSans-48\"/>\n      </g>\n     </g>\n    </g>\n    <g id=\"ytick_9\">\n     <g id=\"line2d_14\">\n      <g>\n       <use style=\"stroke:#000000;stroke-width:0.8;\" x=\"438.74025\" xlink:href=\"#m3f81e6f092\" y=\"209.108571\"/>\n      </g>\n     </g>\n     <g id=\"text_41\">\n      <!-- 15 -->\n      <g transform=\"translate(445.74025 212.90779)scale(0.1 -0.1)\">\n       <use xlink:href=\"#DejaVuSans-49\"/>\n       <use x=\"63.623047\" xlink:href=\"#DejaVuSans-53\"/>\n      </g>\n     </g>\n    </g>\n    <g id=\"ytick_10\">\n     <g id=\"line2d_15\">\n      <g>\n       <use style=\"stroke:#000000;stroke-width:0.8;\" x=\"438.74025\" xlink:href=\"#m3f81e6f092\" y=\"131.451429\"/>\n      </g>\n     </g>\n     <g id=\"text_42\">\n      <!-- 20 -->\n      <g transform=\"translate(445.74025 135.250647)scale(0.1 -0.1)\">\n       <use xlink:href=\"#DejaVuSans-50\"/>\n       <use x=\"63.623047\" xlink:href=\"#DejaVuSans-48\"/>\n      </g>\n     </g>\n    </g>\n    <g id=\"ytick_11\">\n     <g id=\"line2d_16\">\n      <g>\n       <use style=\"stroke:#000000;stroke-width:0.8;\" x=\"438.74025\" xlink:href=\"#m3f81e6f092\" y=\"53.794286\"/>\n      </g>\n     </g>\n     <g id=\"text_43\">\n      <!-- 25 -->\n      <g transform=\"translate(445.74025 57.593504)scale(0.1 -0.1)\">\n       <use xlink:href=\"#DejaVuSans-50\"/>\n       <use x=\"63.623047\" xlink:href=\"#DejaVuSans-53\"/>\n      </g>\n     </g>\n    </g>\n   </g>\n   <g id=\"patch_4\">\n    <path d=\"M 416.99625 442.08 \nL 416.99625 440.38125 \nL 416.99625 8.89875 \nL 416.99625 7.2 \nL 438.74025 7.2 \nL 438.74025 8.89875 \nL 438.74025 440.38125 \nL 438.74025 442.08 \nz\n\" style=\"fill:none;\"/>\n   </g>\n  </g>\n </g>\n <defs>\n  <clipPath id=\"pfef20021f4\">\n   <rect height=\"357.12\" width=\"357.12\" x=\"37.55625\" y=\"46.08\"/>\n  </clipPath>\n  <clipPath id=\"p687629710d\">\n   <rect height=\"434.88\" width=\"21.744\" x=\"416.99625\" y=\"7.2\"/>\n  </clipPath>\n </defs>\n</svg>\n",
      "image/png": "[encoded data removed]"
     },
     "metadata": {
      "needs_background": "light"
     }
    }
   ],
   "source": [
    "from sklearn.svm import SVC\n",
    "from sklearn.metrics import confusion_matrix\n",
    "import seaborn as sns\n",
    "import matplotlib.pyplot as plt\n",
    "\n",
    "svm = SVC(kernel='linear', random_state=1)\n",
    "svm.fit(X_train, Y_train)\n",
    "\n",
    "def plot_conf_matrix(model, x, y):\n",
    "    mat = confusion_matrix(y, model.predict(x))\n",
    "    fig, ax = plt.subplots(figsize=(8,8)) # x - prediction, y - actual\n",
    "    sns.heatmap(mat, square=True, annot=True, xticklabels=le.classes_, yticklabels=le.classes_)\n",
    "    plt.ylabel('true label')\n",
    "    plt.xlabel('predicted label')\n",
    "\n",
    "print('SVM accuracy: ', svm.score(X_test, Y_test))\n",
    "plot_conf_matrix(svm, X_test, Y_test)\n",
    "\n",
    "del svm"
   ]
  },
  {
   "cell_type": "code",
   "execution_count": 8,
   "metadata": {},
   "outputs": [
    {
     "output_type": "stream",
     "name": "stdout",
     "text": [
      "SVM_rbf (rbf) accuracy:  0.7424242424242424\n"
     ]
    },
    {
     "output_type": "display_data",
     "data": {
      "text/plain": "<Figure size 576x576 with 2 Axes>",
      "image/svg+xml": "<?xml version=\"1.0\" encoding=\"utf-8\" standalone=\"no\"?>\n<!DOCTYPE svg PUBLIC \"-//W3C//DTD SVG 1.1//EN\"\n  \"http://www.w3.org/Graphics/SVG/1.1/DTD/svg11.dtd\">\n<!-- Created with matplotlib (https://matplotlib.org/) -->\n<svg height=\"455.158906pt\" version=\"1.1\" viewBox=\"0 0 465.66525 455.158906\" width=\"465.66525pt\" xmlns=\"http://www.w3.org/2000/svg\" xmlns:xlink=\"http://www.w3.org/1999/xlink\">\n <metadata>\n  <rdf:RDF xmlns:cc=\"http://creativecommons.org/ns#\" xmlns:dc=\"http://purl.org/dc/elements/1.1/\" xmlns:rdf=\"http://www.w3.org/1999/02/22-rdf-syntax-ns#\">\n   <cc:Work>\n    <dc:type rdf:resource=\"http://purl.org/dc/dcmitype/StillImage\"/>\n    <dc:date>2020-12-23T22:44:37.600734</dc:date>\n    <dc:format>image/svg+xml</dc:format>\n    <dc:creator>\n     <cc:Agent>\n      <dc:title>Matplotlib v3.3.2, https://matplotlib.org/</dc:title>\n     </cc:Agent>\n    </dc:creator>\n   </cc:Work>\n  </rdf:RDF>\n </metadata>\n <defs>\n  <style type=\"text/css\">*{stroke-linecap:butt;stroke-linejoin:round;}</style>\n </defs>\n <g id=\"figure_1\">\n  <g id=\"patch_1\">\n   <path d=\"M 0 455.158906 \nL 465.66525 455.158906 \nL 465.66525 0 \nL 0 0 \nz\n\" style=\"fill:none;\"/>\n  </g>\n  <g id=\"axes_1\">\n   <g id=\"patch_2\">\n    <path d=\"M 37.55625 403.2 \nL 394.67625 403.2 \nL 394.67625 46.08 \nL 37.55625 46.08 \nz\n\" style=\"fill:#ffffff;\"/>\n   </g>\n   <g id=\"QuadMesh_1\">\n    <path clip-path=\"url(#p87cc3fe100)\" d=\"M 37.55625 46.08 \nL 108.98025 46.08 \nL 108.98025 117.504 \nL 37.55625 117.504 \nL 37.55625 46.08 \n\" style=\"fill:#faebdd;\"/>\n    <path clip-path=\"url(#p87cc3fe100)\" d=\"M 108.98025 46.08 \nL 180.40425 46.08 \nL 180.40425 117.504 \nL 108.98025 117.504 \nL 108.98025 46.08 \n\" style=\"fill:#03051a;\"/>\n    <path clip-path=\"url(#p87cc3fe100)\" d=\"M 180.40425 46.08 \nL 251.82825 46.08 \nL 251.82825 117.504 \nL 180.40425 117.504 \nL 180.40425 46.08 \n\" style=\"fill:#03051a;\"/>\n    <path clip-path=\"url(#p87cc3fe100)\" d=\"M 251.82825 46.08 \nL 323.25225 46.08 \nL 323.25225 117.504 \nL 251.82825 117.504 \nL 251.82825 46.08 \n\" style=\"fill:#03051a;\"/>\n    <path clip-path=\"url(#p87cc3fe100)\" d=\"M 323.25225 46.08 \nL 394.67625 46.08 \nL 394.67625 117.504 \nL 323.25225 117.504 \nL 323.25225 46.08 \n\" style=\"fill:#03051a;\"/>\n    <path clip-path=\"url(#p87cc3fe100)\" d=\"M 37.55625 117.504 \nL 108.98025 117.504 \nL 108.98025 188.928 \nL 37.55625 188.928 \nL 37.55625 117.504 \n\" style=\"fill:#0e0b22;\"/>\n    <path clip-path=\"url(#p87cc3fe100)\" d=\"M 108.98025 117.504 \nL 180.40425 117.504 \nL 180.40425 188.928 \nL 108.98025 188.928 \nL 108.98025 117.504 \n\" style=\"fill:#03051a;\"/>\n    <path clip-path=\"url(#p87cc3fe100)\" d=\"M 180.40425 117.504 \nL 251.82825 117.504 \nL 251.82825 188.928 \nL 180.40425 188.928 \nL 180.40425 117.504 \n\" style=\"fill:#03051a;\"/>\n    <path clip-path=\"url(#p87cc3fe100)\" d=\"M 251.82825 117.504 \nL 323.25225 117.504 \nL 323.25225 188.928 \nL 251.82825 188.928 \nL 251.82825 117.504 \n\" style=\"fill:#03051a;\"/>\n    <path clip-path=\"url(#p87cc3fe100)\" d=\"M 323.25225 117.504 \nL 394.67625 117.504 \nL 394.67625 188.928 \nL 323.25225 188.928 \nL 323.25225 117.504 \n\" style=\"fill:#431c46;\"/>\n    <path clip-path=\"url(#p87cc3fe100)\" d=\"M 37.55625 188.928 \nL 108.98025 188.928 \nL 108.98025 260.352 \nL 37.55625 260.352 \nL 37.55625 188.928 \n\" style=\"fill:#03051a;\"/>\n    <path clip-path=\"url(#p87cc3fe100)\" d=\"M 108.98025 188.928 \nL 180.40425 188.928 \nL 180.40425 260.352 \nL 108.98025 260.352 \nL 108.98025 188.928 \n\" style=\"fill:#03051a;\"/>\n    <path clip-path=\"url(#p87cc3fe100)\" d=\"M 180.40425 188.928 \nL 251.82825 188.928 \nL 251.82825 260.352 \nL 180.40425 260.352 \nL 180.40425 188.928 \n\" style=\"fill:#03051a;\"/>\n    <path clip-path=\"url(#p87cc3fe100)\" d=\"M 251.82825 188.928 \nL 323.25225 188.928 \nL 323.25225 260.352 \nL 251.82825 260.352 \nL 251.82825 188.928 \n\" style=\"fill:#03051a;\"/>\n    <path clip-path=\"url(#p87cc3fe100)\" d=\"M 323.25225 188.928 \nL 394.67625 188.928 \nL 394.67625 260.352 \nL 323.25225 260.352 \nL 323.25225 188.928 \n\" style=\"fill:#511e4d;\"/>\n    <path clip-path=\"url(#p87cc3fe100)\" d=\"M 37.55625 260.352 \nL 108.98025 260.352 \nL 108.98025 331.776 \nL 37.55625 331.776 \nL 37.55625 260.352 \n\" style=\"fill:#03051a;\"/>\n    <path clip-path=\"url(#p87cc3fe100)\" d=\"M 108.98025 260.352 \nL 180.40425 260.352 \nL 180.40425 331.776 \nL 108.98025 331.776 \nL 108.98025 260.352 \n\" style=\"fill:#03051a;\"/>\n    <path clip-path=\"url(#p87cc3fe100)\" d=\"M 180.40425 260.352 \nL 251.82825 260.352 \nL 251.82825 331.776 \nL 180.40425 331.776 \nL 180.40425 260.352 \n\" style=\"fill:#03051a;\"/>\n    <path clip-path=\"url(#p87cc3fe100)\" d=\"M 251.82825 260.352 \nL 323.25225 260.352 \nL 323.25225 331.776 \nL 251.82825 331.776 \nL 251.82825 260.352 \n\" style=\"fill:#03051a;\"/>\n    <path clip-path=\"url(#p87cc3fe100)\" d=\"M 323.25225 260.352 \nL 394.67625 260.352 \nL 394.67625 331.776 \nL 323.25225 331.776 \nL 323.25225 260.352 \n\" style=\"fill:#35193e;\"/>\n    <path clip-path=\"url(#p87cc3fe100)\" d=\"M 37.55625 331.776 \nL 108.98025 331.776 \nL 108.98025 403.2 \nL 37.55625 403.2 \nL 37.55625 331.776 \n\" style=\"fill:#0e0b22;\"/>\n    <path clip-path=\"url(#p87cc3fe100)\" d=\"M 108.98025 331.776 \nL 180.40425 331.776 \nL 180.40425 403.2 \nL 108.98025 403.2 \nL 108.98025 331.776 \n\" style=\"fill:#03051a;\"/>\n    <path clip-path=\"url(#p87cc3fe100)\" d=\"M 180.40425 331.776 \nL 251.82825 331.776 \nL 251.82825 403.2 \nL 180.40425 403.2 \nL 180.40425 331.776 \n\" style=\"fill:#03051a;\"/>\n    <path clip-path=\"url(#p87cc3fe100)\" d=\"M 251.82825 331.776 \nL 323.25225 331.776 \nL 323.25225 403.2 \nL 251.82825 403.2 \nL 251.82825 331.776 \n\" style=\"fill:#03051a;\"/>\n    <path clip-path=\"url(#p87cc3fe100)\" d=\"M 323.25225 331.776 \nL 394.67625 331.776 \nL 394.67625 403.2 \nL 323.25225 403.2 \nL 323.25225 331.776 \n\" style=\"fill:#f58860;\"/>\n   </g>\n   <g id=\"matplotlib.axis_1\">\n    <g id=\"xtick_1\">\n     <g id=\"line2d_1\">\n      <defs>\n       <path d=\"M 0 0 \nL 0 3.5 \n\" id=\"m0c0dfec919\" style=\"stroke:#000000;stroke-width:0.8;\"/>\n      </defs>\n      <g>\n       <use style=\"stroke:#000000;stroke-width:0.8;\" x=\"73.26825\" xlink:href=\"#m0c0dfec919\" y=\"403.2\"/>\n      </g>\n     </g>\n     <g id=\"text_1\">\n      <!-- DrugY -->\n      <g transform=\"translate(57.965906 417.798437)scale(0.1 -0.1)\">\n       <defs>\n        <path d=\"M 19.671875 64.796875 \nL 19.671875 8.109375 \nL 31.59375 8.109375 \nQ 46.6875 8.109375 53.6875 14.9375 \nQ 60.6875 21.78125 60.6875 36.53125 \nQ 60.6875 51.171875 53.6875 57.984375 \nQ 46.6875 64.796875 31.59375 64.796875 \nz\nM 9.8125 72.90625 \nL 30.078125 72.90625 \nQ 51.265625 72.90625 61.171875 64.09375 \nQ 71.09375 55.28125 71.09375 36.53125 \nQ 71.09375 17.671875 61.125 8.828125 \nQ 51.171875 0 30.078125 0 \nL 9.8125 0 \nz\n\" id=\"DejaVuSans-68\"/>\n        <path d=\"M 41.109375 46.296875 \nQ 39.59375 47.171875 37.8125 47.578125 \nQ 36.03125 48 33.890625 48 \nQ 26.265625 48 22.1875 43.046875 \nQ 18.109375 38.09375 18.109375 28.8125 \nL 18.109375 0 \nL 9.078125 0 \nL 9.078125 54.6875 \nL 18.109375 54.6875 \nL 18.109375 46.1875 \nQ 20.953125 51.171875 25.484375 53.578125 \nQ 30.03125 56 36.53125 56 \nQ 37.453125 56 38.578125 55.875 \nQ 39.703125 55.765625 41.0625 55.515625 \nz\n\" id=\"DejaVuSans-114\"/>\n        <path d=\"M 8.5 21.578125 \nL 8.5 54.6875 \nL 17.484375 54.6875 \nL 17.484375 21.921875 \nQ 17.484375 14.15625 20.5 10.265625 \nQ 23.53125 6.390625 29.59375 6.390625 \nQ 36.859375 6.390625 41.078125 11.03125 \nQ 45.3125 15.671875 45.3125 23.6875 \nL 45.3125 54.6875 \nL 54.296875 54.6875 \nL 54.296875 0 \nL 45.3125 0 \nL 45.3125 8.40625 \nQ 42.046875 3.421875 37.71875 1 \nQ 33.40625 -1.421875 27.6875 -1.421875 \nQ 18.265625 -1.421875 13.375 4.4375 \nQ 8.5 10.296875 8.5 21.578125 \nz\nM 31.109375 56 \nz\n\" id=\"DejaVuSans-117\"/>\n        <path d=\"M 45.40625 27.984375 \nQ 45.40625 37.75 41.375 43.109375 \nQ 37.359375 48.484375 30.078125 48.484375 \nQ 22.859375 48.484375 18.828125 43.109375 \nQ 14.796875 37.75 14.796875 27.984375 \nQ 14.796875 18.265625 18.828125 12.890625 \nQ 22.859375 7.515625 30.078125 7.515625 \nQ 37.359375 7.515625 41.375 12.890625 \nQ 45.40625 18.265625 45.40625 27.984375 \nz\nM 54.390625 6.78125 \nQ 54.390625 -7.171875 48.1875 -13.984375 \nQ 42 -20.796875 29.203125 -20.796875 \nQ 24.46875 -20.796875 20.265625 -20.09375 \nQ 16.0625 -19.390625 12.109375 -17.921875 \nL 12.109375 -9.1875 \nQ 16.0625 -11.328125 19.921875 -12.34375 \nQ 23.78125 -13.375 27.78125 -13.375 \nQ 36.625 -13.375 41.015625 -8.765625 \nQ 45.40625 -4.15625 45.40625 5.171875 \nL 45.40625 9.625 \nQ 42.625 4.78125 38.28125 2.390625 \nQ 33.9375 0 27.875 0 \nQ 17.828125 0 11.671875 7.65625 \nQ 5.515625 15.328125 5.515625 27.984375 \nQ 5.515625 40.671875 11.671875 48.328125 \nQ 17.828125 56 27.875 56 \nQ 33.9375 56 38.28125 53.609375 \nQ 42.625 51.21875 45.40625 46.390625 \nL 45.40625 54.6875 \nL 54.390625 54.6875 \nz\n\" id=\"DejaVuSans-103\"/>\n        <path d=\"M -0.203125 72.90625 \nL 10.40625 72.90625 \nL 30.609375 42.921875 \nL 50.6875 72.90625 \nL 61.28125 72.90625 \nL 35.5 34.71875 \nL 35.5 0 \nL 25.59375 0 \nL 25.59375 34.71875 \nz\n\" id=\"DejaVuSans-89\"/>\n       </defs>\n       <use xlink:href=\"#DejaVuSans-68\"/>\n       <use x=\"77.001953\" xlink:href=\"#DejaVuSans-114\"/>\n       <use x=\"118.115234\" xlink:href=\"#DejaVuSans-117\"/>\n       <use x=\"181.494141\" xlink:href=\"#DejaVuSans-103\"/>\n       <use x=\"244.970703\" xlink:href=\"#DejaVuSans-89\"/>\n      </g>\n     </g>\n    </g>\n    <g id=\"xtick_2\">\n     <g id=\"line2d_2\">\n      <g>\n       <use style=\"stroke:#000000;stroke-width:0.8;\" x=\"144.69225\" xlink:href=\"#m0c0dfec919\" y=\"403.2\"/>\n      </g>\n     </g>\n     <g id=\"text_2\">\n      <!-- drugA -->\n      <g transform=\"translate(129.699281 417.798437)scale(0.1 -0.1)\">\n       <defs>\n        <path d=\"M 45.40625 46.390625 \nL 45.40625 75.984375 \nL 54.390625 75.984375 \nL 54.390625 0 \nL 45.40625 0 \nL 45.40625 8.203125 \nQ 42.578125 3.328125 38.25 0.953125 \nQ 33.9375 -1.421875 27.875 -1.421875 \nQ 17.96875 -1.421875 11.734375 6.484375 \nQ 5.515625 14.40625 5.515625 27.296875 \nQ 5.515625 40.1875 11.734375 48.09375 \nQ 17.96875 56 27.875 56 \nQ 33.9375 56 38.25 53.625 \nQ 42.578125 51.265625 45.40625 46.390625 \nz\nM 14.796875 27.296875 \nQ 14.796875 17.390625 18.875 11.75 \nQ 22.953125 6.109375 30.078125 6.109375 \nQ 37.203125 6.109375 41.296875 11.75 \nQ 45.40625 17.390625 45.40625 27.296875 \nQ 45.40625 37.203125 41.296875 42.84375 \nQ 37.203125 48.484375 30.078125 48.484375 \nQ 22.953125 48.484375 18.875 42.84375 \nQ 14.796875 37.203125 14.796875 27.296875 \nz\n\" id=\"DejaVuSans-100\"/>\n        <path d=\"M 34.1875 63.1875 \nL 20.796875 26.90625 \nL 47.609375 26.90625 \nz\nM 28.609375 72.90625 \nL 39.796875 72.90625 \nL 67.578125 0 \nL 57.328125 0 \nL 50.6875 18.703125 \nL 17.828125 18.703125 \nL 11.1875 0 \nL 0.78125 0 \nz\n\" id=\"DejaVuSans-65\"/>\n       </defs>\n       <use xlink:href=\"#DejaVuSans-100\"/>\n       <use x=\"63.476562\" xlink:href=\"#DejaVuSans-114\"/>\n       <use x=\"104.589844\" xlink:href=\"#DejaVuSans-117\"/>\n       <use x=\"167.96875\" xlink:href=\"#DejaVuSans-103\"/>\n       <use x=\"231.445312\" xlink:href=\"#DejaVuSans-65\"/>\n      </g>\n     </g>\n    </g>\n    <g id=\"xtick_3\">\n     <g id=\"line2d_3\">\n      <g>\n       <use style=\"stroke:#000000;stroke-width:0.8;\" x=\"216.11625\" xlink:href=\"#m0c0dfec919\" y=\"403.2\"/>\n      </g>\n     </g>\n     <g id=\"text_3\">\n      <!-- drugB -->\n      <g transform=\"translate(201.113125 417.798437)scale(0.1 -0.1)\">\n       <defs>\n        <path d=\"M 19.671875 34.8125 \nL 19.671875 8.109375 \nL 35.5 8.109375 \nQ 43.453125 8.109375 47.28125 11.40625 \nQ 51.125 14.703125 51.125 21.484375 \nQ 51.125 28.328125 47.28125 31.5625 \nQ 43.453125 34.8125 35.5 34.8125 \nz\nM 19.671875 64.796875 \nL 19.671875 42.828125 \nL 34.28125 42.828125 \nQ 41.5 42.828125 45.03125 45.53125 \nQ 48.578125 48.25 48.578125 53.8125 \nQ 48.578125 59.328125 45.03125 62.0625 \nQ 41.5 64.796875 34.28125 64.796875 \nz\nM 9.8125 72.90625 \nL 35.015625 72.90625 \nQ 46.296875 72.90625 52.390625 68.21875 \nQ 58.5 63.53125 58.5 54.890625 \nQ 58.5 48.1875 55.375 44.234375 \nQ 52.25 40.28125 46.1875 39.3125 \nQ 53.46875 37.75 57.5 32.78125 \nQ 61.53125 27.828125 61.53125 20.40625 \nQ 61.53125 10.640625 54.890625 5.3125 \nQ 48.25 0 35.984375 0 \nL 9.8125 0 \nz\n\" id=\"DejaVuSans-66\"/>\n       </defs>\n       <use xlink:href=\"#DejaVuSans-100\"/>\n       <use x=\"63.476562\" xlink:href=\"#DejaVuSans-114\"/>\n       <use x=\"104.589844\" xlink:href=\"#DejaVuSans-117\"/>\n       <use x=\"167.96875\" xlink:href=\"#DejaVuSans-103\"/>\n       <use x=\"231.445312\" xlink:href=\"#DejaVuSans-66\"/>\n      </g>\n     </g>\n    </g>\n    <g id=\"xtick_4\">\n     <g id=\"line2d_4\">\n      <g>\n       <use style=\"stroke:#000000;stroke-width:0.8;\" x=\"287.54025\" xlink:href=\"#m0c0dfec919\" y=\"403.2\"/>\n      </g>\n     </g>\n     <g id=\"text_4\">\n      <!-- drugC -->\n      <g transform=\"translate(272.476188 417.798437)scale(0.1 -0.1)\">\n       <defs>\n        <path d=\"M 64.40625 67.28125 \nL 64.40625 56.890625 \nQ 59.421875 61.53125 53.78125 63.8125 \nQ 48.140625 66.109375 41.796875 66.109375 \nQ 29.296875 66.109375 22.65625 58.46875 \nQ 16.015625 50.828125 16.015625 36.375 \nQ 16.015625 21.96875 22.65625 14.328125 \nQ 29.296875 6.6875 41.796875 6.6875 \nQ 48.140625 6.6875 53.78125 8.984375 \nQ 59.421875 11.28125 64.40625 15.921875 \nL 64.40625 5.609375 \nQ 59.234375 2.09375 53.4375 0.328125 \nQ 47.65625 -1.421875 41.21875 -1.421875 \nQ 24.65625 -1.421875 15.125 8.703125 \nQ 5.609375 18.84375 5.609375 36.375 \nQ 5.609375 53.953125 15.125 64.078125 \nQ 24.65625 74.21875 41.21875 74.21875 \nQ 47.75 74.21875 53.53125 72.484375 \nQ 59.328125 70.75 64.40625 67.28125 \nz\n\" id=\"DejaVuSans-67\"/>\n       </defs>\n       <use xlink:href=\"#DejaVuSans-100\"/>\n       <use x=\"63.476562\" xlink:href=\"#DejaVuSans-114\"/>\n       <use x=\"104.589844\" xlink:href=\"#DejaVuSans-117\"/>\n       <use x=\"167.96875\" xlink:href=\"#DejaVuSans-103\"/>\n       <use x=\"231.445312\" xlink:href=\"#DejaVuSans-67\"/>\n      </g>\n     </g>\n    </g>\n    <g id=\"xtick_5\">\n     <g id=\"line2d_5\">\n      <g>\n       <use style=\"stroke:#000000;stroke-width:0.8;\" x=\"358.96425\" xlink:href=\"#m0c0dfec919\" y=\"403.2\"/>\n      </g>\n     </g>\n     <g id=\"text_5\">\n      <!-- drugX -->\n      <g transform=\"translate(343.966594 417.798437)scale(0.1 -0.1)\">\n       <defs>\n        <path d=\"M 6.296875 72.90625 \nL 16.890625 72.90625 \nL 35.015625 45.796875 \nL 53.21875 72.90625 \nL 63.8125 72.90625 \nL 40.375 37.890625 \nL 65.375 0 \nL 54.78125 0 \nL 34.28125 31 \nL 13.625 0 \nL 2.984375 0 \nL 29 38.921875 \nz\n\" id=\"DejaVuSans-88\"/>\n       </defs>\n       <use xlink:href=\"#DejaVuSans-100\"/>\n       <use x=\"63.476562\" xlink:href=\"#DejaVuSans-114\"/>\n       <use x=\"104.589844\" xlink:href=\"#DejaVuSans-117\"/>\n       <use x=\"167.96875\" xlink:href=\"#DejaVuSans-103\"/>\n       <use x=\"231.445312\" xlink:href=\"#DejaVuSans-88\"/>\n      </g>\n     </g>\n    </g>\n    <g id=\"text_6\">\n     <!-- predicted label -->\n     <g transform=\"translate(178.717031 431.476562)scale(0.1 -0.1)\">\n      <defs>\n       <path d=\"M 18.109375 8.203125 \nL 18.109375 -20.796875 \nL 9.078125 -20.796875 \nL 9.078125 54.6875 \nL 18.109375 54.6875 \nL 18.109375 46.390625 \nQ 20.953125 51.265625 25.265625 53.625 \nQ 29.59375 56 35.59375 56 \nQ 45.5625 56 51.78125 48.09375 \nQ 58.015625 40.1875 58.015625 27.296875 \nQ 58.015625 14.40625 51.78125 6.484375 \nQ 45.5625 -1.421875 35.59375 -1.421875 \nQ 29.59375 -1.421875 25.265625 0.953125 \nQ 20.953125 3.328125 18.109375 8.203125 \nz\nM 48.6875 27.296875 \nQ 48.6875 37.203125 44.609375 42.84375 \nQ 40.53125 48.484375 33.40625 48.484375 \nQ 26.265625 48.484375 22.1875 42.84375 \nQ 18.109375 37.203125 18.109375 27.296875 \nQ 18.109375 17.390625 22.1875 11.75 \nQ 26.265625 6.109375 33.40625 6.109375 \nQ 40.53125 6.109375 44.609375 11.75 \nQ 48.6875 17.390625 48.6875 27.296875 \nz\n\" id=\"DejaVuSans-112\"/>\n       <path d=\"M 56.203125 29.59375 \nL 56.203125 25.203125 \nL 14.890625 25.203125 \nQ 15.484375 15.921875 20.484375 11.0625 \nQ 25.484375 6.203125 34.421875 6.203125 \nQ 39.59375 6.203125 44.453125 7.46875 \nQ 49.3125 8.734375 54.109375 11.28125 \nL 54.109375 2.78125 \nQ 49.265625 0.734375 44.1875 -0.34375 \nQ 39.109375 -1.421875 33.890625 -1.421875 \nQ 20.796875 -1.421875 13.15625 6.1875 \nQ 5.515625 13.8125 5.515625 26.8125 \nQ 5.515625 40.234375 12.765625 48.109375 \nQ 20.015625 56 32.328125 56 \nQ 43.359375 56 49.78125 48.890625 \nQ 56.203125 41.796875 56.203125 29.59375 \nz\nM 47.21875 32.234375 \nQ 47.125 39.59375 43.09375 43.984375 \nQ 39.0625 48.390625 32.421875 48.390625 \nQ 24.90625 48.390625 20.390625 44.140625 \nQ 15.875 39.890625 15.1875 32.171875 \nz\n\" id=\"DejaVuSans-101\"/>\n       <path d=\"M 9.421875 54.6875 \nL 18.40625 54.6875 \nL 18.40625 0 \nL 9.421875 0 \nz\nM 9.421875 75.984375 \nL 18.40625 75.984375 \nL 18.40625 64.59375 \nL 9.421875 64.59375 \nz\n\" id=\"DejaVuSans-105\"/>\n       <path d=\"M 48.78125 52.59375 \nL 48.78125 44.1875 \nQ 44.96875 46.296875 41.140625 47.34375 \nQ 37.3125 48.390625 33.40625 48.390625 \nQ 24.65625 48.390625 19.8125 42.84375 \nQ 14.984375 37.3125 14.984375 27.296875 \nQ 14.984375 17.28125 19.8125 11.734375 \nQ 24.65625 6.203125 33.40625 6.203125 \nQ 37.3125 6.203125 41.140625 7.25 \nQ 44.96875 8.296875 48.78125 10.40625 \nL 48.78125 2.09375 \nQ 45.015625 0.34375 40.984375 -0.53125 \nQ 36.96875 -1.421875 32.421875 -1.421875 \nQ 20.0625 -1.421875 12.78125 6.34375 \nQ 5.515625 14.109375 5.515625 27.296875 \nQ 5.515625 40.671875 12.859375 48.328125 \nQ 20.21875 56 33.015625 56 \nQ 37.15625 56 41.109375 55.140625 \nQ 45.0625 54.296875 48.78125 52.59375 \nz\n\" id=\"DejaVuSans-99\"/>\n       <path d=\"M 18.3125 70.21875 \nL 18.3125 54.6875 \nL 36.8125 54.6875 \nL 36.8125 47.703125 \nL 18.3125 47.703125 \nL 18.3125 18.015625 \nQ 18.3125 11.328125 20.140625 9.421875 \nQ 21.96875 7.515625 27.59375 7.515625 \nL 36.8125 7.515625 \nL 36.8125 0 \nL 27.59375 0 \nQ 17.1875 0 13.234375 3.875 \nQ 9.28125 7.765625 9.28125 18.015625 \nL 9.28125 47.703125 \nL 2.6875 47.703125 \nL 2.6875 54.6875 \nL 9.28125 54.6875 \nL 9.28125 70.21875 \nz\n\" id=\"DejaVuSans-116\"/>\n       <path id=\"DejaVuSans-32\"/>\n       <path d=\"M 9.421875 75.984375 \nL 18.40625 75.984375 \nL 18.40625 0 \nL 9.421875 0 \nz\n\" id=\"DejaVuSans-108\"/>\n       <path d=\"M 34.28125 27.484375 \nQ 23.390625 27.484375 19.1875 25 \nQ 14.984375 22.515625 14.984375 16.5 \nQ 14.984375 11.71875 18.140625 8.90625 \nQ 21.296875 6.109375 26.703125 6.109375 \nQ 34.1875 6.109375 38.703125 11.40625 \nQ 43.21875 16.703125 43.21875 25.484375 \nL 43.21875 27.484375 \nz\nM 52.203125 31.203125 \nL 52.203125 0 \nL 43.21875 0 \nL 43.21875 8.296875 \nQ 40.140625 3.328125 35.546875 0.953125 \nQ 30.953125 -1.421875 24.3125 -1.421875 \nQ 15.921875 -1.421875 10.953125 3.296875 \nQ 6 8.015625 6 15.921875 \nQ 6 25.140625 12.171875 29.828125 \nQ 18.359375 34.515625 30.609375 34.515625 \nL 43.21875 34.515625 \nL 43.21875 35.40625 \nQ 43.21875 41.609375 39.140625 45 \nQ 35.0625 48.390625 27.6875 48.390625 \nQ 23 48.390625 18.546875 47.265625 \nQ 14.109375 46.140625 10.015625 43.890625 \nL 10.015625 52.203125 \nQ 14.9375 54.109375 19.578125 55.046875 \nQ 24.21875 56 28.609375 56 \nQ 40.484375 56 46.34375 49.84375 \nQ 52.203125 43.703125 52.203125 31.203125 \nz\n\" id=\"DejaVuSans-97\"/>\n       <path d=\"M 48.6875 27.296875 \nQ 48.6875 37.203125 44.609375 42.84375 \nQ 40.53125 48.484375 33.40625 48.484375 \nQ 26.265625 48.484375 22.1875 42.84375 \nQ 18.109375 37.203125 18.109375 27.296875 \nQ 18.109375 17.390625 22.1875 11.75 \nQ 26.265625 6.109375 33.40625 6.109375 \nQ 40.53125 6.109375 44.609375 11.75 \nQ 48.6875 17.390625 48.6875 27.296875 \nz\nM 18.109375 46.390625 \nQ 20.953125 51.265625 25.265625 53.625 \nQ 29.59375 56 35.59375 56 \nQ 45.5625 56 51.78125 48.09375 \nQ 58.015625 40.1875 58.015625 27.296875 \nQ 58.015625 14.40625 51.78125 6.484375 \nQ 45.5625 -1.421875 35.59375 -1.421875 \nQ 29.59375 -1.421875 25.265625 0.953125 \nQ 20.953125 3.328125 18.109375 8.203125 \nL 18.109375 0 \nL 9.078125 0 \nL 9.078125 75.984375 \nL 18.109375 75.984375 \nz\n\" id=\"DejaVuSans-98\"/>\n      </defs>\n      <use xlink:href=\"#DejaVuSans-112\"/>\n      <use x=\"63.476562\" xlink:href=\"#DejaVuSans-114\"/>\n      <use x=\"102.339844\" xlink:href=\"#DejaVuSans-101\"/>\n      <use x=\"163.863281\" xlink:href=\"#DejaVuSans-100\"/>\n      <use x=\"227.339844\" xlink:href=\"#DejaVuSans-105\"/>\n      <use x=\"255.123047\" xlink:href=\"#DejaVuSans-99\"/>\n      <use x=\"310.103516\" xlink:href=\"#DejaVuSans-116\"/>\n      <use x=\"349.3125\" xlink:href=\"#DejaVuSans-101\"/>\n      <use x=\"410.835938\" xlink:href=\"#DejaVuSans-100\"/>\n      <use x=\"474.3125\" xlink:href=\"#DejaVuSans-32\"/>\n      <use x=\"506.099609\" xlink:href=\"#DejaVuSans-108\"/>\n      <use x=\"533.882812\" xlink:href=\"#DejaVuSans-97\"/>\n      <use x=\"595.162109\" xlink:href=\"#DejaVuSans-98\"/>\n      <use x=\"658.638672\" xlink:href=\"#DejaVuSans-101\"/>\n      <use x=\"720.162109\" xlink:href=\"#DejaVuSans-108\"/>\n     </g>\n    </g>\n   </g>\n   <g id=\"matplotlib.axis_2\">\n    <g id=\"ytick_1\">\n     <g id=\"line2d_6\">\n      <defs>\n       <path d=\"M 0 0 \nL -3.5 0 \n\" id=\"m5498ab6ee9\" style=\"stroke:#000000;stroke-width:0.8;\"/>\n      </defs>\n      <g>\n       <use style=\"stroke:#000000;stroke-width:0.8;\" x=\"37.55625\" xlink:href=\"#m5498ab6ee9\" y=\"81.792\"/>\n      </g>\n     </g>\n     <g id=\"text_7\">\n      <!-- DrugY -->\n      <g transform=\"translate(28.476563 108.597469)rotate(-90)scale(0.1 -0.1)\">\n       <use xlink:href=\"#DejaVuSans-68\"/>\n       <use x=\"77.001953\" xlink:href=\"#DejaVuSans-114\"/>\n       <use x=\"118.115234\" xlink:href=\"#DejaVuSans-117\"/>\n       <use x=\"181.494141\" xlink:href=\"#DejaVuSans-103\"/>\n       <use x=\"244.970703\" xlink:href=\"#DejaVuSans-89\"/>\n      </g>\n     </g>\n    </g>\n    <g id=\"ytick_2\">\n     <g id=\"line2d_7\">\n      <g>\n       <use style=\"stroke:#000000;stroke-width:0.8;\" x=\"37.55625\" xlink:href=\"#m5498ab6ee9\" y=\"153.216\"/>\n      </g>\n     </g>\n     <g id=\"text_8\">\n      <!-- drugA -->\n      <g transform=\"translate(28.476563 179.402719)rotate(-90)scale(0.1 -0.1)\">\n       <use xlink:href=\"#DejaVuSans-100\"/>\n       <use x=\"63.476562\" xlink:href=\"#DejaVuSans-114\"/>\n       <use x=\"104.589844\" xlink:href=\"#DejaVuSans-117\"/>\n       <use x=\"167.96875\" xlink:href=\"#DejaVuSans-103\"/>\n       <use x=\"231.445312\" xlink:href=\"#DejaVuSans-65\"/>\n      </g>\n     </g>\n    </g>\n    <g id=\"ytick_3\">\n     <g id=\"line2d_8\">\n      <g>\n       <use style=\"stroke:#000000;stroke-width:0.8;\" x=\"37.55625\" xlink:href=\"#m5498ab6ee9\" y=\"224.64\"/>\n      </g>\n     </g>\n     <g id=\"text_9\">\n      <!-- drugB -->\n      <g transform=\"translate(28.476563 250.847031)rotate(-90)scale(0.1 -0.1)\">\n       <use xlink:href=\"#DejaVuSans-100\"/>\n       <use x=\"63.476562\" xlink:href=\"#DejaVuSans-114\"/>\n       <use x=\"104.589844\" xlink:href=\"#DejaVuSans-117\"/>\n       <use x=\"167.96875\" xlink:href=\"#DejaVuSans-103\"/>\n       <use x=\"231.445312\" xlink:href=\"#DejaVuSans-66\"/>\n      </g>\n     </g>\n    </g>\n    <g id=\"ytick_4\">\n     <g id=\"line2d_9\">\n      <g>\n       <use style=\"stroke:#000000;stroke-width:0.8;\" x=\"37.55625\" xlink:href=\"#m5498ab6ee9\" y=\"296.064\"/>\n      </g>\n     </g>\n     <g id=\"text_10\">\n      <!-- drugC -->\n      <g transform=\"translate(28.476563 322.392906)rotate(-90)scale(0.1 -0.1)\">\n       <use xlink:href=\"#DejaVuSans-100\"/>\n       <use x=\"63.476562\" xlink:href=\"#DejaVuSans-114\"/>\n       <use x=\"104.589844\" xlink:href=\"#DejaVuSans-117\"/>\n       <use x=\"167.96875\" xlink:href=\"#DejaVuSans-103\"/>\n       <use x=\"231.445312\" xlink:href=\"#DejaVuSans-67\"/>\n      </g>\n     </g>\n    </g>\n    <g id=\"ytick_5\">\n     <g id=\"line2d_10\">\n      <g>\n       <use style=\"stroke:#000000;stroke-width:0.8;\" x=\"37.55625\" xlink:href=\"#m5498ab6ee9\" y=\"367.488\"/>\n      </g>\n     </g>\n     <g id=\"text_11\">\n      <!-- drugX -->\n      <g transform=\"translate(28.476563 393.684094)rotate(-90)scale(0.1 -0.1)\">\n       <use xlink:href=\"#DejaVuSans-100\"/>\n       <use x=\"63.476562\" xlink:href=\"#DejaVuSans-114\"/>\n       <use x=\"104.589844\" xlink:href=\"#DejaVuSans-117\"/>\n       <use x=\"167.96875\" xlink:href=\"#DejaVuSans-103\"/>\n       <use x=\"231.445312\" xlink:href=\"#DejaVuSans-88\"/>\n      </g>\n     </g>\n    </g>\n    <g id=\"text_12\">\n     <!-- true label -->\n     <g transform=\"translate(14.798438 248.582969)rotate(-90)scale(0.1 -0.1)\">\n      <use xlink:href=\"#DejaVuSans-116\"/>\n      <use x=\"39.208984\" xlink:href=\"#DejaVuSans-114\"/>\n      <use x=\"80.322266\" xlink:href=\"#DejaVuSans-117\"/>\n      <use x=\"143.701172\" xlink:href=\"#DejaVuSans-101\"/>\n      <use x=\"205.224609\" xlink:href=\"#DejaVuSans-32\"/>\n      <use x=\"237.011719\" xlink:href=\"#DejaVuSans-108\"/>\n      <use x=\"264.794922\" xlink:href=\"#DejaVuSans-97\"/>\n      <use x=\"326.074219\" xlink:href=\"#DejaVuSans-98\"/>\n      <use x=\"389.550781\" xlink:href=\"#DejaVuSans-101\"/>\n      <use x=\"451.074219\" xlink:href=\"#DejaVuSans-108\"/>\n     </g>\n    </g>\n   </g>\n   <g id=\"text_13\">\n    <!-- 28 -->\n    <g style=\"fill:#262626;\" transform=\"translate(66.90575 84.551375)scale(0.1 -0.1)\">\n     <defs>\n      <path d=\"M 19.1875 8.296875 \nL 53.609375 8.296875 \nL 53.609375 0 \nL 7.328125 0 \nL 7.328125 8.296875 \nQ 12.9375 14.109375 22.625 23.890625 \nQ 32.328125 33.6875 34.8125 36.53125 \nQ 39.546875 41.84375 41.421875 45.53125 \nQ 43.3125 49.21875 43.3125 52.78125 \nQ 43.3125 58.59375 39.234375 62.25 \nQ 35.15625 65.921875 28.609375 65.921875 \nQ 23.96875 65.921875 18.8125 64.3125 \nQ 13.671875 62.703125 7.8125 59.421875 \nL 7.8125 69.390625 \nQ 13.765625 71.78125 18.9375 73 \nQ 24.125 74.21875 28.421875 74.21875 \nQ 39.75 74.21875 46.484375 68.546875 \nQ 53.21875 62.890625 53.21875 53.421875 \nQ 53.21875 48.921875 51.53125 44.890625 \nQ 49.859375 40.875 45.40625 35.40625 \nQ 44.1875 33.984375 37.640625 27.21875 \nQ 31.109375 20.453125 19.1875 8.296875 \nz\n\" id=\"DejaVuSans-50\"/>\n      <path d=\"M 31.78125 34.625 \nQ 24.75 34.625 20.71875 30.859375 \nQ 16.703125 27.09375 16.703125 20.515625 \nQ 16.703125 13.921875 20.71875 10.15625 \nQ 24.75 6.390625 31.78125 6.390625 \nQ 38.8125 6.390625 42.859375 10.171875 \nQ 46.921875 13.96875 46.921875 20.515625 \nQ 46.921875 27.09375 42.890625 30.859375 \nQ 38.875 34.625 31.78125 34.625 \nz\nM 21.921875 38.8125 \nQ 15.578125 40.375 12.03125 44.71875 \nQ 8.5 49.078125 8.5 55.328125 \nQ 8.5 64.0625 14.71875 69.140625 \nQ 20.953125 74.21875 31.78125 74.21875 \nQ 42.671875 74.21875 48.875 69.140625 \nQ 55.078125 64.0625 55.078125 55.328125 \nQ 55.078125 49.078125 51.53125 44.71875 \nQ 48 40.375 41.703125 38.8125 \nQ 48.828125 37.15625 52.796875 32.3125 \nQ 56.78125 27.484375 56.78125 20.515625 \nQ 56.78125 9.90625 50.3125 4.234375 \nQ 43.84375 -1.421875 31.78125 -1.421875 \nQ 19.734375 -1.421875 13.25 4.234375 \nQ 6.78125 9.90625 6.78125 20.515625 \nQ 6.78125 27.484375 10.78125 32.3125 \nQ 14.796875 37.15625 21.921875 38.8125 \nz\nM 18.3125 54.390625 \nQ 18.3125 48.734375 21.84375 45.5625 \nQ 25.390625 42.390625 31.78125 42.390625 \nQ 38.140625 42.390625 41.71875 45.5625 \nQ 45.3125 48.734375 45.3125 54.390625 \nQ 45.3125 60.0625 41.71875 63.234375 \nQ 38.140625 66.40625 31.78125 66.40625 \nQ 25.390625 66.40625 21.84375 63.234375 \nQ 18.3125 60.0625 18.3125 54.390625 \nz\n\" id=\"DejaVuSans-56\"/>\n     </defs>\n     <use xlink:href=\"#DejaVuSans-50\"/>\n     <use x=\"63.623047\" xlink:href=\"#DejaVuSans-56\"/>\n    </g>\n   </g>\n   <g id=\"text_14\">\n    <!-- 0 -->\n    <g style=\"fill:#ffffff;\" transform=\"translate(141.511 84.551375)scale(0.1 -0.1)\">\n     <defs>\n      <path d=\"M 31.78125 66.40625 \nQ 24.171875 66.40625 20.328125 58.90625 \nQ 16.5 51.421875 16.5 36.375 \nQ 16.5 21.390625 20.328125 13.890625 \nQ 24.171875 6.390625 31.78125 6.390625 \nQ 39.453125 6.390625 43.28125 13.890625 \nQ 47.125 21.390625 47.125 36.375 \nQ 47.125 51.421875 43.28125 58.90625 \nQ 39.453125 66.40625 31.78125 66.40625 \nz\nM 31.78125 74.21875 \nQ 44.046875 74.21875 50.515625 64.515625 \nQ 56.984375 54.828125 56.984375 36.375 \nQ 56.984375 17.96875 50.515625 8.265625 \nQ 44.046875 -1.421875 31.78125 -1.421875 \nQ 19.53125 -1.421875 13.0625 8.265625 \nQ 6.59375 17.96875 6.59375 36.375 \nQ 6.59375 54.828125 13.0625 64.515625 \nQ 19.53125 74.21875 31.78125 74.21875 \nz\n\" id=\"DejaVuSans-48\"/>\n     </defs>\n     <use xlink:href=\"#DejaVuSans-48\"/>\n    </g>\n   </g>\n   <g id=\"text_15\">\n    <!-- 0 -->\n    <g style=\"fill:#ffffff;\" transform=\"translate(212.935 84.551375)scale(0.1 -0.1)\">\n     <use xlink:href=\"#DejaVuSans-48\"/>\n    </g>\n   </g>\n   <g id=\"text_16\">\n    <!-- 0 -->\n    <g style=\"fill:#ffffff;\" transform=\"translate(284.359 84.551375)scale(0.1 -0.1)\">\n     <use xlink:href=\"#DejaVuSans-48\"/>\n    </g>\n   </g>\n   <g id=\"text_17\">\n    <!-- 0 -->\n    <g style=\"fill:#ffffff;\" transform=\"translate(355.783 84.551375)scale(0.1 -0.1)\">\n     <use xlink:href=\"#DejaVuSans-48\"/>\n    </g>\n   </g>\n   <g id=\"text_18\">\n    <!-- 1 -->\n    <g style=\"fill:#ffffff;\" transform=\"translate(70.087 155.975375)scale(0.1 -0.1)\">\n     <defs>\n      <path d=\"M 12.40625 8.296875 \nL 28.515625 8.296875 \nL 28.515625 63.921875 \nL 10.984375 60.40625 \nL 10.984375 69.390625 \nL 28.421875 72.90625 \nL 38.28125 72.90625 \nL 38.28125 8.296875 \nL 54.390625 8.296875 \nL 54.390625 0 \nL 12.40625 0 \nz\n\" id=\"DejaVuSans-49\"/>\n     </defs>\n     <use xlink:href=\"#DejaVuSans-49\"/>\n    </g>\n   </g>\n   <g id=\"text_19\">\n    <!-- 0 -->\n    <g style=\"fill:#ffffff;\" transform=\"translate(141.511 155.975375)scale(0.1 -0.1)\">\n     <use xlink:href=\"#DejaVuSans-48\"/>\n    </g>\n   </g>\n   <g id=\"text_20\">\n    <!-- 0 -->\n    <g style=\"fill:#ffffff;\" transform=\"translate(212.935 155.975375)scale(0.1 -0.1)\">\n     <use xlink:href=\"#DejaVuSans-48\"/>\n    </g>\n   </g>\n   <g id=\"text_21\">\n    <!-- 0 -->\n    <g style=\"fill:#ffffff;\" transform=\"translate(284.359 155.975375)scale(0.1 -0.1)\">\n     <use xlink:href=\"#DejaVuSans-48\"/>\n    </g>\n   </g>\n   <g id=\"text_22\">\n    <!-- 5 -->\n    <g style=\"fill:#ffffff;\" transform=\"translate(355.783 155.975375)scale(0.1 -0.1)\">\n     <defs>\n      <path d=\"M 10.796875 72.90625 \nL 49.515625 72.90625 \nL 49.515625 64.59375 \nL 19.828125 64.59375 \nL 19.828125 46.734375 \nQ 21.96875 47.46875 24.109375 47.828125 \nQ 26.265625 48.1875 28.421875 48.1875 \nQ 40.625 48.1875 47.75 41.5 \nQ 54.890625 34.8125 54.890625 23.390625 \nQ 54.890625 11.625 47.5625 5.09375 \nQ 40.234375 -1.421875 26.90625 -1.421875 \nQ 22.3125 -1.421875 17.546875 -0.640625 \nQ 12.796875 0.140625 7.71875 1.703125 \nL 7.71875 11.625 \nQ 12.109375 9.234375 16.796875 8.0625 \nQ 21.484375 6.890625 26.703125 6.890625 \nQ 35.15625 6.890625 40.078125 11.328125 \nQ 45.015625 15.765625 45.015625 23.390625 \nQ 45.015625 31 40.078125 35.4375 \nQ 35.15625 39.890625 26.703125 39.890625 \nQ 22.75 39.890625 18.8125 39.015625 \nQ 14.890625 38.140625 10.796875 36.28125 \nz\n\" id=\"DejaVuSans-53\"/>\n     </defs>\n     <use xlink:href=\"#DejaVuSans-53\"/>\n    </g>\n   </g>\n   <g id=\"text_23\">\n    <!-- 0 -->\n    <g style=\"fill:#ffffff;\" transform=\"translate(70.087 227.399375)scale(0.1 -0.1)\">\n     <use xlink:href=\"#DejaVuSans-48\"/>\n    </g>\n   </g>\n   <g id=\"text_24\">\n    <!-- 0 -->\n    <g style=\"fill:#ffffff;\" transform=\"translate(141.511 227.399375)scale(0.1 -0.1)\">\n     <use xlink:href=\"#DejaVuSans-48\"/>\n    </g>\n   </g>\n   <g id=\"text_25\">\n    <!-- 0 -->\n    <g style=\"fill:#ffffff;\" transform=\"translate(212.935 227.399375)scale(0.1 -0.1)\">\n     <use xlink:href=\"#DejaVuSans-48\"/>\n    </g>\n   </g>\n   <g id=\"text_26\">\n    <!-- 0 -->\n    <g style=\"fill:#ffffff;\" transform=\"translate(284.359 227.399375)scale(0.1 -0.1)\">\n     <use xlink:href=\"#DejaVuSans-48\"/>\n    </g>\n   </g>\n   <g id=\"text_27\">\n    <!-- 6 -->\n    <g style=\"fill:#ffffff;\" transform=\"translate(355.783 227.399375)scale(0.1 -0.1)\">\n     <defs>\n      <path d=\"M 33.015625 40.375 \nQ 26.375 40.375 22.484375 35.828125 \nQ 18.609375 31.296875 18.609375 23.390625 \nQ 18.609375 15.53125 22.484375 10.953125 \nQ 26.375 6.390625 33.015625 6.390625 \nQ 39.65625 6.390625 43.53125 10.953125 \nQ 47.40625 15.53125 47.40625 23.390625 \nQ 47.40625 31.296875 43.53125 35.828125 \nQ 39.65625 40.375 33.015625 40.375 \nz\nM 52.59375 71.296875 \nL 52.59375 62.3125 \nQ 48.875 64.0625 45.09375 64.984375 \nQ 41.3125 65.921875 37.59375 65.921875 \nQ 27.828125 65.921875 22.671875 59.328125 \nQ 17.53125 52.734375 16.796875 39.40625 \nQ 19.671875 43.65625 24.015625 45.921875 \nQ 28.375 48.1875 33.59375 48.1875 \nQ 44.578125 48.1875 50.953125 41.515625 \nQ 57.328125 34.859375 57.328125 23.390625 \nQ 57.328125 12.15625 50.6875 5.359375 \nQ 44.046875 -1.421875 33.015625 -1.421875 \nQ 20.359375 -1.421875 13.671875 8.265625 \nQ 6.984375 17.96875 6.984375 36.375 \nQ 6.984375 53.65625 15.1875 63.9375 \nQ 23.390625 74.21875 37.203125 74.21875 \nQ 40.921875 74.21875 44.703125 73.484375 \nQ 48.484375 72.75 52.59375 71.296875 \nz\n\" id=\"DejaVuSans-54\"/>\n     </defs>\n     <use xlink:href=\"#DejaVuSans-54\"/>\n    </g>\n   </g>\n   <g id=\"text_28\">\n    <!-- 0 -->\n    <g style=\"fill:#ffffff;\" transform=\"translate(70.087 298.823375)scale(0.1 -0.1)\">\n     <use xlink:href=\"#DejaVuSans-48\"/>\n    </g>\n   </g>\n   <g id=\"text_29\">\n    <!-- 0 -->\n    <g style=\"fill:#ffffff;\" transform=\"translate(141.511 298.823375)scale(0.1 -0.1)\">\n     <use xlink:href=\"#DejaVuSans-48\"/>\n    </g>\n   </g>\n   <g id=\"text_30\">\n    <!-- 0 -->\n    <g style=\"fill:#ffffff;\" transform=\"translate(212.935 298.823375)scale(0.1 -0.1)\">\n     <use xlink:href=\"#DejaVuSans-48\"/>\n    </g>\n   </g>\n   <g id=\"text_31\">\n    <!-- 0 -->\n    <g style=\"fill:#ffffff;\" transform=\"translate(284.359 298.823375)scale(0.1 -0.1)\">\n     <use xlink:href=\"#DejaVuSans-48\"/>\n    </g>\n   </g>\n   <g id=\"text_32\">\n    <!-- 4 -->\n    <g style=\"fill:#ffffff;\" transform=\"translate(355.783 298.823375)scale(0.1 -0.1)\">\n     <defs>\n      <path d=\"M 37.796875 64.3125 \nL 12.890625 25.390625 \nL 37.796875 25.390625 \nz\nM 35.203125 72.90625 \nL 47.609375 72.90625 \nL 47.609375 25.390625 \nL 58.015625 25.390625 \nL 58.015625 17.1875 \nL 47.609375 17.1875 \nL 47.609375 0 \nL 37.796875 0 \nL 37.796875 17.1875 \nL 4.890625 17.1875 \nL 4.890625 26.703125 \nz\n\" id=\"DejaVuSans-52\"/>\n     </defs>\n     <use xlink:href=\"#DejaVuSans-52\"/>\n    </g>\n   </g>\n   <g id=\"text_33\">\n    <!-- 1 -->\n    <g style=\"fill:#ffffff;\" transform=\"translate(70.087 370.247375)scale(0.1 -0.1)\">\n     <use xlink:href=\"#DejaVuSans-49\"/>\n    </g>\n   </g>\n   <g id=\"text_34\">\n    <!-- 0 -->\n    <g style=\"fill:#ffffff;\" transform=\"translate(141.511 370.247375)scale(0.1 -0.1)\">\n     <use xlink:href=\"#DejaVuSans-48\"/>\n    </g>\n   </g>\n   <g id=\"text_35\">\n    <!-- 0 -->\n    <g style=\"fill:#ffffff;\" transform=\"translate(212.935 370.247375)scale(0.1 -0.1)\">\n     <use xlink:href=\"#DejaVuSans-48\"/>\n    </g>\n   </g>\n   <g id=\"text_36\">\n    <!-- 0 -->\n    <g style=\"fill:#ffffff;\" transform=\"translate(284.359 370.247375)scale(0.1 -0.1)\">\n     <use xlink:href=\"#DejaVuSans-48\"/>\n    </g>\n   </g>\n   <g id=\"text_37\">\n    <!-- 21 -->\n    <g style=\"fill:#ffffff;\" transform=\"translate(352.60175 370.247375)scale(0.1 -0.1)\">\n     <use xlink:href=\"#DejaVuSans-50\"/>\n     <use x=\"63.623047\" xlink:href=\"#DejaVuSans-49\"/>\n    </g>\n   </g>\n  </g>\n  <g id=\"axes_2\">\n   <g id=\"patch_3\">\n    <path clip-path=\"url(#p8899693524)\" d=\"M 416.99625 442.08 \nL 416.99625 440.38125 \nL 416.99625 8.89875 \nL 416.99625 7.2 \nL 438.74025 7.2 \nL 438.74025 8.89875 \nL 438.74025 440.38125 \nL 438.74025 442.08 \nz\n\" style=\"fill:#ffffff;stroke:#ffffff;stroke-linejoin:miter;stroke-width:0.01;\"/>\n   </g>\n   <image height=\"435\" id=\"image27aa8635a7\" transform=\"scale(1 -1)translate(0 -435)\" width=\"22\" x=\"417\" xlink:href=\"data:image/png;base64,\niVBORw0KGgoAAAANSUhEUgAAABYAAAGzCAYAAAArEufSAAACQElEQVR4nO2d23HDMBADSZlpIv33aX+IhNQAPnZmt4CbGwAE5Uec+fn7/44CazamjjGu0tyx5uzszNt4zaEUN72NL83b1KQwbmFdpVQQpcBtXCv6Vip4UhQ3bp08c3zg1SZPY6QUndl2ReBJwXuuUIpg3IJxC8iryVv6BvhQ2LulNW9jV4TiWzeVscQ7z64IdkVonjyeFB2MWzBuARg3P2A5AM3zlj5oXiB2RWWsT/QvagcEmeMOvK4ASsG7mlrtBpSCFzfbLYOBt7TmncGad9C8oHlhXZU/KDBuL3hS8A6I5gVeV2hecONg3ALRvNbg6QPLhrcx8GnTrjhY9KFpXkcLoHm8HAPj9u24p3nBrgjNosdJURrM21jzQrPdakWPM6/U9DzzeAdkzdLL/2bcaBv3vrjBkwK3cUvjVfrmn+Y9IA9IbTBNCqB5pddjxK4oScFrN2SOO4N55vEOiF0ReBtrXuC1G7KEOoN5cQNKMYzbhrcxUIrWaKB5SnHgxW3N0ucVPCmacVPjDKZJoXmvwTQpiOaV/oIFaB7u1yB4Ghfj1lmaJwWv3YBSDNyvu1v0hzXtig3vgBClMG4ZbG1ueO0GlMK4HXjttgbw5RgvbnbFDbIrSuYB38XSvA1vY4s+8A4IUQrexq3/1wSUgrexV1MGK8WGFzeiFLyNNW9jV7wGK8Wm+dn/pzKYpzHQPA/IMxgoBe7keUtvgHGz6J/BOPM8IM9ga3PDi9uaSrExbqF2pJFS0DZuHWmgFMS4wS7TH5ToLyU5TBn/AAAAAElFTkSuQmCC\" y=\"-7\"/>\n   <g id=\"matplotlib.axis_3\"/>\n   <g id=\"matplotlib.axis_4\">\n    <g id=\"ytick_6\">\n     <g id=\"line2d_11\">\n      <defs>\n       <path d=\"M 0 0 \nL 3.5 0 \n\" id=\"m81492ec3f7\" style=\"stroke:#000000;stroke-width:0.8;\"/>\n      </defs>\n      <g>\n       <use style=\"stroke:#000000;stroke-width:0.8;\" x=\"438.74025\" xlink:href=\"#m81492ec3f7\" y=\"442.08\"/>\n      </g>\n     </g>\n     <g id=\"text_38\">\n      <!-- 0 -->\n      <g transform=\"translate(445.74025 445.879219)scale(0.1 -0.1)\">\n       <use xlink:href=\"#DejaVuSans-48\"/>\n      </g>\n     </g>\n    </g>\n    <g id=\"ytick_7\">\n     <g id=\"line2d_12\">\n      <g>\n       <use style=\"stroke:#000000;stroke-width:0.8;\" x=\"438.74025\" xlink:href=\"#m81492ec3f7\" y=\"364.422857\"/>\n      </g>\n     </g>\n     <g id=\"text_39\">\n      <!-- 5 -->\n      <g transform=\"translate(445.74025 368.222076)scale(0.1 -0.1)\">\n       <use xlink:href=\"#DejaVuSans-53\"/>\n      </g>\n     </g>\n    </g>\n    <g id=\"ytick_8\">\n     <g id=\"line2d_13\">\n      <g>\n       <use style=\"stroke:#000000;stroke-width:0.8;\" x=\"438.74025\" xlink:href=\"#m81492ec3f7\" y=\"286.765714\"/>\n      </g>\n     </g>\n     <g id=\"text_40\">\n      <!-- 10 -->\n      <g transform=\"translate(445.74025 290.564933)scale(0.1 -0.1)\">\n       <use xlink:href=\"#DejaVuSans-49\"/>\n       <use x=\"63.623047\" xlink:href=\"#DejaVuSans-48\"/>\n      </g>\n     </g>\n    </g>\n    <g id=\"ytick_9\">\n     <g id=\"line2d_14\">\n      <g>\n       <use style=\"stroke:#000000;stroke-width:0.8;\" x=\"438.74025\" xlink:href=\"#m81492ec3f7\" y=\"209.108571\"/>\n      </g>\n     </g>\n     <g id=\"text_41\">\n      <!-- 15 -->\n      <g transform=\"translate(445.74025 212.90779)scale(0.1 -0.1)\">\n       <use xlink:href=\"#DejaVuSans-49\"/>\n       <use x=\"63.623047\" xlink:href=\"#DejaVuSans-53\"/>\n      </g>\n     </g>\n    </g>\n    <g id=\"ytick_10\">\n     <g id=\"line2d_15\">\n      <g>\n       <use style=\"stroke:#000000;stroke-width:0.8;\" x=\"438.74025\" xlink:href=\"#m81492ec3f7\" y=\"131.451429\"/>\n      </g>\n     </g>\n     <g id=\"text_42\">\n      <!-- 20 -->\n      <g transform=\"translate(445.74025 135.250647)scale(0.1 -0.1)\">\n       <use xlink:href=\"#DejaVuSans-50\"/>\n       <use x=\"63.623047\" xlink:href=\"#DejaVuSans-48\"/>\n      </g>\n     </g>\n    </g>\n    <g id=\"ytick_11\">\n     <g id=\"line2d_16\">\n      <g>\n       <use style=\"stroke:#000000;stroke-width:0.8;\" x=\"438.74025\" xlink:href=\"#m81492ec3f7\" y=\"53.794286\"/>\n      </g>\n     </g>\n     <g id=\"text_43\">\n      <!-- 25 -->\n      <g transform=\"translate(445.74025 57.593504)scale(0.1 -0.1)\">\n       <use xlink:href=\"#DejaVuSans-50\"/>\n       <use x=\"63.623047\" xlink:href=\"#DejaVuSans-53\"/>\n      </g>\n     </g>\n    </g>\n   </g>\n   <g id=\"patch_4\">\n    <path d=\"M 416.99625 442.08 \nL 416.99625 440.38125 \nL 416.99625 8.89875 \nL 416.99625 7.2 \nL 438.74025 7.2 \nL 438.74025 8.89875 \nL 438.74025 440.38125 \nL 438.74025 442.08 \nz\n\" style=\"fill:none;\"/>\n   </g>\n  </g>\n </g>\n <defs>\n  <clipPath id=\"p87cc3fe100\">\n   <rect height=\"357.12\" width=\"357.12\" x=\"37.55625\" y=\"46.08\"/>\n  </clipPath>\n  <clipPath id=\"p8899693524\">\n   <rect height=\"434.88\" width=\"21.744\" x=\"416.99625\" y=\"7.2\"/>\n  </clipPath>\n </defs>\n</svg>\n",
      "image/png": "[encoded data removed]"
     },
     "metadata": {
      "needs_background": "light"
     }
    }
   ],
   "source": [
    "svm_rbf = SVC(kernel='rbf', random_state=1)\n",
    "svm_rbf.fit(X_train, Y_train)\n",
    "\n",
    "print('SVM_rbf (rbf) accuracy: ', svm_rbf.score(X_test, Y_test))\n",
    "plot_conf_matrix(svm_rbf, X_test, Y_test)\n",
    "\n",
    "del svm_rbf"
   ]
  },
  {
   "cell_type": "code",
   "execution_count": 11,
   "metadata": {},
   "outputs": [
    {
     "output_type": "stream",
     "name": "stdout",
     "text": [
      "{'C': 1000, 'gamma': 0.001, 'kernel': 'rbf'}\n0.99\n"
     ]
    }
   ],
   "source": [
    "from sklearn.model_selection import GridSearchCV\n",
    "\n",
    "param_grid = [\n",
    "  {'C': [1, 10, 100, 1000], 'kernel': ['linear']},\n",
    "  {'C': [1, 10, 100, 1000], 'kernel': ['rbf'], 'gamma': [1, 0.01, 0.001, 0.0001]},\n",
    "]\n",
    "\n",
    "cv = GridSearchCV(estimator=SVC(random_state=1), param_grid=param_grid)\n",
    "cv.fit(X, Y)\n",
    "\n",
    "# print(cv.best_estimator_)\n",
    "print(cv.cv_results_['params'][cv.best_index_])\n",
    "print(cv.best_score_)\n",
    "\n",
    "del cv"
   ]
  },
  {
   "cell_type": "code",
   "execution_count": 12,
   "metadata": {},
   "outputs": [
    {
     "output_type": "stream",
     "name": "stdout",
     "text": [
      "{'max_depth': None, 'n_estimators': 200}\n0.985\n"
     ]
    }
   ],
   "source": [
    "from sklearn.ensemble import RandomForestClassifier\n",
    "\n",
    "param_grid = [\n",
    "  {'n_estimators': [50, 100, 200, 500], 'max_depth': [None, 5, 7, 8, 9]},\n",
    "]\n",
    "\n",
    "cv = GridSearchCV(estimator=RandomForestClassifier(random_state=1), param_grid=param_grid, n_jobs=-1)\n",
    "cv.fit(X, Y)\n",
    "\n",
    "print(cv.cv_results_['params'][cv.best_index_])\n",
    "print(cv.best_score_)"
   ]
  },
  {
   "cell_type": "code",
   "execution_count": 13,
   "metadata": {},
   "outputs": [
    {
     "output_type": "execute_result",
     "data": {
      "text/plain": [
       "[<matplotlib.lines.Line2D at 0x7ff9d6a099d0>]"
      ]
     },
     "metadata": {},
     "execution_count": 13
    },
    {
     "output_type": "display_data",
     "data": {
      "text/plain": "<Figure size 432x288 with 1 Axes>",
      "image/svg+xml": "<?xml version=\"1.0\" encoding=\"utf-8\" standalone=\"no\"?>\n<!DOCTYPE svg PUBLIC \"-//W3C//DTD SVG 1.1//EN\"\n  \"http://www.w3.org/Graphics/SVG/1.1/DTD/svg11.dtd\">\n<!-- Created with matplotlib (https://matplotlib.org/) -->\n<svg height=\"248.518125pt\" version=\"1.1\" viewBox=\"0 0 378.465625 248.518125\" width=\"378.465625pt\" xmlns=\"http://www.w3.org/2000/svg\" xmlns:xlink=\"http://www.w3.org/1999/xlink\">\n <metadata>\n  <rdf:RDF xmlns:cc=\"http://creativecommons.org/ns#\" xmlns:dc=\"http://purl.org/dc/elements/1.1/\" xmlns:rdf=\"http://www.w3.org/1999/02/22-rdf-syntax-ns#\">\n   <cc:Work>\n    <dc:type rdf:resource=\"http://purl.org/dc/dcmitype/StillImage\"/>\n    <dc:date>2020-12-23T22:45:28.607703</dc:date>\n    <dc:format>image/svg+xml</dc:format>\n    <dc:creator>\n     <cc:Agent>\n      <dc:title>Matplotlib v3.3.2, https://matplotlib.org/</dc:title>\n     </cc:Agent>\n    </dc:creator>\n   </cc:Work>\n  </rdf:RDF>\n </metadata>\n <defs>\n  <style type=\"text/css\">*{stroke-linecap:butt;stroke-linejoin:round;}</style>\n </defs>\n <g id=\"figure_1\">\n  <g id=\"patch_1\">\n   <path d=\"M 0 248.518125 \nL 378.465625 248.518125 \nL 378.465625 0 \nL 0 0 \nz\n\" style=\"fill:none;\"/>\n  </g>\n  <g id=\"axes_1\">\n   <g id=\"patch_2\">\n    <path d=\"M 36.465625 224.64 \nL 371.265625 224.64 \nL 371.265625 7.2 \nL 36.465625 7.2 \nz\n\" style=\"fill:#ffffff;\"/>\n   </g>\n   <g id=\"matplotlib.axis_1\">\n    <g id=\"xtick_1\">\n     <g id=\"line2d_1\">\n      <defs>\n       <path d=\"M 0 0 \nL 0 3.5 \n\" id=\"mafe5016a06\" style=\"stroke:#000000;stroke-width:0.8;\"/>\n      </defs>\n      <g>\n       <use style=\"stroke:#000000;stroke-width:0.8;\" x=\"51.683807\" xlink:href=\"#mafe5016a06\" y=\"224.64\"/>\n      </g>\n     </g>\n     <g id=\"text_1\">\n      <!-- 1 -->\n      <g transform=\"translate(48.502557 239.238438)scale(0.1 -0.1)\">\n       <defs>\n        <path d=\"M 12.40625 8.296875 \nL 28.515625 8.296875 \nL 28.515625 63.921875 \nL 10.984375 60.40625 \nL 10.984375 69.390625 \nL 28.421875 72.90625 \nL 38.28125 72.90625 \nL 38.28125 8.296875 \nL 54.390625 8.296875 \nL 54.390625 0 \nL 12.40625 0 \nz\n\" id=\"DejaVuSans-49\"/>\n       </defs>\n       <use xlink:href=\"#DejaVuSans-49\"/>\n      </g>\n     </g>\n    </g>\n    <g id=\"xtick_2\">\n     <g id=\"line2d_2\">\n      <g>\n       <use style=\"stroke:#000000;stroke-width:0.8;\" x=\"89.729261\" xlink:href=\"#mafe5016a06\" y=\"224.64\"/>\n      </g>\n     </g>\n     <g id=\"text_2\">\n      <!-- 2 -->\n      <g transform=\"translate(86.548011 239.238438)scale(0.1 -0.1)\">\n       <defs>\n        <path d=\"M 19.1875 8.296875 \nL 53.609375 8.296875 \nL 53.609375 0 \nL 7.328125 0 \nL 7.328125 8.296875 \nQ 12.9375 14.109375 22.625 23.890625 \nQ 32.328125 33.6875 34.8125 36.53125 \nQ 39.546875 41.84375 41.421875 45.53125 \nQ 43.3125 49.21875 43.3125 52.78125 \nQ 43.3125 58.59375 39.234375 62.25 \nQ 35.15625 65.921875 28.609375 65.921875 \nQ 23.96875 65.921875 18.8125 64.3125 \nQ 13.671875 62.703125 7.8125 59.421875 \nL 7.8125 69.390625 \nQ 13.765625 71.78125 18.9375 73 \nQ 24.125 74.21875 28.421875 74.21875 \nQ 39.75 74.21875 46.484375 68.546875 \nQ 53.21875 62.890625 53.21875 53.421875 \nQ 53.21875 48.921875 51.53125 44.890625 \nQ 49.859375 40.875 45.40625 35.40625 \nQ 44.1875 33.984375 37.640625 27.21875 \nQ 31.109375 20.453125 19.1875 8.296875 \nz\n\" id=\"DejaVuSans-50\"/>\n       </defs>\n       <use xlink:href=\"#DejaVuSans-50\"/>\n      </g>\n     </g>\n    </g>\n    <g id=\"xtick_3\">\n     <g id=\"line2d_3\">\n      <g>\n       <use style=\"stroke:#000000;stroke-width:0.8;\" x=\"127.774716\" xlink:href=\"#mafe5016a06\" y=\"224.64\"/>\n      </g>\n     </g>\n     <g id=\"text_3\">\n      <!-- 3 -->\n      <g transform=\"translate(124.593466 239.238438)scale(0.1 -0.1)\">\n       <defs>\n        <path d=\"M 40.578125 39.3125 \nQ 47.65625 37.796875 51.625 33 \nQ 55.609375 28.21875 55.609375 21.1875 \nQ 55.609375 10.40625 48.1875 4.484375 \nQ 40.765625 -1.421875 27.09375 -1.421875 \nQ 22.515625 -1.421875 17.65625 -0.515625 \nQ 12.796875 0.390625 7.625 2.203125 \nL 7.625 11.71875 \nQ 11.71875 9.328125 16.59375 8.109375 \nQ 21.484375 6.890625 26.8125 6.890625 \nQ 36.078125 6.890625 40.9375 10.546875 \nQ 45.796875 14.203125 45.796875 21.1875 \nQ 45.796875 27.640625 41.28125 31.265625 \nQ 36.765625 34.90625 28.71875 34.90625 \nL 20.21875 34.90625 \nL 20.21875 43.015625 \nL 29.109375 43.015625 \nQ 36.375 43.015625 40.234375 45.921875 \nQ 44.09375 48.828125 44.09375 54.296875 \nQ 44.09375 59.90625 40.109375 62.90625 \nQ 36.140625 65.921875 28.71875 65.921875 \nQ 24.65625 65.921875 20.015625 65.03125 \nQ 15.375 64.15625 9.8125 62.3125 \nL 9.8125 71.09375 \nQ 15.4375 72.65625 20.34375 73.4375 \nQ 25.25 74.21875 29.59375 74.21875 \nQ 40.828125 74.21875 47.359375 69.109375 \nQ 53.90625 64.015625 53.90625 55.328125 \nQ 53.90625 49.265625 50.4375 45.09375 \nQ 46.96875 40.921875 40.578125 39.3125 \nz\n\" id=\"DejaVuSans-51\"/>\n       </defs>\n       <use xlink:href=\"#DejaVuSans-51\"/>\n      </g>\n     </g>\n    </g>\n    <g id=\"xtick_4\">\n     <g id=\"line2d_4\">\n      <g>\n       <use style=\"stroke:#000000;stroke-width:0.8;\" x=\"165.82017\" xlink:href=\"#mafe5016a06\" y=\"224.64\"/>\n      </g>\n     </g>\n     <g id=\"text_4\">\n      <!-- 4 -->\n      <g transform=\"translate(162.63892 239.238438)scale(0.1 -0.1)\">\n       <defs>\n        <path d=\"M 37.796875 64.3125 \nL 12.890625 25.390625 \nL 37.796875 25.390625 \nz\nM 35.203125 72.90625 \nL 47.609375 72.90625 \nL 47.609375 25.390625 \nL 58.015625 25.390625 \nL 58.015625 17.1875 \nL 47.609375 17.1875 \nL 47.609375 0 \nL 37.796875 0 \nL 37.796875 17.1875 \nL 4.890625 17.1875 \nL 4.890625 26.703125 \nz\n\" id=\"DejaVuSans-52\"/>\n       </defs>\n       <use xlink:href=\"#DejaVuSans-52\"/>\n      </g>\n     </g>\n    </g>\n    <g id=\"xtick_5\">\n     <g id=\"line2d_5\">\n      <g>\n       <use style=\"stroke:#000000;stroke-width:0.8;\" x=\"203.865625\" xlink:href=\"#mafe5016a06\" y=\"224.64\"/>\n      </g>\n     </g>\n     <g id=\"text_5\">\n      <!-- 5 -->\n      <g transform=\"translate(200.684375 239.238438)scale(0.1 -0.1)\">\n       <defs>\n        <path d=\"M 10.796875 72.90625 \nL 49.515625 72.90625 \nL 49.515625 64.59375 \nL 19.828125 64.59375 \nL 19.828125 46.734375 \nQ 21.96875 47.46875 24.109375 47.828125 \nQ 26.265625 48.1875 28.421875 48.1875 \nQ 40.625 48.1875 47.75 41.5 \nQ 54.890625 34.8125 54.890625 23.390625 \nQ 54.890625 11.625 47.5625 5.09375 \nQ 40.234375 -1.421875 26.90625 -1.421875 \nQ 22.3125 -1.421875 17.546875 -0.640625 \nQ 12.796875 0.140625 7.71875 1.703125 \nL 7.71875 11.625 \nQ 12.109375 9.234375 16.796875 8.0625 \nQ 21.484375 6.890625 26.703125 6.890625 \nQ 35.15625 6.890625 40.078125 11.328125 \nQ 45.015625 15.765625 45.015625 23.390625 \nQ 45.015625 31 40.078125 35.4375 \nQ 35.15625 39.890625 26.703125 39.890625 \nQ 22.75 39.890625 18.8125 39.015625 \nQ 14.890625 38.140625 10.796875 36.28125 \nz\n\" id=\"DejaVuSans-53\"/>\n       </defs>\n       <use xlink:href=\"#DejaVuSans-53\"/>\n      </g>\n     </g>\n    </g>\n    <g id=\"xtick_6\">\n     <g id=\"line2d_6\">\n      <g>\n       <use style=\"stroke:#000000;stroke-width:0.8;\" x=\"241.91108\" xlink:href=\"#mafe5016a06\" y=\"224.64\"/>\n      </g>\n     </g>\n     <g id=\"text_6\">\n      <!-- 6 -->\n      <g transform=\"translate(238.72983 239.238438)scale(0.1 -0.1)\">\n       <defs>\n        <path d=\"M 33.015625 40.375 \nQ 26.375 40.375 22.484375 35.828125 \nQ 18.609375 31.296875 18.609375 23.390625 \nQ 18.609375 15.53125 22.484375 10.953125 \nQ 26.375 6.390625 33.015625 6.390625 \nQ 39.65625 6.390625 43.53125 10.953125 \nQ 47.40625 15.53125 47.40625 23.390625 \nQ 47.40625 31.296875 43.53125 35.828125 \nQ 39.65625 40.375 33.015625 40.375 \nz\nM 52.59375 71.296875 \nL 52.59375 62.3125 \nQ 48.875 64.0625 45.09375 64.984375 \nQ 41.3125 65.921875 37.59375 65.921875 \nQ 27.828125 65.921875 22.671875 59.328125 \nQ 17.53125 52.734375 16.796875 39.40625 \nQ 19.671875 43.65625 24.015625 45.921875 \nQ 28.375 48.1875 33.59375 48.1875 \nQ 44.578125 48.1875 50.953125 41.515625 \nQ 57.328125 34.859375 57.328125 23.390625 \nQ 57.328125 12.15625 50.6875 5.359375 \nQ 44.046875 -1.421875 33.015625 -1.421875 \nQ 20.359375 -1.421875 13.671875 8.265625 \nQ 6.984375 17.96875 6.984375 36.375 \nQ 6.984375 53.65625 15.1875 63.9375 \nQ 23.390625 74.21875 37.203125 74.21875 \nQ 40.921875 74.21875 44.703125 73.484375 \nQ 48.484375 72.75 52.59375 71.296875 \nz\n\" id=\"DejaVuSans-54\"/>\n       </defs>\n       <use xlink:href=\"#DejaVuSans-54\"/>\n      </g>\n     </g>\n    </g>\n    <g id=\"xtick_7\">\n     <g id=\"line2d_7\">\n      <g>\n       <use style=\"stroke:#000000;stroke-width:0.8;\" x=\"279.956534\" xlink:href=\"#mafe5016a06\" y=\"224.64\"/>\n      </g>\n     </g>\n     <g id=\"text_7\">\n      <!-- 7 -->\n      <g transform=\"translate(276.775284 239.238438)scale(0.1 -0.1)\">\n       <defs>\n        <path d=\"M 8.203125 72.90625 \nL 55.078125 72.90625 \nL 55.078125 68.703125 \nL 28.609375 0 \nL 18.3125 0 \nL 43.21875 64.59375 \nL 8.203125 64.59375 \nz\n\" id=\"DejaVuSans-55\"/>\n       </defs>\n       <use xlink:href=\"#DejaVuSans-55\"/>\n      </g>\n     </g>\n    </g>\n    <g id=\"xtick_8\">\n     <g id=\"line2d_8\">\n      <g>\n       <use style=\"stroke:#000000;stroke-width:0.8;\" x=\"318.001989\" xlink:href=\"#mafe5016a06\" y=\"224.64\"/>\n      </g>\n     </g>\n     <g id=\"text_8\">\n      <!-- 8 -->\n      <g transform=\"translate(314.820739 239.238438)scale(0.1 -0.1)\">\n       <defs>\n        <path d=\"M 31.78125 34.625 \nQ 24.75 34.625 20.71875 30.859375 \nQ 16.703125 27.09375 16.703125 20.515625 \nQ 16.703125 13.921875 20.71875 10.15625 \nQ 24.75 6.390625 31.78125 6.390625 \nQ 38.8125 6.390625 42.859375 10.171875 \nQ 46.921875 13.96875 46.921875 20.515625 \nQ 46.921875 27.09375 42.890625 30.859375 \nQ 38.875 34.625 31.78125 34.625 \nz\nM 21.921875 38.8125 \nQ 15.578125 40.375 12.03125 44.71875 \nQ 8.5 49.078125 8.5 55.328125 \nQ 8.5 64.0625 14.71875 69.140625 \nQ 20.953125 74.21875 31.78125 74.21875 \nQ 42.671875 74.21875 48.875 69.140625 \nQ 55.078125 64.0625 55.078125 55.328125 \nQ 55.078125 49.078125 51.53125 44.71875 \nQ 48 40.375 41.703125 38.8125 \nQ 48.828125 37.15625 52.796875 32.3125 \nQ 56.78125 27.484375 56.78125 20.515625 \nQ 56.78125 9.90625 50.3125 4.234375 \nQ 43.84375 -1.421875 31.78125 -1.421875 \nQ 19.734375 -1.421875 13.25 4.234375 \nQ 6.78125 9.90625 6.78125 20.515625 \nQ 6.78125 27.484375 10.78125 32.3125 \nQ 14.796875 37.15625 21.921875 38.8125 \nz\nM 18.3125 54.390625 \nQ 18.3125 48.734375 21.84375 45.5625 \nQ 25.390625 42.390625 31.78125 42.390625 \nQ 38.140625 42.390625 41.71875 45.5625 \nQ 45.3125 48.734375 45.3125 54.390625 \nQ 45.3125 60.0625 41.71875 63.234375 \nQ 38.140625 66.40625 31.78125 66.40625 \nQ 25.390625 66.40625 21.84375 63.234375 \nQ 18.3125 60.0625 18.3125 54.390625 \nz\n\" id=\"DejaVuSans-56\"/>\n       </defs>\n       <use xlink:href=\"#DejaVuSans-56\"/>\n      </g>\n     </g>\n    </g>\n    <g id=\"xtick_9\">\n     <g id=\"line2d_9\">\n      <g>\n       <use style=\"stroke:#000000;stroke-width:0.8;\" x=\"356.047443\" xlink:href=\"#mafe5016a06\" y=\"224.64\"/>\n      </g>\n     </g>\n     <g id=\"text_9\">\n      <!-- 9 -->\n      <g transform=\"translate(352.866193 239.238438)scale(0.1 -0.1)\">\n       <defs>\n        <path d=\"M 10.984375 1.515625 \nL 10.984375 10.5 \nQ 14.703125 8.734375 18.5 7.8125 \nQ 22.3125 6.890625 25.984375 6.890625 \nQ 35.75 6.890625 40.890625 13.453125 \nQ 46.046875 20.015625 46.78125 33.40625 \nQ 43.953125 29.203125 39.59375 26.953125 \nQ 35.25 24.703125 29.984375 24.703125 \nQ 19.046875 24.703125 12.671875 31.3125 \nQ 6.296875 37.9375 6.296875 49.421875 \nQ 6.296875 60.640625 12.9375 67.421875 \nQ 19.578125 74.21875 30.609375 74.21875 \nQ 43.265625 74.21875 49.921875 64.515625 \nQ 56.59375 54.828125 56.59375 36.375 \nQ 56.59375 19.140625 48.40625 8.859375 \nQ 40.234375 -1.421875 26.421875 -1.421875 \nQ 22.703125 -1.421875 18.890625 -0.6875 \nQ 15.09375 0.046875 10.984375 1.515625 \nz\nM 30.609375 32.421875 \nQ 37.25 32.421875 41.125 36.953125 \nQ 45.015625 41.5 45.015625 49.421875 \nQ 45.015625 57.28125 41.125 61.84375 \nQ 37.25 66.40625 30.609375 66.40625 \nQ 23.96875 66.40625 20.09375 61.84375 \nQ 16.21875 57.28125 16.21875 49.421875 \nQ 16.21875 41.5 20.09375 36.953125 \nQ 23.96875 32.421875 30.609375 32.421875 \nz\n\" id=\"DejaVuSans-57\"/>\n       </defs>\n       <use xlink:href=\"#DejaVuSans-57\"/>\n      </g>\n     </g>\n    </g>\n   </g>\n   <g id=\"matplotlib.axis_2\">\n    <g id=\"ytick_1\">\n     <g id=\"line2d_10\">\n      <defs>\n       <path d=\"M 0 0 \nL -3.5 0 \n\" id=\"mf4fc125b74\" style=\"stroke:#000000;stroke-width:0.8;\"/>\n      </defs>\n      <g>\n       <use style=\"stroke:#000000;stroke-width:0.8;\" x=\"36.465625\" xlink:href=\"#mf4fc125b74\" y=\"210.424342\"/>\n      </g>\n     </g>\n     <g id=\"text_10\">\n      <!-- 0.84 -->\n      <g transform=\"translate(7.2 214.223561)scale(0.1 -0.1)\">\n       <defs>\n        <path d=\"M 31.78125 66.40625 \nQ 24.171875 66.40625 20.328125 58.90625 \nQ 16.5 51.421875 16.5 36.375 \nQ 16.5 21.390625 20.328125 13.890625 \nQ 24.171875 6.390625 31.78125 6.390625 \nQ 39.453125 6.390625 43.28125 13.890625 \nQ 47.125 21.390625 47.125 36.375 \nQ 47.125 51.421875 43.28125 58.90625 \nQ 39.453125 66.40625 31.78125 66.40625 \nz\nM 31.78125 74.21875 \nQ 44.046875 74.21875 50.515625 64.515625 \nQ 56.984375 54.828125 56.984375 36.375 \nQ 56.984375 17.96875 50.515625 8.265625 \nQ 44.046875 -1.421875 31.78125 -1.421875 \nQ 19.53125 -1.421875 13.0625 8.265625 \nQ 6.59375 17.96875 6.59375 36.375 \nQ 6.59375 54.828125 13.0625 64.515625 \nQ 19.53125 74.21875 31.78125 74.21875 \nz\n\" id=\"DejaVuSans-48\"/>\n        <path d=\"M 10.6875 12.40625 \nL 21 12.40625 \nL 21 0 \nL 10.6875 0 \nz\n\" id=\"DejaVuSans-46\"/>\n       </defs>\n       <use xlink:href=\"#DejaVuSans-48\"/>\n       <use x=\"63.623047\" xlink:href=\"#DejaVuSans-46\"/>\n       <use x=\"95.410156\" xlink:href=\"#DejaVuSans-56\"/>\n       <use x=\"159.033203\" xlink:href=\"#DejaVuSans-52\"/>\n      </g>\n     </g>\n    </g>\n    <g id=\"ytick_2\">\n     <g id=\"line2d_11\">\n      <g>\n       <use style=\"stroke:#000000;stroke-width:0.8;\" x=\"36.465625\" xlink:href=\"#mf4fc125b74\" y=\"186.256754\"/>\n      </g>\n     </g>\n     <g id=\"text_11\">\n      <!-- 0.86 -->\n      <g transform=\"translate(7.2 190.055972)scale(0.1 -0.1)\">\n       <use xlink:href=\"#DejaVuSans-48\"/>\n       <use x=\"63.623047\" xlink:href=\"#DejaVuSans-46\"/>\n       <use x=\"95.410156\" xlink:href=\"#DejaVuSans-56\"/>\n       <use x=\"159.033203\" xlink:href=\"#DejaVuSans-54\"/>\n      </g>\n     </g>\n    </g>\n    <g id=\"ytick_3\">\n     <g id=\"line2d_12\">\n      <g>\n       <use style=\"stroke:#000000;stroke-width:0.8;\" x=\"36.465625\" xlink:href=\"#mf4fc125b74\" y=\"162.089165\"/>\n      </g>\n     </g>\n     <g id=\"text_12\">\n      <!-- 0.88 -->\n      <g transform=\"translate(7.2 165.888384)scale(0.1 -0.1)\">\n       <use xlink:href=\"#DejaVuSans-48\"/>\n       <use x=\"63.623047\" xlink:href=\"#DejaVuSans-46\"/>\n       <use x=\"95.410156\" xlink:href=\"#DejaVuSans-56\"/>\n       <use x=\"159.033203\" xlink:href=\"#DejaVuSans-56\"/>\n      </g>\n     </g>\n    </g>\n    <g id=\"ytick_4\">\n     <g id=\"line2d_13\">\n      <g>\n       <use style=\"stroke:#000000;stroke-width:0.8;\" x=\"36.465625\" xlink:href=\"#mf4fc125b74\" y=\"137.921577\"/>\n      </g>\n     </g>\n     <g id=\"text_13\">\n      <!-- 0.90 -->\n      <g transform=\"translate(7.2 141.720796)scale(0.1 -0.1)\">\n       <use xlink:href=\"#DejaVuSans-48\"/>\n       <use x=\"63.623047\" xlink:href=\"#DejaVuSans-46\"/>\n       <use x=\"95.410156\" xlink:href=\"#DejaVuSans-57\"/>\n       <use x=\"159.033203\" xlink:href=\"#DejaVuSans-48\"/>\n      </g>\n     </g>\n    </g>\n    <g id=\"ytick_5\">\n     <g id=\"line2d_14\">\n      <g>\n       <use style=\"stroke:#000000;stroke-width:0.8;\" x=\"36.465625\" xlink:href=\"#mf4fc125b74\" y=\"113.753989\"/>\n      </g>\n     </g>\n     <g id=\"text_14\">\n      <!-- 0.92 -->\n      <g transform=\"translate(7.2 117.553208)scale(0.1 -0.1)\">\n       <use xlink:href=\"#DejaVuSans-48\"/>\n       <use x=\"63.623047\" xlink:href=\"#DejaVuSans-46\"/>\n       <use x=\"95.410156\" xlink:href=\"#DejaVuSans-57\"/>\n       <use x=\"159.033203\" xlink:href=\"#DejaVuSans-50\"/>\n      </g>\n     </g>\n    </g>\n    <g id=\"ytick_6\">\n     <g id=\"line2d_15\">\n      <g>\n       <use style=\"stroke:#000000;stroke-width:0.8;\" x=\"36.465625\" xlink:href=\"#mf4fc125b74\" y=\"89.586401\"/>\n      </g>\n     </g>\n     <g id=\"text_15\">\n      <!-- 0.94 -->\n      <g transform=\"translate(7.2 93.38562)scale(0.1 -0.1)\">\n       <use xlink:href=\"#DejaVuSans-48\"/>\n       <use x=\"63.623047\" xlink:href=\"#DejaVuSans-46\"/>\n       <use x=\"95.410156\" xlink:href=\"#DejaVuSans-57\"/>\n       <use x=\"159.033203\" xlink:href=\"#DejaVuSans-52\"/>\n      </g>\n     </g>\n    </g>\n    <g id=\"ytick_7\">\n     <g id=\"line2d_16\">\n      <g>\n       <use style=\"stroke:#000000;stroke-width:0.8;\" x=\"36.465625\" xlink:href=\"#mf4fc125b74\" y=\"65.418813\"/>\n      </g>\n     </g>\n     <g id=\"text_16\">\n      <!-- 0.96 -->\n      <g transform=\"translate(7.2 69.218031)scale(0.1 -0.1)\">\n       <use xlink:href=\"#DejaVuSans-48\"/>\n       <use x=\"63.623047\" xlink:href=\"#DejaVuSans-46\"/>\n       <use x=\"95.410156\" xlink:href=\"#DejaVuSans-57\"/>\n       <use x=\"159.033203\" xlink:href=\"#DejaVuSans-54\"/>\n      </g>\n     </g>\n    </g>\n    <g id=\"ytick_8\">\n     <g id=\"line2d_17\">\n      <g>\n       <use style=\"stroke:#000000;stroke-width:0.8;\" x=\"36.465625\" xlink:href=\"#mf4fc125b74\" y=\"41.251225\"/>\n      </g>\n     </g>\n     <g id=\"text_17\">\n      <!-- 0.98 -->\n      <g transform=\"translate(7.2 45.050443)scale(0.1 -0.1)\">\n       <use xlink:href=\"#DejaVuSans-48\"/>\n       <use x=\"63.623047\" xlink:href=\"#DejaVuSans-46\"/>\n       <use x=\"95.410156\" xlink:href=\"#DejaVuSans-57\"/>\n       <use x=\"159.033203\" xlink:href=\"#DejaVuSans-56\"/>\n      </g>\n     </g>\n    </g>\n    <g id=\"ytick_9\">\n     <g id=\"line2d_18\">\n      <g>\n       <use style=\"stroke:#000000;stroke-width:0.8;\" x=\"36.465625\" xlink:href=\"#mf4fc125b74\" y=\"17.083636\"/>\n      </g>\n     </g>\n     <g id=\"text_18\">\n      <!-- 1.00 -->\n      <g transform=\"translate(7.2 20.882855)scale(0.1 -0.1)\">\n       <use xlink:href=\"#DejaVuSans-49\"/>\n       <use x=\"63.623047\" xlink:href=\"#DejaVuSans-46\"/>\n       <use x=\"95.410156\" xlink:href=\"#DejaVuSans-48\"/>\n       <use x=\"159.033203\" xlink:href=\"#DejaVuSans-48\"/>\n      </g>\n     </g>\n    </g>\n   </g>\n   <g id=\"line2d_19\">\n    <path clip-path=\"url(#pb2bdd7fcce)\" d=\"M 51.683807 214.756364 \nL 89.729261 23.138753 \nL 127.774716 21.230541 \nL 165.82017 19.416757 \nL 203.865625 18.133959 \nL 241.91108 17.083636 \nL 279.956534 17.083636 \nL 318.001989 17.083636 \nL 356.047443 17.083636 \n\" style=\"fill:none;stroke:#1f77b4;stroke-linecap:square;stroke-width:1.5;\"/>\n   </g>\n   <g id=\"patch_3\">\n    <path d=\"M 36.465625 224.64 \nL 36.465625 7.2 \n\" style=\"fill:none;stroke:#000000;stroke-linecap:square;stroke-linejoin:miter;stroke-width:0.8;\"/>\n   </g>\n   <g id=\"patch_4\">\n    <path d=\"M 371.265625 224.64 \nL 371.265625 7.2 \n\" style=\"fill:none;stroke:#000000;stroke-linecap:square;stroke-linejoin:miter;stroke-width:0.8;\"/>\n   </g>\n   <g id=\"patch_5\">\n    <path d=\"M 36.465625 224.64 \nL 371.265625 224.64 \n\" style=\"fill:none;stroke:#000000;stroke-linecap:square;stroke-linejoin:miter;stroke-width:0.8;\"/>\n   </g>\n   <g id=\"patch_6\">\n    <path d=\"M 36.465625 7.2 \nL 371.265625 7.2 \n\" style=\"fill:none;stroke:#000000;stroke-linecap:square;stroke-linejoin:miter;stroke-width:0.8;\"/>\n   </g>\n  </g>\n </g>\n <defs>\n  <clipPath id=\"pb2bdd7fcce\">\n   <rect height=\"217.44\" width=\"334.8\" x=\"36.465625\" y=\"7.2\"/>\n  </clipPath>\n </defs>\n</svg>\n",
      "image/png": "[encoded data removed]"
     },
     "metadata": {
      "needs_background": "light"
     }
    }
   ],
   "source": [
    "from sklearn.decomposition import PCA\n",
    "import numpy as np\n",
    "\n",
    "pca = PCA()\n",
    "pca.fit(X)\n",
    "# print(pca.explained_variance_ratio_)\n",
    "plt.plot(list(range(1, len(pca.explained_variance_ratio_) + 1)), np.cumsum(pca.explained_variance_ratio_))"
   ]
  },
  {
   "cell_type": "code",
   "execution_count": 14,
   "metadata": {},
   "outputs": [
    {
     "output_type": "stream",
     "name": "stdout",
     "text": [
      "SVM accuracy:  0.6818181818181818\n"
     ]
    },
    {
     "output_type": "display_data",
     "data": {
      "text/plain": "<Figure size 864x864 with 1 Axes>",
      "image/svg+xml": "<?xml version=\"1.0\" encoding=\"utf-8\" standalone=\"no\"?>\n<!DOCTYPE svg PUBLIC \"-//W3C//DTD SVG 1.1//EN\"\n  \"http://www.w3.org/Graphics/SVG/1.1/DTD/svg11.dtd\">\n<!-- Created with matplotlib (https://matplotlib.org/) -->\n<svg height=\"683.398125pt\" version=\"1.1\" viewBox=\"0 0 712.104687 683.398125\" width=\"712.104687pt\" xmlns=\"http://www.w3.org/2000/svg\" xmlns:xlink=\"http://www.w3.org/1999/xlink\">\n <metadata>\n  <rdf:RDF xmlns:cc=\"http://creativecommons.org/ns#\" xmlns:dc=\"http://purl.org/dc/elements/1.1/\" xmlns:rdf=\"http://www.w3.org/1999/02/22-rdf-syntax-ns#\">\n   <cc:Work>\n    <dc:type rdf:resource=\"http://purl.org/dc/dcmitype/StillImage\"/>\n    <dc:date>2020-12-23T22:45:29.021450</dc:date>\n    <dc:format>image/svg+xml</dc:format>\n    <dc:creator>\n     <cc:Agent>\n      <dc:title>Matplotlib v3.3.2, https://matplotlib.org/</dc:title>\n     </cc:Agent>\n    </dc:creator>\n   </cc:Work>\n  </rdf:RDF>\n </metadata>\n <defs>\n  <style type=\"text/css\">*{stroke-linecap:butt;stroke-linejoin:round;}</style>\n </defs>\n <g id=\"figure_1\">\n  <g id=\"patch_1\">\n   <path d=\"M 0 683.398125 \nL 712.104687 683.398125 \nL 712.104687 0 \nL 0 0 \nz\n\" style=\"fill:none;\"/>\n  </g>\n  <g id=\"axes_1\">\n   <g id=\"patch_2\">\n    <path d=\"M 35.304688 659.52 \nL 704.904688 659.52 \nL 704.904688 7.2 \nL 35.304688 7.2 \nz\n\" style=\"fill:#ffffff;\"/>\n   </g>\n   <g id=\"PathCollection_1\">\n    <defs>\n     <path d=\"M 0 3 \nC 0.795609 3 1.55874 2.683901 2.12132 2.12132 \nC 2.683901 1.55874 3 0.795609 3 -0 \nC 3 -0.795609 2.683901 -1.55874 2.12132 -2.12132 \nC 1.55874 -2.683901 0.795609 -3 0 -3 \nC -0.795609 -3 -1.55874 -2.683901 -2.12132 -2.12132 \nC -2.683901 -1.55874 -3 -0.795609 -3 0 \nC -3 0.795609 -2.683901 1.55874 -2.12132 2.12132 \nC -1.55874 2.683901 -0.795609 3 0 3 \nz\n\" id=\"C0_0_9bf5fc6404\"/>\n    </defs>\n    <g clip-path=\"url(#pd431080d20)\">\n     <use style=\"fill:#fde725;stroke:#fde725;\" x=\"273.53585\" xlink:href=\"#C0_0_9bf5fc6404\" y=\"605.634564\"/>\n    </g>\n    <g clip-path=\"url(#pd431080d20)\">\n     <use style=\"fill:#fde725;stroke:#fde725;\" x=\"293.961663\" xlink:href=\"#C0_0_9bf5fc6404\" y=\"583.988567\"/>\n    </g>\n    <g clip-path=\"url(#pd431080d20)\">\n     <use style=\"fill:#440154;stroke:#440154;\" x=\"145.51073\" xlink:href=\"#C0_0_9bf5fc6404\" y=\"169.983286\"/>\n    </g>\n    <g clip-path=\"url(#pd431080d20)\">\n     <use style=\"fill:#3b528b;stroke:#3b528b;\" x=\"210.810093\" xlink:href=\"#C0_0_9bf5fc6404\" y=\"515.200826\"/>\n    </g>\n    <g clip-path=\"url(#pd431080d20)\">\n     <use style=\"fill:#21918c;stroke:#21918c;\" x=\"612.85754\" xlink:href=\"#C0_0_9bf5fc6404\" y=\"551.111821\"/>\n    </g>\n    <g clip-path=\"url(#pd431080d20)\">\n     <use style=\"fill:#5ec962;stroke:#5ec962;\" x=\"396.746656\" xlink:href=\"#C0_0_9bf5fc6404\" y=\"560.397115\"/>\n    </g>\n    <g clip-path=\"url(#pd431080d20)\">\n     <use style=\"fill:#440154;stroke:#440154;\" x=\"282.28618\" xlink:href=\"#C0_0_9bf5fc6404\" y=\"464.129144\"/>\n    </g>\n    <g clip-path=\"url(#pd431080d20)\">\n     <use style=\"fill:#5ec962;stroke:#5ec962;\" x=\"520.264859\" xlink:href=\"#C0_0_9bf5fc6404\" y=\"549.391119\"/>\n    </g>\n    <g clip-path=\"url(#pd431080d20)\">\n     <use style=\"fill:#440154;stroke:#440154;\" x=\"506.909955\" xlink:href=\"#C0_0_9bf5fc6404\" y=\"250.871291\"/>\n    </g>\n    <g clip-path=\"url(#pd431080d20)\">\n     <use style=\"fill:#fde725;stroke:#fde725;\" x=\"581.371336\" xlink:href=\"#C0_0_9bf5fc6404\" y=\"485.940971\"/>\n    </g>\n    <g clip-path=\"url(#pd431080d20)\">\n     <use style=\"fill:#440154;stroke:#440154;\" x=\"354.608682\" xlink:href=\"#C0_0_9bf5fc6404\" y=\"463.843968\"/>\n    </g>\n    <g clip-path=\"url(#pd431080d20)\">\n     <use style=\"fill:#fde725;stroke:#fde725;\" x=\"324.606689\" xlink:href=\"#C0_0_9bf5fc6404\" y=\"562.351349\"/>\n    </g>\n    <g clip-path=\"url(#pd431080d20)\">\n     <use style=\"fill:#440154;stroke:#440154;\" x=\"341.567871\" xlink:href=\"#C0_0_9bf5fc6404\" y=\"207.743302\"/>\n    </g>\n    <g clip-path=\"url(#pd431080d20)\">\n     <use style=\"fill:#440154;stroke:#440154;\" x=\"197.878068\" xlink:href=\"#C0_0_9bf5fc6404\" y=\"253.556499\"/>\n    </g>\n    <g clip-path=\"url(#pd431080d20)\">\n     <use style=\"fill:#440154;stroke:#440154;\" x=\"292.498744\" xlink:href=\"#C0_0_9bf5fc6404\" y=\"440.91478\"/>\n    </g>\n    <g clip-path=\"url(#pd431080d20)\">\n     <use style=\"fill:#440154;stroke:#440154;\" x=\"550.022611\" xlink:href=\"#C0_0_9bf5fc6404\" y=\"435.215702\"/>\n    </g>\n    <g clip-path=\"url(#pd431080d20)\">\n     <use style=\"fill:#fde725;stroke:#fde725;\" x=\"572.286889\" xlink:href=\"#C0_0_9bf5fc6404\" y=\"597.481494\"/>\n    </g>\n    <g clip-path=\"url(#pd431080d20)\">\n     <use style=\"fill:#440154;stroke:#440154;\" x=\"260.541874\" xlink:href=\"#C0_0_9bf5fc6404\" y=\"336.533829\"/>\n    </g>\n    <g clip-path=\"url(#pd431080d20)\">\n     <use style=\"fill:#3b528b;stroke:#3b528b;\" x=\"149.92929\" xlink:href=\"#C0_0_9bf5fc6404\" y=\"606.601592\"/>\n    </g>\n    <g clip-path=\"url(#pd431080d20)\">\n     <use style=\"fill:#440154;stroke:#440154;\" x=\"672.77139\" xlink:href=\"#C0_0_9bf5fc6404\" y=\"350.671647\"/>\n    </g>\n    <g clip-path=\"url(#pd431080d20)\">\n     <use style=\"fill:#5ec962;stroke:#5ec962;\" x=\"242.326976\" xlink:href=\"#C0_0_9bf5fc6404\" y=\"572.010163\"/>\n    </g>\n    <g clip-path=\"url(#pd431080d20)\">\n     <use style=\"fill:#fde725;stroke:#fde725;\" x=\"416.677675\" xlink:href=\"#C0_0_9bf5fc6404\" y=\"494.528108\"/>\n    </g>\n    <g clip-path=\"url(#pd431080d20)\">\n     <use style=\"fill:#3b528b;stroke:#3b528b;\" x=\"396.65674\" xlink:href=\"#C0_0_9bf5fc6404\" y=\"554.373656\"/>\n    </g>\n    <g clip-path=\"url(#pd431080d20)\">\n     <use style=\"fill:#fde725;stroke:#fde725;\" x=\"592.698987\" xlink:href=\"#C0_0_9bf5fc6404\" y=\"590.304348\"/>\n    </g>\n    <g clip-path=\"url(#pd431080d20)\">\n     <use style=\"fill:#440154;stroke:#440154;\" x=\"65.771942\" xlink:href=\"#C0_0_9bf5fc6404\" y=\"448.437463\"/>\n    </g>\n    <g clip-path=\"url(#pd431080d20)\">\n     <use style=\"fill:#3b528b;stroke:#3b528b;\" x=\"242.289771\" xlink:href=\"#C0_0_9bf5fc6404\" y=\"577.021559\"/>\n    </g>\n    <g clip-path=\"url(#pd431080d20)\">\n     <use style=\"fill:#21918c;stroke:#21918c;\" x=\"499.61336\" xlink:href=\"#C0_0_9bf5fc6404\" y=\"559.326758\"/>\n    </g>\n    <g clip-path=\"url(#pd431080d20)\">\n     <use style=\"fill:#21918c;stroke:#21918c;\" x=\"633.640748\" xlink:href=\"#C0_0_9bf5fc6404\" y=\"556.827775\"/>\n    </g>\n    <g clip-path=\"url(#pd431080d20)\">\n     <use style=\"fill:#fde725;stroke:#fde725;\" x=\"653.300437\" xlink:href=\"#C0_0_9bf5fc6404\" y=\"467.473475\"/>\n    </g>\n    <g clip-path=\"url(#pd431080d20)\">\n     <use style=\"fill:#fde725;stroke:#fde725;\" x=\"489.66673\" xlink:href=\"#C0_0_9bf5fc6404\" y=\"577.954058\"/>\n    </g>\n    <g clip-path=\"url(#pd431080d20)\">\n     <use style=\"fill:#5ec962;stroke:#5ec962;\" x=\"489.155713\" xlink:href=\"#C0_0_9bf5fc6404\" y=\"529.688187\"/>\n    </g>\n    <g clip-path=\"url(#pd431080d20)\">\n     <use style=\"fill:#fde725;stroke:#fde725;\" x=\"448.295256\" xlink:href=\"#C0_0_9bf5fc6404\" y=\"562.18589\"/>\n    </g>\n    <g clip-path=\"url(#pd431080d20)\">\n     <use style=\"fill:#fde725;stroke:#fde725;\" x=\"541.387521\" xlink:href=\"#C0_0_9bf5fc6404\" y=\"605.886296\"/>\n    </g>\n    <g clip-path=\"url(#pd431080d20)\">\n     <use style=\"fill:#440154;stroke:#440154;\" x=\"333.255283\" xlink:href=\"#C0_0_9bf5fc6404\" y=\"402.36318\"/>\n    </g>\n    <g clip-path=\"url(#pd431080d20)\">\n     <use style=\"fill:#440154;stroke:#440154;\" x=\"178.419177\" xlink:href=\"#C0_0_9bf5fc6404\" y=\"367.428607\"/>\n    </g>\n    <g clip-path=\"url(#pd431080d20)\">\n     <use style=\"fill:#440154;stroke:#440154;\" x=\"558.563238\" xlink:href=\"#C0_0_9bf5fc6404\" y=\"262.898069\"/>\n    </g>\n    <g clip-path=\"url(#pd431080d20)\">\n     <use style=\"fill:#440154;stroke:#440154;\" x=\"333.904559\" xlink:href=\"#C0_0_9bf5fc6404\" y=\"468.632935\"/>\n    </g>\n    <g clip-path=\"url(#pd431080d20)\">\n     <use style=\"fill:#fde725;stroke:#fde725;\" x=\"479.628189\" xlink:href=\"#C0_0_9bf5fc6404\" y=\"609.654972\"/>\n    </g>\n    <g clip-path=\"url(#pd431080d20)\">\n     <use style=\"fill:#5ec962;stroke:#5ec962;\" x=\"396.797625\" xlink:href=\"#C0_0_9bf5fc6404\" y=\"559.560794\"/>\n    </g>\n    <g clip-path=\"url(#pd431080d20)\">\n     <use style=\"fill:#21918c;stroke:#21918c;\" x=\"632.864021\" xlink:href=\"#C0_0_9bf5fc6404\" y=\"480.863636\"/>\n    </g>\n    <g clip-path=\"url(#pd431080d20)\">\n     <use style=\"fill:#21918c;stroke:#21918c;\" x=\"519.579854\" xlink:href=\"#C0_0_9bf5fc6404\" y=\"485.167841\"/>\n    </g>\n    <g clip-path=\"url(#pd431080d20)\">\n     <use style=\"fill:#3b528b;stroke:#3b528b;\" x=\"417.515149\" xlink:href=\"#C0_0_9bf5fc6404\" y=\"585.024793\"/>\n    </g>\n    <g clip-path=\"url(#pd431080d20)\">\n     <use style=\"fill:#440154;stroke:#440154;\" x=\"416.134525\" xlink:href=\"#C0_0_9bf5fc6404\" y=\"445.458726\"/>\n    </g>\n    <g clip-path=\"url(#pd431080d20)\">\n     <use style=\"fill:#fde725;stroke:#fde725;\" x=\"273.325343\" xlink:href=\"#C0_0_9bf5fc6404\" y=\"580.937558\"/>\n    </g>\n    <g clip-path=\"url(#pd431080d20)\">\n     <use style=\"fill:#440154;stroke:#440154;\" x=\"146.598071\" xlink:href=\"#C0_0_9bf5fc6404\" y=\"286.628702\"/>\n    </g>\n    <g clip-path=\"url(#pd431080d20)\">\n     <use style=\"fill:#5ec962;stroke:#5ec962;\" x=\"417.316058\" xlink:href=\"#C0_0_9bf5fc6404\" y=\"551.08252\"/>\n    </g>\n    <g clip-path=\"url(#pd431080d20)\">\n     <use style=\"fill:#440154;stroke:#440154;\" x=\"178.602672\" xlink:href=\"#C0_0_9bf5fc6404\" y=\"399.787026\"/>\n    </g>\n    <g clip-path=\"url(#pd431080d20)\">\n     <use style=\"fill:#440154;stroke:#440154;\" x=\"609.724221\" xlink:href=\"#C0_0_9bf5fc6404\" y=\"240.190368\"/>\n    </g>\n    <g clip-path=\"url(#pd431080d20)\">\n     <use style=\"fill:#5ec962;stroke:#5ec962;\" x=\"179.693348\" xlink:href=\"#C0_0_9bf5fc6404\" y=\"491.98433\"/>\n    </g>\n    <g clip-path=\"url(#pd431080d20)\">\n     <use style=\"fill:#fde725;stroke:#fde725;\" x=\"498.915763\" xlink:href=\"#C0_0_9bf5fc6404\" y=\"480.739774\"/>\n    </g>\n    <g clip-path=\"url(#pd431080d20)\">\n     <use style=\"fill:#440154;stroke:#440154;\" x=\"291.151607\" xlink:href=\"#C0_0_9bf5fc6404\" y=\"323.576991\"/>\n    </g>\n    <g clip-path=\"url(#pd431080d20)\">\n     <use style=\"fill:#440154;stroke:#440154;\" x=\"631.620985\" xlink:href=\"#C0_0_9bf5fc6404\" y=\"360.633508\"/>\n    </g>\n    <g clip-path=\"url(#pd431080d20)\">\n     <use style=\"fill:#3b528b;stroke:#3b528b;\" x=\"293.098808\" xlink:href=\"#C0_0_9bf5fc6404\" y=\"508.134112\"/>\n    </g>\n    <g clip-path=\"url(#pd431080d20)\">\n     <use style=\"fill:#440154;stroke:#440154;\" x=\"600.7234\" xlink:href=\"#C0_0_9bf5fc6404\" y=\"357.570391\"/>\n    </g>\n    <g clip-path=\"url(#pd431080d20)\">\n     <use style=\"fill:#440154;stroke:#440154;\" x=\"230.552641\" xlink:href=\"#C0_0_9bf5fc6404\" y=\"436.720384\"/>\n    </g>\n    <g clip-path=\"url(#pd431080d20)\">\n     <use style=\"fill:#440154;stroke:#440154;\" x=\"207.620338\" xlink:href=\"#C0_0_9bf5fc6404\" y=\"209.063075\"/>\n    </g>\n    <g clip-path=\"url(#pd431080d20)\">\n     <use style=\"fill:#3b528b;stroke:#3b528b;\" x=\"179.895457\" xlink:href=\"#C0_0_9bf5fc6404\" y=\"526.221752\"/>\n    </g>\n    <g clip-path=\"url(#pd431080d20)\">\n     <use style=\"fill:#fde725;stroke:#fde725;\" x=\"221.551466\" xlink:href=\"#C0_0_9bf5fc6404\" y=\"559.455696\"/>\n    </g>\n    <g clip-path=\"url(#pd431080d20)\">\n     <use style=\"fill:#440154;stroke:#440154;\" x=\"673.722353\" xlink:href=\"#C0_0_9bf5fc6404\" y=\"452.326102\"/>\n    </g>\n    <g clip-path=\"url(#pd431080d20)\">\n     <use style=\"fill:#440154;stroke:#440154;\" x=\"622.366285\" xlink:href=\"#C0_0_9bf5fc6404\" y=\"453.184068\"/>\n    </g>\n    <g clip-path=\"url(#pd431080d20)\">\n     <use style=\"fill:#440154;stroke:#440154;\" x=\"136.71646\" xlink:href=\"#C0_0_9bf5fc6404\" y=\"333.677397\"/>\n    </g>\n    <g clip-path=\"url(#pd431080d20)\">\n     <use style=\"fill:#fde725;stroke:#fde725;\" x=\"541.072306\" xlink:href=\"#C0_0_9bf5fc6404\" y=\"567.466771\"/>\n    </g>\n    <g clip-path=\"url(#pd431080d20)\">\n     <use style=\"fill:#440154;stroke:#440154;\" x=\"75.70046\" xlink:href=\"#C0_0_9bf5fc6404\" y=\"406.034799\"/>\n    </g>\n    <g clip-path=\"url(#pd431080d20)\">\n     <use style=\"fill:#5ec962;stroke:#5ec962;\" x=\"396.426006\" xlink:href=\"#C0_0_9bf5fc6404\" y=\"529.037466\"/>\n    </g>\n    <g clip-path=\"url(#pd431080d20)\">\n     <use style=\"fill:#fde725;stroke:#fde725;\" x=\"417.165063\" xlink:href=\"#C0_0_9bf5fc6404\" y=\"542.194774\"/>\n    </g>\n    <g clip-path=\"url(#pd431080d20)\">\n     <use style=\"fill:#3b528b;stroke:#3b528b;\" x=\"303.669803\" xlink:href=\"#C0_0_9bf5fc6404\" y=\"540.266582\"/>\n    </g>\n    <g clip-path=\"url(#pd431080d20)\">\n     <use style=\"fill:#fde725;stroke:#fde725;\" x=\"118.304307\" xlink:href=\"#C0_0_9bf5fc6404\" y=\"539.559012\"/>\n    </g>\n    <g clip-path=\"url(#pd431080d20)\">\n     <use style=\"fill:#3b528b;stroke:#3b528b;\" x=\"231.533075\" xlink:href=\"#C0_0_9bf5fc6404\" y=\"532.607123\"/>\n    </g>\n    <g clip-path=\"url(#pd431080d20)\">\n     <use style=\"fill:#440154;stroke:#440154;\" x=\"105.224798\" xlink:href=\"#C0_0_9bf5fc6404\" y=\"276.564248\"/>\n    </g>\n    <g clip-path=\"url(#pd431080d20)\">\n     <use style=\"fill:#440154;stroke:#440154;\" x=\"406.108524\" xlink:href=\"#C0_0_9bf5fc6404\" y=\"468.397077\"/>\n    </g>\n    <g clip-path=\"url(#pd431080d20)\">\n     <use style=\"fill:#440154;stroke:#440154;\" x=\"591.218673\" xlink:href=\"#C0_0_9bf5fc6404\" y=\"438.310639\"/>\n    </g>\n    <g clip-path=\"url(#pd431080d20)\">\n     <use style=\"fill:#440154;stroke:#440154;\" x=\"353.794695\" xlink:href=\"#C0_0_9bf5fc6404\" y=\"390.115536\"/>\n    </g>\n    <g clip-path=\"url(#pd431080d20)\">\n     <use style=\"fill:#fde725;stroke:#fde725;\" x=\"200.493775\" xlink:href=\"#C0_0_9bf5fc6404\" y=\"515.194419\"/>\n    </g>\n    <g clip-path=\"url(#pd431080d20)\">\n     <use style=\"fill:#440154;stroke:#440154;\" x=\"135.743424\" xlink:href=\"#C0_0_9bf5fc6404\" y=\"232.693115\"/>\n    </g>\n    <g clip-path=\"url(#pd431080d20)\">\n     <use style=\"fill:#21918c;stroke:#21918c;\" x=\"612.823733\" xlink:href=\"#C0_0_9bf5fc6404\" y=\"536.104681\"/>\n    </g>\n    <g clip-path=\"url(#pd431080d20)\">\n     <use style=\"fill:#fde725;stroke:#fde725;\" x=\"674.468324\" xlink:href=\"#C0_0_9bf5fc6404\" y=\"516.690743\"/>\n    </g>\n    <g clip-path=\"url(#pd431080d20)\">\n     <use style=\"fill:#fde725;stroke:#fde725;\" x=\"397.284501\" xlink:href=\"#C0_0_9bf5fc6404\" y=\"622.987593\"/>\n    </g>\n    <g clip-path=\"url(#pd431080d20)\">\n     <use style=\"fill:#440154;stroke:#440154;\" x=\"577.34082\" xlink:href=\"#C0_0_9bf5fc6404\" y=\"94.525872\"/>\n    </g>\n    <g clip-path=\"url(#pd431080d20)\">\n     <use style=\"fill:#21918c;stroke:#21918c;\" x=\"529.938335\" xlink:href=\"#C0_0_9bf5fc6404\" y=\"496.457942\"/>\n    </g>\n    <g clip-path=\"url(#pd431080d20)\">\n     <use style=\"fill:#440154;stroke:#440154;\" x=\"76.29909\" xlink:href=\"#C0_0_9bf5fc6404\" y=\"470.40208\"/>\n    </g>\n    <g clip-path=\"url(#pd431080d20)\">\n     <use style=\"fill:#21918c;stroke:#21918c;\" x=\"509.102545\" xlink:href=\"#C0_0_9bf5fc6404\" y=\"479.778346\"/>\n    </g>\n    <g clip-path=\"url(#pd431080d20)\">\n     <use style=\"fill:#440154;stroke:#440154;\" x=\"125.320727\" xlink:href=\"#C0_0_9bf5fc6404\" y=\"226.765025\"/>\n    </g>\n    <g clip-path=\"url(#pd431080d20)\">\n     <use style=\"fill:#440154;stroke:#440154;\" x=\"148.309062\" xlink:href=\"#C0_0_9bf5fc6404\" y=\"443.660788\"/>\n    </g>\n    <g clip-path=\"url(#pd431080d20)\">\n     <use style=\"fill:#21918c;stroke:#21918c;\" x=\"529.879152\" xlink:href=\"#C0_0_9bf5fc6404\" y=\"484.84866\"/>\n    </g>\n    <g clip-path=\"url(#pd431080d20)\">\n     <use style=\"fill:#440154;stroke:#440154;\" x=\"548.003725\" xlink:href=\"#C0_0_9bf5fc6404\" y=\"239.538457\"/>\n    </g>\n    <g clip-path=\"url(#pd431080d20)\">\n     <use style=\"fill:#440154;stroke:#440154;\" x=\"228.105617\" xlink:href=\"#C0_0_9bf5fc6404\" y=\"191.521185\"/>\n    </g>\n    <g clip-path=\"url(#pd431080d20)\">\n     <use style=\"fill:#3b528b;stroke:#3b528b;\" x=\"283.156752\" xlink:href=\"#C0_0_9bf5fc6404\" y=\"543.391632\"/>\n    </g>\n    <g clip-path=\"url(#pd431080d20)\">\n     <use style=\"fill:#fde725;stroke:#fde725;\" x=\"149.174817\" xlink:href=\"#C0_0_9bf5fc6404\" y=\"528.331841\"/>\n    </g>\n    <g clip-path=\"url(#pd431080d20)\">\n     <use style=\"fill:#440154;stroke:#440154;\" x=\"248.141889\" xlink:href=\"#C0_0_9bf5fc6404\" y=\"133.117066\"/>\n    </g>\n    <g clip-path=\"url(#pd431080d20)\">\n     <use style=\"fill:#fde725;stroke:#fde725;\" x=\"201.452141\" xlink:href=\"#C0_0_9bf5fc6404\" y=\"608.922876\"/>\n    </g>\n    <g clip-path=\"url(#pd431080d20)\">\n     <use style=\"fill:#3b528b;stroke:#3b528b;\" x=\"118.358932\" xlink:href=\"#C0_0_9bf5fc6404\" y=\"547.613076\"/>\n    </g>\n    <g clip-path=\"url(#pd431080d20)\">\n     <use style=\"fill:#440154;stroke:#440154;\" x=\"199.228518\" xlink:href=\"#C0_0_9bf5fc6404\" y=\"387.342614\"/>\n    </g>\n    <g clip-path=\"url(#pd431080d20)\">\n     <use style=\"fill:#5ec962;stroke:#5ec962;\" x=\"139.690149\" xlink:href=\"#C0_0_9bf5fc6404\" y=\"604.212658\"/>\n    </g>\n    <g clip-path=\"url(#pd431080d20)\">\n     <use style=\"fill:#440154;stroke:#440154;\" x=\"443.930155\" xlink:href=\"#C0_0_9bf5fc6404\" y=\"137.048249\"/>\n    </g>\n    <g clip-path=\"url(#pd431080d20)\">\n     <use style=\"fill:#440154;stroke:#440154;\" x=\"508.327094\" xlink:href=\"#C0_0_9bf5fc6404\" y=\"392.238182\"/>\n    </g>\n    <g clip-path=\"url(#pd431080d20)\">\n     <use style=\"fill:#fde725;stroke:#fde725;\" x=\"98.220459\" xlink:href=\"#C0_0_9bf5fc6404\" y=\"594.649152\"/>\n    </g>\n    <g clip-path=\"url(#pd431080d20)\">\n     <use style=\"fill:#440154;stroke:#440154;\" x=\"65.741051\" xlink:href=\"#C0_0_9bf5fc6404\" y=\"439.595208\"/>\n    </g>\n    <g clip-path=\"url(#pd431080d20)\">\n     <use style=\"fill:#440154;stroke:#440154;\" x=\"436.364607\" xlink:href=\"#C0_0_9bf5fc6404\" y=\"407.440586\"/>\n    </g>\n    <g clip-path=\"url(#pd431080d20)\">\n     <use style=\"fill:#440154;stroke:#440154;\" x=\"662.87518\" xlink:href=\"#C0_0_9bf5fc6404\" y=\"399.004411\"/>\n    </g>\n    <g clip-path=\"url(#pd431080d20)\">\n     <use style=\"fill:#440154;stroke:#440154;\" x=\"529.692795\" xlink:href=\"#C0_0_9bf5fc6404\" y=\"462.140828\"/>\n    </g>\n    <g clip-path=\"url(#pd431080d20)\">\n     <use style=\"fill:#440154;stroke:#440154;\" x=\"300.257508\" xlink:href=\"#C0_0_9bf5fc6404\" y=\"197.951914\"/>\n    </g>\n    <g clip-path=\"url(#pd431080d20)\">\n     <use style=\"fill:#440154;stroke:#440154;\" x=\"392.317665\" xlink:href=\"#C0_0_9bf5fc6404\" y=\"127.299339\"/>\n    </g>\n    <g clip-path=\"url(#pd431080d20)\">\n     <use style=\"fill:#5ec962;stroke:#5ec962;\" x=\"396.235733\" xlink:href=\"#C0_0_9bf5fc6404\" y=\"504.607621\"/>\n    </g>\n    <g clip-path=\"url(#pd431080d20)\">\n     <use style=\"fill:#440154;stroke:#440154;\" x=\"321.276689\" xlink:href=\"#C0_0_9bf5fc6404\" y=\"235.33754\"/>\n    </g>\n    <g clip-path=\"url(#pd431080d20)\">\n     <use style=\"fill:#440154;stroke:#440154;\" x=\"392.878614\" xlink:href=\"#C0_0_9bf5fc6404\" y=\"182.160278\"/>\n    </g>\n    <g clip-path=\"url(#pd431080d20)\">\n     <use style=\"fill:#3b528b;stroke:#3b528b;\" x=\"159.891238\" xlink:href=\"#C0_0_9bf5fc6404\" y=\"579.169175\"/>\n    </g>\n    <g clip-path=\"url(#pd431080d20)\">\n     <use style=\"fill:#fde725;stroke:#fde725;\" x=\"376.46733\" xlink:href=\"#C0_0_9bf5fc6404\" y=\"592.318763\"/>\n    </g>\n    <g clip-path=\"url(#pd431080d20)\">\n     <use style=\"fill:#5ec962;stroke:#5ec962;\" x=\"334.828875\" xlink:href=\"#C0_0_9bf5fc6404\" y=\"544.560116\"/>\n    </g>\n    <g clip-path=\"url(#pd431080d20)\">\n     <use style=\"fill:#5ec962;stroke:#5ec962;\" x=\"77.168372\" xlink:href=\"#C0_0_9bf5fc6404\" y=\"535.125809\"/>\n    </g>\n    <g clip-path=\"url(#pd431080d20)\">\n     <use style=\"fill:#440154;stroke:#440154;\" x=\"568.814096\" xlink:href=\"#C0_0_9bf5fc6404\" y=\"265.432882\"/>\n    </g>\n    <g clip-path=\"url(#pd431080d20)\">\n     <use style=\"fill:#fde725;stroke:#fde725;\" x=\"437.237861\" xlink:href=\"#C0_0_9bf5fc6404\" y=\"494.184142\"/>\n    </g>\n    <g clip-path=\"url(#pd431080d20)\">\n     <use style=\"fill:#440154;stroke:#440154;\" x=\"504.721613\" xlink:href=\"#C0_0_9bf5fc6404\" y=\"36.850909\"/>\n    </g>\n    <g clip-path=\"url(#pd431080d20)\">\n     <use style=\"fill:#440154;stroke:#440154;\" x=\"466.108724\" xlink:href=\"#C0_0_9bf5fc6404\" y=\"289.161305\"/>\n    </g>\n    <g clip-path=\"url(#pd431080d20)\">\n     <use style=\"fill:#440154;stroke:#440154;\" x=\"508.187097\" xlink:href=\"#C0_0_9bf5fc6404\" y=\"384.367589\"/>\n    </g>\n    <g clip-path=\"url(#pd431080d20)\">\n     <use style=\"fill:#21918c;stroke:#21918c;\" x=\"530.820252\" xlink:href=\"#C0_0_9bf5fc6404\" y=\"582.768189\"/>\n    </g>\n    <g clip-path=\"url(#pd431080d20)\">\n     <use style=\"fill:#440154;stroke:#440154;\" x=\"456.168733\" xlink:href=\"#C0_0_9bf5fc6404\" y=\"320.511421\"/>\n    </g>\n    <g clip-path=\"url(#pd431080d20)\">\n     <use style=\"fill:#3b528b;stroke:#3b528b;\" x=\"231.654545\" xlink:href=\"#C0_0_9bf5fc6404\" y=\"544.486895\"/>\n    </g>\n    <g clip-path=\"url(#pd431080d20)\">\n     <use style=\"fill:#fde725;stroke:#fde725;\" x=\"623.288026\" xlink:href=\"#C0_0_9bf5fc6404\" y=\"553.261126\"/>\n    </g>\n    <g clip-path=\"url(#pd431080d20)\">\n     <use style=\"fill:#fde725;stroke:#fde725;\" x=\"293.328808\" xlink:href=\"#C0_0_9bf5fc6404\" y=\"527.916348\"/>\n    </g>\n    <g clip-path=\"url(#pd431080d20)\">\n     <use style=\"fill:#3b528b;stroke:#3b528b;\" x=\"375.536385\" xlink:href=\"#C0_0_9bf5fc6404\" y=\"509.804995\"/>\n    </g>\n    <g clip-path=\"url(#pd431080d20)\">\n     <use style=\"fill:#440154;stroke:#440154;\" x=\"498.027493\" xlink:href=\"#C0_0_9bf5fc6404\" y=\"389.815992\"/>\n    </g>\n    <g clip-path=\"url(#pd431080d20)\">\n     <use style=\"fill:#440154;stroke:#440154;\" x=\"313.260983\" xlink:href=\"#C0_0_9bf5fc6404\" y=\"454.510422\"/>\n    </g>\n    <g clip-path=\"url(#pd431080d20)\">\n     <use style=\"fill:#440154;stroke:#440154;\" x=\"199.267284\" xlink:href=\"#C0_0_9bf5fc6404\" y=\"405.605062\"/>\n    </g>\n    <g clip-path=\"url(#pd431080d20)\">\n     <use style=\"fill:#440154;stroke:#440154;\" x=\"343.095788\" xlink:href=\"#C0_0_9bf5fc6404\" y=\"359.885731\"/>\n    </g>\n    <g clip-path=\"url(#pd431080d20)\">\n     <use style=\"fill:#440154;stroke:#440154;\" x=\"199.211929\" xlink:href=\"#C0_0_9bf5fc6404\" y=\"389.82961\"/>\n    </g>\n    <g clip-path=\"url(#pd431080d20)\">\n     <use style=\"fill:#fde725;stroke:#fde725;\" x=\"242.709125\" xlink:href=\"#C0_0_9bf5fc6404\" y=\"613.493805\"/>\n    </g>\n    <g clip-path=\"url(#pd431080d20)\">\n     <use style=\"fill:#3b528b;stroke:#3b528b;\" x=\"314.403254\" xlink:href=\"#C0_0_9bf5fc6404\" y=\"570.706901\"/>\n    </g>\n    <g clip-path=\"url(#pd431080d20)\">\n     <use style=\"fill:#440154;stroke:#440154;\" x=\"653.106683\" xlink:href=\"#C0_0_9bf5fc6404\" y=\"436.823404\"/>\n    </g>\n    <g clip-path=\"url(#pd431080d20)\">\n     <use style=\"fill:#fde725;stroke:#fde725;\" x=\"242.05319\" xlink:href=\"#C0_0_9bf5fc6404\" y=\"551.113516\"/>\n    </g>\n    <g clip-path=\"url(#pd431080d20)\">\n     <use style=\"fill:#440154;stroke:#440154;\" x=\"156.922684\" xlink:href=\"#C0_0_9bf5fc6404\" y=\"278.482087\"/>\n    </g>\n    <g clip-path=\"url(#pd431080d20)\">\n     <use style=\"fill:#3b528b;stroke:#3b528b;\" x=\"272.537747\" xlink:href=\"#C0_0_9bf5fc6404\" y=\"512.443398\"/>\n    </g>\n    <g clip-path=\"url(#pd431080d20)\">\n     <use style=\"fill:#fde725;stroke:#fde725;\" x=\"159.726254\" xlink:href=\"#C0_0_9bf5fc6404\" y=\"558.493072\"/>\n    </g>\n    <g clip-path=\"url(#pd431080d20)\">\n     <use style=\"fill:#3b528b;stroke:#3b528b;\" x=\"417.973679\" xlink:href=\"#C0_0_9bf5fc6404\" y=\"629.869091\"/>\n    </g>\n    <g clip-path=\"url(#pd431080d20)\">\n     <use style=\"fill:#fde725;stroke:#fde725;\" x=\"313.622452\" xlink:href=\"#C0_0_9bf5fc6404\" y=\"491.632455\"/>\n    </g>\n   </g>\n   <g id=\"matplotlib.axis_1\">\n    <g id=\"xtick_1\">\n     <g id=\"line2d_1\">\n      <defs>\n       <path d=\"M 0 0 \nL 0 3.5 \n\" id=\"m0be8efab4b\" style=\"stroke:#000000;stroke-width:0.8;\"/>\n      </defs>\n      <g>\n       <use style=\"stroke:#000000;stroke-width:0.8;\" x=\"55.912635\" xlink:href=\"#m0be8efab4b\" y=\"659.52\"/>\n      </g>\n     </g>\n     <g id=\"text_1\">\n      <!-- −30 -->\n      <g transform=\"translate(45.360291 674.118438)scale(0.1 -0.1)\">\n       <defs>\n        <path d=\"M 10.59375 35.5 \nL 73.1875 35.5 \nL 73.1875 27.203125 \nL 10.59375 27.203125 \nz\n\" id=\"DejaVuSans-8722\"/>\n        <path d=\"M 40.578125 39.3125 \nQ 47.65625 37.796875 51.625 33 \nQ 55.609375 28.21875 55.609375 21.1875 \nQ 55.609375 10.40625 48.1875 4.484375 \nQ 40.765625 -1.421875 27.09375 -1.421875 \nQ 22.515625 -1.421875 17.65625 -0.515625 \nQ 12.796875 0.390625 7.625 2.203125 \nL 7.625 11.71875 \nQ 11.71875 9.328125 16.59375 8.109375 \nQ 21.484375 6.890625 26.8125 6.890625 \nQ 36.078125 6.890625 40.9375 10.546875 \nQ 45.796875 14.203125 45.796875 21.1875 \nQ 45.796875 27.640625 41.28125 31.265625 \nQ 36.765625 34.90625 28.71875 34.90625 \nL 20.21875 34.90625 \nL 20.21875 43.015625 \nL 29.109375 43.015625 \nQ 36.375 43.015625 40.234375 45.921875 \nQ 44.09375 48.828125 44.09375 54.296875 \nQ 44.09375 59.90625 40.109375 62.90625 \nQ 36.140625 65.921875 28.71875 65.921875 \nQ 24.65625 65.921875 20.015625 65.03125 \nQ 15.375 64.15625 9.8125 62.3125 \nL 9.8125 71.09375 \nQ 15.4375 72.65625 20.34375 73.4375 \nQ 25.25 74.21875 29.59375 74.21875 \nQ 40.828125 74.21875 47.359375 69.109375 \nQ 53.90625 64.015625 53.90625 55.328125 \nQ 53.90625 49.265625 50.4375 45.09375 \nQ 46.96875 40.921875 40.578125 39.3125 \nz\n\" id=\"DejaVuSans-51\"/>\n        <path d=\"M 31.78125 66.40625 \nQ 24.171875 66.40625 20.328125 58.90625 \nQ 16.5 51.421875 16.5 36.375 \nQ 16.5 21.390625 20.328125 13.890625 \nQ 24.171875 6.390625 31.78125 6.390625 \nQ 39.453125 6.390625 43.28125 13.890625 \nQ 47.125 21.390625 47.125 36.375 \nQ 47.125 51.421875 43.28125 58.90625 \nQ 39.453125 66.40625 31.78125 66.40625 \nz\nM 31.78125 74.21875 \nQ 44.046875 74.21875 50.515625 64.515625 \nQ 56.984375 54.828125 56.984375 36.375 \nQ 56.984375 17.96875 50.515625 8.265625 \nQ 44.046875 -1.421875 31.78125 -1.421875 \nQ 19.53125 -1.421875 13.0625 8.265625 \nQ 6.59375 17.96875 6.59375 36.375 \nQ 6.59375 54.828125 13.0625 64.515625 \nQ 19.53125 74.21875 31.78125 74.21875 \nz\n\" id=\"DejaVuSans-48\"/>\n       </defs>\n       <use xlink:href=\"#DejaVuSans-8722\"/>\n       <use x=\"83.789062\" xlink:href=\"#DejaVuSans-51\"/>\n       <use x=\"147.412109\" xlink:href=\"#DejaVuSans-48\"/>\n      </g>\n     </g>\n    </g>\n    <g id=\"xtick_2\">\n     <g id=\"line2d_2\">\n      <g>\n       <use style=\"stroke:#000000;stroke-width:0.8;\" x=\"158.924586\" xlink:href=\"#m0be8efab4b\" y=\"659.52\"/>\n      </g>\n     </g>\n     <g id=\"text_2\">\n      <!-- −20 -->\n      <g transform=\"translate(148.372243 674.118438)scale(0.1 -0.1)\">\n       <defs>\n        <path d=\"M 19.1875 8.296875 \nL 53.609375 8.296875 \nL 53.609375 0 \nL 7.328125 0 \nL 7.328125 8.296875 \nQ 12.9375 14.109375 22.625 23.890625 \nQ 32.328125 33.6875 34.8125 36.53125 \nQ 39.546875 41.84375 41.421875 45.53125 \nQ 43.3125 49.21875 43.3125 52.78125 \nQ 43.3125 58.59375 39.234375 62.25 \nQ 35.15625 65.921875 28.609375 65.921875 \nQ 23.96875 65.921875 18.8125 64.3125 \nQ 13.671875 62.703125 7.8125 59.421875 \nL 7.8125 69.390625 \nQ 13.765625 71.78125 18.9375 73 \nQ 24.125 74.21875 28.421875 74.21875 \nQ 39.75 74.21875 46.484375 68.546875 \nQ 53.21875 62.890625 53.21875 53.421875 \nQ 53.21875 48.921875 51.53125 44.890625 \nQ 49.859375 40.875 45.40625 35.40625 \nQ 44.1875 33.984375 37.640625 27.21875 \nQ 31.109375 20.453125 19.1875 8.296875 \nz\n\" id=\"DejaVuSans-50\"/>\n       </defs>\n       <use xlink:href=\"#DejaVuSans-8722\"/>\n       <use x=\"83.789062\" xlink:href=\"#DejaVuSans-50\"/>\n       <use x=\"147.412109\" xlink:href=\"#DejaVuSans-48\"/>\n      </g>\n     </g>\n    </g>\n    <g id=\"xtick_3\">\n     <g id=\"line2d_3\">\n      <g>\n       <use style=\"stroke:#000000;stroke-width:0.8;\" x=\"261.936538\" xlink:href=\"#m0be8efab4b\" y=\"659.52\"/>\n      </g>\n     </g>\n     <g id=\"text_3\">\n      <!-- −10 -->\n      <g transform=\"translate(251.384194 674.118438)scale(0.1 -0.1)\">\n       <defs>\n        <path d=\"M 12.40625 8.296875 \nL 28.515625 8.296875 \nL 28.515625 63.921875 \nL 10.984375 60.40625 \nL 10.984375 69.390625 \nL 28.421875 72.90625 \nL 38.28125 72.90625 \nL 38.28125 8.296875 \nL 54.390625 8.296875 \nL 54.390625 0 \nL 12.40625 0 \nz\n\" id=\"DejaVuSans-49\"/>\n       </defs>\n       <use xlink:href=\"#DejaVuSans-8722\"/>\n       <use x=\"83.789062\" xlink:href=\"#DejaVuSans-49\"/>\n       <use x=\"147.412109\" xlink:href=\"#DejaVuSans-48\"/>\n      </g>\n     </g>\n    </g>\n    <g id=\"xtick_4\">\n     <g id=\"line2d_4\">\n      <g>\n       <use style=\"stroke:#000000;stroke-width:0.8;\" x=\"364.948489\" xlink:href=\"#m0be8efab4b\" y=\"659.52\"/>\n      </g>\n     </g>\n     <g id=\"text_4\">\n      <!-- 0 -->\n      <g transform=\"translate(361.767239 674.118438)scale(0.1 -0.1)\">\n       <use xlink:href=\"#DejaVuSans-48\"/>\n      </g>\n     </g>\n    </g>\n    <g id=\"xtick_5\">\n     <g id=\"line2d_5\">\n      <g>\n       <use style=\"stroke:#000000;stroke-width:0.8;\" x=\"467.96044\" xlink:href=\"#m0be8efab4b\" y=\"659.52\"/>\n      </g>\n     </g>\n     <g id=\"text_5\">\n      <!-- 10 -->\n      <g transform=\"translate(461.59794 674.118438)scale(0.1 -0.1)\">\n       <use xlink:href=\"#DejaVuSans-49\"/>\n       <use x=\"63.623047\" xlink:href=\"#DejaVuSans-48\"/>\n      </g>\n     </g>\n    </g>\n    <g id=\"xtick_6\">\n     <g id=\"line2d_6\">\n      <g>\n       <use style=\"stroke:#000000;stroke-width:0.8;\" x=\"570.972391\" xlink:href=\"#m0be8efab4b\" y=\"659.52\"/>\n      </g>\n     </g>\n     <g id=\"text_6\">\n      <!-- 20 -->\n      <g transform=\"translate(564.609891 674.118438)scale(0.1 -0.1)\">\n       <use xlink:href=\"#DejaVuSans-50\"/>\n       <use x=\"63.623047\" xlink:href=\"#DejaVuSans-48\"/>\n      </g>\n     </g>\n    </g>\n    <g id=\"xtick_7\">\n     <g id=\"line2d_7\">\n      <g>\n       <use style=\"stroke:#000000;stroke-width:0.8;\" x=\"673.984343\" xlink:href=\"#m0be8efab4b\" y=\"659.52\"/>\n      </g>\n     </g>\n     <g id=\"text_7\">\n      <!-- 30 -->\n      <g transform=\"translate(667.621843 674.118438)scale(0.1 -0.1)\">\n       <use xlink:href=\"#DejaVuSans-51\"/>\n       <use x=\"63.623047\" xlink:href=\"#DejaVuSans-48\"/>\n      </g>\n     </g>\n    </g>\n   </g>\n   <g id=\"matplotlib.axis_2\">\n    <g id=\"ytick_1\">\n     <g id=\"line2d_8\">\n      <defs>\n       <path d=\"M 0 0 \nL -3.5 0 \n\" id=\"m77340dd29c\" style=\"stroke:#000000;stroke-width:0.8;\"/>\n      </defs>\n      <g>\n       <use style=\"stroke:#000000;stroke-width:0.8;\" x=\"35.304688\" xlink:href=\"#m77340dd29c\" y=\"631.698272\"/>\n      </g>\n     </g>\n     <g id=\"text_8\">\n      <!-- −10 -->\n      <g transform=\"translate(7.2 635.497491)scale(0.1 -0.1)\">\n       <use xlink:href=\"#DejaVuSans-8722\"/>\n       <use x=\"83.789062\" xlink:href=\"#DejaVuSans-49\"/>\n       <use x=\"147.412109\" xlink:href=\"#DejaVuSans-48\"/>\n      </g>\n     </g>\n    </g>\n    <g id=\"ytick_2\">\n     <g id=\"line2d_9\">\n      <g>\n       <use style=\"stroke:#000000;stroke-width:0.8;\" x=\"35.304688\" xlink:href=\"#m77340dd29c\" y=\"539.44354\"/>\n      </g>\n     </g>\n     <g id=\"text_9\">\n      <!-- −5 -->\n      <g transform=\"translate(13.5625 543.242758)scale(0.1 -0.1)\">\n       <defs>\n        <path d=\"M 10.796875 72.90625 \nL 49.515625 72.90625 \nL 49.515625 64.59375 \nL 19.828125 64.59375 \nL 19.828125 46.734375 \nQ 21.96875 47.46875 24.109375 47.828125 \nQ 26.265625 48.1875 28.421875 48.1875 \nQ 40.625 48.1875 47.75 41.5 \nQ 54.890625 34.8125 54.890625 23.390625 \nQ 54.890625 11.625 47.5625 5.09375 \nQ 40.234375 -1.421875 26.90625 -1.421875 \nQ 22.3125 -1.421875 17.546875 -0.640625 \nQ 12.796875 0.140625 7.71875 1.703125 \nL 7.71875 11.625 \nQ 12.109375 9.234375 16.796875 8.0625 \nQ 21.484375 6.890625 26.703125 6.890625 \nQ 35.15625 6.890625 40.078125 11.328125 \nQ 45.015625 15.765625 45.015625 23.390625 \nQ 45.015625 31 40.078125 35.4375 \nQ 35.15625 39.890625 26.703125 39.890625 \nQ 22.75 39.890625 18.8125 39.015625 \nQ 14.890625 38.140625 10.796875 36.28125 \nz\n\" id=\"DejaVuSans-53\"/>\n       </defs>\n       <use xlink:href=\"#DejaVuSans-8722\"/>\n       <use x=\"83.789062\" xlink:href=\"#DejaVuSans-53\"/>\n      </g>\n     </g>\n    </g>\n    <g id=\"ytick_3\">\n     <g id=\"line2d_10\">\n      <g>\n       <use style=\"stroke:#000000;stroke-width:0.8;\" x=\"35.304688\" xlink:href=\"#m77340dd29c\" y=\"447.188807\"/>\n      </g>\n     </g>\n     <g id=\"text_10\">\n      <!-- 0 -->\n      <g transform=\"translate(21.942188 450.988026)scale(0.1 -0.1)\">\n       <use xlink:href=\"#DejaVuSans-48\"/>\n      </g>\n     </g>\n    </g>\n    <g id=\"ytick_4\">\n     <g id=\"line2d_11\">\n      <g>\n       <use style=\"stroke:#000000;stroke-width:0.8;\" x=\"35.304688\" xlink:href=\"#m77340dd29c\" y=\"354.934074\"/>\n      </g>\n     </g>\n     <g id=\"text_11\">\n      <!-- 5 -->\n      <g transform=\"translate(21.942188 358.733293)scale(0.1 -0.1)\">\n       <use xlink:href=\"#DejaVuSans-53\"/>\n      </g>\n     </g>\n    </g>\n    <g id=\"ytick_5\">\n     <g id=\"line2d_12\">\n      <g>\n       <use style=\"stroke:#000000;stroke-width:0.8;\" x=\"35.304688\" xlink:href=\"#m77340dd29c\" y=\"262.679342\"/>\n      </g>\n     </g>\n     <g id=\"text_12\">\n      <!-- 10 -->\n      <g transform=\"translate(15.579688 266.47856)scale(0.1 -0.1)\">\n       <use xlink:href=\"#DejaVuSans-49\"/>\n       <use x=\"63.623047\" xlink:href=\"#DejaVuSans-48\"/>\n      </g>\n     </g>\n    </g>\n    <g id=\"ytick_6\">\n     <g id=\"line2d_13\">\n      <g>\n       <use style=\"stroke:#000000;stroke-width:0.8;\" x=\"35.304688\" xlink:href=\"#m77340dd29c\" y=\"170.424609\"/>\n      </g>\n     </g>\n     <g id=\"text_13\">\n      <!-- 15 -->\n      <g transform=\"translate(15.579688 174.223828)scale(0.1 -0.1)\">\n       <use xlink:href=\"#DejaVuSans-49\"/>\n       <use x=\"63.623047\" xlink:href=\"#DejaVuSans-53\"/>\n      </g>\n     </g>\n    </g>\n    <g id=\"ytick_7\">\n     <g id=\"line2d_14\">\n      <g>\n       <use style=\"stroke:#000000;stroke-width:0.8;\" x=\"35.304688\" xlink:href=\"#m77340dd29c\" y=\"78.169876\"/>\n      </g>\n     </g>\n     <g id=\"text_14\">\n      <!-- 20 -->\n      <g transform=\"translate(15.579688 81.969095)scale(0.1 -0.1)\">\n       <use xlink:href=\"#DejaVuSans-50\"/>\n       <use x=\"63.623047\" xlink:href=\"#DejaVuSans-48\"/>\n      </g>\n     </g>\n    </g>\n   </g>\n   <g id=\"patch_3\">\n    <path d=\"M 35.304688 659.52 \nL 35.304688 7.2 \n\" style=\"fill:none;stroke:#000000;stroke-linecap:square;stroke-linejoin:miter;stroke-width:0.8;\"/>\n   </g>\n   <g id=\"patch_4\">\n    <path d=\"M 704.904688 659.52 \nL 704.904688 7.2 \n\" style=\"fill:none;stroke:#000000;stroke-linecap:square;stroke-linejoin:miter;stroke-width:0.8;\"/>\n   </g>\n   <g id=\"patch_5\">\n    <path d=\"M 35.304688 659.52 \nL 704.904688 659.52 \n\" style=\"fill:none;stroke:#000000;stroke-linecap:square;stroke-linejoin:miter;stroke-width:0.8;\"/>\n   </g>\n   <g id=\"patch_6\">\n    <path d=\"M 35.304688 7.2 \nL 704.904688 7.2 \n\" style=\"fill:none;stroke:#000000;stroke-linecap:square;stroke-linejoin:miter;stroke-width:0.8;\"/>\n   </g>\n   <g id=\"legend_1\">\n    <g id=\"patch_7\">\n     <path d=\"M 659.504688 88.590625 \nL 697.904688 88.590625 \nQ 699.904688 88.590625 699.904688 86.590625 \nL 699.904688 14.2 \nQ 699.904688 12.2 697.904688 12.2 \nL 659.504688 12.2 \nQ 657.504688 12.2 657.504688 14.2 \nL 657.504688 86.590625 \nQ 657.504688 88.590625 659.504688 88.590625 \nz\n\" style=\"fill:#ffffff;opacity:0.8;stroke:#cccccc;stroke-linejoin:miter;\"/>\n    </g>\n    <g id=\"line2d_15\"/>\n    <g id=\"line2d_16\">\n     <defs>\n      <path d=\"M 0 3 \nC 0.795609 3 1.55874 2.683901 2.12132 2.12132 \nC 2.683901 1.55874 3 0.795609 3 0 \nC 3 -0.795609 2.683901 -1.55874 2.12132 -2.12132 \nC 1.55874 -2.683901 0.795609 -3 0 -3 \nC -0.795609 -3 -1.55874 -2.683901 -2.12132 -2.12132 \nC -2.683901 -1.55874 -3 -0.795609 -3 0 \nC -3 0.795609 -2.683901 1.55874 -2.12132 2.12132 \nC -1.55874 2.683901 -0.795609 3 0 3 \nz\n\" id=\"md92aa4e292\" style=\"stroke:#440154;\"/>\n     </defs>\n     <g>\n      <use style=\"fill:#440154;stroke:#440154;\" x=\"671.504688\" xlink:href=\"#md92aa4e292\" y=\"20.298437\"/>\n     </g>\n    </g>\n    <g id=\"text_15\">\n     <!-- $\\mathdefault{0}$ -->\n     <g transform=\"translate(689.504688 23.798437)scale(0.1 -0.1)\">\n      <use transform=\"translate(0 0.78125)\" xlink:href=\"#DejaVuSans-48\"/>\n     </g>\n    </g>\n    <g id=\"line2d_17\"/>\n    <g id=\"line2d_18\">\n     <defs>\n      <path d=\"M 0 3 \nC 0.795609 3 1.55874 2.683901 2.12132 2.12132 \nC 2.683901 1.55874 3 0.795609 3 0 \nC 3 -0.795609 2.683901 -1.55874 2.12132 -2.12132 \nC 1.55874 -2.683901 0.795609 -3 0 -3 \nC -0.795609 -3 -1.55874 -2.683901 -2.12132 -2.12132 \nC -2.683901 -1.55874 -3 -0.795609 -3 0 \nC -3 0.795609 -2.683901 1.55874 -2.12132 2.12132 \nC -1.55874 2.683901 -0.795609 3 0 3 \nz\n\" id=\"m31f6565dc9\" style=\"stroke:#3b528b;\"/>\n     </defs>\n     <g>\n      <use style=\"fill:#3b528b;stroke:#3b528b;\" x=\"671.504688\" xlink:href=\"#m31f6565dc9\" y=\"34.976562\"/>\n     </g>\n    </g>\n    <g id=\"text_16\">\n     <!-- $\\mathdefault{1}$ -->\n     <g transform=\"translate(689.504688 38.476562)scale(0.1 -0.1)\">\n      <use transform=\"translate(0 0.09375)\" xlink:href=\"#DejaVuSans-49\"/>\n     </g>\n    </g>\n    <g id=\"line2d_19\"/>\n    <g id=\"line2d_20\">\n     <defs>\n      <path d=\"M 0 3 \nC 0.795609 3 1.55874 2.683901 2.12132 2.12132 \nC 2.683901 1.55874 3 0.795609 3 0 \nC 3 -0.795609 2.683901 -1.55874 2.12132 -2.12132 \nC 1.55874 -2.683901 0.795609 -3 0 -3 \nC -0.795609 -3 -1.55874 -2.683901 -2.12132 -2.12132 \nC -2.683901 -1.55874 -3 -0.795609 -3 0 \nC -3 0.795609 -2.683901 1.55874 -2.12132 2.12132 \nC -1.55874 2.683901 -0.795609 3 0 3 \nz\n\" id=\"m20839cb400\" style=\"stroke:#21918c;\"/>\n     </defs>\n     <g>\n      <use style=\"fill:#21918c;stroke:#21918c;\" x=\"671.504688\" xlink:href=\"#m20839cb400\" y=\"49.654688\"/>\n     </g>\n    </g>\n    <g id=\"text_17\">\n     <!-- $\\mathdefault{2}$ -->\n     <g transform=\"translate(689.504688 53.154688)scale(0.1 -0.1)\">\n      <use transform=\"translate(0 0.78125)\" xlink:href=\"#DejaVuSans-50\"/>\n     </g>\n    </g>\n    <g id=\"line2d_21\"/>\n    <g id=\"line2d_22\">\n     <defs>\n      <path d=\"M 0 3 \nC 0.795609 3 1.55874 2.683901 2.12132 2.12132 \nC 2.683901 1.55874 3 0.795609 3 0 \nC 3 -0.795609 2.683901 -1.55874 2.12132 -2.12132 \nC 1.55874 -2.683901 0.795609 -3 0 -3 \nC -0.795609 -3 -1.55874 -2.683901 -2.12132 -2.12132 \nC -2.683901 -1.55874 -3 -0.795609 -3 0 \nC -3 0.795609 -2.683901 1.55874 -2.12132 2.12132 \nC -1.55874 2.683901 -0.795609 3 0 3 \nz\n\" id=\"m1e8e638cb7\" style=\"stroke:#5ec962;\"/>\n     </defs>\n     <g>\n      <use style=\"fill:#5ec962;stroke:#5ec962;\" x=\"671.504688\" xlink:href=\"#m1e8e638cb7\" y=\"64.332812\"/>\n     </g>\n    </g>\n    <g id=\"text_18\">\n     <!-- $\\mathdefault{3}$ -->\n     <g transform=\"translate(689.504688 67.832812)scale(0.1 -0.1)\">\n      <use transform=\"translate(0 0.78125)\" xlink:href=\"#DejaVuSans-51\"/>\n     </g>\n    </g>\n    <g id=\"line2d_23\"/>\n    <g id=\"line2d_24\">\n     <defs>\n      <path d=\"M 0 3 \nC 0.795609 3 1.55874 2.683901 2.12132 2.12132 \nC 2.683901 1.55874 3 0.795609 3 0 \nC 3 -0.795609 2.683901 -1.55874 2.12132 -2.12132 \nC 1.55874 -2.683901 0.795609 -3 0 -3 \nC -0.795609 -3 -1.55874 -2.683901 -2.12132 -2.12132 \nC -2.683901 -1.55874 -3 -0.795609 -3 0 \nC -3 0.795609 -2.683901 1.55874 -2.12132 2.12132 \nC -1.55874 2.683901 -0.795609 3 0 3 \nz\n\" id=\"m90cfee9b30\" style=\"stroke:#fde725;\"/>\n     </defs>\n     <g>\n      <use style=\"fill:#fde725;stroke:#fde725;\" x=\"671.504688\" xlink:href=\"#m90cfee9b30\" y=\"79.010937\"/>\n     </g>\n    </g>\n    <g id=\"text_19\">\n     <!-- $\\mathdefault{4}$ -->\n     <g transform=\"translate(689.504688 82.510937)scale(0.1 -0.1)\">\n      <defs>\n       <path d=\"M 37.796875 64.3125 \nL 12.890625 25.390625 \nL 37.796875 25.390625 \nz\nM 35.203125 72.90625 \nL 47.609375 72.90625 \nL 47.609375 25.390625 \nL 58.015625 25.390625 \nL 58.015625 17.1875 \nL 47.609375 17.1875 \nL 47.609375 0 \nL 37.796875 0 \nL 37.796875 17.1875 \nL 4.890625 17.1875 \nL 4.890625 26.703125 \nz\n\" id=\"DejaVuSans-52\"/>\n      </defs>\n      <use transform=\"translate(0 0.09375)\" xlink:href=\"#DejaVuSans-52\"/>\n     </g>\n    </g>\n   </g>\n  </g>\n </g>\n <defs>\n  <clipPath id=\"pd431080d20\">\n   <rect height=\"652.32\" width=\"669.6\" x=\"35.304688\" y=\"7.2\"/>\n  </clipPath>\n </defs>\n</svg>\n",
      "image/png": "[encoded data removed]"
     },
     "metadata": {
      "needs_background": "light"
     }
    }
   ],
   "source": [
    "pca = PCA(n_components=2, random_state=1)\n",
    "X_train_reduced = pca.fit_transform(X_train)\n",
    "\n",
    "svm = SVC(C=1000, kernel='rbf', gamma=0.001, random_state=1)\n",
    "svm.fit(X_train_reduced, Y_train)\n",
    "\n",
    "X_test_reduced = pca.transform(X_test)\n",
    "print('SVM accuracy: ', svm.score(X_test_reduced, Y_test))\n",
    "\n",
    "fig, ax = plt.subplots(figsize=(12,12))\n",
    "scatter = ax.scatter(X_train_reduced[:, 0], X_train_reduced[:, 1], c=Y_train)\n",
    "handles, labels = scatter.legend_elements()\n",
    "ax.legend(handles, labels)\n",
    "plt.show()\n",
    "\n",
    "del pca, svm\n",
    "del X_train_reduced, X_test_reduced"
   ]
  },
  {
   "cell_type": "code",
   "execution_count": 15,
   "metadata": {},
   "outputs": [
    {
     "output_type": "stream",
     "name": "stdout",
     "text": [
      "SVM accuracy:  0.6666666666666666\n"
     ]
    },
    {
     "output_type": "display_data",
     "data": {
      "application/vnd.plotly.v1+json": {
       "config": {
        "plotlyServerURL": "https://plot.ly"
       },
       "data": [
        {
         "hovertemplate": "x=%{x}<br>y=%{y}<br>z=%{z}<br>color=%{marker.color}<extra></extra>",
         "legendgroup": "",
         "marker": {
          "color": [
           4,
           4,
           0,
           1,
           2,
           3,
           0,
           3,
           0,
           4,
           0,
           4,
           0,
           0,
           0,
           0,
           4,
           0,
           1,
           0,
           3,
           4,
           1,
           4,
           0,
           1,
           2,
           2,
           4,
           4,
           3,
           4,
           4,
           0,
           0,
           0,
           0,
           4,
           3,
           2,
           2,
           1,
           0,
           4,
           0,
           3,
           0,
           0,
           3,
           4,
           0,
           0,
           1,
           0,
           0,
           0,
           1,
           4,
           0,
           0,
           0,
           4,
           0,
           3,
           4,
           1,
           4,
           1,
           0,
           0,
           0,
           0,
           4,
           0,
           2,
           4,
           4,
           0,
           2,
           0,
           2,
           0,
           0,
           2,
           0,
           0,
           1,
           4,
           0,
           4,
           1,
           0,
           3,
           0,
           0,
           4,
           0,
           0,
           0,
           0,
           0,
           0,
           3,
           0,
           0,
           1,
           4,
           3,
           3,
           0,
           4,
           0,
           0,
           0,
           2,
           0,
           1,
           4,
           4,
           1,
           0,
           0,
           0,
           0,
           0,
           4,
           1,
           0,
           4,
           0,
           1,
           4,
           1,
           4
          ],
          "coloraxis": "coloraxis",
          "symbol": "circle"
         },
         "mode": "markers",
         "name": "",
         "scene": "scene",
         "showlegend": false,
         "type": "scatter3d",
         "x": [
          -8.873983790898487,
          -6.891125282706764,
          -21.302165031235283,
          -14.963156570117,
          24.06604750031866,
          3.086842506367501,
          -8.024535771621684,
          15.077509735433525,
          13.78106754715575,
          21.00948910197499,
          -1.003748298964785,
          -3.9162251874121092,
          -2.2696995758149745,
          -16.21854738335325,
          -7.033139730744141,
          17.96627670359004,
          20.127606344999517,
          -10.135388562526883,
          -20.873228416046857,
          29.882251279907017,
          -11.903620098761362,
          5.021668371384668,
          3.0781138211097923,
          22.109133455893655,
          -29.042896805083778,
          -11.90723178027831,
          13.0727425221603,
          26.083600594662688,
          27.992086853943196,
          12.107162336887626,
          12.057554752964144,
          8.090980340201952,
          17.128015755909615,
          -3.076653337148029,
          -18.10754089125907,
          18.795367580404942,
          -3.0136240773492022,
          11.13265974059078,
          3.091790404501962,
          26.008198906032213,
          15.011012150800118,
          5.102967154414607,
          4.968941481408539,
          -8.89441899051507,
          -21.196610206112478,
          5.083640194050425,
          -18.089727937046355,
          23.761877059566377,
          -17.983849276513215,
          13.005022459430682,
          -7.163914611217258,
          25.887529857913997,
          -6.974887830463392,
          22.888112312139448,
          -13.046626789492574,
          -15.272805658270805,
          -17.964229351841578,
          -13.9204258460791,
          29.974567098811402,
          24.989119488122665,
          -22.155878658421813,
          17.097415922038532,
          -28.07907484193316,
          3.0557150487007205,
          5.068982107038172,
          -5.9486967771805634,
          -23.943258859349967,
          -12.951450010109095,
          -25.212966866860736,
          3.9956562953477883,
          21.965430398445267,
          -1.082766982270409,
          -15.9646246953154,
          -22.250337211859673,
          24.062765648945682,
          30.046983025847698,
          3.1390544617029743,
          20.61822227226178,
          16.016573276870236,
          -28.020962172888566,
          13.99391574286122,
          -23.262132080355563,
          -21.030513877150373,
          16.010827977782704,
          17.770291081362394,
          -13.2841743506581,
          -7.940024007551337,
          -20.94646974145007,
          -11.339130922383307,
          -15.871590217430164,
          -23.937956132194966,
          -16.087450920386473,
          -21.86720445486161,
          7.667233279199552,
          13.918637912931908,
          -25.89292084945353,
          -29.04589556378895,
          6.932799243312525,
          28.921565685950497,
          15.992737183257335,
          -6.279949045274745,
          2.6568933287189664,
          3.037244112508234,
          -4.239488616429817,
          2.711348069366615,
          -19.906161222061694,
          1.118204391991168,
          -2.923895074264361,
          -27.93657564296851,
          19.790481042210637,
          7.017571415795051,
          13.568631803714585,
          9.820242558927303,
          13.905047567727607,
          16.102186349529653,
          8.855306855628934,
          -12.939658196734149,
          25.078598587505635,
          -6.9525603613718205,
          1.0278318370476516,
          12.918792716328465,
          -5.0176222625574765,
          -16.08368768885568,
          -2.1213753358157286,
          -16.089061284905657,
          -11.866522554158449,
          -4.906735023646678,
          27.973277894275256,
          -11.930198171033071,
          -20.194336926148978,
          -8.970875740854616,
          -19.922177209972237,
          5.147479418878102,
          -4.982532287282327
         ],
         "y": [
          -8.587405373900719,
          -7.414240768980478,
          15.023918722587156,
          -3.686099176105956,
          -5.6323947638631,
          -6.135636877147166,
          -0.918128333797322,
          -5.5391365357337055,
          10.639969922534602,
          -2.100280553059993,
          -0.9026724336457354,
          -6.241551986279998,
          12.977410350772521,
          10.494437639481617,
          0.3400382351314044,
          0.6489155026496095,
          -8.145527191102955,
          5.997252116116315,
          -8.639816105792445,
          5.231014033436275,
          -6.765038098882017,
          -2.565684135085352,
          -5.80917888238594,
          -7.756541990600226,
          -0.0676743615131401,
          -7.03664452627918,
          -6.077625950707889,
          -5.942186630794972,
          -1.09938360133182,
          -7.087183901049696,
          -4.471281719365153,
          -6.232584481933533,
          -8.601048673042744,
          2.4294486531714234,
          4.322824287741432,
          9.988145467918155,
          -1.1622237565431757,
          -8.805302464236846,
          -6.090310171975533,
          -1.8251003828665597,
          -2.0583786108573383,
          -7.4704018906644505,
          0.0937664911527041,
          -7.248882923666514,
          8.701998261819554,
          -5.630806699913284,
          2.5690704376335125,
          11.218852037954049,
          -2.4278170727650243,
          -1.8183873029634166,
          6.699483729836274,
          4.691103428281328,
          -3.303099125029359,
          4.857117531927646,
          0.5673651013718443,
          12.905881610654582,
          -4.283408713241021,
          -6.084614091937443,
          -0.27842990073528057,
          -0.32492974464366137,
          6.15206431294119,
          -6.518796412473114,
          2.2304550808268546,
          -4.436014093883857,
          -5.1491107656455775,
          -5.044607042222605,
          -5.006258332006923,
          -4.6294815029826735,
          9.247469131932085,
          -1.149440793248288,
          0.4811768487780291,
          3.0932435495458104,
          -3.6857519537939214,
          11.625186365369585,
          -4.819041358206738,
          -3.766849360153514,
          -9.527900674499401,
          19.11354166989948,
          -2.6702768428621035,
          -1.258107427614685,
          -1.7662800895753223,
          11.946475565470683,
          0.19121071523749497,
          -2.0410797227341297,
          11.25418412040722,
          13.85661282396813,
          -5.213977749329452,
          -4.397770799573437,
          17.021985302232448,
          -8.76562451953561,
          -5.442770610126297,
          3.2435296752687597,
          -8.510341253366013,
          16.80892401877247,
          2.9782008359582863,
          -7.992020646372085,
          0.41155604244453825,
          2.1542646093110607,
          2.611486372001849,
          -0.8103660772145822,
          13.508081662960862,
          17.337293114454635,
          -3.111971188833534,
          11.481864426230286,
          14.363953021851641,
          -7.153040512893209,
          -7.865718747597966,
          -5.277306975860398,
          -4.765988645175578,
          9.850764287313888,
          -2.5470419490788827,
          22.23939552925278,
          8.564736834116413,
          3.404769397669169,
          -7.348099032639687,
          6.865630732557731,
          -5.273338604407124,
          -5.748882233677164,
          -4.37525201158312,
          -3.393657206730333,
          3.1094781309074935,
          -0.39681513803985,
          2.2537458761492513,
          4.731631272612151,
          3.1087400668281,
          -9.01335862721599,
          -6.694404233899662,
          0.5617816397405883,
          -5.6324866164352425,
          9.143526552786687,
          -3.536652744728363,
          -6.032442035859592,
          -9.90086247073098,
          -2.408746240742796
         ],
         "z": [
          -0.5164020329016268,
          -0.9969333843588818,
          0.9295108638020395,
          0.3392059269406834,
          -0.7463675684563029,
          0.5579797132943146,
          -0.6254529176905552,
          0.526919330442719,
          0.6275430234892285,
          -0.7382564663620081,
          0.2936873883350327,
          1.0594013476394737,
          -0.5807360473340636,
          0.8877058676478544,
          -0.9500911908580805,
          0.73001694265182,
          0.6711140200219793,
          0.8432073186760805,
          0.3266132877790019,
          0.5486501906719559,
          0.597507281208275,
          -1.002307866106955,
          0.2743851874902417,
          -0.29347262333523594,
          -0.5596539462387328,
          -0.9583174789840434,
          -0.7172820405075739,
          0.20714288971680775,
          -0.7524307404220152,
          0.7006164354508491,
          0.5420359810858465,
          0.7173334933437925,
          -0.7659718501381471,
          -0.6415657270127911,
          -0.8942568136294319,
          0.7835448930960883,
          -0.9488289681765393,
          -0.575491198482994,
          0.2507952315982944,
          0.23201346125320568,
          0.26237935859623207,
          -1.0100446840273671,
          1.071674057931747,
          -0.9901571987204572,
          0.7388303361553268,
          0.24779371988173637,
          -0.5755009378086896,
          -0.18462299739902882,
          0.6410395136560509,
          1.0370139280560384,
          -0.5823249488358154,
          1.0387842036003303,
          0.6258686974027394,
          -1.0094636669878176,
          -0.909494391102101,
          0.7468933666107676,
          -0.6168955219054528,
          1.089235825387357,
          -1.038815396203021,
          0.22207267176967446,
          -0.5423021437033057,
          0.6896067390208241,
          -0.8561182995035945,
          0.5682468263617925,
          -1.0179138779695227,
          -0.6561575162544802,
          -0.6258219515040634,
          -0.9408875991754855,
          -0.5149374311185044,
          0.5852117753292878,
          0.2574998416014305,
          -0.9507914433796458,
          1.1095042054921034,
          -0.8166982978444195,
          0.2197048955426706,
          -1.081779998401128,
          -0.24928883564348275,
          -0.8956742120450452,
          0.5632526399879458,
          -0.5697337809866307,
          -0.6941266263082168,
          -0.504410511499091,
          0.8399091641143275,
          0.2595952136045186,
          -0.956376925415956,
          0.43940098050883386,
          0.6172140705416274,
          0.8121879588321358,
          0.7383117322043851,
          1.0788176163768928,
          0.6620502853662462,
          0.6695218021870025,
          0.3083923735804625,
          -0.8939353044614163,
          0.29569306626800707,
          -0.15624017415936023,
          -0.8642172943634081,
          0.3109363279826867,
          0.5576064362105532,
          0.7269789760933901,
          -0.565975780402216,
          -0.8763003003637304,
          0.26878683737948184,
          0.39905775606941757,
          -0.8942617087535429,
          -0.9359114505282838,
          -1.0227698364748343,
          0.2730383031267403,
          0.3483431954111712,
          -0.6631737269404208,
          1.0499441240844534,
          0.6976130504356316,
          0.8009441395688278,
          0.6057281817098208,
          -1.0410809634589175,
          0.31172785487297433,
          -0.9447770231845771,
          0.9786067875753007,
          -0.6711171121845262,
          0.6022124969440578,
          -0.9911343953537856,
          0.7901386955390441,
          -0.5831830451883624,
          0.6599618247303198,
          1.1505484998489177,
          1.0657665217968668,
          0.29214685715253624,
          0.21876320115414752,
          -0.6642686162859676,
          0.891099836466176,
          0.6302351312094445,
          1.1068828539485371,
          -1.0247266557138615,
          -0.9724733883590724
         ]
        }
       ],
       "layout": {
        "coloraxis": {
         "colorbar": {
          "title": {
           "text": "color"
          }
         },
         "colorscale": [
          [
           0,
           "#0d0887"
          ],
          [
           0.1111111111111111,
           "#46039f"
          ],
          [
           0.2222222222222222,
           "#7201a8"
          ],
          [
           0.3333333333333333,
           "#9c179e"
          ],
          [
           0.4444444444444444,
           "#bd3786"
          ],
          [
           0.5555555555555556,
           "#d8576b"
          ],
          [
           0.6666666666666666,
           "#ed7953"
          ],
          [
           0.7777777777777778,
           "#fb9f3a"
          ],
          [
           0.8888888888888888,
           "#fdca26"
          ],
          [
           1,
           "#f0f921"
          ]
         ]
        },
        "height": 800,
        "legend": {
         "tracegroupgap": 0
        },
        "margin": {
         "t": 60
        },
        "scene": {
         "domain": {
          "x": [
           0,
           1
          ],
          "y": [
           0,
           1
          ]
         },
         "xaxis": {
          "title": {
           "text": "x"
          }
         },
         "yaxis": {
          "title": {
           "text": "y"
          }
         },
         "zaxis": {
          "title": {
           "text": "z"
          }
         }
        },
        "template": {
         "data": {
          "bar": [
           {
            "error_x": {
             "color": "#2a3f5f"
            },
            "error_y": {
             "color": "#2a3f5f"
            },
            "marker": {
             "line": {
              "color": "#E5ECF6",
              "width": 0.5
             }
            },
            "type": "bar"
           }
          ],
          "barpolar": [
           {
            "marker": {
             "line": {
              "color": "#E5ECF6",
              "width": 0.5
             }
            },
            "type": "barpolar"
           }
          ],
          "carpet": [
           {
            "aaxis": {
             "endlinecolor": "#2a3f5f",
             "gridcolor": "white",
             "linecolor": "white",
             "minorgridcolor": "white",
             "startlinecolor": "#2a3f5f"
            },
            "baxis": {
             "endlinecolor": "#2a3f5f",
             "gridcolor": "white",
             "linecolor": "white",
             "minorgridcolor": "white",
             "startlinecolor": "#2a3f5f"
            },
            "type": "carpet"
           }
          ],
          "choropleth": [
           {
            "colorbar": {
             "outlinewidth": 0,
             "ticks": ""
            },
            "type": "choropleth"
           }
          ],
          "contour": [
           {
            "colorbar": {
             "outlinewidth": 0,
             "ticks": ""
            },
            "colorscale": [
             [
              0,
              "#0d0887"
             ],
             [
              0.1111111111111111,
              "#46039f"
             ],
             [
              0.2222222222222222,
              "#7201a8"
             ],
             [
              0.3333333333333333,
              "#9c179e"
             ],
             [
              0.4444444444444444,
              "#bd3786"
             ],
             [
              0.5555555555555556,
              "#d8576b"
             ],
             [
              0.6666666666666666,
              "#ed7953"
             ],
             [
              0.7777777777777778,
              "#fb9f3a"
             ],
             [
              0.8888888888888888,
              "#fdca26"
             ],
             [
              1,
              "#f0f921"
             ]
            ],
            "type": "contour"
           }
          ],
          "contourcarpet": [
           {
            "colorbar": {
             "outlinewidth": 0,
             "ticks": ""
            },
            "type": "contourcarpet"
           }
          ],
          "heatmap": [
           {
            "colorbar": {
             "outlinewidth": 0,
             "ticks": ""
            },
            "colorscale": [
             [
              0,
              "#0d0887"
             ],
             [
              0.1111111111111111,
              "#46039f"
             ],
             [
              0.2222222222222222,
              "#7201a8"
             ],
             [
              0.3333333333333333,
              "#9c179e"
             ],
             [
              0.4444444444444444,
              "#bd3786"
             ],
             [
              0.5555555555555556,
              "#d8576b"
             ],
             [
              0.6666666666666666,
              "#ed7953"
             ],
             [
              0.7777777777777778,
              "#fb9f3a"
             ],
             [
              0.8888888888888888,
              "#fdca26"
             ],
             [
              1,
              "#f0f921"
             ]
            ],
            "type": "heatmap"
           }
          ],
          "heatmapgl": [
           {
            "colorbar": {
             "outlinewidth": 0,
             "ticks": ""
            },
            "colorscale": [
             [
              0,
              "#0d0887"
             ],
             [
              0.1111111111111111,
              "#46039f"
             ],
             [
              0.2222222222222222,
              "#7201a8"
             ],
             [
              0.3333333333333333,
              "#9c179e"
             ],
             [
              0.4444444444444444,
              "#bd3786"
             ],
             [
              0.5555555555555556,
              "#d8576b"
             ],
             [
              0.6666666666666666,
              "#ed7953"
             ],
             [
              0.7777777777777778,
              "#fb9f3a"
             ],
             [
              0.8888888888888888,
              "#fdca26"
             ],
             [
              1,
              "#f0f921"
             ]
            ],
            "type": "heatmapgl"
           }
          ],
          "histogram": [
           {
            "marker": {
             "colorbar": {
              "outlinewidth": 0,
              "ticks": ""
             }
            },
            "type": "histogram"
           }
          ],
          "histogram2d": [
           {
            "colorbar": {
             "outlinewidth": 0,
             "ticks": ""
            },
            "colorscale": [
             [
              0,
              "#0d0887"
             ],
             [
              0.1111111111111111,
              "#46039f"
             ],
             [
              0.2222222222222222,
              "#7201a8"
             ],
             [
              0.3333333333333333,
              "#9c179e"
             ],
             [
              0.4444444444444444,
              "#bd3786"
             ],
             [
              0.5555555555555556,
              "#d8576b"
             ],
             [
              0.6666666666666666,
              "#ed7953"
             ],
             [
              0.7777777777777778,
              "#fb9f3a"
             ],
             [
              0.8888888888888888,
              "#fdca26"
             ],
             [
              1,
              "#f0f921"
             ]
            ],
            "type": "histogram2d"
           }
          ],
          "histogram2dcontour": [
           {
            "colorbar": {
             "outlinewidth": 0,
             "ticks": ""
            },
            "colorscale": [
             [
              0,
              "#0d0887"
             ],
             [
              0.1111111111111111,
              "#46039f"
             ],
             [
              0.2222222222222222,
              "#7201a8"
             ],
             [
              0.3333333333333333,
              "#9c179e"
             ],
             [
              0.4444444444444444,
              "#bd3786"
             ],
             [
              0.5555555555555556,
              "#d8576b"
             ],
             [
              0.6666666666666666,
              "#ed7953"
             ],
             [
              0.7777777777777778,
              "#fb9f3a"
             ],
             [
              0.8888888888888888,
              "#fdca26"
             ],
             [
              1,
              "#f0f921"
             ]
            ],
            "type": "histogram2dcontour"
           }
          ],
          "mesh3d": [
           {
            "colorbar": {
             "outlinewidth": 0,
             "ticks": ""
            },
            "type": "mesh3d"
           }
          ],
          "parcoords": [
           {
            "line": {
             "colorbar": {
              "outlinewidth": 0,
              "ticks": ""
             }
            },
            "type": "parcoords"
           }
          ],
          "pie": [
           {
            "automargin": true,
            "type": "pie"
           }
          ],
          "scatter": [
           {
            "marker": {
             "colorbar": {
              "outlinewidth": 0,
              "ticks": ""
             }
            },
            "type": "scatter"
           }
          ],
          "scatter3d": [
           {
            "line": {
             "colorbar": {
              "outlinewidth": 0,
              "ticks": ""
             }
            },
            "marker": {
             "colorbar": {
              "outlinewidth": 0,
              "ticks": ""
             }
            },
            "type": "scatter3d"
           }
          ],
          "scattercarpet": [
           {
            "marker": {
             "colorbar": {
              "outlinewidth": 0,
              "ticks": ""
             }
            },
            "type": "scattercarpet"
           }
          ],
          "scattergeo": [
           {
            "marker": {
             "colorbar": {
              "outlinewidth": 0,
              "ticks": ""
             }
            },
            "type": "scattergeo"
           }
          ],
          "scattergl": [
           {
            "marker": {
             "colorbar": {
              "outlinewidth": 0,
              "ticks": ""
             }
            },
            "type": "scattergl"
           }
          ],
          "scattermapbox": [
           {
            "marker": {
             "colorbar": {
              "outlinewidth": 0,
              "ticks": ""
             }
            },
            "type": "scattermapbox"
           }
          ],
          "scatterpolar": [
           {
            "marker": {
             "colorbar": {
              "outlinewidth": 0,
              "ticks": ""
             }
            },
            "type": "scatterpolar"
           }
          ],
          "scatterpolargl": [
           {
            "marker": {
             "colorbar": {
              "outlinewidth": 0,
              "ticks": ""
             }
            },
            "type": "scatterpolargl"
           }
          ],
          "scatterternary": [
           {
            "marker": {
             "colorbar": {
              "outlinewidth": 0,
              "ticks": ""
             }
            },
            "type": "scatterternary"
           }
          ],
          "surface": [
           {
            "colorbar": {
             "outlinewidth": 0,
             "ticks": ""
            },
            "colorscale": [
             [
              0,
              "#0d0887"
             ],
             [
              0.1111111111111111,
              "#46039f"
             ],
             [
              0.2222222222222222,
              "#7201a8"
             ],
             [
              0.3333333333333333,
              "#9c179e"
             ],
             [
              0.4444444444444444,
              "#bd3786"
             ],
             [
              0.5555555555555556,
              "#d8576b"
             ],
             [
              0.6666666666666666,
              "#ed7953"
             ],
             [
              0.7777777777777778,
              "#fb9f3a"
             ],
             [
              0.8888888888888888,
              "#fdca26"
             ],
             [
              1,
              "#f0f921"
             ]
            ],
            "type": "surface"
           }
          ],
          "table": [
           {
            "cells": {
             "fill": {
              "color": "#EBF0F8"
             },
             "line": {
              "color": "white"
             }
            },
            "header": {
             "fill": {
              "color": "#C8D4E3"
             },
             "line": {
              "color": "white"
             }
            },
            "type": "table"
           }
          ]
         },
         "layout": {
          "annotationdefaults": {
           "arrowcolor": "#2a3f5f",
           "arrowhead": 0,
           "arrowwidth": 1
          },
          "autotypenumbers": "strict",
          "coloraxis": {
           "colorbar": {
            "outlinewidth": 0,
            "ticks": ""
           }
          },
          "colorscale": {
           "diverging": [
            [
             0,
             "#8e0152"
            ],
            [
             0.1,
             "#c51b7d"
            ],
            [
             0.2,
             "#de77ae"
            ],
            [
             0.3,
             "#f1b6da"
            ],
            [
             0.4,
             "#fde0ef"
            ],
            [
             0.5,
             "#f7f7f7"
            ],
            [
             0.6,
             "#e6f5d0"
            ],
            [
             0.7,
             "#b8e186"
            ],
            [
             0.8,
             "#7fbc41"
            ],
            [
             0.9,
             "#4d9221"
            ],
            [
             1,
             "#276419"
            ]
           ],
           "sequential": [
            [
             0,
             "#0d0887"
            ],
            [
             0.1111111111111111,
             "#46039f"
            ],
            [
             0.2222222222222222,
             "#7201a8"
            ],
            [
             0.3333333333333333,
             "#9c179e"
            ],
            [
             0.4444444444444444,
             "#bd3786"
            ],
            [
             0.5555555555555556,
             "#d8576b"
            ],
            [
             0.6666666666666666,
             "#ed7953"
            ],
            [
             0.7777777777777778,
             "#fb9f3a"
            ],
            [
             0.8888888888888888,
             "#fdca26"
            ],
            [
             1,
             "#f0f921"
            ]
           ],
           "sequentialminus": [
            [
             0,
             "#0d0887"
            ],
            [
             0.1111111111111111,
             "#46039f"
            ],
            [
             0.2222222222222222,
             "#7201a8"
            ],
            [
             0.3333333333333333,
             "#9c179e"
            ],
            [
             0.4444444444444444,
             "#bd3786"
            ],
            [
             0.5555555555555556,
             "#d8576b"
            ],
            [
             0.6666666666666666,
             "#ed7953"
            ],
            [
             0.7777777777777778,
             "#fb9f3a"
            ],
            [
             0.8888888888888888,
             "#fdca26"
            ],
            [
             1,
             "#f0f921"
            ]
           ]
          },
          "colorway": [
           "#636efa",
           "#EF553B",
           "#00cc96",
           "#ab63fa",
           "#FFA15A",
           "#19d3f3",
           "#FF6692",
           "#B6E880",
           "#FF97FF",
           "#FECB52"
          ],
          "font": {
           "color": "#2a3f5f"
          },
          "geo": {
           "bgcolor": "white",
           "lakecolor": "white",
           "landcolor": "#E5ECF6",
           "showlakes": true,
           "showland": true,
           "subunitcolor": "white"
          },
          "hoverlabel": {
           "align": "left"
          },
          "hovermode": "closest",
          "mapbox": {
           "style": "light"
          },
          "paper_bgcolor": "white",
          "plot_bgcolor": "#E5ECF6",
          "polar": {
           "angularaxis": {
            "gridcolor": "white",
            "linecolor": "white",
            "ticks": ""
           },
           "bgcolor": "#E5ECF6",
           "radialaxis": {
            "gridcolor": "white",
            "linecolor": "white",
            "ticks": ""
           }
          },
          "scene": {
           "xaxis": {
            "backgroundcolor": "#E5ECF6",
            "gridcolor": "white",
            "gridwidth": 2,
            "linecolor": "white",
            "showbackground": true,
            "ticks": "",
            "zerolinecolor": "white"
           },
           "yaxis": {
            "backgroundcolor": "#E5ECF6",
            "gridcolor": "white",
            "gridwidth": 2,
            "linecolor": "white",
            "showbackground": true,
            "ticks": "",
            "zerolinecolor": "white"
           },
           "zaxis": {
            "backgroundcolor": "#E5ECF6",
            "gridcolor": "white",
            "gridwidth": 2,
            "linecolor": "white",
            "showbackground": true,
            "ticks": "",
            "zerolinecolor": "white"
           }
          },
          "shapedefaults": {
           "line": {
            "color": "#2a3f5f"
           }
          },
          "ternary": {
           "aaxis": {
            "gridcolor": "white",
            "linecolor": "white",
            "ticks": ""
           },
           "baxis": {
            "gridcolor": "white",
            "linecolor": "white",
            "ticks": ""
           },
           "bgcolor": "#E5ECF6",
           "caxis": {
            "gridcolor": "white",
            "linecolor": "white",
            "ticks": ""
           }
          },
          "title": {
           "x": 0.05
          },
          "xaxis": {
           "automargin": true,
           "gridcolor": "white",
           "linecolor": "white",
           "ticks": "",
           "title": {
            "standoff": 15
           },
           "zerolinecolor": "white",
           "zerolinewidth": 2
          },
          "yaxis": {
           "automargin": true,
           "gridcolor": "white",
           "linecolor": "white",
           "ticks": "",
           "title": {
            "standoff": 15
           },
           "zerolinecolor": "white",
           "zerolinewidth": 2
          }
         }
        },
        "width": 800
       }
      }
     },
     "metadata": {}
    }
   ],
   "source": [
    "import plotly.express as px\n",
    "\n",
    "pca = PCA(n_components=3, random_state=1)\n",
    "X_train_reduced = pca.fit_transform(X_train)\n",
    "\n",
    "svm = SVC(C=1000, kernel='rbf', gamma=0.001, random_state=1)\n",
    "svm.fit(X_train_reduced, Y_train)\n",
    "\n",
    "X_test_reduced = pca.transform(X_test)\n",
    "print('SVM accuracy: ', svm.score(X_test_reduced, Y_test))\n",
    "\n",
    "px.scatter_3d(x=X_train_reduced[:,0], y=X_train_reduced[:,1], z=X_train_reduced[:,2], color=Y_train, width=800, height=800)"
   ]
  },
  {
   "cell_type": "code",
   "execution_count": 19,
   "metadata": {},
   "outputs": [
    {
     "output_type": "stream",
     "name": "stdout",
     "text": [
      "Pipeline(steps=[('pca', PCA(n_components=6, random_state=1)),\n                ('svm', SVC(C=1000, gamma=0.001, random_state=1))])\n0.99\n"
     ]
    }
   ],
   "source": [
    "from sklearn.pipeline import Pipeline\n",
    "\n",
    "pca = PCA(random_state=1)\n",
    "svm = SVC(random_state=1)\n",
    "pipe = Pipeline(steps=[('pca', pca), ('svm', svm)])\n",
    "\n",
    "param_grid = [\n",
    "    {'pca__n_components': [2, 3, 5, 6, 7, 8], 'svm__C': [1, 10, 100, 1000], 'svm__kernel': ['linear']},\n",
    "    {'pca__n_components': [2, 3, 5, 6, 7, 8], 'svm__C': [1, 10, 100, 1000], 'svm__kernel': ['rbf'], 'svm__gamma': [1, 0.01, 0.001, 0.0001]},\n",
    "]\n",
    "cv = GridSearchCV(estimator=pipe, param_grid=param_grid, n_jobs=-1)\n",
    "cv.fit(X, Y)\n",
    "\n",
    "print(cv.best_estimator_)\n",
    "print(cv.best_score_)\n",
    "\n",
    "del pca, svm, pipe"
   ]
  },
  {
   "cell_type": "code",
   "execution_count": 37,
   "metadata": {},
   "outputs": [
    {
     "output_type": "execute_result",
     "data": {
      "text/plain": [
       "     pca__n_components  svm__C svm__kernel  svm__gamma  score\n",
       "119                  8    1000         rbf      0.0001  0.990\n",
       "118                  8    1000         rbf      0.0010  0.990\n",
       "86                   6    1000         rbf      0.0010  0.990\n",
       "87                   6    1000         rbf      0.0001  0.990\n",
       "102                  7    1000         rbf      0.0010  0.990\n",
       "103                  7    1000         rbf      0.0001  0.990\n",
       "15                   6    1000      linear         NaN  0.985\n",
       "23                   8    1000      linear         NaN  0.985\n",
       "22                   8     100      linear         NaN  0.985\n",
       "20                   8       1      linear         NaN  0.985"
      ],
      "text/html": "<div>\n<style scoped>\n    .dataframe tbody tr th:only-of-type {\n        vertical-align: middle;\n    }\n\n    .dataframe tbody tr th {\n        vertical-align: top;\n    }\n\n    .dataframe thead th {\n        text-align: right;\n    }\n</style>\n<table border=\"1\" class=\"dataframe\">\n  <thead>\n    <tr style=\"text-align: right;\">\n      <th></th>\n      <th>pca__n_components</th>\n      <th>svm__C</th>\n      <th>svm__kernel</th>\n      <th>svm__gamma</th>\n      <th>score</th>\n    </tr>\n  </thead>\n  <tbody>\n    <tr>\n      <th>119</th>\n      <td>8</td>\n      <td>1000</td>\n      <td>rbf</td>\n      <td>0.0001</td>\n      <td>0.990</td>\n    </tr>\n    <tr>\n      <th>118</th>\n      <td>8</td>\n      <td>1000</td>\n      <td>rbf</td>\n      <td>0.0010</td>\n      <td>0.990</td>\n    </tr>\n    <tr>\n      <th>86</th>\n      <td>6</td>\n      <td>1000</td>\n      <td>rbf</td>\n      <td>0.0010</td>\n      <td>0.990</td>\n    </tr>\n    <tr>\n      <th>87</th>\n      <td>6</td>\n      <td>1000</td>\n      <td>rbf</td>\n      <td>0.0001</td>\n      <td>0.990</td>\n    </tr>\n    <tr>\n      <th>102</th>\n      <td>7</td>\n      <td>1000</td>\n      <td>rbf</td>\n      <td>0.0010</td>\n      <td>0.990</td>\n    </tr>\n    <tr>\n      <th>103</th>\n      <td>7</td>\n      <td>1000</td>\n      <td>rbf</td>\n      <td>0.0001</td>\n      <td>0.990</td>\n    </tr>\n    <tr>\n      <th>15</th>\n      <td>6</td>\n      <td>1000</td>\n      <td>linear</td>\n      <td>NaN</td>\n      <td>0.985</td>\n    </tr>\n    <tr>\n      <th>23</th>\n      <td>8</td>\n      <td>1000</td>\n      <td>linear</td>\n      <td>NaN</td>\n      <td>0.985</td>\n    </tr>\n    <tr>\n      <th>22</th>\n      <td>8</td>\n      <td>100</td>\n      <td>linear</td>\n      <td>NaN</td>\n      <td>0.985</td>\n    </tr>\n    <tr>\n      <th>20</th>\n      <td>8</td>\n      <td>1</td>\n      <td>linear</td>\n      <td>NaN</td>\n      <td>0.985</td>\n    </tr>\n  </tbody>\n</table>\n</div>"
     },
     "metadata": {},
     "execution_count": 37
    }
   ],
   "source": [
    "res = pd.DataFrame(cv.cv_results_['params']).join(pd.DataFrame({'score': cv.cv_results_['mean_test_score']}))\n",
    "res.sort_values(by='score', ascending=False).head(10)"
   ]
  },
  {
   "cell_type": "code",
   "execution_count": 17,
   "metadata": {},
   "outputs": [
    {
     "output_type": "stream",
     "name": "stdout",
     "text": [
      "Pipeline(steps=[('pca', PCA(n_components=6, random_state=1)),\n                ('rf',\n                 RandomForestClassifier(n_estimators=50, random_state=1))])\n0.9800000000000001\n"
     ]
    }
   ],
   "source": [
    "from sklearn.pipeline import Pipeline\n",
    "\n",
    "pca = PCA(random_state=1)\n",
    "rf = RandomForestClassifier(random_state=1)\n",
    "pipe = Pipeline(steps=[('pca', pca), ('rf', rf)])\n",
    "\n",
    "param_grid = [\n",
    "    {'pca__n_components': [2, 3, 5, 6, 7, 8], 'rf__n_estimators': [10, 50, 100, 200], 'rf__max_depth': [None, 5, 7, 8, 9]},\n",
    "]\n",
    "cv = GridSearchCV(estimator=pipe, param_grid=param_grid, n_jobs=-1)\n",
    "cv.fit(X, Y)\n",
    "\n",
    "print(cv.best_estimator_)\n",
    "print(cv.best_score_)"
   ]
  },
  {
   "cell_type": "code",
   "execution_count": 18,
   "metadata": {},
   "outputs": [
    {
     "output_type": "execute_result",
     "data": {
      "text/plain": [
       "'\\nhttps://www.kaggle.com/philippurwokoap/svm-multiclass-classification\\nSVM: 0.7\\n\\nhttps://www.kaggle.com/karanpatel219/drug-classification-100-random-forest\\nRF: 1.0 (?)\\n'"
      ]
     },
     "metadata": {},
     "execution_count": 18
    }
   ],
   "source": [
    "\n",
    "\"\"\"\n",
    "https://www.kaggle.com/philippurwokoap/svm-multiclass-classification\n",
    "SVM: 0.7\n",
    "\n",
    "https://www.kaggle.com/karanpatel219/drug-classification-100-random-forest\n",
    "RF: 1.0 (?)\n",
    "\"\"\""
   ]
  }
 ]
}