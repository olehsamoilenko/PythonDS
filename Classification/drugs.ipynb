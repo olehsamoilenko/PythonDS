{
 "metadata": {
  "language_info": {
   "codemirror_mode": {
    "name": "ipython",
    "version": 3
   },
   "file_extension": ".py",
   "mimetype": "text/x-python",
   "name": "python",
   "nbconvert_exporter": "python",
   "pygments_lexer": "ipython3",
   "version": "3.7.5-final"
  },
  "orig_nbformat": 2,
  "kernelspec": {
   "name": "python37564bita1407803385845249f26873a8a1784fa",
   "display_name": "Python 3.7.5 64-bit",
   "language": "python"
  }
 },
 "nbformat": 4,
 "nbformat_minor": 2,
 "cells": [
  {
   "cell_type": "code",
   "execution_count": 6,
   "metadata": {},
   "outputs": [
    {
     "output_type": "execute_result",
     "data": {
      "text/plain": [
       "     Age Sex      BP Cholesterol  Na_to_K   Drug\n",
       "0     23   F    HIGH        HIGH   25.355  DrugY\n",
       "1     47   M     LOW        HIGH   13.093  drugC\n",
       "2     47   M     LOW        HIGH   10.114  drugC\n",
       "3     28   F  NORMAL        HIGH    7.798  drugX\n",
       "4     61   F     LOW        HIGH   18.043  DrugY\n",
       "..   ...  ..     ...         ...      ...    ...\n",
       "195   56   F     LOW        HIGH   11.567  drugC\n",
       "196   16   M     LOW        HIGH   12.006  drugC\n",
       "197   52   M  NORMAL        HIGH    9.894  drugX\n",
       "198   23   M  NORMAL      NORMAL   14.020  drugX\n",
       "199   40   F     LOW      NORMAL   11.349  drugX\n",
       "\n",
       "[200 rows x 6 columns]"
      ],
      "text/html": "<div>\n<style scoped>\n    .dataframe tbody tr th:only-of-type {\n        vertical-align: middle;\n    }\n\n    .dataframe tbody tr th {\n        vertical-align: top;\n    }\n\n    .dataframe thead th {\n        text-align: right;\n    }\n</style>\n<table border=\"1\" class=\"dataframe\">\n  <thead>\n    <tr style=\"text-align: right;\">\n      <th></th>\n      <th>Age</th>\n      <th>Sex</th>\n      <th>BP</th>\n      <th>Cholesterol</th>\n      <th>Na_to_K</th>\n      <th>Drug</th>\n    </tr>\n  </thead>\n  <tbody>\n    <tr>\n      <th>0</th>\n      <td>23</td>\n      <td>F</td>\n      <td>HIGH</td>\n      <td>HIGH</td>\n      <td>25.355</td>\n      <td>DrugY</td>\n    </tr>\n    <tr>\n      <th>1</th>\n      <td>47</td>\n      <td>M</td>\n      <td>LOW</td>\n      <td>HIGH</td>\n      <td>13.093</td>\n      <td>drugC</td>\n    </tr>\n    <tr>\n      <th>2</th>\n      <td>47</td>\n      <td>M</td>\n      <td>LOW</td>\n      <td>HIGH</td>\n      <td>10.114</td>\n      <td>drugC</td>\n    </tr>\n    <tr>\n      <th>3</th>\n      <td>28</td>\n      <td>F</td>\n      <td>NORMAL</td>\n      <td>HIGH</td>\n      <td>7.798</td>\n      <td>drugX</td>\n    </tr>\n    <tr>\n      <th>4</th>\n      <td>61</td>\n      <td>F</td>\n      <td>LOW</td>\n      <td>HIGH</td>\n      <td>18.043</td>\n      <td>DrugY</td>\n    </tr>\n    <tr>\n      <th>...</th>\n      <td>...</td>\n      <td>...</td>\n      <td>...</td>\n      <td>...</td>\n      <td>...</td>\n      <td>...</td>\n    </tr>\n    <tr>\n      <th>195</th>\n      <td>56</td>\n      <td>F</td>\n      <td>LOW</td>\n      <td>HIGH</td>\n      <td>11.567</td>\n      <td>drugC</td>\n    </tr>\n    <tr>\n      <th>196</th>\n      <td>16</td>\n      <td>M</td>\n      <td>LOW</td>\n      <td>HIGH</td>\n      <td>12.006</td>\n      <td>drugC</td>\n    </tr>\n    <tr>\n      <th>197</th>\n      <td>52</td>\n      <td>M</td>\n      <td>NORMAL</td>\n      <td>HIGH</td>\n      <td>9.894</td>\n      <td>drugX</td>\n    </tr>\n    <tr>\n      <th>198</th>\n      <td>23</td>\n      <td>M</td>\n      <td>NORMAL</td>\n      <td>NORMAL</td>\n      <td>14.020</td>\n      <td>drugX</td>\n    </tr>\n    <tr>\n      <th>199</th>\n      <td>40</td>\n      <td>F</td>\n      <td>LOW</td>\n      <td>NORMAL</td>\n      <td>11.349</td>\n      <td>drugX</td>\n    </tr>\n  </tbody>\n</table>\n<p>200 rows × 6 columns</p>\n</div>"
     },
     "metadata": {},
     "execution_count": 6
    }
   ],
   "source": [
    "import pandas as pd\n",
    "\n",
    "df = pd.read_csv('drug200.csv')\n",
    "df"
   ]
  },
  {
   "cell_type": "code",
   "execution_count": 7,
   "metadata": {},
   "outputs": [
    {
     "output_type": "stream",
     "name": "stdout",
     "text": [
      "<class 'pandas.core.frame.DataFrame'>\nRangeIndex: 200 entries, 0 to 199\nData columns (total 6 columns):\n #   Column       Non-Null Count  Dtype  \n---  ------       --------------  -----  \n 0   Age          200 non-null    int64  \n 1   Sex          200 non-null    object \n 2   BP           200 non-null    object \n 3   Cholesterol  200 non-null    object \n 4   Na_to_K      200 non-null    float64\n 5   Drug         200 non-null    object \ndtypes: float64(1), int64(1), object(4)\nmemory usage: 9.5+ KB\n"
     ]
    }
   ],
   "source": [
    "df.info()"
   ]
  },
  {
   "cell_type": "code",
   "execution_count": 8,
   "metadata": {},
   "outputs": [
    {
     "output_type": "execute_result",
     "data": {
      "text/plain": [
       "              Age     Na_to_K\n",
       "count  200.000000  200.000000\n",
       "mean    44.315000   16.084485\n",
       "std     16.544315    7.223956\n",
       "min     15.000000    6.269000\n",
       "25%     31.000000   10.445500\n",
       "50%     45.000000   13.936500\n",
       "75%     58.000000   19.380000\n",
       "max     74.000000   38.247000"
      ],
      "text/html": "<div>\n<style scoped>\n    .dataframe tbody tr th:only-of-type {\n        vertical-align: middle;\n    }\n\n    .dataframe tbody tr th {\n        vertical-align: top;\n    }\n\n    .dataframe thead th {\n        text-align: right;\n    }\n</style>\n<table border=\"1\" class=\"dataframe\">\n  <thead>\n    <tr style=\"text-align: right;\">\n      <th></th>\n      <th>Age</th>\n      <th>Na_to_K</th>\n    </tr>\n  </thead>\n  <tbody>\n    <tr>\n      <th>count</th>\n      <td>200.000000</td>\n      <td>200.000000</td>\n    </tr>\n    <tr>\n      <th>mean</th>\n      <td>44.315000</td>\n      <td>16.084485</td>\n    </tr>\n    <tr>\n      <th>std</th>\n      <td>16.544315</td>\n      <td>7.223956</td>\n    </tr>\n    <tr>\n      <th>min</th>\n      <td>15.000000</td>\n      <td>6.269000</td>\n    </tr>\n    <tr>\n      <th>25%</th>\n      <td>31.000000</td>\n      <td>10.445500</td>\n    </tr>\n    <tr>\n      <th>50%</th>\n      <td>45.000000</td>\n      <td>13.936500</td>\n    </tr>\n    <tr>\n      <th>75%</th>\n      <td>58.000000</td>\n      <td>19.380000</td>\n    </tr>\n    <tr>\n      <th>max</th>\n      <td>74.000000</td>\n      <td>38.247000</td>\n    </tr>\n  </tbody>\n</table>\n</div>"
     },
     "metadata": {},
     "execution_count": 8
    }
   ],
   "source": [
    "df.describe()"
   ]
  },
  {
   "cell_type": "code",
   "execution_count": 9,
   "metadata": {},
   "outputs": [
    {
     "output_type": "stream",
     "name": "stdout",
     "text": [
      "M    104\nF     96\nName: Sex, dtype: int64\n\nHIGH      77\nLOW       64\nNORMAL    59\nName: BP, dtype: int64\n\nHIGH      103\nNORMAL     97\nName: Cholesterol, dtype: int64\n\nDrugY    91\ndrugX    54\ndrugA    23\ndrugC    16\ndrugB    16\nName: Drug, dtype: int64\n"
     ]
    }
   ],
   "source": [
    "print(df.Sex.value_counts(),\n",
    "      df.BP.value_counts(), # Blood Pressure Levels\n",
    "      df.Cholesterol.value_counts(),\n",
    "      df.Drug.value_counts(),\n",
    "      sep='\\n'*2)"
   ]
  },
  {
   "cell_type": "code",
   "execution_count": 10,
   "metadata": {},
   "outputs": [
    {
     "output_type": "stream",
     "name": "stdout",
     "text": [
      "Sex ['F' 'M'] => [0 1]\nBP ['HIGH' 'LOW' 'NORMAL'] => [0 1 2]\nCholesterol ['HIGH' 'NORMAL'] => [0 1]\nDrug ['DrugY' 'drugC' 'drugX' 'drugA' 'drugB'] => [0 3 4 1 2]\n"
     ]
    }
   ],
   "source": [
    "from sklearn.preprocessing import LabelEncoder\n",
    "\n",
    "df_int = df.copy()\n",
    "for col in ['Sex', 'BP', 'Cholesterol', 'Drug']:\n",
    "    df_int[col] = LabelEncoder().fit_transform(df[col])\n",
    "    print(col, df[col].unique(), '=>', df_int[col].unique())"
   ]
  },
  {
   "cell_type": "code",
   "execution_count": 12,
   "metadata": {},
   "outputs": [
    {
     "output_type": "stream",
     "name": "stdout",
     "text": [
      "(134, 5) (134,)\n(66, 5) (66,)\n"
     ]
    },
    {
     "output_type": "execute_result",
     "data": {
      "text/plain": [
       "     Age  Sex  BP  Cholesterol  Na_to_K\n",
       "127   35    1   2            1    7.845\n",
       "105   37    1   1            1    8.968\n",
       "48    23    1   2            0   31.686\n",
       "66    29    1   0            0   12.856\n",
       "54    68    0   0            1   10.189\n",
       "..   ...  ...  ..          ...      ...\n",
       "133   24    1   2            0   25.786\n",
       "137   35    0   0            0   12.894\n",
       "72    24    0   2            0   10.605\n",
       "140   49    1   0            1    6.269\n",
       "37    39    1   1            1   13.938\n",
       "\n",
       "[134 rows x 5 columns]"
      ],
      "text/html": "<div>\n<style scoped>\n    .dataframe tbody tr th:only-of-type {\n        vertical-align: middle;\n    }\n\n    .dataframe tbody tr th {\n        vertical-align: top;\n    }\n\n    .dataframe thead th {\n        text-align: right;\n    }\n</style>\n<table border=\"1\" class=\"dataframe\">\n  <thead>\n    <tr style=\"text-align: right;\">\n      <th></th>\n      <th>Age</th>\n      <th>Sex</th>\n      <th>BP</th>\n      <th>Cholesterol</th>\n      <th>Na_to_K</th>\n    </tr>\n  </thead>\n  <tbody>\n    <tr>\n      <th>127</th>\n      <td>35</td>\n      <td>1</td>\n      <td>2</td>\n      <td>1</td>\n      <td>7.845</td>\n    </tr>\n    <tr>\n      <th>105</th>\n      <td>37</td>\n      <td>1</td>\n      <td>1</td>\n      <td>1</td>\n      <td>8.968</td>\n    </tr>\n    <tr>\n      <th>48</th>\n      <td>23</td>\n      <td>1</td>\n      <td>2</td>\n      <td>0</td>\n      <td>31.686</td>\n    </tr>\n    <tr>\n      <th>66</th>\n      <td>29</td>\n      <td>1</td>\n      <td>0</td>\n      <td>0</td>\n      <td>12.856</td>\n    </tr>\n    <tr>\n      <th>54</th>\n      <td>68</td>\n      <td>0</td>\n      <td>0</td>\n      <td>1</td>\n      <td>10.189</td>\n    </tr>\n    <tr>\n      <th>...</th>\n      <td>...</td>\n      <td>...</td>\n      <td>...</td>\n      <td>...</td>\n      <td>...</td>\n    </tr>\n    <tr>\n      <th>133</th>\n      <td>24</td>\n      <td>1</td>\n      <td>2</td>\n      <td>0</td>\n      <td>25.786</td>\n    </tr>\n    <tr>\n      <th>137</th>\n      <td>35</td>\n      <td>0</td>\n      <td>0</td>\n      <td>0</td>\n      <td>12.894</td>\n    </tr>\n    <tr>\n      <th>72</th>\n      <td>24</td>\n      <td>0</td>\n      <td>2</td>\n      <td>0</td>\n      <td>10.605</td>\n    </tr>\n    <tr>\n      <th>140</th>\n      <td>49</td>\n      <td>1</td>\n      <td>0</td>\n      <td>1</td>\n      <td>6.269</td>\n    </tr>\n    <tr>\n      <th>37</th>\n      <td>39</td>\n      <td>1</td>\n      <td>1</td>\n      <td>1</td>\n      <td>13.938</td>\n    </tr>\n  </tbody>\n</table>\n<p>134 rows × 5 columns</p>\n</div>"
     },
     "metadata": {},
     "execution_count": 12
    }
   ],
   "source": [
    "from sklearn.model_selection import train_test_split\n",
    "\n",
    "X = df_int[['Age', 'Sex', 'BP', 'Cholesterol', 'Na_to_K']]\n",
    "Y = df_int['Drug']\n",
    "\n",
    "X_train, X_test, Y_train, Y_test = train_test_split(X, Y, random_state=1, test_size=0.33)\n",
    "print(X_train.shape, Y_train.shape)\n",
    "print(X_test.shape, Y_test.shape)\n",
    "\n",
    "X_train"
   ]
  },
  {
   "cell_type": "code",
   "execution_count": 13,
   "metadata": {},
   "outputs": [
    {
     "output_type": "stream",
     "name": "stdout",
     "text": [
      "SVM accuracy:  0.9848484848484849\nSVM confusion matrix:\n[[28  0  0  0  0]\n [ 0  6  0  0  0]\n [ 0  1  5  0  0]\n [ 0  0  0  4  0]\n [ 0  0  0  0 22]]\n"
     ]
    }
   ],
   "source": [
    "from sklearn.svm import SVC\n",
    "from sklearn.metrics import confusion_matrix\n",
    "\n",
    "svm = SVC(kernel='linear', random_state=1)\n",
    "svm.fit(X_train, Y_train)\n",
    "\n",
    "print('SVM accuracy: ', svm.score(X_test, Y_test))\n",
    "print('SVM confusion matrix:')\n",
    "print(confusion_matrix(Y_test, svm.predict(X_test))) # x - prediction, y - actual\n",
    "vec_lin = svm.support_vectors_\n",
    "\n",
    "del svm"
   ]
  },
  {
   "cell_type": "code",
   "execution_count": 14,
   "metadata": {},
   "outputs": [
    {
     "output_type": "stream",
     "name": "stdout",
     "text": [
      "SVM_rbf (rbf) accuracy:  0.7424242424242424\nSVM_rbf (rbf) confusion matrix:\n[[28  0  0  0  0]\n [ 1  0  0  0  5]\n [ 0  0  0  0  6]\n [ 0  0  0  0  4]\n [ 1  0  0  0 21]]\n"
     ]
    }
   ],
   "source": [
    "svm_rbf = SVC(kernel='rbf', random_state=1)\n",
    "svm_rbf.fit(X_train, Y_train)\n",
    "\n",
    "print('SVM_rbf (rbf) accuracy: ', svm_rbf.score(X_test, Y_test))\n",
    "print('SVM_rbf (rbf) confusion matrix:')\n",
    "print(confusion_matrix(Y_test, svm_rbf.predict(X_test)))\n",
    "vec_rbf = svm_rbf.support_vectors_\n",
    "\n",
    "del svm_rbf"
   ]
  },
  {
   "cell_type": "code",
   "execution_count": 15,
   "metadata": {},
   "outputs": [
    {
     "output_type": "stream",
     "name": "stdout",
     "text": [
      "SVC(C=1, kernel='linear', random_state=1)\n0.99\n"
     ]
    }
   ],
   "source": [
    "from sklearn.model_selection import GridSearchCV\n",
    "\n",
    "param_grid = [\n",
    "  {'C': [1, 10, 100, 1000], 'kernel': ['linear']},\n",
    "  {'C': [1, 10, 100, 1000], 'kernel': ['rbf'], 'gamma': [1, 0.01, 0.001, 0.0001]},\n",
    "]\n",
    "\n",
    "cv = GridSearchCV(estimator=SVC(random_state=1), param_grid=param_grid)\n",
    "cv.fit(X, Y)\n",
    "\n",
    "print(cv.best_estimator_)\n",
    "print(cv.best_score_)\n",
    "# print(cv.cv_results_['mean_test_score'])\n",
    "# cv.cv_results_['params'][cv.best_index_]\n",
    "\n",
    "del cv"
   ]
  },
  {
   "cell_type": "code",
   "execution_count": 10,
   "metadata": {},
   "outputs": [
    {
     "output_type": "stream",
     "name": "stdout",
     "text": [
      "Random forest accuracy:  0.9545454545454546\n",
      "Random forest confusion matrix:\n",
      "[[28  0  0  0  0]\n",
      " [ 0  6  0  0  0]\n",
      " [ 0  2  4  0  0]\n",
      " [ 0  0  0  3  1]\n",
      " [ 0  0  0  0 22]]\n"
     ]
    }
   ],
   "source": [
    "from sklearn.ensemble import RandomForestClassifier\n",
    "\n",
    "rf = RandomForestClassifier()\n",
    "rf.fit(X_train, Y_train)\n",
    "\n",
    "print('Random forest accuracy: ', rf.score(X_test, Y_test))\n",
    "print('Random forest confusion matrix:')\n",
    "print(confusion_matrix(Y_test, rf.predict(X_test)))\n",
    "# print(rf.max_depth)"
   ]
  },
  {
   "cell_type": "code",
   "execution_count": null,
   "metadata": {},
   "outputs": [],
   "source": [
    "param_grid = [\n",
    "  {'C': [1, 10, 100, 1000], 'kernel': ['linear']},\n",
    "  {'C': [1, 10, 100, 1000], 'kernel': ['rbf'], 'gamma': [1, 0.01, 0.001, 0.0001]},\n",
    "]\n",
    "\n",
    "cv = GridSearchCV(estimator=SVC(random_state=1), param_grid=param_grid)\n",
    "cv.fit(X, Y)\n",
    "\n",
    "print(cv.best_estimator_)\n",
    "print(cv.best_score_)"
   ]
  },
  {
   "cell_type": "code",
   "execution_count": 17,
   "metadata": {},
   "outputs": [
    {
     "output_type": "stream",
     "name": "stdout",
     "text": [
      "[8.37652699e-01 1.58821492e-01 2.03699655e-03 7.50867528e-04\n 7.37945622e-04]\n"
     ]
    },
    {
     "output_type": "execute_result",
     "data": {
      "text/plain": [
       "[<matplotlib.lines.Line2D at 0x7f60e6787510>]"
      ]
     },
     "metadata": {},
     "execution_count": 17
    },
    {
     "output_type": "display_data",
     "data": {
      "text/plain": "<Figure size 432x288 with 1 Axes>",
      "image/svg+xml": "<?xml version=\"1.0\" encoding=\"utf-8\" standalone=\"no\"?>\n<!DOCTYPE svg PUBLIC \"-//W3C//DTD SVG 1.1//EN\"\n  \"http://www.w3.org/Graphics/SVG/1.1/DTD/svg11.dtd\">\n<!-- Created with matplotlib (https://matplotlib.org/) -->\n<svg height=\"248.518125pt\" version=\"1.1\" viewBox=\"0 0 378.465625 248.518125\" width=\"378.465625pt\" xmlns=\"http://www.w3.org/2000/svg\" xmlns:xlink=\"http://www.w3.org/1999/xlink\">\n <metadata>\n  <rdf:RDF xmlns:cc=\"http://creativecommons.org/ns#\" xmlns:dc=\"http://purl.org/dc/elements/1.1/\" xmlns:rdf=\"http://www.w3.org/1999/02/22-rdf-syntax-ns#\">\n   <cc:Work>\n    <dc:type rdf:resource=\"http://purl.org/dc/dcmitype/StillImage\"/>\n    <dc:date>2020-12-21T19:07:57.970891</dc:date>\n    <dc:format>image/svg+xml</dc:format>\n    <dc:creator>\n     <cc:Agent>\n      <dc:title>Matplotlib v3.3.2, https://matplotlib.org/</dc:title>\n     </cc:Agent>\n    </dc:creator>\n   </cc:Work>\n  </rdf:RDF>\n </metadata>\n <defs>\n  <style type=\"text/css\">*{stroke-linecap:butt;stroke-linejoin:round;}</style>\n </defs>\n <g id=\"figure_1\">\n  <g id=\"patch_1\">\n   <path d=\"M 0 248.518125 \nL 378.465625 248.518125 \nL 378.465625 0 \nL 0 0 \nz\n\" style=\"fill:none;\"/>\n  </g>\n  <g id=\"axes_1\">\n   <g id=\"patch_2\">\n    <path d=\"M 36.465625 224.64 \nL 371.265625 224.64 \nL 371.265625 7.2 \nL 36.465625 7.2 \nz\n\" style=\"fill:#ffffff;\"/>\n   </g>\n   <g id=\"matplotlib.axis_1\">\n    <g id=\"xtick_1\">\n     <g id=\"line2d_1\">\n      <defs>\n       <path d=\"M 0 0 \nL 0 3.5 \n\" id=\"m26f3007c3f\" style=\"stroke:#000000;stroke-width:0.8;\"/>\n      </defs>\n      <g>\n       <use style=\"stroke:#000000;stroke-width:0.8;\" x=\"51.683807\" xlink:href=\"#m26f3007c3f\" y=\"224.64\"/>\n      </g>\n     </g>\n     <g id=\"text_1\">\n      <!-- 1.0 -->\n      <g transform=\"translate(43.732244 239.238438)scale(0.1 -0.1)\">\n       <defs>\n        <path d=\"M 12.40625 8.296875 \nL 28.515625 8.296875 \nL 28.515625 63.921875 \nL 10.984375 60.40625 \nL 10.984375 69.390625 \nL 28.421875 72.90625 \nL 38.28125 72.90625 \nL 38.28125 8.296875 \nL 54.390625 8.296875 \nL 54.390625 0 \nL 12.40625 0 \nz\n\" id=\"DejaVuSans-49\"/>\n        <path d=\"M 10.6875 12.40625 \nL 21 12.40625 \nL 21 0 \nL 10.6875 0 \nz\n\" id=\"DejaVuSans-46\"/>\n        <path d=\"M 31.78125 66.40625 \nQ 24.171875 66.40625 20.328125 58.90625 \nQ 16.5 51.421875 16.5 36.375 \nQ 16.5 21.390625 20.328125 13.890625 \nQ 24.171875 6.390625 31.78125 6.390625 \nQ 39.453125 6.390625 43.28125 13.890625 \nQ 47.125 21.390625 47.125 36.375 \nQ 47.125 51.421875 43.28125 58.90625 \nQ 39.453125 66.40625 31.78125 66.40625 \nz\nM 31.78125 74.21875 \nQ 44.046875 74.21875 50.515625 64.515625 \nQ 56.984375 54.828125 56.984375 36.375 \nQ 56.984375 17.96875 50.515625 8.265625 \nQ 44.046875 -1.421875 31.78125 -1.421875 \nQ 19.53125 -1.421875 13.0625 8.265625 \nQ 6.59375 17.96875 6.59375 36.375 \nQ 6.59375 54.828125 13.0625 64.515625 \nQ 19.53125 74.21875 31.78125 74.21875 \nz\n\" id=\"DejaVuSans-48\"/>\n       </defs>\n       <use xlink:href=\"#DejaVuSans-49\"/>\n       <use x=\"63.623047\" xlink:href=\"#DejaVuSans-46\"/>\n       <use x=\"95.410156\" xlink:href=\"#DejaVuSans-48\"/>\n      </g>\n     </g>\n    </g>\n    <g id=\"xtick_2\">\n     <g id=\"line2d_2\">\n      <g>\n       <use style=\"stroke:#000000;stroke-width:0.8;\" x=\"89.729261\" xlink:href=\"#m26f3007c3f\" y=\"224.64\"/>\n      </g>\n     </g>\n     <g id=\"text_2\">\n      <!-- 1.5 -->\n      <g transform=\"translate(81.777699 239.238438)scale(0.1 -0.1)\">\n       <defs>\n        <path d=\"M 10.796875 72.90625 \nL 49.515625 72.90625 \nL 49.515625 64.59375 \nL 19.828125 64.59375 \nL 19.828125 46.734375 \nQ 21.96875 47.46875 24.109375 47.828125 \nQ 26.265625 48.1875 28.421875 48.1875 \nQ 40.625 48.1875 47.75 41.5 \nQ 54.890625 34.8125 54.890625 23.390625 \nQ 54.890625 11.625 47.5625 5.09375 \nQ 40.234375 -1.421875 26.90625 -1.421875 \nQ 22.3125 -1.421875 17.546875 -0.640625 \nQ 12.796875 0.140625 7.71875 1.703125 \nL 7.71875 11.625 \nQ 12.109375 9.234375 16.796875 8.0625 \nQ 21.484375 6.890625 26.703125 6.890625 \nQ 35.15625 6.890625 40.078125 11.328125 \nQ 45.015625 15.765625 45.015625 23.390625 \nQ 45.015625 31 40.078125 35.4375 \nQ 35.15625 39.890625 26.703125 39.890625 \nQ 22.75 39.890625 18.8125 39.015625 \nQ 14.890625 38.140625 10.796875 36.28125 \nz\n\" id=\"DejaVuSans-53\"/>\n       </defs>\n       <use xlink:href=\"#DejaVuSans-49\"/>\n       <use x=\"63.623047\" xlink:href=\"#DejaVuSans-46\"/>\n       <use x=\"95.410156\" xlink:href=\"#DejaVuSans-53\"/>\n      </g>\n     </g>\n    </g>\n    <g id=\"xtick_3\">\n     <g id=\"line2d_3\">\n      <g>\n       <use style=\"stroke:#000000;stroke-width:0.8;\" x=\"127.774716\" xlink:href=\"#m26f3007c3f\" y=\"224.64\"/>\n      </g>\n     </g>\n     <g id=\"text_3\">\n      <!-- 2.0 -->\n      <g transform=\"translate(119.823153 239.238438)scale(0.1 -0.1)\">\n       <defs>\n        <path d=\"M 19.1875 8.296875 \nL 53.609375 8.296875 \nL 53.609375 0 \nL 7.328125 0 \nL 7.328125 8.296875 \nQ 12.9375 14.109375 22.625 23.890625 \nQ 32.328125 33.6875 34.8125 36.53125 \nQ 39.546875 41.84375 41.421875 45.53125 \nQ 43.3125 49.21875 43.3125 52.78125 \nQ 43.3125 58.59375 39.234375 62.25 \nQ 35.15625 65.921875 28.609375 65.921875 \nQ 23.96875 65.921875 18.8125 64.3125 \nQ 13.671875 62.703125 7.8125 59.421875 \nL 7.8125 69.390625 \nQ 13.765625 71.78125 18.9375 73 \nQ 24.125 74.21875 28.421875 74.21875 \nQ 39.75 74.21875 46.484375 68.546875 \nQ 53.21875 62.890625 53.21875 53.421875 \nQ 53.21875 48.921875 51.53125 44.890625 \nQ 49.859375 40.875 45.40625 35.40625 \nQ 44.1875 33.984375 37.640625 27.21875 \nQ 31.109375 20.453125 19.1875 8.296875 \nz\n\" id=\"DejaVuSans-50\"/>\n       </defs>\n       <use xlink:href=\"#DejaVuSans-50\"/>\n       <use x=\"63.623047\" xlink:href=\"#DejaVuSans-46\"/>\n       <use x=\"95.410156\" xlink:href=\"#DejaVuSans-48\"/>\n      </g>\n     </g>\n    </g>\n    <g id=\"xtick_4\">\n     <g id=\"line2d_4\">\n      <g>\n       <use style=\"stroke:#000000;stroke-width:0.8;\" x=\"165.82017\" xlink:href=\"#m26f3007c3f\" y=\"224.64\"/>\n      </g>\n     </g>\n     <g id=\"text_4\">\n      <!-- 2.5 -->\n      <g transform=\"translate(157.868608 239.238438)scale(0.1 -0.1)\">\n       <use xlink:href=\"#DejaVuSans-50\"/>\n       <use x=\"63.623047\" xlink:href=\"#DejaVuSans-46\"/>\n       <use x=\"95.410156\" xlink:href=\"#DejaVuSans-53\"/>\n      </g>\n     </g>\n    </g>\n    <g id=\"xtick_5\">\n     <g id=\"line2d_5\">\n      <g>\n       <use style=\"stroke:#000000;stroke-width:0.8;\" x=\"203.865625\" xlink:href=\"#m26f3007c3f\" y=\"224.64\"/>\n      </g>\n     </g>\n     <g id=\"text_5\">\n      <!-- 3.0 -->\n      <g transform=\"translate(195.914063 239.238438)scale(0.1 -0.1)\">\n       <defs>\n        <path d=\"M 40.578125 39.3125 \nQ 47.65625 37.796875 51.625 33 \nQ 55.609375 28.21875 55.609375 21.1875 \nQ 55.609375 10.40625 48.1875 4.484375 \nQ 40.765625 -1.421875 27.09375 -1.421875 \nQ 22.515625 -1.421875 17.65625 -0.515625 \nQ 12.796875 0.390625 7.625 2.203125 \nL 7.625 11.71875 \nQ 11.71875 9.328125 16.59375 8.109375 \nQ 21.484375 6.890625 26.8125 6.890625 \nQ 36.078125 6.890625 40.9375 10.546875 \nQ 45.796875 14.203125 45.796875 21.1875 \nQ 45.796875 27.640625 41.28125 31.265625 \nQ 36.765625 34.90625 28.71875 34.90625 \nL 20.21875 34.90625 \nL 20.21875 43.015625 \nL 29.109375 43.015625 \nQ 36.375 43.015625 40.234375 45.921875 \nQ 44.09375 48.828125 44.09375 54.296875 \nQ 44.09375 59.90625 40.109375 62.90625 \nQ 36.140625 65.921875 28.71875 65.921875 \nQ 24.65625 65.921875 20.015625 65.03125 \nQ 15.375 64.15625 9.8125 62.3125 \nL 9.8125 71.09375 \nQ 15.4375 72.65625 20.34375 73.4375 \nQ 25.25 74.21875 29.59375 74.21875 \nQ 40.828125 74.21875 47.359375 69.109375 \nQ 53.90625 64.015625 53.90625 55.328125 \nQ 53.90625 49.265625 50.4375 45.09375 \nQ 46.96875 40.921875 40.578125 39.3125 \nz\n\" id=\"DejaVuSans-51\"/>\n       </defs>\n       <use xlink:href=\"#DejaVuSans-51\"/>\n       <use x=\"63.623047\" xlink:href=\"#DejaVuSans-46\"/>\n       <use x=\"95.410156\" xlink:href=\"#DejaVuSans-48\"/>\n      </g>\n     </g>\n    </g>\n    <g id=\"xtick_6\">\n     <g id=\"line2d_6\">\n      <g>\n       <use style=\"stroke:#000000;stroke-width:0.8;\" x=\"241.91108\" xlink:href=\"#m26f3007c3f\" y=\"224.64\"/>\n      </g>\n     </g>\n     <g id=\"text_6\">\n      <!-- 3.5 -->\n      <g transform=\"translate(233.959517 239.238438)scale(0.1 -0.1)\">\n       <use xlink:href=\"#DejaVuSans-51\"/>\n       <use x=\"63.623047\" xlink:href=\"#DejaVuSans-46\"/>\n       <use x=\"95.410156\" xlink:href=\"#DejaVuSans-53\"/>\n      </g>\n     </g>\n    </g>\n    <g id=\"xtick_7\">\n     <g id=\"line2d_7\">\n      <g>\n       <use style=\"stroke:#000000;stroke-width:0.8;\" x=\"279.956534\" xlink:href=\"#m26f3007c3f\" y=\"224.64\"/>\n      </g>\n     </g>\n     <g id=\"text_7\">\n      <!-- 4.0 -->\n      <g transform=\"translate(272.004972 239.238438)scale(0.1 -0.1)\">\n       <defs>\n        <path d=\"M 37.796875 64.3125 \nL 12.890625 25.390625 \nL 37.796875 25.390625 \nz\nM 35.203125 72.90625 \nL 47.609375 72.90625 \nL 47.609375 25.390625 \nL 58.015625 25.390625 \nL 58.015625 17.1875 \nL 47.609375 17.1875 \nL 47.609375 0 \nL 37.796875 0 \nL 37.796875 17.1875 \nL 4.890625 17.1875 \nL 4.890625 26.703125 \nz\n\" id=\"DejaVuSans-52\"/>\n       </defs>\n       <use xlink:href=\"#DejaVuSans-52\"/>\n       <use x=\"63.623047\" xlink:href=\"#DejaVuSans-46\"/>\n       <use x=\"95.410156\" xlink:href=\"#DejaVuSans-48\"/>\n      </g>\n     </g>\n    </g>\n    <g id=\"xtick_8\">\n     <g id=\"line2d_8\">\n      <g>\n       <use style=\"stroke:#000000;stroke-width:0.8;\" x=\"318.001989\" xlink:href=\"#m26f3007c3f\" y=\"224.64\"/>\n      </g>\n     </g>\n     <g id=\"text_8\">\n      <!-- 4.5 -->\n      <g transform=\"translate(310.050426 239.238438)scale(0.1 -0.1)\">\n       <use xlink:href=\"#DejaVuSans-52\"/>\n       <use x=\"63.623047\" xlink:href=\"#DejaVuSans-46\"/>\n       <use x=\"95.410156\" xlink:href=\"#DejaVuSans-53\"/>\n      </g>\n     </g>\n    </g>\n    <g id=\"xtick_9\">\n     <g id=\"line2d_9\">\n      <g>\n       <use style=\"stroke:#000000;stroke-width:0.8;\" x=\"356.047443\" xlink:href=\"#m26f3007c3f\" y=\"224.64\"/>\n      </g>\n     </g>\n     <g id=\"text_9\">\n      <!-- 5.0 -->\n      <g transform=\"translate(348.095881 239.238438)scale(0.1 -0.1)\">\n       <use xlink:href=\"#DejaVuSans-53\"/>\n       <use x=\"63.623047\" xlink:href=\"#DejaVuSans-46\"/>\n       <use x=\"95.410156\" xlink:href=\"#DejaVuSans-48\"/>\n      </g>\n     </g>\n    </g>\n   </g>\n   <g id=\"matplotlib.axis_2\">\n    <g id=\"ytick_1\">\n     <g id=\"line2d_10\">\n      <defs>\n       <path d=\"M 0 0 \nL -3.5 0 \n\" id=\"mb8f01c6922\" style=\"stroke:#000000;stroke-width:0.8;\"/>\n      </defs>\n      <g>\n       <use style=\"stroke:#000000;stroke-width:0.8;\" x=\"36.465625\" xlink:href=\"#mb8f01c6922\" y=\"211.898309\"/>\n      </g>\n     </g>\n     <g id=\"text_10\">\n      <!-- 0.84 -->\n      <g transform=\"translate(7.2 215.697528)scale(0.1 -0.1)\">\n       <defs>\n        <path d=\"M 31.78125 34.625 \nQ 24.75 34.625 20.71875 30.859375 \nQ 16.703125 27.09375 16.703125 20.515625 \nQ 16.703125 13.921875 20.71875 10.15625 \nQ 24.75 6.390625 31.78125 6.390625 \nQ 38.8125 6.390625 42.859375 10.171875 \nQ 46.921875 13.96875 46.921875 20.515625 \nQ 46.921875 27.09375 42.890625 30.859375 \nQ 38.875 34.625 31.78125 34.625 \nz\nM 21.921875 38.8125 \nQ 15.578125 40.375 12.03125 44.71875 \nQ 8.5 49.078125 8.5 55.328125 \nQ 8.5 64.0625 14.71875 69.140625 \nQ 20.953125 74.21875 31.78125 74.21875 \nQ 42.671875 74.21875 48.875 69.140625 \nQ 55.078125 64.0625 55.078125 55.328125 \nQ 55.078125 49.078125 51.53125 44.71875 \nQ 48 40.375 41.703125 38.8125 \nQ 48.828125 37.15625 52.796875 32.3125 \nQ 56.78125 27.484375 56.78125 20.515625 \nQ 56.78125 9.90625 50.3125 4.234375 \nQ 43.84375 -1.421875 31.78125 -1.421875 \nQ 19.734375 -1.421875 13.25 4.234375 \nQ 6.78125 9.90625 6.78125 20.515625 \nQ 6.78125 27.484375 10.78125 32.3125 \nQ 14.796875 37.15625 21.921875 38.8125 \nz\nM 18.3125 54.390625 \nQ 18.3125 48.734375 21.84375 45.5625 \nQ 25.390625 42.390625 31.78125 42.390625 \nQ 38.140625 42.390625 41.71875 45.5625 \nQ 45.3125 48.734375 45.3125 54.390625 \nQ 45.3125 60.0625 41.71875 63.234375 \nQ 38.140625 66.40625 31.78125 66.40625 \nQ 25.390625 66.40625 21.84375 63.234375 \nQ 18.3125 60.0625 18.3125 54.390625 \nz\n\" id=\"DejaVuSans-56\"/>\n       </defs>\n       <use xlink:href=\"#DejaVuSans-48\"/>\n       <use x=\"63.623047\" xlink:href=\"#DejaVuSans-46\"/>\n       <use x=\"95.410156\" xlink:href=\"#DejaVuSans-56\"/>\n       <use x=\"159.033203\" xlink:href=\"#DejaVuSans-52\"/>\n      </g>\n     </g>\n    </g>\n    <g id=\"ytick_2\">\n     <g id=\"line2d_11\">\n      <g>\n       <use style=\"stroke:#000000;stroke-width:0.8;\" x=\"36.465625\" xlink:href=\"#mb8f01c6922\" y=\"187.546475\"/>\n      </g>\n     </g>\n     <g id=\"text_11\">\n      <!-- 0.86 -->\n      <g transform=\"translate(7.2 191.345694)scale(0.1 -0.1)\">\n       <defs>\n        <path d=\"M 33.015625 40.375 \nQ 26.375 40.375 22.484375 35.828125 \nQ 18.609375 31.296875 18.609375 23.390625 \nQ 18.609375 15.53125 22.484375 10.953125 \nQ 26.375 6.390625 33.015625 6.390625 \nQ 39.65625 6.390625 43.53125 10.953125 \nQ 47.40625 15.53125 47.40625 23.390625 \nQ 47.40625 31.296875 43.53125 35.828125 \nQ 39.65625 40.375 33.015625 40.375 \nz\nM 52.59375 71.296875 \nL 52.59375 62.3125 \nQ 48.875 64.0625 45.09375 64.984375 \nQ 41.3125 65.921875 37.59375 65.921875 \nQ 27.828125 65.921875 22.671875 59.328125 \nQ 17.53125 52.734375 16.796875 39.40625 \nQ 19.671875 43.65625 24.015625 45.921875 \nQ 28.375 48.1875 33.59375 48.1875 \nQ 44.578125 48.1875 50.953125 41.515625 \nQ 57.328125 34.859375 57.328125 23.390625 \nQ 57.328125 12.15625 50.6875 5.359375 \nQ 44.046875 -1.421875 33.015625 -1.421875 \nQ 20.359375 -1.421875 13.671875 8.265625 \nQ 6.984375 17.96875 6.984375 36.375 \nQ 6.984375 53.65625 15.1875 63.9375 \nQ 23.390625 74.21875 37.203125 74.21875 \nQ 40.921875 74.21875 44.703125 73.484375 \nQ 48.484375 72.75 52.59375 71.296875 \nz\n\" id=\"DejaVuSans-54\"/>\n       </defs>\n       <use xlink:href=\"#DejaVuSans-48\"/>\n       <use x=\"63.623047\" xlink:href=\"#DejaVuSans-46\"/>\n       <use x=\"95.410156\" xlink:href=\"#DejaVuSans-56\"/>\n       <use x=\"159.033203\" xlink:href=\"#DejaVuSans-54\"/>\n      </g>\n     </g>\n    </g>\n    <g id=\"ytick_3\">\n     <g id=\"line2d_12\">\n      <g>\n       <use style=\"stroke:#000000;stroke-width:0.8;\" x=\"36.465625\" xlink:href=\"#mb8f01c6922\" y=\"163.194641\"/>\n      </g>\n     </g>\n     <g id=\"text_12\">\n      <!-- 0.88 -->\n      <g transform=\"translate(7.2 166.99386)scale(0.1 -0.1)\">\n       <use xlink:href=\"#DejaVuSans-48\"/>\n       <use x=\"63.623047\" xlink:href=\"#DejaVuSans-46\"/>\n       <use x=\"95.410156\" xlink:href=\"#DejaVuSans-56\"/>\n       <use x=\"159.033203\" xlink:href=\"#DejaVuSans-56\"/>\n      </g>\n     </g>\n    </g>\n    <g id=\"ytick_4\">\n     <g id=\"line2d_13\">\n      <g>\n       <use style=\"stroke:#000000;stroke-width:0.8;\" x=\"36.465625\" xlink:href=\"#mb8f01c6922\" y=\"138.842807\"/>\n      </g>\n     </g>\n     <g id=\"text_13\">\n      <!-- 0.90 -->\n      <g transform=\"translate(7.2 142.642026)scale(0.1 -0.1)\">\n       <defs>\n        <path d=\"M 10.984375 1.515625 \nL 10.984375 10.5 \nQ 14.703125 8.734375 18.5 7.8125 \nQ 22.3125 6.890625 25.984375 6.890625 \nQ 35.75 6.890625 40.890625 13.453125 \nQ 46.046875 20.015625 46.78125 33.40625 \nQ 43.953125 29.203125 39.59375 26.953125 \nQ 35.25 24.703125 29.984375 24.703125 \nQ 19.046875 24.703125 12.671875 31.3125 \nQ 6.296875 37.9375 6.296875 49.421875 \nQ 6.296875 60.640625 12.9375 67.421875 \nQ 19.578125 74.21875 30.609375 74.21875 \nQ 43.265625 74.21875 49.921875 64.515625 \nQ 56.59375 54.828125 56.59375 36.375 \nQ 56.59375 19.140625 48.40625 8.859375 \nQ 40.234375 -1.421875 26.421875 -1.421875 \nQ 22.703125 -1.421875 18.890625 -0.6875 \nQ 15.09375 0.046875 10.984375 1.515625 \nz\nM 30.609375 32.421875 \nQ 37.25 32.421875 41.125 36.953125 \nQ 45.015625 41.5 45.015625 49.421875 \nQ 45.015625 57.28125 41.125 61.84375 \nQ 37.25 66.40625 30.609375 66.40625 \nQ 23.96875 66.40625 20.09375 61.84375 \nQ 16.21875 57.28125 16.21875 49.421875 \nQ 16.21875 41.5 20.09375 36.953125 \nQ 23.96875 32.421875 30.609375 32.421875 \nz\n\" id=\"DejaVuSans-57\"/>\n       </defs>\n       <use xlink:href=\"#DejaVuSans-48\"/>\n       <use x=\"63.623047\" xlink:href=\"#DejaVuSans-46\"/>\n       <use x=\"95.410156\" xlink:href=\"#DejaVuSans-57\"/>\n       <use x=\"159.033203\" xlink:href=\"#DejaVuSans-48\"/>\n      </g>\n     </g>\n    </g>\n    <g id=\"ytick_5\">\n     <g id=\"line2d_14\">\n      <g>\n       <use style=\"stroke:#000000;stroke-width:0.8;\" x=\"36.465625\" xlink:href=\"#mb8f01c6922\" y=\"114.490973\"/>\n      </g>\n     </g>\n     <g id=\"text_14\">\n      <!-- 0.92 -->\n      <g transform=\"translate(7.2 118.290191)scale(0.1 -0.1)\">\n       <use xlink:href=\"#DejaVuSans-48\"/>\n       <use x=\"63.623047\" xlink:href=\"#DejaVuSans-46\"/>\n       <use x=\"95.410156\" xlink:href=\"#DejaVuSans-57\"/>\n       <use x=\"159.033203\" xlink:href=\"#DejaVuSans-50\"/>\n      </g>\n     </g>\n    </g>\n    <g id=\"ytick_6\">\n     <g id=\"line2d_15\">\n      <g>\n       <use style=\"stroke:#000000;stroke-width:0.8;\" x=\"36.465625\" xlink:href=\"#mb8f01c6922\" y=\"90.139139\"/>\n      </g>\n     </g>\n     <g id=\"text_15\">\n      <!-- 0.94 -->\n      <g transform=\"translate(7.2 93.938357)scale(0.1 -0.1)\">\n       <use xlink:href=\"#DejaVuSans-48\"/>\n       <use x=\"63.623047\" xlink:href=\"#DejaVuSans-46\"/>\n       <use x=\"95.410156\" xlink:href=\"#DejaVuSans-57\"/>\n       <use x=\"159.033203\" xlink:href=\"#DejaVuSans-52\"/>\n      </g>\n     </g>\n    </g>\n    <g id=\"ytick_7\">\n     <g id=\"line2d_16\">\n      <g>\n       <use style=\"stroke:#000000;stroke-width:0.8;\" x=\"36.465625\" xlink:href=\"#mb8f01c6922\" y=\"65.787305\"/>\n      </g>\n     </g>\n     <g id=\"text_16\">\n      <!-- 0.96 -->\n      <g transform=\"translate(7.2 69.586523)scale(0.1 -0.1)\">\n       <use xlink:href=\"#DejaVuSans-48\"/>\n       <use x=\"63.623047\" xlink:href=\"#DejaVuSans-46\"/>\n       <use x=\"95.410156\" xlink:href=\"#DejaVuSans-57\"/>\n       <use x=\"159.033203\" xlink:href=\"#DejaVuSans-54\"/>\n      </g>\n     </g>\n    </g>\n    <g id=\"ytick_8\">\n     <g id=\"line2d_17\">\n      <g>\n       <use style=\"stroke:#000000;stroke-width:0.8;\" x=\"36.465625\" xlink:href=\"#mb8f01c6922\" y=\"41.43547\"/>\n      </g>\n     </g>\n     <g id=\"text_17\">\n      <!-- 0.98 -->\n      <g transform=\"translate(7.2 45.234689)scale(0.1 -0.1)\">\n       <use xlink:href=\"#DejaVuSans-48\"/>\n       <use x=\"63.623047\" xlink:href=\"#DejaVuSans-46\"/>\n       <use x=\"95.410156\" xlink:href=\"#DejaVuSans-57\"/>\n       <use x=\"159.033203\" xlink:href=\"#DejaVuSans-56\"/>\n      </g>\n     </g>\n    </g>\n    <g id=\"ytick_9\">\n     <g id=\"line2d_18\">\n      <g>\n       <use style=\"stroke:#000000;stroke-width:0.8;\" x=\"36.465625\" xlink:href=\"#mb8f01c6922\" y=\"17.083636\"/>\n      </g>\n     </g>\n     <g id=\"text_18\">\n      <!-- 1.00 -->\n      <g transform=\"translate(7.2 20.882855)scale(0.1 -0.1)\">\n       <use xlink:href=\"#DejaVuSans-49\"/>\n       <use x=\"63.623047\" xlink:href=\"#DejaVuSans-46\"/>\n       <use x=\"95.410156\" xlink:href=\"#DejaVuSans-48\"/>\n       <use x=\"159.033203\" xlink:href=\"#DejaVuSans-48\"/>\n      </g>\n     </g>\n    </g>\n   </g>\n   <g id=\"line2d_19\">\n    <path clip-path=\"url(#pf6f5880b3f)\" d=\"M 51.683807 214.756364 \nL 127.774716 21.376633 \nL 203.865625 18.896403 \nL 279.956534 17.982153 \nL 356.047443 17.083636 \n\" style=\"fill:none;stroke:#1f77b4;stroke-linecap:square;stroke-width:1.5;\"/>\n   </g>\n   <g id=\"patch_3\">\n    <path d=\"M 36.465625 224.64 \nL 36.465625 7.2 \n\" style=\"fill:none;stroke:#000000;stroke-linecap:square;stroke-linejoin:miter;stroke-width:0.8;\"/>\n   </g>\n   <g id=\"patch_4\">\n    <path d=\"M 371.265625 224.64 \nL 371.265625 7.2 \n\" style=\"fill:none;stroke:#000000;stroke-linecap:square;stroke-linejoin:miter;stroke-width:0.8;\"/>\n   </g>\n   <g id=\"patch_5\">\n    <path d=\"M 36.465625 224.64 \nL 371.265625 224.64 \n\" style=\"fill:none;stroke:#000000;stroke-linecap:square;stroke-linejoin:miter;stroke-width:0.8;\"/>\n   </g>\n   <g id=\"patch_6\">\n    <path d=\"M 36.465625 7.2 \nL 371.265625 7.2 \n\" style=\"fill:none;stroke:#000000;stroke-linecap:square;stroke-linejoin:miter;stroke-width:0.8;\"/>\n   </g>\n  </g>\n </g>\n <defs>\n  <clipPath id=\"pf6f5880b3f\">\n   <rect height=\"217.44\" width=\"334.8\" x=\"36.465625\" y=\"7.2\"/>\n  </clipPath>\n </defs>\n</svg>\n",
      "image/png": "[encoded data removed]"
     },
     "metadata": {
      "needs_background": "light"
     }
    }
   ],
   "source": [
    "from sklearn.decomposition import PCA\n",
    "import matplotlib.pyplot as plt\n",
    "import numpy as np\n",
    "\n",
    "pca = PCA()\n",
    "pca.fit(X)\n",
    "print(pca.explained_variance_ratio_)\n",
    "# # f, ax = plt.subplots(figsize=(10,10))\n",
    "plt.plot(list(range(1, len(pca.explained_variance_ratio_) + 1)), np.cumsum(pca.explained_variance_ratio_))\n",
    "\n",
    "# np.cumsum(pca.explained_variance_ratio_)\n",
    "# print(X.shape)\n",
    "# print(pca.components_)\n",
    "# print(pca.explained_variance_)\n",
    "\n",
    "\n",
    "# projected_X = pca.fit_transform(X)\n",
    "# projected_X\n",
    "\n"
   ]
  },
  {
   "cell_type": "code",
   "execution_count": 12,
   "metadata": {},
   "outputs": [],
   "source": [
    "# reduced_X = pca.transform(X)\n",
    "# X_train, X_test, Y_train, Y_test = train_test_split(reduced_X, Y)\n",
    "# svm = SVC()\n",
    "# svm.fit(X_train, Y_train)\n",
    "# print('SVM accuracy: ', svm.score(X_test, Y_test))"
   ]
  },
  {
   "cell_type": "code",
   "execution_count": 18,
   "metadata": {},
   "outputs": [
    {
     "output_type": "stream",
     "name": "stdout",
     "text": [
      "SVM accuracy:  0.7575757575757576\n"
     ]
    },
    {
     "output_type": "display_data",
     "data": {
      "text/plain": "<Figure size 864x864 with 1 Axes>",
      "image/svg+xml": "<?xml version=\"1.0\" encoding=\"utf-8\" standalone=\"no\"?>\n<!DOCTYPE svg PUBLIC \"-//W3C//DTD SVG 1.1//EN\"\n  \"http://www.w3.org/Graphics/SVG/1.1/DTD/svg11.dtd\">\n<!-- Created with matplotlib (https://matplotlib.org/) -->\n<svg height=\"683.398125pt\" version=\"1.1\" viewBox=\"0 0 712.104687 683.398125\" width=\"712.104687pt\" xmlns=\"http://www.w3.org/2000/svg\" xmlns:xlink=\"http://www.w3.org/1999/xlink\">\n <metadata>\n  <rdf:RDF xmlns:cc=\"http://creativecommons.org/ns#\" xmlns:dc=\"http://purl.org/dc/elements/1.1/\" xmlns:rdf=\"http://www.w3.org/1999/02/22-rdf-syntax-ns#\">\n   <cc:Work>\n    <dc:type rdf:resource=\"http://purl.org/dc/dcmitype/StillImage\"/>\n    <dc:date>2020-12-21T19:08:01.382005</dc:date>\n    <dc:format>image/svg+xml</dc:format>\n    <dc:creator>\n     <cc:Agent>\n      <dc:title>Matplotlib v3.3.2, https://matplotlib.org/</dc:title>\n     </cc:Agent>\n    </dc:creator>\n   </cc:Work>\n  </rdf:RDF>\n </metadata>\n <defs>\n  <style type=\"text/css\">*{stroke-linecap:butt;stroke-linejoin:round;}</style>\n </defs>\n <g id=\"figure_1\">\n  <g id=\"patch_1\">\n   <path d=\"M 0 683.398125 \nL 712.104687 683.398125 \nL 712.104687 0 \nL 0 0 \nz\n\" style=\"fill:none;\"/>\n  </g>\n  <g id=\"axes_1\">\n   <g id=\"patch_2\">\n    <path d=\"M 35.304688 659.52 \nL 704.904688 659.52 \nL 704.904688 7.2 \nL 35.304688 7.2 \nz\n\" style=\"fill:#ffffff;\"/>\n   </g>\n   <g id=\"PathCollection_1\">\n    <defs>\n     <path d=\"M 0 3 \nC 0.795609 3 1.55874 2.683901 2.12132 2.12132 \nC 2.683901 1.55874 3 0.795609 3 -0 \nC 3 -0.795609 2.683901 -1.55874 2.12132 -2.12132 \nC 1.55874 -2.683901 0.795609 -3 0 -3 \nC -0.795609 -3 -1.55874 -2.683901 -2.12132 -2.12132 \nC -2.683901 -1.55874 -3 -0.795609 -3 0 \nC -3 0.795609 -2.683901 1.55874 -2.12132 2.12132 \nC -1.55874 2.683901 -0.795609 3 0 3 \nz\n\" id=\"C0_0_a809a1606e\"/>\n    </defs>\n    <g clip-path=\"url(#p16561571e0)\">\n     <use style=\"fill:#fde725;stroke:#fde725;\" x=\"273.597227\" xlink:href=\"#C0_0_a809a1606e\" y=\"605.753676\"/>\n    </g>\n    <g clip-path=\"url(#p16561571e0)\">\n     <use style=\"fill:#fde725;stroke:#fde725;\" x=\"293.937794\" xlink:href=\"#C0_0_a809a1606e\" y=\"584.240854\"/>\n    </g>\n    <g clip-path=\"url(#p16561571e0)\">\n     <use style=\"fill:#440154;stroke:#440154;\" x=\"145.530585\" xlink:href=\"#C0_0_a809a1606e\" y=\"169.91193\"/>\n    </g>\n    <g clip-path=\"url(#p16561571e0)\">\n     <use style=\"fill:#3b528b;stroke:#3b528b;\" x=\"210.789323\" xlink:href=\"#C0_0_a809a1606e\" y=\"515.136491\"/>\n    </g>\n    <g clip-path=\"url(#p16561571e0)\">\n     <use style=\"fill:#21918c;stroke:#21918c;\" x=\"612.923155\" xlink:href=\"#C0_0_a809a1606e\" y=\"551.077447\"/>\n    </g>\n    <g clip-path=\"url(#p16561571e0)\">\n     <use style=\"fill:#5ec962;stroke:#5ec962;\" x=\"396.728621\" xlink:href=\"#C0_0_a809a1606e\" y=\"560.600581\"/>\n    </g>\n    <g clip-path=\"url(#p16561571e0)\">\n     <use style=\"fill:#440154;stroke:#440154;\" x=\"282.330117\" xlink:href=\"#C0_0_a809a1606e\" y=\"464.098384\"/>\n    </g>\n    <g clip-path=\"url(#p16561571e0)\">\n     <use style=\"fill:#5ec962;stroke:#5ec962;\" x=\"520.254642\" xlink:href=\"#C0_0_a809a1606e\" y=\"549.57729\"/>\n    </g>\n    <g clip-path=\"url(#p16561571e0)\">\n     <use style=\"fill:#440154;stroke:#440154;\" x=\"506.896953\" xlink:href=\"#C0_0_a809a1606e\" y=\"250.949492\"/>\n    </g>\n    <g clip-path=\"url(#p16561571e0)\">\n     <use style=\"fill:#fde725;stroke:#fde725;\" x=\"581.395137\" xlink:href=\"#C0_0_a809a1606e\" y=\"486.14188\"/>\n    </g>\n    <g clip-path=\"url(#p16561571e0)\">\n     <use style=\"fill:#440154;stroke:#440154;\" x=\"354.557384\" xlink:href=\"#C0_0_a809a1606e\" y=\"464.001159\"/>\n    </g>\n    <g clip-path=\"url(#p16561571e0)\">\n     <use style=\"fill:#fde725;stroke:#fde725;\" x=\"324.670469\" xlink:href=\"#C0_0_a809a1606e\" y=\"562.419976\"/>\n    </g>\n    <g clip-path=\"url(#p16561571e0)\">\n     <use style=\"fill:#440154;stroke:#440154;\" x=\"341.574555\" xlink:href=\"#C0_0_a809a1606e\" y=\"207.868003\"/>\n    </g>\n    <g clip-path=\"url(#p16561571e0)\">\n     <use style=\"fill:#440154;stroke:#440154;\" x=\"197.901808\" xlink:href=\"#C0_0_a809a1606e\" y=\"253.510149\"/>\n    </g>\n    <g clip-path=\"url(#p16561571e0)\">\n     <use style=\"fill:#440154;stroke:#440154;\" x=\"292.473856\" xlink:href=\"#C0_0_a809a1606e\" y=\"441.114789\"/>\n    </g>\n    <g clip-path=\"url(#p16561571e0)\">\n     <use style=\"fill:#440154;stroke:#440154;\" x=\"550.07002\" xlink:href=\"#C0_0_a809a1606e\" y=\"435.198119\"/>\n    </g>\n    <g clip-path=\"url(#p16561571e0)\">\n     <use style=\"fill:#fde725;stroke:#fde725;\" x=\"572.33677\" xlink:href=\"#C0_0_a809a1606e\" y=\"597.520989\"/>\n    </g>\n    <g clip-path=\"url(#p16561571e0)\">\n     <use style=\"fill:#440154;stroke:#440154;\" x=\"260.570154\" xlink:href=\"#C0_0_a809a1606e\" y=\"336.511161\"/>\n    </g>\n    <g clip-path=\"url(#p16561571e0)\">\n     <use style=\"fill:#3b528b;stroke:#3b528b;\" x=\"149.905223\" xlink:href=\"#C0_0_a809a1606e\" y=\"606.577291\"/>\n    </g>\n    <g clip-path=\"url(#p16561571e0)\">\n     <use style=\"fill:#440154;stroke:#440154;\" x=\"672.769629\" xlink:href=\"#C0_0_a809a1606e\" y=\"350.768615\"/>\n    </g>\n    <g clip-path=\"url(#p16561571e0)\">\n     <use style=\"fill:#5ec962;stroke:#5ec962;\" x=\"242.299152\" xlink:href=\"#C0_0_a809a1606e\" y=\"572.234466\"/>\n    </g>\n    <g clip-path=\"url(#p16561571e0)\">\n     <use style=\"fill:#fde725;stroke:#fde725;\" x=\"416.661065\" xlink:href=\"#C0_0_a809a1606e\" y=\"494.734433\"/>\n    </g>\n    <g clip-path=\"url(#p16561571e0)\">\n     <use style=\"fill:#3b528b;stroke:#3b528b;\" x=\"396.648094\" xlink:href=\"#C0_0_a809a1606e\" y=\"554.303724\"/>\n    </g>\n    <g clip-path=\"url(#p16561571e0)\">\n     <use style=\"fill:#fde725;stroke:#fde725;\" x=\"592.810597\" xlink:href=\"#C0_0_a809a1606e\" y=\"590.398988\"/>\n    </g>\n    <g clip-path=\"url(#p16561571e0)\">\n     <use style=\"fill:#440154;stroke:#440154;\" x=\"65.801948\" xlink:href=\"#C0_0_a809a1606e\" y=\"448.424199\"/>\n    </g>\n    <g clip-path=\"url(#p16561571e0)\">\n     <use style=\"fill:#3b528b;stroke:#3b528b;\" x=\"242.301937\" xlink:href=\"#C0_0_a809a1606e\" y=\"577.021054\"/>\n    </g>\n    <g clip-path=\"url(#p16561571e0)\">\n     <use style=\"fill:#21918c;stroke:#21918c;\" x=\"499.671795\" xlink:href=\"#C0_0_a809a1606e\" y=\"559.307554\"/>\n    </g>\n    <g clip-path=\"url(#p16561571e0)\">\n     <use style=\"fill:#21918c;stroke:#21918c;\" x=\"633.647255\" xlink:href=\"#C0_0_a809a1606e\" y=\"556.733297\"/>\n    </g>\n    <g clip-path=\"url(#p16561571e0)\">\n     <use style=\"fill:#fde725;stroke:#fde725;\" x=\"653.328714\" xlink:href=\"#C0_0_a809a1606e\" y=\"467.659893\"/>\n    </g>\n    <g clip-path=\"url(#p16561571e0)\">\n     <use style=\"fill:#fde725;stroke:#fde725;\" x=\"489.711208\" xlink:href=\"#C0_0_a809a1606e\" y=\"577.995267\"/>\n    </g>\n    <g clip-path=\"url(#p16561571e0)\">\n     <use style=\"fill:#5ec962;stroke:#5ec962;\" x=\"489.143382\" xlink:href=\"#C0_0_a809a1606e\" y=\"529.870477\"/>\n    </g>\n    <g clip-path=\"url(#p16561571e0)\">\n     <use style=\"fill:#fde725;stroke:#fde725;\" x=\"448.336989\" xlink:href=\"#C0_0_a809a1606e\" y=\"562.225762\"/>\n    </g>\n    <g clip-path=\"url(#p16561571e0)\">\n     <use style=\"fill:#fde725;stroke:#fde725;\" x=\"541.409545\" xlink:href=\"#C0_0_a809a1606e\" y=\"606.135457\"/>\n    </g>\n    <g clip-path=\"url(#p16561571e0)\">\n     <use style=\"fill:#440154;stroke:#440154;\" x=\"333.262695\" xlink:href=\"#C0_0_a809a1606e\" y=\"402.560098\"/>\n    </g>\n    <g clip-path=\"url(#p16561571e0)\">\n     <use style=\"fill:#440154;stroke:#440154;\" x=\"178.386526\" xlink:href=\"#C0_0_a809a1606e\" y=\"367.613933\"/>\n    </g>\n    <g clip-path=\"url(#p16561571e0)\">\n     <use style=\"fill:#440154;stroke:#440154;\" x=\"558.610077\" xlink:href=\"#C0_0_a809a1606e\" y=\"262.816417\"/>\n    </g>\n    <g clip-path=\"url(#p16561571e0)\">\n     <use style=\"fill:#440154;stroke:#440154;\" x=\"333.921876\" xlink:href=\"#C0_0_a809a1606e\" y=\"468.58287\"/>\n    </g>\n    <g clip-path=\"url(#p16561571e0)\">\n     <use style=\"fill:#fde725;stroke:#fde725;\" x=\"479.702756\" xlink:href=\"#C0_0_a809a1606e\" y=\"609.75343\"/>\n    </g>\n    <g clip-path=\"url(#p16561571e0)\">\n     <use style=\"fill:#5ec962;stroke:#5ec962;\" x=\"396.749641\" xlink:href=\"#C0_0_a809a1606e\" y=\"559.748535\"/>\n    </g>\n    <g clip-path=\"url(#p16561571e0)\">\n     <use style=\"fill:#21918c;stroke:#21918c;\" x=\"632.869987\" xlink:href=\"#C0_0_a809a1606e\" y=\"480.741403\"/>\n    </g>\n    <g clip-path=\"url(#p16561571e0)\">\n     <use style=\"fill:#21918c;stroke:#21918c;\" x=\"519.578612\" xlink:href=\"#C0_0_a809a1606e\" y=\"485.059347\"/>\n    </g>\n    <g clip-path=\"url(#p16561571e0)\">\n     <use style=\"fill:#3b528b;stroke:#3b528b;\" x=\"417.53856\" xlink:href=\"#C0_0_a809a1606e\" y=\"585.008407\"/>\n    </g>\n    <g clip-path=\"url(#p16561571e0)\">\n     <use style=\"fill:#440154;stroke:#440154;\" x=\"416.203395\" xlink:href=\"#C0_0_a809a1606e\" y=\"445.474686\"/>\n    </g>\n    <g clip-path=\"url(#p16561571e0)\">\n     <use style=\"fill:#fde725;stroke:#fde725;\" x=\"273.300136\" xlink:href=\"#C0_0_a809a1606e\" y=\"581.190943\"/>\n    </g>\n    <g clip-path=\"url(#p16561571e0)\">\n     <use style=\"fill:#440154;stroke:#440154;\" x=\"146.601667\" xlink:href=\"#C0_0_a809a1606e\" y=\"286.502907\"/>\n    </g>\n    <g clip-path=\"url(#p16561571e0)\">\n     <use style=\"fill:#5ec962;stroke:#5ec962;\" x=\"417.26933\" xlink:href=\"#C0_0_a809a1606e\" y=\"551.264951\"/>\n    </g>\n    <g clip-path=\"url(#p16561571e0)\">\n     <use style=\"fill:#440154;stroke:#440154;\" x=\"178.63957\" xlink:href=\"#C0_0_a809a1606e\" y=\"399.743818\"/>\n    </g>\n    <g clip-path=\"url(#p16561571e0)\">\n     <use style=\"fill:#440154;stroke:#440154;\" x=\"609.834654\" xlink:href=\"#C0_0_a809a1606e\" y=\"240.154867\"/>\n    </g>\n    <g clip-path=\"url(#p16561571e0)\">\n     <use style=\"fill:#5ec962;stroke:#5ec962;\" x=\"179.661006\" xlink:href=\"#C0_0_a809a1606e\" y=\"492.186029\"/>\n    </g>\n    <g clip-path=\"url(#p16561571e0)\">\n     <use style=\"fill:#fde725;stroke:#fde725;\" x=\"498.990149\" xlink:href=\"#C0_0_a809a1606e\" y=\"480.759776\"/>\n    </g>\n    <g clip-path=\"url(#p16561571e0)\">\n     <use style=\"fill:#440154;stroke:#440154;\" x=\"291.195201\" xlink:href=\"#C0_0_a809a1606e\" y=\"323.493769\"/>\n    </g>\n    <g clip-path=\"url(#p16561571e0)\">\n     <use style=\"fill:#440154;stroke:#440154;\" x=\"631.70307\" xlink:href=\"#C0_0_a809a1606e\" y=\"360.595245\"/>\n    </g>\n    <g clip-path=\"url(#p16561571e0)\">\n     <use style=\"fill:#3b528b;stroke:#3b528b;\" x=\"293.113195\" xlink:href=\"#C0_0_a809a1606e\" y=\"508.073766\"/>\n    </g>\n    <g clip-path=\"url(#p16561571e0)\">\n     <use style=\"fill:#440154;stroke:#440154;\" x=\"600.71766\" xlink:href=\"#C0_0_a809a1606e\" y=\"357.706762\"/>\n    </g>\n    <g clip-path=\"url(#p16561571e0)\">\n     <use style=\"fill:#440154;stroke:#440154;\" x=\"230.563149\" xlink:href=\"#C0_0_a809a1606e\" y=\"436.66972\"/>\n    </g>\n    <g clip-path=\"url(#p16561571e0)\">\n     <use style=\"fill:#440154;stroke:#440154;\" x=\"207.62733\" xlink:href=\"#C0_0_a809a1606e\" y=\"208.902301\"/>\n    </g>\n    <g clip-path=\"url(#p16561571e0)\">\n     <use style=\"fill:#3b528b;stroke:#3b528b;\" x=\"179.933256\" xlink:href=\"#C0_0_a809a1606e\" y=\"526.224742\"/>\n    </g>\n    <g clip-path=\"url(#p16561571e0)\">\n     <use style=\"fill:#fde725;stroke:#fde725;\" x=\"221.608645\" xlink:href=\"#C0_0_a809a1606e\" y=\"559.534327\"/>\n    </g>\n    <g clip-path=\"url(#p16561571e0)\">\n     <use style=\"fill:#440154;stroke:#440154;\" x=\"673.76127\" xlink:href=\"#C0_0_a809a1606e\" y=\"452.233575\"/>\n    </g>\n    <g clip-path=\"url(#p16561571e0)\">\n     <use style=\"fill:#440154;stroke:#440154;\" x=\"622.33202\" xlink:href=\"#C0_0_a809a1606e\" y=\"453.308604\"/>\n    </g>\n    <g clip-path=\"url(#p16561571e0)\">\n     <use style=\"fill:#440154;stroke:#440154;\" x=\"136.750255\" xlink:href=\"#C0_0_a809a1606e\" y=\"333.614458\"/>\n    </g>\n    <g clip-path=\"url(#p16561571e0)\">\n     <use style=\"fill:#fde725;stroke:#fde725;\" x=\"541.12\" xlink:href=\"#C0_0_a809a1606e\" y=\"567.498617\"/>\n    </g>\n    <g clip-path=\"url(#p16561571e0)\">\n     <use style=\"fill:#440154;stroke:#440154;\" x=\"75.700879\" xlink:href=\"#C0_0_a809a1606e\" y=\"405.989516\"/>\n    </g>\n    <g clip-path=\"url(#p16561571e0)\">\n     <use style=\"fill:#5ec962;stroke:#5ec962;\" x=\"396.407747\" xlink:href=\"#C0_0_a809a1606e\" y=\"529.229474\"/>\n    </g>\n    <g clip-path=\"url(#p16561571e0)\">\n     <use style=\"fill:#fde725;stroke:#fde725;\" x=\"417.148793\" xlink:href=\"#C0_0_a809a1606e\" y=\"542.418517\"/>\n    </g>\n    <g clip-path=\"url(#p16561571e0)\">\n     <use style=\"fill:#3b528b;stroke:#3b528b;\" x=\"303.715598\" xlink:href=\"#C0_0_a809a1606e\" y=\"540.26143\"/>\n    </g>\n    <g clip-path=\"url(#p16561571e0)\">\n     <use style=\"fill:#fde725;stroke:#fde725;\" x=\"118.298878\" xlink:href=\"#C0_0_a809a1606e\" y=\"539.82929\"/>\n    </g>\n    <g clip-path=\"url(#p16561571e0)\">\n     <use style=\"fill:#3b528b;stroke:#3b528b;\" x=\"231.544267\" xlink:href=\"#C0_0_a809a1606e\" y=\"532.591495\"/>\n    </g>\n    <g clip-path=\"url(#p16561571e0)\">\n     <use style=\"fill:#440154;stroke:#440154;\" x=\"105.256211\" xlink:href=\"#C0_0_a809a1606e\" y=\"276.483759\"/>\n    </g>\n    <g clip-path=\"url(#p16561571e0)\">\n     <use style=\"fill:#440154;stroke:#440154;\" x=\"406.090491\" xlink:href=\"#C0_0_a809a1606e\" y=\"468.565822\"/>\n    </g>\n    <g clip-path=\"url(#p16561571e0)\">\n     <use style=\"fill:#440154;stroke:#440154;\" x=\"591.221704\" xlink:href=\"#C0_0_a809a1606e\" y=\"438.177281\"/>\n    </g>\n    <g clip-path=\"url(#p16561571e0)\">\n     <use style=\"fill:#440154;stroke:#440154;\" x=\"353.773393\" xlink:href=\"#C0_0_a809a1606e\" y=\"390.290347\"/>\n    </g>\n    <g clip-path=\"url(#p16561571e0)\">\n     <use style=\"fill:#fde725;stroke:#fde725;\" x=\"200.549322\" xlink:href=\"#C0_0_a809a1606e\" y=\"515.25909\"/>\n    </g>\n    <g clip-path=\"url(#p16561571e0)\">\n     <use style=\"fill:#440154;stroke:#440154;\" x=\"135.746556\" xlink:href=\"#C0_0_a809a1606e\" y=\"232.577857\"/>\n    </g>\n    <g clip-path=\"url(#p16561571e0)\">\n     <use style=\"fill:#21918c;stroke:#21918c;\" x=\"612.828777\" xlink:href=\"#C0_0_a809a1606e\" y=\"536.004844\"/>\n    </g>\n    <g clip-path=\"url(#p16561571e0)\">\n     <use style=\"fill:#fde725;stroke:#fde725;\" x=\"674.468324\" xlink:href=\"#C0_0_a809a1606e\" y=\"516.877512\"/>\n    </g>\n    <g clip-path=\"url(#p16561571e0)\">\n     <use style=\"fill:#fde725;stroke:#fde725;\" x=\"397.383842\" xlink:href=\"#C0_0_a809a1606e\" y=\"623.115192\"/>\n    </g>\n    <g clip-path=\"url(#p16561571e0)\">\n     <use style=\"fill:#440154;stroke:#440154;\" x=\"577.371265\" xlink:href=\"#C0_0_a809a1606e\" y=\"94.312564\"/>\n    </g>\n    <g clip-path=\"url(#p16561571e0)\">\n     <use style=\"fill:#21918c;stroke:#21918c;\" x=\"529.967775\" xlink:href=\"#C0_0_a809a1606e\" y=\"496.367888\"/>\n    </g>\n    <g clip-path=\"url(#p16561571e0)\">\n     <use style=\"fill:#440154;stroke:#440154;\" x=\"76.32991\" xlink:href=\"#C0_0_a809a1606e\" y=\"470.395736\"/>\n    </g>\n    <g clip-path=\"url(#p16561571e0)\">\n     <use style=\"fill:#21918c;stroke:#21918c;\" x=\"509.161072\" xlink:href=\"#C0_0_a809a1606e\" y=\"479.728969\"/>\n    </g>\n    <g clip-path=\"url(#p16561571e0)\">\n     <use style=\"fill:#440154;stroke:#440154;\" x=\"125.353103\" xlink:href=\"#C0_0_a809a1606e\" y=\"226.664127\"/>\n    </g>\n    <g clip-path=\"url(#p16561571e0)\">\n     <use style=\"fill:#440154;stroke:#440154;\" x=\"148.330866\" xlink:href=\"#C0_0_a809a1606e\" y=\"443.689432\"/>\n    </g>\n    <g clip-path=\"url(#p16561571e0)\">\n     <use style=\"fill:#21918c;stroke:#21918c;\" x=\"529.878566\" xlink:href=\"#C0_0_a809a1606e\" y=\"484.738944\"/>\n    </g>\n    <g clip-path=\"url(#p16561571e0)\">\n     <use style=\"fill:#440154;stroke:#440154;\" x=\"547.993854\" xlink:href=\"#C0_0_a809a1606e\" y=\"239.637232\"/>\n    </g>\n    <g clip-path=\"url(#p16561571e0)\">\n     <use style=\"fill:#440154;stroke:#440154;\" x=\"228.083857\" xlink:href=\"#C0_0_a809a1606e\" y=\"191.336368\"/>\n    </g>\n    <g clip-path=\"url(#p16561571e0)\">\n     <use style=\"fill:#3b528b;stroke:#3b528b;\" x=\"283.170732\" xlink:href=\"#C0_0_a809a1606e\" y=\"543.345275\"/>\n    </g>\n    <g clip-path=\"url(#p16561571e0)\">\n     <use style=\"fill:#fde725;stroke:#fde725;\" x=\"149.197225\" xlink:href=\"#C0_0_a809a1606e\" y=\"528.391422\"/>\n    </g>\n    <g clip-path=\"url(#p16561571e0)\">\n     <use style=\"fill:#440154;stroke:#440154;\" x=\"248.111597\" xlink:href=\"#C0_0_a809a1606e\" y=\"133.179895\"/>\n    </g>\n    <g clip-path=\"url(#p16561571e0)\">\n     <use style=\"fill:#fde725;stroke:#fde725;\" x=\"201.508356\" xlink:href=\"#C0_0_a809a1606e\" y=\"609.021794\"/>\n    </g>\n    <g clip-path=\"url(#p16561571e0)\">\n     <use style=\"fill:#3b528b;stroke:#3b528b;\" x=\"118.362413\" xlink:href=\"#C0_0_a809a1606e\" y=\"547.585961\"/>\n    </g>\n    <g clip-path=\"url(#p16561571e0)\">\n     <use style=\"fill:#440154;stroke:#440154;\" x=\"199.196747\" xlink:href=\"#C0_0_a809a1606e\" y=\"387.503866\"/>\n    </g>\n    <g clip-path=\"url(#p16561571e0)\">\n     <use style=\"fill:#5ec962;stroke:#5ec962;\" x=\"139.626031\" xlink:href=\"#C0_0_a809a1606e\" y=\"604.444369\"/>\n    </g>\n    <g clip-path=\"url(#p16561571e0)\">\n     <use style=\"fill:#440154;stroke:#440154;\" x=\"443.912973\" xlink:href=\"#C0_0_a809a1606e\" y=\"137.120636\"/>\n    </g>\n    <g clip-path=\"url(#p16561571e0)\">\n     <use style=\"fill:#440154;stroke:#440154;\" x=\"508.324532\" xlink:href=\"#C0_0_a809a1606e\" y=\"392.09684\"/>\n    </g>\n    <g clip-path=\"url(#p16561571e0)\">\n     <use style=\"fill:#fde725;stroke:#fde725;\" x=\"98.300513\" xlink:href=\"#C0_0_a809a1606e\" y=\"594.798476\"/>\n    </g>\n    <g clip-path=\"url(#p16561571e0)\">\n     <use style=\"fill:#440154;stroke:#440154;\" x=\"65.741051\" xlink:href=\"#C0_0_a809a1606e\" y=\"439.563294\"/>\n    </g>\n    <g clip-path=\"url(#p16561571e0)\">\n     <use style=\"fill:#440154;stroke:#440154;\" x=\"436.357546\" xlink:href=\"#C0_0_a809a1606e\" y=\"407.312541\"/>\n    </g>\n    <g clip-path=\"url(#p16561571e0)\">\n     <use style=\"fill:#440154;stroke:#440154;\" x=\"662.91248\" xlink:href=\"#C0_0_a809a1606e\" y=\"398.864369\"/>\n    </g>\n    <g clip-path=\"url(#p16561571e0)\">\n     <use style=\"fill:#440154;stroke:#440154;\" x=\"529.73908\" xlink:href=\"#C0_0_a809a1606e\" y=\"462.135296\"/>\n    </g>\n    <g clip-path=\"url(#p16561571e0)\">\n     <use style=\"fill:#440154;stroke:#440154;\" x=\"300.26149\" xlink:href=\"#C0_0_a809a1606e\" y=\"198.077462\"/>\n    </g>\n    <g clip-path=\"url(#p16561571e0)\">\n     <use style=\"fill:#440154;stroke:#440154;\" x=\"392.297124\" xlink:href=\"#C0_0_a809a1606e\" y=\"127.373694\"/>\n    </g>\n    <g clip-path=\"url(#p16561571e0)\">\n     <use style=\"fill:#5ec962;stroke:#5ec962;\" x=\"396.187358\" xlink:href=\"#C0_0_a809a1606e\" y=\"504.775282\"/>\n    </g>\n    <g clip-path=\"url(#p16561571e0)\">\n     <use style=\"fill:#440154;stroke:#440154;\" x=\"321.261164\" xlink:href=\"#C0_0_a809a1606e\" y=\"235.158779\"/>\n    </g>\n    <g clip-path=\"url(#p16561571e0)\">\n     <use style=\"fill:#440154;stroke:#440154;\" x=\"392.858463\" xlink:href=\"#C0_0_a809a1606e\" y=\"182.254679\"/>\n    </g>\n    <g clip-path=\"url(#p16561571e0)\">\n     <use style=\"fill:#3b528b;stroke:#3b528b;\" x=\"159.898155\" xlink:href=\"#C0_0_a809a1606e\" y=\"579.178304\"/>\n    </g>\n    <g clip-path=\"url(#p16561571e0)\">\n     <use style=\"fill:#fde725;stroke:#fde725;\" x=\"376.448785\" xlink:href=\"#C0_0_a809a1606e\" y=\"592.565245\"/>\n    </g>\n    <g clip-path=\"url(#p16561571e0)\">\n     <use style=\"fill:#5ec962;stroke:#5ec962;\" x=\"334.776836\" xlink:href=\"#C0_0_a809a1606e\" y=\"544.749013\"/>\n    </g>\n    <g clip-path=\"url(#p16561571e0)\">\n     <use style=\"fill:#5ec962;stroke:#5ec962;\" x=\"77.099814\" xlink:href=\"#C0_0_a809a1606e\" y=\"535.338912\"/>\n    </g>\n    <g clip-path=\"url(#p16561571e0)\">\n     <use style=\"fill:#440154;stroke:#440154;\" x=\"568.835668\" xlink:href=\"#C0_0_a809a1606e\" y=\"265.554325\"/>\n    </g>\n    <g clip-path=\"url(#p16561571e0)\">\n     <use style=\"fill:#fde725;stroke:#fde725;\" x=\"437.308395\" xlink:href=\"#C0_0_a809a1606e\" y=\"494.215693\"/>\n    </g>\n    <g clip-path=\"url(#p16561571e0)\">\n     <use style=\"fill:#440154;stroke:#440154;\" x=\"504.707087\" xlink:href=\"#C0_0_a809a1606e\" y=\"36.850909\"/>\n    </g>\n    <g clip-path=\"url(#p16561571e0)\">\n     <use style=\"fill:#440154;stroke:#440154;\" x=\"466.149828\" xlink:href=\"#C0_0_a809a1606e\" y=\"289.099205\"/>\n    </g>\n    <g clip-path=\"url(#p16561571e0)\">\n     <use style=\"fill:#440154;stroke:#440154;\" x=\"508.214422\" xlink:href=\"#C0_0_a809a1606e\" y=\"384.23879\"/>\n    </g>\n    <g clip-path=\"url(#p16561571e0)\">\n     <use style=\"fill:#21918c;stroke:#21918c;\" x=\"530.850885\" xlink:href=\"#C0_0_a809a1606e\" y=\"582.738811\"/>\n    </g>\n    <g clip-path=\"url(#p16561571e0)\">\n     <use style=\"fill:#440154;stroke:#440154;\" x=\"456.122994\" xlink:href=\"#C0_0_a809a1606e\" y=\"320.605179\"/>\n    </g>\n    <g clip-path=\"url(#p16561571e0)\">\n     <use style=\"fill:#3b528b;stroke:#3b528b;\" x=\"231.665821\" xlink:href=\"#C0_0_a809a1606e\" y=\"544.475609\"/>\n    </g>\n    <g clip-path=\"url(#p16561571e0)\">\n     <use style=\"fill:#fde725;stroke:#fde725;\" x=\"623.370826\" xlink:href=\"#C0_0_a809a1606e\" y=\"553.294352\"/>\n    </g>\n    <g clip-path=\"url(#p16561571e0)\">\n     <use style=\"fill:#fde725;stroke:#fde725;\" x=\"293.334482\" xlink:href=\"#C0_0_a809a1606e\" y=\"528.163567\"/>\n    </g>\n    <g clip-path=\"url(#p16561571e0)\">\n     <use style=\"fill:#3b528b;stroke:#3b528b;\" x=\"375.556049\" xlink:href=\"#C0_0_a809a1606e\" y=\"509.73641\"/>\n    </g>\n    <g clip-path=\"url(#p16561571e0)\">\n     <use style=\"fill:#440154;stroke:#440154;\" x=\"498.015402\" xlink:href=\"#C0_0_a809a1606e\" y=\"389.975207\"/>\n    </g>\n    <g clip-path=\"url(#p16561571e0)\">\n     <use style=\"fill:#440154;stroke:#440154;\" x=\"313.293394\" xlink:href=\"#C0_0_a809a1606e\" y=\"454.525331\"/>\n    </g>\n    <g clip-path=\"url(#p16561571e0)\">\n     <use style=\"fill:#440154;stroke:#440154;\" x=\"199.305539\" xlink:href=\"#C0_0_a809a1606e\" y=\"405.561768\"/>\n    </g>\n    <g clip-path=\"url(#p16561571e0)\">\n     <use style=\"fill:#440154;stroke:#440154;\" x=\"343.112409\" xlink:href=\"#C0_0_a809a1606e\" y=\"359.765686\"/>\n    </g>\n    <g clip-path=\"url(#p16561571e0)\">\n     <use style=\"fill:#440154;stroke:#440154;\" x=\"199.266584\" xlink:href=\"#C0_0_a809a1606e\" y=\"389.848473\"/>\n    </g>\n    <g clip-path=\"url(#p16561571e0)\">\n     <use style=\"fill:#fde725;stroke:#fde725;\" x=\"242.768005\" xlink:href=\"#C0_0_a809a1606e\" y=\"613.589968\"/>\n    </g>\n    <g clip-path=\"url(#p16561571e0)\">\n     <use style=\"fill:#3b528b;stroke:#3b528b;\" x=\"314.38946\" xlink:href=\"#C0_0_a809a1606e\" y=\"570.651787\"/>\n    </g>\n    <g clip-path=\"url(#p16561571e0)\">\n     <use style=\"fill:#440154;stroke:#440154;\" x=\"653.074276\" xlink:href=\"#C0_0_a809a1606e\" y=\"436.938644\"/>\n    </g>\n    <g clip-path=\"url(#p16561571e0)\">\n     <use style=\"fill:#fde725;stroke:#fde725;\" x=\"242.055739\" xlink:href=\"#C0_0_a809a1606e\" y=\"551.374742\"/>\n    </g>\n    <g clip-path=\"url(#p16561571e0)\">\n     <use style=\"fill:#440154;stroke:#440154;\" x=\"156.94397\" xlink:href=\"#C0_0_a809a1606e\" y=\"278.44927\"/>\n    </g>\n    <g clip-path=\"url(#p16561571e0)\">\n     <use style=\"fill:#3b528b;stroke:#3b528b;\" x=\"272.550849\" xlink:href=\"#C0_0_a809a1606e\" y=\"512.386839\"/>\n    </g>\n    <g clip-path=\"url(#p16561571e0)\">\n     <use style=\"fill:#fde725;stroke:#fde725;\" x=\"159.779478\" xlink:href=\"#C0_0_a809a1606e\" y=\"558.577988\"/>\n    </g>\n    <g clip-path=\"url(#p16561571e0)\">\n     <use style=\"fill:#3b528b;stroke:#3b528b;\" x=\"417.997409\" xlink:href=\"#C0_0_a809a1606e\" y=\"629.869091\"/>\n    </g>\n    <g clip-path=\"url(#p16561571e0)\">\n     <use style=\"fill:#fde725;stroke:#fde725;\" x=\"313.599241\" xlink:href=\"#C0_0_a809a1606e\" y=\"491.848784\"/>\n    </g>\n   </g>\n   <g id=\"matplotlib.axis_1\">\n    <g id=\"xtick_1\">\n     <g id=\"line2d_1\">\n      <defs>\n       <path d=\"M 0 0 \nL 0 3.5 \n\" id=\"m0889bdfa9f\" style=\"stroke:#000000;stroke-width:0.8;\"/>\n      </defs>\n      <g>\n       <use style=\"stroke:#000000;stroke-width:0.8;\" x=\"55.911646\" xlink:href=\"#m0889bdfa9f\" y=\"659.52\"/>\n      </g>\n     </g>\n     <g id=\"text_1\">\n      <!-- −30 -->\n      <g transform=\"translate(45.359303 674.118438)scale(0.1 -0.1)\">\n       <defs>\n        <path d=\"M 10.59375 35.5 \nL 73.1875 35.5 \nL 73.1875 27.203125 \nL 10.59375 27.203125 \nz\n\" id=\"DejaVuSans-8722\"/>\n        <path d=\"M 40.578125 39.3125 \nQ 47.65625 37.796875 51.625 33 \nQ 55.609375 28.21875 55.609375 21.1875 \nQ 55.609375 10.40625 48.1875 4.484375 \nQ 40.765625 -1.421875 27.09375 -1.421875 \nQ 22.515625 -1.421875 17.65625 -0.515625 \nQ 12.796875 0.390625 7.625 2.203125 \nL 7.625 11.71875 \nQ 11.71875 9.328125 16.59375 8.109375 \nQ 21.484375 6.890625 26.8125 6.890625 \nQ 36.078125 6.890625 40.9375 10.546875 \nQ 45.796875 14.203125 45.796875 21.1875 \nQ 45.796875 27.640625 41.28125 31.265625 \nQ 36.765625 34.90625 28.71875 34.90625 \nL 20.21875 34.90625 \nL 20.21875 43.015625 \nL 29.109375 43.015625 \nQ 36.375 43.015625 40.234375 45.921875 \nQ 44.09375 48.828125 44.09375 54.296875 \nQ 44.09375 59.90625 40.109375 62.90625 \nQ 36.140625 65.921875 28.71875 65.921875 \nQ 24.65625 65.921875 20.015625 65.03125 \nQ 15.375 64.15625 9.8125 62.3125 \nL 9.8125 71.09375 \nQ 15.4375 72.65625 20.34375 73.4375 \nQ 25.25 74.21875 29.59375 74.21875 \nQ 40.828125 74.21875 47.359375 69.109375 \nQ 53.90625 64.015625 53.90625 55.328125 \nQ 53.90625 49.265625 50.4375 45.09375 \nQ 46.96875 40.921875 40.578125 39.3125 \nz\n\" id=\"DejaVuSans-51\"/>\n        <path d=\"M 31.78125 66.40625 \nQ 24.171875 66.40625 20.328125 58.90625 \nQ 16.5 51.421875 16.5 36.375 \nQ 16.5 21.390625 20.328125 13.890625 \nQ 24.171875 6.390625 31.78125 6.390625 \nQ 39.453125 6.390625 43.28125 13.890625 \nQ 47.125 21.390625 47.125 36.375 \nQ 47.125 51.421875 43.28125 58.90625 \nQ 39.453125 66.40625 31.78125 66.40625 \nz\nM 31.78125 74.21875 \nQ 44.046875 74.21875 50.515625 64.515625 \nQ 56.984375 54.828125 56.984375 36.375 \nQ 56.984375 17.96875 50.515625 8.265625 \nQ 44.046875 -1.421875 31.78125 -1.421875 \nQ 19.53125 -1.421875 13.0625 8.265625 \nQ 6.59375 17.96875 6.59375 36.375 \nQ 6.59375 54.828125 13.0625 64.515625 \nQ 19.53125 74.21875 31.78125 74.21875 \nz\n\" id=\"DejaVuSans-48\"/>\n       </defs>\n       <use xlink:href=\"#DejaVuSans-8722\"/>\n       <use x=\"83.789062\" xlink:href=\"#DejaVuSans-51\"/>\n       <use x=\"147.412109\" xlink:href=\"#DejaVuSans-48\"/>\n      </g>\n     </g>\n    </g>\n    <g id=\"xtick_2\">\n     <g id=\"line2d_2\">\n      <g>\n       <use style=\"stroke:#000000;stroke-width:0.8;\" x=\"158.928547\" xlink:href=\"#m0889bdfa9f\" y=\"659.52\"/>\n      </g>\n     </g>\n     <g id=\"text_2\">\n      <!-- −20 -->\n      <g transform=\"translate(148.376203 674.118438)scale(0.1 -0.1)\">\n       <defs>\n        <path d=\"M 19.1875 8.296875 \nL 53.609375 8.296875 \nL 53.609375 0 \nL 7.328125 0 \nL 7.328125 8.296875 \nQ 12.9375 14.109375 22.625 23.890625 \nQ 32.328125 33.6875 34.8125 36.53125 \nQ 39.546875 41.84375 41.421875 45.53125 \nQ 43.3125 49.21875 43.3125 52.78125 \nQ 43.3125 58.59375 39.234375 62.25 \nQ 35.15625 65.921875 28.609375 65.921875 \nQ 23.96875 65.921875 18.8125 64.3125 \nQ 13.671875 62.703125 7.8125 59.421875 \nL 7.8125 69.390625 \nQ 13.765625 71.78125 18.9375 73 \nQ 24.125 74.21875 28.421875 74.21875 \nQ 39.75 74.21875 46.484375 68.546875 \nQ 53.21875 62.890625 53.21875 53.421875 \nQ 53.21875 48.921875 51.53125 44.890625 \nQ 49.859375 40.875 45.40625 35.40625 \nQ 44.1875 33.984375 37.640625 27.21875 \nQ 31.109375 20.453125 19.1875 8.296875 \nz\n\" id=\"DejaVuSans-50\"/>\n       </defs>\n       <use xlink:href=\"#DejaVuSans-8722\"/>\n       <use x=\"83.789062\" xlink:href=\"#DejaVuSans-50\"/>\n       <use x=\"147.412109\" xlink:href=\"#DejaVuSans-48\"/>\n      </g>\n     </g>\n    </g>\n    <g id=\"xtick_3\">\n     <g id=\"line2d_3\">\n      <g>\n       <use style=\"stroke:#000000;stroke-width:0.8;\" x=\"261.945447\" xlink:href=\"#m0889bdfa9f\" y=\"659.52\"/>\n      </g>\n     </g>\n     <g id=\"text_3\">\n      <!-- −10 -->\n      <g transform=\"translate(251.393103 674.118438)scale(0.1 -0.1)\">\n       <defs>\n        <path d=\"M 12.40625 8.296875 \nL 28.515625 8.296875 \nL 28.515625 63.921875 \nL 10.984375 60.40625 \nL 10.984375 69.390625 \nL 28.421875 72.90625 \nL 38.28125 72.90625 \nL 38.28125 8.296875 \nL 54.390625 8.296875 \nL 54.390625 0 \nL 12.40625 0 \nz\n\" id=\"DejaVuSans-49\"/>\n       </defs>\n       <use xlink:href=\"#DejaVuSans-8722\"/>\n       <use x=\"83.789062\" xlink:href=\"#DejaVuSans-49\"/>\n       <use x=\"147.412109\" xlink:href=\"#DejaVuSans-48\"/>\n      </g>\n     </g>\n    </g>\n    <g id=\"xtick_4\">\n     <g id=\"line2d_4\">\n      <g>\n       <use style=\"stroke:#000000;stroke-width:0.8;\" x=\"364.962347\" xlink:href=\"#m0889bdfa9f\" y=\"659.52\"/>\n      </g>\n     </g>\n     <g id=\"text_4\">\n      <!-- 0 -->\n      <g transform=\"translate(361.781097 674.118438)scale(0.1 -0.1)\">\n       <use xlink:href=\"#DejaVuSans-48\"/>\n      </g>\n     </g>\n    </g>\n    <g id=\"xtick_5\">\n     <g id=\"line2d_5\">\n      <g>\n       <use style=\"stroke:#000000;stroke-width:0.8;\" x=\"467.979247\" xlink:href=\"#m0889bdfa9f\" y=\"659.52\"/>\n      </g>\n     </g>\n     <g id=\"text_5\">\n      <!-- 10 -->\n      <g transform=\"translate(461.616747 674.118438)scale(0.1 -0.1)\">\n       <use xlink:href=\"#DejaVuSans-49\"/>\n       <use x=\"63.623047\" xlink:href=\"#DejaVuSans-48\"/>\n      </g>\n     </g>\n    </g>\n    <g id=\"xtick_6\">\n     <g id=\"line2d_6\">\n      <g>\n       <use style=\"stroke:#000000;stroke-width:0.8;\" x=\"570.996148\" xlink:href=\"#m0889bdfa9f\" y=\"659.52\"/>\n      </g>\n     </g>\n     <g id=\"text_6\">\n      <!-- 20 -->\n      <g transform=\"translate(564.633648 674.118438)scale(0.1 -0.1)\">\n       <use xlink:href=\"#DejaVuSans-50\"/>\n       <use x=\"63.623047\" xlink:href=\"#DejaVuSans-48\"/>\n      </g>\n     </g>\n    </g>\n    <g id=\"xtick_7\">\n     <g id=\"line2d_7\">\n      <g>\n       <use style=\"stroke:#000000;stroke-width:0.8;\" x=\"674.013048\" xlink:href=\"#m0889bdfa9f\" y=\"659.52\"/>\n      </g>\n     </g>\n     <g id=\"text_7\">\n      <!-- 30 -->\n      <g transform=\"translate(667.650548 674.118438)scale(0.1 -0.1)\">\n       <use xlink:href=\"#DejaVuSans-51\"/>\n       <use x=\"63.623047\" xlink:href=\"#DejaVuSans-48\"/>\n      </g>\n     </g>\n    </g>\n   </g>\n   <g id=\"matplotlib.axis_2\">\n    <g id=\"ytick_1\">\n     <g id=\"line2d_8\">\n      <defs>\n       <path d=\"M 0 0 \nL -3.5 0 \n\" id=\"m1c6ee48ab9\" style=\"stroke:#000000;stroke-width:0.8;\"/>\n      </defs>\n      <g>\n       <use style=\"stroke:#000000;stroke-width:0.8;\" x=\"35.304688\" xlink:href=\"#m1c6ee48ab9\" y=\"631.800527\"/>\n      </g>\n     </g>\n     <g id=\"text_8\">\n      <!-- −10 -->\n      <g transform=\"translate(7.2 635.599746)scale(0.1 -0.1)\">\n       <use xlink:href=\"#DejaVuSans-8722\"/>\n       <use x=\"83.789062\" xlink:href=\"#DejaVuSans-49\"/>\n       <use x=\"147.412109\" xlink:href=\"#DejaVuSans-48\"/>\n      </g>\n     </g>\n    </g>\n    <g id=\"ytick_2\">\n     <g id=\"line2d_9\">\n      <g>\n       <use style=\"stroke:#000000;stroke-width:0.8;\" x=\"35.304688\" xlink:href=\"#m1c6ee48ab9\" y=\"539.515023\"/>\n      </g>\n     </g>\n     <g id=\"text_9\">\n      <!-- −5 -->\n      <g transform=\"translate(13.5625 543.314242)scale(0.1 -0.1)\">\n       <defs>\n        <path d=\"M 10.796875 72.90625 \nL 49.515625 72.90625 \nL 49.515625 64.59375 \nL 19.828125 64.59375 \nL 19.828125 46.734375 \nQ 21.96875 47.46875 24.109375 47.828125 \nQ 26.265625 48.1875 28.421875 48.1875 \nQ 40.625 48.1875 47.75 41.5 \nQ 54.890625 34.8125 54.890625 23.390625 \nQ 54.890625 11.625 47.5625 5.09375 \nQ 40.234375 -1.421875 26.90625 -1.421875 \nQ 22.3125 -1.421875 17.546875 -0.640625 \nQ 12.796875 0.140625 7.71875 1.703125 \nL 7.71875 11.625 \nQ 12.109375 9.234375 16.796875 8.0625 \nQ 21.484375 6.890625 26.703125 6.890625 \nQ 35.15625 6.890625 40.078125 11.328125 \nQ 45.015625 15.765625 45.015625 23.390625 \nQ 45.015625 31 40.078125 35.4375 \nQ 35.15625 39.890625 26.703125 39.890625 \nQ 22.75 39.890625 18.8125 39.015625 \nQ 14.890625 38.140625 10.796875 36.28125 \nz\n\" id=\"DejaVuSans-53\"/>\n       </defs>\n       <use xlink:href=\"#DejaVuSans-8722\"/>\n       <use x=\"83.789062\" xlink:href=\"#DejaVuSans-53\"/>\n      </g>\n     </g>\n    </g>\n    <g id=\"ytick_3\">\n     <g id=\"line2d_10\">\n      <g>\n       <use style=\"stroke:#000000;stroke-width:0.8;\" x=\"35.304688\" xlink:href=\"#m1c6ee48ab9\" y=\"447.22952\"/>\n      </g>\n     </g>\n     <g id=\"text_10\">\n      <!-- 0 -->\n      <g transform=\"translate(21.942188 451.028739)scale(0.1 -0.1)\">\n       <use xlink:href=\"#DejaVuSans-48\"/>\n      </g>\n     </g>\n    </g>\n    <g id=\"ytick_4\">\n     <g id=\"line2d_11\">\n      <g>\n       <use style=\"stroke:#000000;stroke-width:0.8;\" x=\"35.304688\" xlink:href=\"#m1c6ee48ab9\" y=\"354.944016\"/>\n      </g>\n     </g>\n     <g id=\"text_11\">\n      <!-- 5 -->\n      <g transform=\"translate(21.942188 358.743235)scale(0.1 -0.1)\">\n       <use xlink:href=\"#DejaVuSans-53\"/>\n      </g>\n     </g>\n    </g>\n    <g id=\"ytick_5\">\n     <g id=\"line2d_12\">\n      <g>\n       <use style=\"stroke:#000000;stroke-width:0.8;\" x=\"35.304688\" xlink:href=\"#m1c6ee48ab9\" y=\"262.658513\"/>\n      </g>\n     </g>\n     <g id=\"text_12\">\n      <!-- 10 -->\n      <g transform=\"translate(15.579688 266.457732)scale(0.1 -0.1)\">\n       <use xlink:href=\"#DejaVuSans-49\"/>\n       <use x=\"63.623047\" xlink:href=\"#DejaVuSans-48\"/>\n      </g>\n     </g>\n    </g>\n    <g id=\"ytick_6\">\n     <g id=\"line2d_13\">\n      <g>\n       <use style=\"stroke:#000000;stroke-width:0.8;\" x=\"35.304688\" xlink:href=\"#m1c6ee48ab9\" y=\"170.37301\"/>\n      </g>\n     </g>\n     <g id=\"text_13\">\n      <!-- 15 -->\n      <g transform=\"translate(15.579688 174.172228)scale(0.1 -0.1)\">\n       <use xlink:href=\"#DejaVuSans-49\"/>\n       <use x=\"63.623047\" xlink:href=\"#DejaVuSans-53\"/>\n      </g>\n     </g>\n    </g>\n    <g id=\"ytick_7\">\n     <g id=\"line2d_14\">\n      <g>\n       <use style=\"stroke:#000000;stroke-width:0.8;\" x=\"35.304688\" xlink:href=\"#m1c6ee48ab9\" y=\"78.087506\"/>\n      </g>\n     </g>\n     <g id=\"text_14\">\n      <!-- 20 -->\n      <g transform=\"translate(15.579688 81.886725)scale(0.1 -0.1)\">\n       <use xlink:href=\"#DejaVuSans-50\"/>\n       <use x=\"63.623047\" xlink:href=\"#DejaVuSans-48\"/>\n      </g>\n     </g>\n    </g>\n   </g>\n   <g id=\"patch_3\">\n    <path d=\"M 35.304688 659.52 \nL 35.304688 7.2 \n\" style=\"fill:none;stroke:#000000;stroke-linecap:square;stroke-linejoin:miter;stroke-width:0.8;\"/>\n   </g>\n   <g id=\"patch_4\">\n    <path d=\"M 704.904688 659.52 \nL 704.904688 7.2 \n\" style=\"fill:none;stroke:#000000;stroke-linecap:square;stroke-linejoin:miter;stroke-width:0.8;\"/>\n   </g>\n   <g id=\"patch_5\">\n    <path d=\"M 35.304688 659.52 \nL 704.904687 659.52 \n\" style=\"fill:none;stroke:#000000;stroke-linecap:square;stroke-linejoin:miter;stroke-width:0.8;\"/>\n   </g>\n   <g id=\"patch_6\">\n    <path d=\"M 35.304688 7.2 \nL 704.904687 7.2 \n\" style=\"fill:none;stroke:#000000;stroke-linecap:square;stroke-linejoin:miter;stroke-width:0.8;\"/>\n   </g>\n   <g id=\"legend_1\">\n    <g id=\"patch_7\">\n     <path d=\"M 659.504688 88.590625 \nL 697.904688 88.590625 \nQ 699.904688 88.590625 699.904688 86.590625 \nL 699.904688 14.2 \nQ 699.904688 12.2 697.904688 12.2 \nL 659.504688 12.2 \nQ 657.504688 12.2 657.504688 14.2 \nL 657.504688 86.590625 \nQ 657.504688 88.590625 659.504688 88.590625 \nz\n\" style=\"fill:#ffffff;opacity:0.8;stroke:#cccccc;stroke-linejoin:miter;\"/>\n    </g>\n    <g id=\"line2d_15\"/>\n    <g id=\"line2d_16\">\n     <defs>\n      <path d=\"M 0 3 \nC 0.795609 3 1.55874 2.683901 2.12132 2.12132 \nC 2.683901 1.55874 3 0.795609 3 0 \nC 3 -0.795609 2.683901 -1.55874 2.12132 -2.12132 \nC 1.55874 -2.683901 0.795609 -3 0 -3 \nC -0.795609 -3 -1.55874 -2.683901 -2.12132 -2.12132 \nC -2.683901 -1.55874 -3 -0.795609 -3 0 \nC -3 0.795609 -2.683901 1.55874 -2.12132 2.12132 \nC -1.55874 2.683901 -0.795609 3 0 3 \nz\n\" id=\"md3e3c9a8b1\" style=\"stroke:#440154;\"/>\n     </defs>\n     <g>\n      <use style=\"fill:#440154;stroke:#440154;\" x=\"671.504688\" xlink:href=\"#md3e3c9a8b1\" y=\"20.298437\"/>\n     </g>\n    </g>\n    <g id=\"text_15\">\n     <!-- $\\mathdefault{0}$ -->\n     <g transform=\"translate(689.504688 23.798437)scale(0.1 -0.1)\">\n      <use transform=\"translate(0 0.78125)\" xlink:href=\"#DejaVuSans-48\"/>\n     </g>\n    </g>\n    <g id=\"line2d_17\"/>\n    <g id=\"line2d_18\">\n     <defs>\n      <path d=\"M 0 3 \nC 0.795609 3 1.55874 2.683901 2.12132 2.12132 \nC 2.683901 1.55874 3 0.795609 3 0 \nC 3 -0.795609 2.683901 -1.55874 2.12132 -2.12132 \nC 1.55874 -2.683901 0.795609 -3 0 -3 \nC -0.795609 -3 -1.55874 -2.683901 -2.12132 -2.12132 \nC -2.683901 -1.55874 -3 -0.795609 -3 0 \nC -3 0.795609 -2.683901 1.55874 -2.12132 2.12132 \nC -1.55874 2.683901 -0.795609 3 0 3 \nz\n\" id=\"m4aeba62503\" style=\"stroke:#3b528b;\"/>\n     </defs>\n     <g>\n      <use style=\"fill:#3b528b;stroke:#3b528b;\" x=\"671.504688\" xlink:href=\"#m4aeba62503\" y=\"34.976562\"/>\n     </g>\n    </g>\n    <g id=\"text_16\">\n     <!-- $\\mathdefault{1}$ -->\n     <g transform=\"translate(689.504688 38.476562)scale(0.1 -0.1)\">\n      <use transform=\"translate(0 0.09375)\" xlink:href=\"#DejaVuSans-49\"/>\n     </g>\n    </g>\n    <g id=\"line2d_19\"/>\n    <g id=\"line2d_20\">\n     <defs>\n      <path d=\"M 0 3 \nC 0.795609 3 1.55874 2.683901 2.12132 2.12132 \nC 2.683901 1.55874 3 0.795609 3 0 \nC 3 -0.795609 2.683901 -1.55874 2.12132 -2.12132 \nC 1.55874 -2.683901 0.795609 -3 0 -3 \nC -0.795609 -3 -1.55874 -2.683901 -2.12132 -2.12132 \nC -2.683901 -1.55874 -3 -0.795609 -3 0 \nC -3 0.795609 -2.683901 1.55874 -2.12132 2.12132 \nC -1.55874 2.683901 -0.795609 3 0 3 \nz\n\" id=\"m84879a0f95\" style=\"stroke:#21918c;\"/>\n     </defs>\n     <g>\n      <use style=\"fill:#21918c;stroke:#21918c;\" x=\"671.504688\" xlink:href=\"#m84879a0f95\" y=\"49.654688\"/>\n     </g>\n    </g>\n    <g id=\"text_17\">\n     <!-- $\\mathdefault{2}$ -->\n     <g transform=\"translate(689.504688 53.154688)scale(0.1 -0.1)\">\n      <use transform=\"translate(0 0.78125)\" xlink:href=\"#DejaVuSans-50\"/>\n     </g>\n    </g>\n    <g id=\"line2d_21\"/>\n    <g id=\"line2d_22\">\n     <defs>\n      <path d=\"M 0 3 \nC 0.795609 3 1.55874 2.683901 2.12132 2.12132 \nC 2.683901 1.55874 3 0.795609 3 0 \nC 3 -0.795609 2.683901 -1.55874 2.12132 -2.12132 \nC 1.55874 -2.683901 0.795609 -3 0 -3 \nC -0.795609 -3 -1.55874 -2.683901 -2.12132 -2.12132 \nC -2.683901 -1.55874 -3 -0.795609 -3 0 \nC -3 0.795609 -2.683901 1.55874 -2.12132 2.12132 \nC -1.55874 2.683901 -0.795609 3 0 3 \nz\n\" id=\"me7df11e346\" style=\"stroke:#5ec962;\"/>\n     </defs>\n     <g>\n      <use style=\"fill:#5ec962;stroke:#5ec962;\" x=\"671.504688\" xlink:href=\"#me7df11e346\" y=\"64.332812\"/>\n     </g>\n    </g>\n    <g id=\"text_18\">\n     <!-- $\\mathdefault{3}$ -->\n     <g transform=\"translate(689.504688 67.832812)scale(0.1 -0.1)\">\n      <use transform=\"translate(0 0.78125)\" xlink:href=\"#DejaVuSans-51\"/>\n     </g>\n    </g>\n    <g id=\"line2d_23\"/>\n    <g id=\"line2d_24\">\n     <defs>\n      <path d=\"M 0 3 \nC 0.795609 3 1.55874 2.683901 2.12132 2.12132 \nC 2.683901 1.55874 3 0.795609 3 0 \nC 3 -0.795609 2.683901 -1.55874 2.12132 -2.12132 \nC 1.55874 -2.683901 0.795609 -3 0 -3 \nC -0.795609 -3 -1.55874 -2.683901 -2.12132 -2.12132 \nC -2.683901 -1.55874 -3 -0.795609 -3 0 \nC -3 0.795609 -2.683901 1.55874 -2.12132 2.12132 \nC -1.55874 2.683901 -0.795609 3 0 3 \nz\n\" id=\"md83e247403\" style=\"stroke:#fde725;\"/>\n     </defs>\n     <g>\n      <use style=\"fill:#fde725;stroke:#fde725;\" x=\"671.504688\" xlink:href=\"#md83e247403\" y=\"79.010937\"/>\n     </g>\n    </g>\n    <g id=\"text_19\">\n     <!-- $\\mathdefault{4}$ -->\n     <g transform=\"translate(689.504688 82.510937)scale(0.1 -0.1)\">\n      <defs>\n       <path d=\"M 37.796875 64.3125 \nL 12.890625 25.390625 \nL 37.796875 25.390625 \nz\nM 35.203125 72.90625 \nL 47.609375 72.90625 \nL 47.609375 25.390625 \nL 58.015625 25.390625 \nL 58.015625 17.1875 \nL 47.609375 17.1875 \nL 47.609375 0 \nL 37.796875 0 \nL 37.796875 17.1875 \nL 4.890625 17.1875 \nL 4.890625 26.703125 \nz\n\" id=\"DejaVuSans-52\"/>\n      </defs>\n      <use transform=\"translate(0 0.09375)\" xlink:href=\"#DejaVuSans-52\"/>\n     </g>\n    </g>\n   </g>\n  </g>\n </g>\n <defs>\n  <clipPath id=\"p16561571e0\">\n   <rect height=\"652.32\" width=\"669.6\" x=\"35.304688\" y=\"7.2\"/>\n  </clipPath>\n </defs>\n</svg>\n",
      "image/png": "[encoded data removed]"
     },
     "metadata": {
      "needs_background": "light"
     }
    }
   ],
   "source": [
    "# X_train, X_test, Y_train, Y_test = train_test_split(X, Y, random_state=1)\n",
    "pca = PCA(n_components=2, random_state=1)\n",
    "X_train_reduced = pca.fit_transform(X_train)\n",
    "\n",
    "svm = SVC(C=1, kernel='linear', random_state=1)\n",
    "svm.fit(X_train_reduced, Y_train)\n",
    "\n",
    "X_test_reduced = pca.transform(X_test)\n",
    "print('SVM accuracy: ', svm.score(X_test_reduced, Y_test))\n",
    "\n",
    "fig, ax = plt.subplots(figsize=(12,12))\n",
    "scatter = ax.scatter(X_train_reduced[:, 0], X_train_reduced[:, 1], c=Y_train)\n",
    "handles, labels = scatter.legend_elements()\n",
    "ax.legend(handles, labels)\n",
    "plt.show()\n",
    "\n",
    "del pca\n",
    "del svm"
   ]
  },
  {
   "cell_type": "code",
   "execution_count": 17,
   "metadata": {},
   "outputs": [
    {
     "output_type": "stream",
     "name": "stdout",
     "text": [
      "Pipeline(steps=[('pca', PCA(n_components=3, random_state=1)),\n                ('svm', SVC(C=1000, gamma=0.001, random_state=1))])\n0.9199999999999999\n"
     ]
    }
   ],
   "source": [
    "from sklearn.pipeline import Pipeline\n",
    "\n",
    "pca = PCA(random_state=1)\n",
    "svm = SVC(random_state=1)\n",
    "pipe = Pipeline(steps=[('pca', pca), ('svm', svm)])\n",
    "\n",
    "param_grid = [\n",
    "    {'pca__n_components': [1, 2, 3, 4], 'svm__C': [1, 10, 100, 1000], 'svm__kernel': ['linear']},\n",
    "    {'pca__n_components': [1, 2, 3, 4], 'svm__C': [1, 10, 100, 1000], 'svm__kernel': ['rbf'], 'svm__gamma': [1, 0.01, 0.001, 0.0001]},\n",
    "]\n",
    "\n",
    "cv = GridSearchCV(estimator=pipe, param_grid=param_grid, n_jobs=-1)\n",
    "cv.fit(X, Y)\n",
    "\n",
    "print(cv.best_estimator_)\n",
    "print(cv.best_score_)\n",
    "# cv.cv_results_['params'][cv.best_index_]"
   ]
  },
  {
   "cell_type": "code",
   "execution_count": 21,
   "metadata": {},
   "outputs": [
    {
     "output_type": "stream",
     "name": "stdout",
     "text": [
      "SVM accuracy:  0.9090909090909091\n"
     ]
    },
    {
     "output_type": "display_data",
     "data": {
      "text/plain": "<Figure size 864x864 with 1 Axes>",
      "image/svg+xml": "<?xml version=\"1.0\" encoding=\"utf-8\" standalone=\"no\"?>\n<!DOCTYPE svg PUBLIC \"-//W3C//DTD SVG 1.1//EN\"\n  \"http://www.w3.org/Graphics/SVG/1.1/DTD/svg11.dtd\">\n<!-- Created with matplotlib (https://matplotlib.org/) -->\n<svg height=\"683.398125pt\" version=\"1.1\" viewBox=\"0 0 712.104687 683.398125\" width=\"712.104687pt\" xmlns=\"http://www.w3.org/2000/svg\" xmlns:xlink=\"http://www.w3.org/1999/xlink\">\n <metadata>\n  <rdf:RDF xmlns:cc=\"http://creativecommons.org/ns#\" xmlns:dc=\"http://purl.org/dc/elements/1.1/\" xmlns:rdf=\"http://www.w3.org/1999/02/22-rdf-syntax-ns#\">\n   <cc:Work>\n    <dc:type rdf:resource=\"http://purl.org/dc/dcmitype/StillImage\"/>\n    <dc:date>2020-12-21T19:10:40.532473</dc:date>\n    <dc:format>image/svg+xml</dc:format>\n    <dc:creator>\n     <cc:Agent>\n      <dc:title>Matplotlib v3.3.2, https://matplotlib.org/</dc:title>\n     </cc:Agent>\n    </dc:creator>\n   </cc:Work>\n  </rdf:RDF>\n </metadata>\n <defs>\n  <style type=\"text/css\">*{stroke-linecap:butt;stroke-linejoin:round;}</style>\n </defs>\n <g id=\"figure_1\">\n  <g id=\"patch_1\">\n   <path d=\"M 0 683.398125 \nL 712.104687 683.398125 \nL 712.104687 0 \nL 0 0 \nz\n\" style=\"fill:none;\"/>\n  </g>\n  <g id=\"axes_1\">\n   <g id=\"patch_2\">\n    <path d=\"M 35.304688 659.52 \nL 704.904688 659.52 \nL 704.904688 7.2 \nL 35.304688 7.2 \nz\n\" style=\"fill:#ffffff;\"/>\n   </g>\n   <g id=\"PathCollection_1\">\n    <defs>\n     <path d=\"M 0 3 \nC 0.795609 3 1.55874 2.683901 2.12132 2.12132 \nC 2.683901 1.55874 3 0.795609 3 -0 \nC 3 -0.795609 2.683901 -1.55874 2.12132 -2.12132 \nC 1.55874 -2.683901 0.795609 -3 0 -3 \nC -0.795609 -3 -1.55874 -2.683901 -2.12132 -2.12132 \nC -2.683901 -1.55874 -3 -0.795609 -3 0 \nC -3 0.795609 -2.683901 1.55874 -2.12132 2.12132 \nC -1.55874 2.683901 -0.795609 3 0 3 \nz\n\" id=\"C0_0_b23b9ade25\"/>\n    </defs>\n    <g clip-path=\"url(#p1f6d2cddb8)\">\n     <use style=\"fill:#fde725;stroke:#fde725;\" x=\"273.597227\" xlink:href=\"#C0_0_b23b9ade25\" y=\"605.753676\"/>\n    </g>\n    <g clip-path=\"url(#p1f6d2cddb8)\">\n     <use style=\"fill:#fde725;stroke:#fde725;\" x=\"293.937794\" xlink:href=\"#C0_0_b23b9ade25\" y=\"584.240854\"/>\n    </g>\n    <g clip-path=\"url(#p1f6d2cddb8)\">\n     <use style=\"fill:#440154;stroke:#440154;\" x=\"145.530585\" xlink:href=\"#C0_0_b23b9ade25\" y=\"169.91193\"/>\n    </g>\n    <g clip-path=\"url(#p1f6d2cddb8)\">\n     <use style=\"fill:#3b528b;stroke:#3b528b;\" x=\"210.789323\" xlink:href=\"#C0_0_b23b9ade25\" y=\"515.136491\"/>\n    </g>\n    <g clip-path=\"url(#p1f6d2cddb8)\">\n     <use style=\"fill:#21918c;stroke:#21918c;\" x=\"612.923155\" xlink:href=\"#C0_0_b23b9ade25\" y=\"551.077447\"/>\n    </g>\n    <g clip-path=\"url(#p1f6d2cddb8)\">\n     <use style=\"fill:#5ec962;stroke:#5ec962;\" x=\"396.728621\" xlink:href=\"#C0_0_b23b9ade25\" y=\"560.600581\"/>\n    </g>\n    <g clip-path=\"url(#p1f6d2cddb8)\">\n     <use style=\"fill:#440154;stroke:#440154;\" x=\"282.330117\" xlink:href=\"#C0_0_b23b9ade25\" y=\"464.098384\"/>\n    </g>\n    <g clip-path=\"url(#p1f6d2cddb8)\">\n     <use style=\"fill:#5ec962;stroke:#5ec962;\" x=\"520.254642\" xlink:href=\"#C0_0_b23b9ade25\" y=\"549.57729\"/>\n    </g>\n    <g clip-path=\"url(#p1f6d2cddb8)\">\n     <use style=\"fill:#440154;stroke:#440154;\" x=\"506.896953\" xlink:href=\"#C0_0_b23b9ade25\" y=\"250.949492\"/>\n    </g>\n    <g clip-path=\"url(#p1f6d2cddb8)\">\n     <use style=\"fill:#fde725;stroke:#fde725;\" x=\"581.395137\" xlink:href=\"#C0_0_b23b9ade25\" y=\"486.14188\"/>\n    </g>\n    <g clip-path=\"url(#p1f6d2cddb8)\">\n     <use style=\"fill:#440154;stroke:#440154;\" x=\"354.557384\" xlink:href=\"#C0_0_b23b9ade25\" y=\"464.001159\"/>\n    </g>\n    <g clip-path=\"url(#p1f6d2cddb8)\">\n     <use style=\"fill:#fde725;stroke:#fde725;\" x=\"324.670469\" xlink:href=\"#C0_0_b23b9ade25\" y=\"562.419976\"/>\n    </g>\n    <g clip-path=\"url(#p1f6d2cddb8)\">\n     <use style=\"fill:#440154;stroke:#440154;\" x=\"341.574555\" xlink:href=\"#C0_0_b23b9ade25\" y=\"207.868003\"/>\n    </g>\n    <g clip-path=\"url(#p1f6d2cddb8)\">\n     <use style=\"fill:#440154;stroke:#440154;\" x=\"197.901808\" xlink:href=\"#C0_0_b23b9ade25\" y=\"253.510149\"/>\n    </g>\n    <g clip-path=\"url(#p1f6d2cddb8)\">\n     <use style=\"fill:#440154;stroke:#440154;\" x=\"292.473856\" xlink:href=\"#C0_0_b23b9ade25\" y=\"441.114789\"/>\n    </g>\n    <g clip-path=\"url(#p1f6d2cddb8)\">\n     <use style=\"fill:#440154;stroke:#440154;\" x=\"550.07002\" xlink:href=\"#C0_0_b23b9ade25\" y=\"435.198119\"/>\n    </g>\n    <g clip-path=\"url(#p1f6d2cddb8)\">\n     <use style=\"fill:#fde725;stroke:#fde725;\" x=\"572.33677\" xlink:href=\"#C0_0_b23b9ade25\" y=\"597.520989\"/>\n    </g>\n    <g clip-path=\"url(#p1f6d2cddb8)\">\n     <use style=\"fill:#440154;stroke:#440154;\" x=\"260.570154\" xlink:href=\"#C0_0_b23b9ade25\" y=\"336.511161\"/>\n    </g>\n    <g clip-path=\"url(#p1f6d2cddb8)\">\n     <use style=\"fill:#3b528b;stroke:#3b528b;\" x=\"149.905223\" xlink:href=\"#C0_0_b23b9ade25\" y=\"606.577291\"/>\n    </g>\n    <g clip-path=\"url(#p1f6d2cddb8)\">\n     <use style=\"fill:#440154;stroke:#440154;\" x=\"672.769629\" xlink:href=\"#C0_0_b23b9ade25\" y=\"350.768615\"/>\n    </g>\n    <g clip-path=\"url(#p1f6d2cddb8)\">\n     <use style=\"fill:#5ec962;stroke:#5ec962;\" x=\"242.299152\" xlink:href=\"#C0_0_b23b9ade25\" y=\"572.234466\"/>\n    </g>\n    <g clip-path=\"url(#p1f6d2cddb8)\">\n     <use style=\"fill:#fde725;stroke:#fde725;\" x=\"416.661065\" xlink:href=\"#C0_0_b23b9ade25\" y=\"494.734433\"/>\n    </g>\n    <g clip-path=\"url(#p1f6d2cddb8)\">\n     <use style=\"fill:#3b528b;stroke:#3b528b;\" x=\"396.648094\" xlink:href=\"#C0_0_b23b9ade25\" y=\"554.303724\"/>\n    </g>\n    <g clip-path=\"url(#p1f6d2cddb8)\">\n     <use style=\"fill:#fde725;stroke:#fde725;\" x=\"592.810597\" xlink:href=\"#C0_0_b23b9ade25\" y=\"590.398988\"/>\n    </g>\n    <g clip-path=\"url(#p1f6d2cddb8)\">\n     <use style=\"fill:#440154;stroke:#440154;\" x=\"65.801948\" xlink:href=\"#C0_0_b23b9ade25\" y=\"448.424199\"/>\n    </g>\n    <g clip-path=\"url(#p1f6d2cddb8)\">\n     <use style=\"fill:#3b528b;stroke:#3b528b;\" x=\"242.301937\" xlink:href=\"#C0_0_b23b9ade25\" y=\"577.021054\"/>\n    </g>\n    <g clip-path=\"url(#p1f6d2cddb8)\">\n     <use style=\"fill:#21918c;stroke:#21918c;\" x=\"499.671795\" xlink:href=\"#C0_0_b23b9ade25\" y=\"559.307554\"/>\n    </g>\n    <g clip-path=\"url(#p1f6d2cddb8)\">\n     <use style=\"fill:#21918c;stroke:#21918c;\" x=\"633.647255\" xlink:href=\"#C0_0_b23b9ade25\" y=\"556.733297\"/>\n    </g>\n    <g clip-path=\"url(#p1f6d2cddb8)\">\n     <use style=\"fill:#fde725;stroke:#fde725;\" x=\"653.328714\" xlink:href=\"#C0_0_b23b9ade25\" y=\"467.659893\"/>\n    </g>\n    <g clip-path=\"url(#p1f6d2cddb8)\">\n     <use style=\"fill:#fde725;stroke:#fde725;\" x=\"489.711208\" xlink:href=\"#C0_0_b23b9ade25\" y=\"577.995267\"/>\n    </g>\n    <g clip-path=\"url(#p1f6d2cddb8)\">\n     <use style=\"fill:#5ec962;stroke:#5ec962;\" x=\"489.143382\" xlink:href=\"#C0_0_b23b9ade25\" y=\"529.870477\"/>\n    </g>\n    <g clip-path=\"url(#p1f6d2cddb8)\">\n     <use style=\"fill:#fde725;stroke:#fde725;\" x=\"448.336989\" xlink:href=\"#C0_0_b23b9ade25\" y=\"562.225762\"/>\n    </g>\n    <g clip-path=\"url(#p1f6d2cddb8)\">\n     <use style=\"fill:#fde725;stroke:#fde725;\" x=\"541.409545\" xlink:href=\"#C0_0_b23b9ade25\" y=\"606.135457\"/>\n    </g>\n    <g clip-path=\"url(#p1f6d2cddb8)\">\n     <use style=\"fill:#440154;stroke:#440154;\" x=\"333.262695\" xlink:href=\"#C0_0_b23b9ade25\" y=\"402.560098\"/>\n    </g>\n    <g clip-path=\"url(#p1f6d2cddb8)\">\n     <use style=\"fill:#440154;stroke:#440154;\" x=\"178.386526\" xlink:href=\"#C0_0_b23b9ade25\" y=\"367.613933\"/>\n    </g>\n    <g clip-path=\"url(#p1f6d2cddb8)\">\n     <use style=\"fill:#440154;stroke:#440154;\" x=\"558.610077\" xlink:href=\"#C0_0_b23b9ade25\" y=\"262.816417\"/>\n    </g>\n    <g clip-path=\"url(#p1f6d2cddb8)\">\n     <use style=\"fill:#440154;stroke:#440154;\" x=\"333.921876\" xlink:href=\"#C0_0_b23b9ade25\" y=\"468.58287\"/>\n    </g>\n    <g clip-path=\"url(#p1f6d2cddb8)\">\n     <use style=\"fill:#fde725;stroke:#fde725;\" x=\"479.702756\" xlink:href=\"#C0_0_b23b9ade25\" y=\"609.75343\"/>\n    </g>\n    <g clip-path=\"url(#p1f6d2cddb8)\">\n     <use style=\"fill:#5ec962;stroke:#5ec962;\" x=\"396.749641\" xlink:href=\"#C0_0_b23b9ade25\" y=\"559.748535\"/>\n    </g>\n    <g clip-path=\"url(#p1f6d2cddb8)\">\n     <use style=\"fill:#21918c;stroke:#21918c;\" x=\"632.869987\" xlink:href=\"#C0_0_b23b9ade25\" y=\"480.741403\"/>\n    </g>\n    <g clip-path=\"url(#p1f6d2cddb8)\">\n     <use style=\"fill:#21918c;stroke:#21918c;\" x=\"519.578612\" xlink:href=\"#C0_0_b23b9ade25\" y=\"485.059347\"/>\n    </g>\n    <g clip-path=\"url(#p1f6d2cddb8)\">\n     <use style=\"fill:#3b528b;stroke:#3b528b;\" x=\"417.53856\" xlink:href=\"#C0_0_b23b9ade25\" y=\"585.008407\"/>\n    </g>\n    <g clip-path=\"url(#p1f6d2cddb8)\">\n     <use style=\"fill:#440154;stroke:#440154;\" x=\"416.203395\" xlink:href=\"#C0_0_b23b9ade25\" y=\"445.474686\"/>\n    </g>\n    <g clip-path=\"url(#p1f6d2cddb8)\">\n     <use style=\"fill:#fde725;stroke:#fde725;\" x=\"273.300136\" xlink:href=\"#C0_0_b23b9ade25\" y=\"581.190943\"/>\n    </g>\n    <g clip-path=\"url(#p1f6d2cddb8)\">\n     <use style=\"fill:#440154;stroke:#440154;\" x=\"146.601667\" xlink:href=\"#C0_0_b23b9ade25\" y=\"286.502907\"/>\n    </g>\n    <g clip-path=\"url(#p1f6d2cddb8)\">\n     <use style=\"fill:#5ec962;stroke:#5ec962;\" x=\"417.26933\" xlink:href=\"#C0_0_b23b9ade25\" y=\"551.264951\"/>\n    </g>\n    <g clip-path=\"url(#p1f6d2cddb8)\">\n     <use style=\"fill:#440154;stroke:#440154;\" x=\"178.63957\" xlink:href=\"#C0_0_b23b9ade25\" y=\"399.743818\"/>\n    </g>\n    <g clip-path=\"url(#p1f6d2cddb8)\">\n     <use style=\"fill:#440154;stroke:#440154;\" x=\"609.834654\" xlink:href=\"#C0_0_b23b9ade25\" y=\"240.154867\"/>\n    </g>\n    <g clip-path=\"url(#p1f6d2cddb8)\">\n     <use style=\"fill:#5ec962;stroke:#5ec962;\" x=\"179.661006\" xlink:href=\"#C0_0_b23b9ade25\" y=\"492.186029\"/>\n    </g>\n    <g clip-path=\"url(#p1f6d2cddb8)\">\n     <use style=\"fill:#fde725;stroke:#fde725;\" x=\"498.990149\" xlink:href=\"#C0_0_b23b9ade25\" y=\"480.759776\"/>\n    </g>\n    <g clip-path=\"url(#p1f6d2cddb8)\">\n     <use style=\"fill:#440154;stroke:#440154;\" x=\"291.195201\" xlink:href=\"#C0_0_b23b9ade25\" y=\"323.493769\"/>\n    </g>\n    <g clip-path=\"url(#p1f6d2cddb8)\">\n     <use style=\"fill:#440154;stroke:#440154;\" x=\"631.70307\" xlink:href=\"#C0_0_b23b9ade25\" y=\"360.595245\"/>\n    </g>\n    <g clip-path=\"url(#p1f6d2cddb8)\">\n     <use style=\"fill:#3b528b;stroke:#3b528b;\" x=\"293.113195\" xlink:href=\"#C0_0_b23b9ade25\" y=\"508.073766\"/>\n    </g>\n    <g clip-path=\"url(#p1f6d2cddb8)\">\n     <use style=\"fill:#440154;stroke:#440154;\" x=\"600.71766\" xlink:href=\"#C0_0_b23b9ade25\" y=\"357.706762\"/>\n    </g>\n    <g clip-path=\"url(#p1f6d2cddb8)\">\n     <use style=\"fill:#440154;stroke:#440154;\" x=\"230.563149\" xlink:href=\"#C0_0_b23b9ade25\" y=\"436.66972\"/>\n    </g>\n    <g clip-path=\"url(#p1f6d2cddb8)\">\n     <use style=\"fill:#440154;stroke:#440154;\" x=\"207.62733\" xlink:href=\"#C0_0_b23b9ade25\" y=\"208.902301\"/>\n    </g>\n    <g clip-path=\"url(#p1f6d2cddb8)\">\n     <use style=\"fill:#3b528b;stroke:#3b528b;\" x=\"179.933256\" xlink:href=\"#C0_0_b23b9ade25\" y=\"526.224742\"/>\n    </g>\n    <g clip-path=\"url(#p1f6d2cddb8)\">\n     <use style=\"fill:#fde725;stroke:#fde725;\" x=\"221.608645\" xlink:href=\"#C0_0_b23b9ade25\" y=\"559.534327\"/>\n    </g>\n    <g clip-path=\"url(#p1f6d2cddb8)\">\n     <use style=\"fill:#440154;stroke:#440154;\" x=\"673.76127\" xlink:href=\"#C0_0_b23b9ade25\" y=\"452.233575\"/>\n    </g>\n    <g clip-path=\"url(#p1f6d2cddb8)\">\n     <use style=\"fill:#440154;stroke:#440154;\" x=\"622.33202\" xlink:href=\"#C0_0_b23b9ade25\" y=\"453.308604\"/>\n    </g>\n    <g clip-path=\"url(#p1f6d2cddb8)\">\n     <use style=\"fill:#440154;stroke:#440154;\" x=\"136.750255\" xlink:href=\"#C0_0_b23b9ade25\" y=\"333.614458\"/>\n    </g>\n    <g clip-path=\"url(#p1f6d2cddb8)\">\n     <use style=\"fill:#fde725;stroke:#fde725;\" x=\"541.12\" xlink:href=\"#C0_0_b23b9ade25\" y=\"567.498617\"/>\n    </g>\n    <g clip-path=\"url(#p1f6d2cddb8)\">\n     <use style=\"fill:#440154;stroke:#440154;\" x=\"75.700879\" xlink:href=\"#C0_0_b23b9ade25\" y=\"405.989516\"/>\n    </g>\n    <g clip-path=\"url(#p1f6d2cddb8)\">\n     <use style=\"fill:#5ec962;stroke:#5ec962;\" x=\"396.407747\" xlink:href=\"#C0_0_b23b9ade25\" y=\"529.229474\"/>\n    </g>\n    <g clip-path=\"url(#p1f6d2cddb8)\">\n     <use style=\"fill:#fde725;stroke:#fde725;\" x=\"417.148793\" xlink:href=\"#C0_0_b23b9ade25\" y=\"542.418517\"/>\n    </g>\n    <g clip-path=\"url(#p1f6d2cddb8)\">\n     <use style=\"fill:#3b528b;stroke:#3b528b;\" x=\"303.715598\" xlink:href=\"#C0_0_b23b9ade25\" y=\"540.26143\"/>\n    </g>\n    <g clip-path=\"url(#p1f6d2cddb8)\">\n     <use style=\"fill:#fde725;stroke:#fde725;\" x=\"118.298878\" xlink:href=\"#C0_0_b23b9ade25\" y=\"539.82929\"/>\n    </g>\n    <g clip-path=\"url(#p1f6d2cddb8)\">\n     <use style=\"fill:#3b528b;stroke:#3b528b;\" x=\"231.544267\" xlink:href=\"#C0_0_b23b9ade25\" y=\"532.591495\"/>\n    </g>\n    <g clip-path=\"url(#p1f6d2cddb8)\">\n     <use style=\"fill:#440154;stroke:#440154;\" x=\"105.256211\" xlink:href=\"#C0_0_b23b9ade25\" y=\"276.483759\"/>\n    </g>\n    <g clip-path=\"url(#p1f6d2cddb8)\">\n     <use style=\"fill:#440154;stroke:#440154;\" x=\"406.090491\" xlink:href=\"#C0_0_b23b9ade25\" y=\"468.565822\"/>\n    </g>\n    <g clip-path=\"url(#p1f6d2cddb8)\">\n     <use style=\"fill:#440154;stroke:#440154;\" x=\"591.221704\" xlink:href=\"#C0_0_b23b9ade25\" y=\"438.177281\"/>\n    </g>\n    <g clip-path=\"url(#p1f6d2cddb8)\">\n     <use style=\"fill:#440154;stroke:#440154;\" x=\"353.773393\" xlink:href=\"#C0_0_b23b9ade25\" y=\"390.290347\"/>\n    </g>\n    <g clip-path=\"url(#p1f6d2cddb8)\">\n     <use style=\"fill:#fde725;stroke:#fde725;\" x=\"200.549322\" xlink:href=\"#C0_0_b23b9ade25\" y=\"515.25909\"/>\n    </g>\n    <g clip-path=\"url(#p1f6d2cddb8)\">\n     <use style=\"fill:#440154;stroke:#440154;\" x=\"135.746556\" xlink:href=\"#C0_0_b23b9ade25\" y=\"232.577857\"/>\n    </g>\n    <g clip-path=\"url(#p1f6d2cddb8)\">\n     <use style=\"fill:#21918c;stroke:#21918c;\" x=\"612.828777\" xlink:href=\"#C0_0_b23b9ade25\" y=\"536.004844\"/>\n    </g>\n    <g clip-path=\"url(#p1f6d2cddb8)\">\n     <use style=\"fill:#fde725;stroke:#fde725;\" x=\"674.468324\" xlink:href=\"#C0_0_b23b9ade25\" y=\"516.877512\"/>\n    </g>\n    <g clip-path=\"url(#p1f6d2cddb8)\">\n     <use style=\"fill:#fde725;stroke:#fde725;\" x=\"397.383842\" xlink:href=\"#C0_0_b23b9ade25\" y=\"623.115192\"/>\n    </g>\n    <g clip-path=\"url(#p1f6d2cddb8)\">\n     <use style=\"fill:#440154;stroke:#440154;\" x=\"577.371265\" xlink:href=\"#C0_0_b23b9ade25\" y=\"94.312564\"/>\n    </g>\n    <g clip-path=\"url(#p1f6d2cddb8)\">\n     <use style=\"fill:#21918c;stroke:#21918c;\" x=\"529.967775\" xlink:href=\"#C0_0_b23b9ade25\" y=\"496.367888\"/>\n    </g>\n    <g clip-path=\"url(#p1f6d2cddb8)\">\n     <use style=\"fill:#440154;stroke:#440154;\" x=\"76.32991\" xlink:href=\"#C0_0_b23b9ade25\" y=\"470.395736\"/>\n    </g>\n    <g clip-path=\"url(#p1f6d2cddb8)\">\n     <use style=\"fill:#21918c;stroke:#21918c;\" x=\"509.161072\" xlink:href=\"#C0_0_b23b9ade25\" y=\"479.728969\"/>\n    </g>\n    <g clip-path=\"url(#p1f6d2cddb8)\">\n     <use style=\"fill:#440154;stroke:#440154;\" x=\"125.353103\" xlink:href=\"#C0_0_b23b9ade25\" y=\"226.664127\"/>\n    </g>\n    <g clip-path=\"url(#p1f6d2cddb8)\">\n     <use style=\"fill:#440154;stroke:#440154;\" x=\"148.330866\" xlink:href=\"#C0_0_b23b9ade25\" y=\"443.689432\"/>\n    </g>\n    <g clip-path=\"url(#p1f6d2cddb8)\">\n     <use style=\"fill:#21918c;stroke:#21918c;\" x=\"529.878566\" xlink:href=\"#C0_0_b23b9ade25\" y=\"484.738944\"/>\n    </g>\n    <g clip-path=\"url(#p1f6d2cddb8)\">\n     <use style=\"fill:#440154;stroke:#440154;\" x=\"547.993854\" xlink:href=\"#C0_0_b23b9ade25\" y=\"239.637232\"/>\n    </g>\n    <g clip-path=\"url(#p1f6d2cddb8)\">\n     <use style=\"fill:#440154;stroke:#440154;\" x=\"228.083857\" xlink:href=\"#C0_0_b23b9ade25\" y=\"191.336368\"/>\n    </g>\n    <g clip-path=\"url(#p1f6d2cddb8)\">\n     <use style=\"fill:#3b528b;stroke:#3b528b;\" x=\"283.170732\" xlink:href=\"#C0_0_b23b9ade25\" y=\"543.345275\"/>\n    </g>\n    <g clip-path=\"url(#p1f6d2cddb8)\">\n     <use style=\"fill:#fde725;stroke:#fde725;\" x=\"149.197225\" xlink:href=\"#C0_0_b23b9ade25\" y=\"528.391422\"/>\n    </g>\n    <g clip-path=\"url(#p1f6d2cddb8)\">\n     <use style=\"fill:#440154;stroke:#440154;\" x=\"248.111597\" xlink:href=\"#C0_0_b23b9ade25\" y=\"133.179895\"/>\n    </g>\n    <g clip-path=\"url(#p1f6d2cddb8)\">\n     <use style=\"fill:#fde725;stroke:#fde725;\" x=\"201.508356\" xlink:href=\"#C0_0_b23b9ade25\" y=\"609.021794\"/>\n    </g>\n    <g clip-path=\"url(#p1f6d2cddb8)\">\n     <use style=\"fill:#3b528b;stroke:#3b528b;\" x=\"118.362413\" xlink:href=\"#C0_0_b23b9ade25\" y=\"547.585961\"/>\n    </g>\n    <g clip-path=\"url(#p1f6d2cddb8)\">\n     <use style=\"fill:#440154;stroke:#440154;\" x=\"199.196747\" xlink:href=\"#C0_0_b23b9ade25\" y=\"387.503866\"/>\n    </g>\n    <g clip-path=\"url(#p1f6d2cddb8)\">\n     <use style=\"fill:#5ec962;stroke:#5ec962;\" x=\"139.626031\" xlink:href=\"#C0_0_b23b9ade25\" y=\"604.444369\"/>\n    </g>\n    <g clip-path=\"url(#p1f6d2cddb8)\">\n     <use style=\"fill:#440154;stroke:#440154;\" x=\"443.912973\" xlink:href=\"#C0_0_b23b9ade25\" y=\"137.120636\"/>\n    </g>\n    <g clip-path=\"url(#p1f6d2cddb8)\">\n     <use style=\"fill:#440154;stroke:#440154;\" x=\"508.324532\" xlink:href=\"#C0_0_b23b9ade25\" y=\"392.09684\"/>\n    </g>\n    <g clip-path=\"url(#p1f6d2cddb8)\">\n     <use style=\"fill:#fde725;stroke:#fde725;\" x=\"98.300513\" xlink:href=\"#C0_0_b23b9ade25\" y=\"594.798476\"/>\n    </g>\n    <g clip-path=\"url(#p1f6d2cddb8)\">\n     <use style=\"fill:#440154;stroke:#440154;\" x=\"65.741051\" xlink:href=\"#C0_0_b23b9ade25\" y=\"439.563294\"/>\n    </g>\n    <g clip-path=\"url(#p1f6d2cddb8)\">\n     <use style=\"fill:#440154;stroke:#440154;\" x=\"436.357546\" xlink:href=\"#C0_0_b23b9ade25\" y=\"407.312541\"/>\n    </g>\n    <g clip-path=\"url(#p1f6d2cddb8)\">\n     <use style=\"fill:#440154;stroke:#440154;\" x=\"662.91248\" xlink:href=\"#C0_0_b23b9ade25\" y=\"398.864369\"/>\n    </g>\n    <g clip-path=\"url(#p1f6d2cddb8)\">\n     <use style=\"fill:#440154;stroke:#440154;\" x=\"529.73908\" xlink:href=\"#C0_0_b23b9ade25\" y=\"462.135296\"/>\n    </g>\n    <g clip-path=\"url(#p1f6d2cddb8)\">\n     <use style=\"fill:#440154;stroke:#440154;\" x=\"300.26149\" xlink:href=\"#C0_0_b23b9ade25\" y=\"198.077462\"/>\n    </g>\n    <g clip-path=\"url(#p1f6d2cddb8)\">\n     <use style=\"fill:#440154;stroke:#440154;\" x=\"392.297124\" xlink:href=\"#C0_0_b23b9ade25\" y=\"127.373694\"/>\n    </g>\n    <g clip-path=\"url(#p1f6d2cddb8)\">\n     <use style=\"fill:#5ec962;stroke:#5ec962;\" x=\"396.187358\" xlink:href=\"#C0_0_b23b9ade25\" y=\"504.775282\"/>\n    </g>\n    <g clip-path=\"url(#p1f6d2cddb8)\">\n     <use style=\"fill:#440154;stroke:#440154;\" x=\"321.261164\" xlink:href=\"#C0_0_b23b9ade25\" y=\"235.158779\"/>\n    </g>\n    <g clip-path=\"url(#p1f6d2cddb8)\">\n     <use style=\"fill:#440154;stroke:#440154;\" x=\"392.858463\" xlink:href=\"#C0_0_b23b9ade25\" y=\"182.254679\"/>\n    </g>\n    <g clip-path=\"url(#p1f6d2cddb8)\">\n     <use style=\"fill:#3b528b;stroke:#3b528b;\" x=\"159.898155\" xlink:href=\"#C0_0_b23b9ade25\" y=\"579.178304\"/>\n    </g>\n    <g clip-path=\"url(#p1f6d2cddb8)\">\n     <use style=\"fill:#fde725;stroke:#fde725;\" x=\"376.448785\" xlink:href=\"#C0_0_b23b9ade25\" y=\"592.565245\"/>\n    </g>\n    <g clip-path=\"url(#p1f6d2cddb8)\">\n     <use style=\"fill:#5ec962;stroke:#5ec962;\" x=\"334.776836\" xlink:href=\"#C0_0_b23b9ade25\" y=\"544.749013\"/>\n    </g>\n    <g clip-path=\"url(#p1f6d2cddb8)\">\n     <use style=\"fill:#5ec962;stroke:#5ec962;\" x=\"77.099814\" xlink:href=\"#C0_0_b23b9ade25\" y=\"535.338912\"/>\n    </g>\n    <g clip-path=\"url(#p1f6d2cddb8)\">\n     <use style=\"fill:#440154;stroke:#440154;\" x=\"568.835668\" xlink:href=\"#C0_0_b23b9ade25\" y=\"265.554325\"/>\n    </g>\n    <g clip-path=\"url(#p1f6d2cddb8)\">\n     <use style=\"fill:#fde725;stroke:#fde725;\" x=\"437.308395\" xlink:href=\"#C0_0_b23b9ade25\" y=\"494.215693\"/>\n    </g>\n    <g clip-path=\"url(#p1f6d2cddb8)\">\n     <use style=\"fill:#440154;stroke:#440154;\" x=\"504.707087\" xlink:href=\"#C0_0_b23b9ade25\" y=\"36.850909\"/>\n    </g>\n    <g clip-path=\"url(#p1f6d2cddb8)\">\n     <use style=\"fill:#440154;stroke:#440154;\" x=\"466.149828\" xlink:href=\"#C0_0_b23b9ade25\" y=\"289.099205\"/>\n    </g>\n    <g clip-path=\"url(#p1f6d2cddb8)\">\n     <use style=\"fill:#440154;stroke:#440154;\" x=\"508.214422\" xlink:href=\"#C0_0_b23b9ade25\" y=\"384.23879\"/>\n    </g>\n    <g clip-path=\"url(#p1f6d2cddb8)\">\n     <use style=\"fill:#21918c;stroke:#21918c;\" x=\"530.850885\" xlink:href=\"#C0_0_b23b9ade25\" y=\"582.738811\"/>\n    </g>\n    <g clip-path=\"url(#p1f6d2cddb8)\">\n     <use style=\"fill:#440154;stroke:#440154;\" x=\"456.122994\" xlink:href=\"#C0_0_b23b9ade25\" y=\"320.605179\"/>\n    </g>\n    <g clip-path=\"url(#p1f6d2cddb8)\">\n     <use style=\"fill:#3b528b;stroke:#3b528b;\" x=\"231.665821\" xlink:href=\"#C0_0_b23b9ade25\" y=\"544.475609\"/>\n    </g>\n    <g clip-path=\"url(#p1f6d2cddb8)\">\n     <use style=\"fill:#fde725;stroke:#fde725;\" x=\"623.370826\" xlink:href=\"#C0_0_b23b9ade25\" y=\"553.294352\"/>\n    </g>\n    <g clip-path=\"url(#p1f6d2cddb8)\">\n     <use style=\"fill:#fde725;stroke:#fde725;\" x=\"293.334482\" xlink:href=\"#C0_0_b23b9ade25\" y=\"528.163567\"/>\n    </g>\n    <g clip-path=\"url(#p1f6d2cddb8)\">\n     <use style=\"fill:#3b528b;stroke:#3b528b;\" x=\"375.556049\" xlink:href=\"#C0_0_b23b9ade25\" y=\"509.73641\"/>\n    </g>\n    <g clip-path=\"url(#p1f6d2cddb8)\">\n     <use style=\"fill:#440154;stroke:#440154;\" x=\"498.015402\" xlink:href=\"#C0_0_b23b9ade25\" y=\"389.975207\"/>\n    </g>\n    <g clip-path=\"url(#p1f6d2cddb8)\">\n     <use style=\"fill:#440154;stroke:#440154;\" x=\"313.293394\" xlink:href=\"#C0_0_b23b9ade25\" y=\"454.525331\"/>\n    </g>\n    <g clip-path=\"url(#p1f6d2cddb8)\">\n     <use style=\"fill:#440154;stroke:#440154;\" x=\"199.305539\" xlink:href=\"#C0_0_b23b9ade25\" y=\"405.561768\"/>\n    </g>\n    <g clip-path=\"url(#p1f6d2cddb8)\">\n     <use style=\"fill:#440154;stroke:#440154;\" x=\"343.112409\" xlink:href=\"#C0_0_b23b9ade25\" y=\"359.765686\"/>\n    </g>\n    <g clip-path=\"url(#p1f6d2cddb8)\">\n     <use style=\"fill:#440154;stroke:#440154;\" x=\"199.266584\" xlink:href=\"#C0_0_b23b9ade25\" y=\"389.848473\"/>\n    </g>\n    <g clip-path=\"url(#p1f6d2cddb8)\">\n     <use style=\"fill:#fde725;stroke:#fde725;\" x=\"242.768005\" xlink:href=\"#C0_0_b23b9ade25\" y=\"613.589968\"/>\n    </g>\n    <g clip-path=\"url(#p1f6d2cddb8)\">\n     <use style=\"fill:#3b528b;stroke:#3b528b;\" x=\"314.38946\" xlink:href=\"#C0_0_b23b9ade25\" y=\"570.651787\"/>\n    </g>\n    <g clip-path=\"url(#p1f6d2cddb8)\">\n     <use style=\"fill:#440154;stroke:#440154;\" x=\"653.074276\" xlink:href=\"#C0_0_b23b9ade25\" y=\"436.938644\"/>\n    </g>\n    <g clip-path=\"url(#p1f6d2cddb8)\">\n     <use style=\"fill:#fde725;stroke:#fde725;\" x=\"242.055739\" xlink:href=\"#C0_0_b23b9ade25\" y=\"551.374742\"/>\n    </g>\n    <g clip-path=\"url(#p1f6d2cddb8)\">\n     <use style=\"fill:#440154;stroke:#440154;\" x=\"156.94397\" xlink:href=\"#C0_0_b23b9ade25\" y=\"278.44927\"/>\n    </g>\n    <g clip-path=\"url(#p1f6d2cddb8)\">\n     <use style=\"fill:#3b528b;stroke:#3b528b;\" x=\"272.550849\" xlink:href=\"#C0_0_b23b9ade25\" y=\"512.386839\"/>\n    </g>\n    <g clip-path=\"url(#p1f6d2cddb8)\">\n     <use style=\"fill:#fde725;stroke:#fde725;\" x=\"159.779478\" xlink:href=\"#C0_0_b23b9ade25\" y=\"558.577988\"/>\n    </g>\n    <g clip-path=\"url(#p1f6d2cddb8)\">\n     <use style=\"fill:#3b528b;stroke:#3b528b;\" x=\"417.997409\" xlink:href=\"#C0_0_b23b9ade25\" y=\"629.869091\"/>\n    </g>\n    <g clip-path=\"url(#p1f6d2cddb8)\">\n     <use style=\"fill:#fde725;stroke:#fde725;\" x=\"313.599241\" xlink:href=\"#C0_0_b23b9ade25\" y=\"491.848784\"/>\n    </g>\n   </g>\n   <g id=\"matplotlib.axis_1\">\n    <g id=\"xtick_1\">\n     <g id=\"line2d_1\">\n      <defs>\n       <path d=\"M 0 0 \nL 0 3.5 \n\" id=\"m6ec51c9897\" style=\"stroke:#000000;stroke-width:0.8;\"/>\n      </defs>\n      <g>\n       <use style=\"stroke:#000000;stroke-width:0.8;\" x=\"55.911646\" xlink:href=\"#m6ec51c9897\" y=\"659.52\"/>\n      </g>\n     </g>\n     <g id=\"text_1\">\n      <!-- −30 -->\n      <g transform=\"translate(45.359303 674.118438)scale(0.1 -0.1)\">\n       <defs>\n        <path d=\"M 10.59375 35.5 \nL 73.1875 35.5 \nL 73.1875 27.203125 \nL 10.59375 27.203125 \nz\n\" id=\"DejaVuSans-8722\"/>\n        <path d=\"M 40.578125 39.3125 \nQ 47.65625 37.796875 51.625 33 \nQ 55.609375 28.21875 55.609375 21.1875 \nQ 55.609375 10.40625 48.1875 4.484375 \nQ 40.765625 -1.421875 27.09375 -1.421875 \nQ 22.515625 -1.421875 17.65625 -0.515625 \nQ 12.796875 0.390625 7.625 2.203125 \nL 7.625 11.71875 \nQ 11.71875 9.328125 16.59375 8.109375 \nQ 21.484375 6.890625 26.8125 6.890625 \nQ 36.078125 6.890625 40.9375 10.546875 \nQ 45.796875 14.203125 45.796875 21.1875 \nQ 45.796875 27.640625 41.28125 31.265625 \nQ 36.765625 34.90625 28.71875 34.90625 \nL 20.21875 34.90625 \nL 20.21875 43.015625 \nL 29.109375 43.015625 \nQ 36.375 43.015625 40.234375 45.921875 \nQ 44.09375 48.828125 44.09375 54.296875 \nQ 44.09375 59.90625 40.109375 62.90625 \nQ 36.140625 65.921875 28.71875 65.921875 \nQ 24.65625 65.921875 20.015625 65.03125 \nQ 15.375 64.15625 9.8125 62.3125 \nL 9.8125 71.09375 \nQ 15.4375 72.65625 20.34375 73.4375 \nQ 25.25 74.21875 29.59375 74.21875 \nQ 40.828125 74.21875 47.359375 69.109375 \nQ 53.90625 64.015625 53.90625 55.328125 \nQ 53.90625 49.265625 50.4375 45.09375 \nQ 46.96875 40.921875 40.578125 39.3125 \nz\n\" id=\"DejaVuSans-51\"/>\n        <path d=\"M 31.78125 66.40625 \nQ 24.171875 66.40625 20.328125 58.90625 \nQ 16.5 51.421875 16.5 36.375 \nQ 16.5 21.390625 20.328125 13.890625 \nQ 24.171875 6.390625 31.78125 6.390625 \nQ 39.453125 6.390625 43.28125 13.890625 \nQ 47.125 21.390625 47.125 36.375 \nQ 47.125 51.421875 43.28125 58.90625 \nQ 39.453125 66.40625 31.78125 66.40625 \nz\nM 31.78125 74.21875 \nQ 44.046875 74.21875 50.515625 64.515625 \nQ 56.984375 54.828125 56.984375 36.375 \nQ 56.984375 17.96875 50.515625 8.265625 \nQ 44.046875 -1.421875 31.78125 -1.421875 \nQ 19.53125 -1.421875 13.0625 8.265625 \nQ 6.59375 17.96875 6.59375 36.375 \nQ 6.59375 54.828125 13.0625 64.515625 \nQ 19.53125 74.21875 31.78125 74.21875 \nz\n\" id=\"DejaVuSans-48\"/>\n       </defs>\n       <use xlink:href=\"#DejaVuSans-8722\"/>\n       <use x=\"83.789062\" xlink:href=\"#DejaVuSans-51\"/>\n       <use x=\"147.412109\" xlink:href=\"#DejaVuSans-48\"/>\n      </g>\n     </g>\n    </g>\n    <g id=\"xtick_2\">\n     <g id=\"line2d_2\">\n      <g>\n       <use style=\"stroke:#000000;stroke-width:0.8;\" x=\"158.928547\" xlink:href=\"#m6ec51c9897\" y=\"659.52\"/>\n      </g>\n     </g>\n     <g id=\"text_2\">\n      <!-- −20 -->\n      <g transform=\"translate(148.376203 674.118438)scale(0.1 -0.1)\">\n       <defs>\n        <path d=\"M 19.1875 8.296875 \nL 53.609375 8.296875 \nL 53.609375 0 \nL 7.328125 0 \nL 7.328125 8.296875 \nQ 12.9375 14.109375 22.625 23.890625 \nQ 32.328125 33.6875 34.8125 36.53125 \nQ 39.546875 41.84375 41.421875 45.53125 \nQ 43.3125 49.21875 43.3125 52.78125 \nQ 43.3125 58.59375 39.234375 62.25 \nQ 35.15625 65.921875 28.609375 65.921875 \nQ 23.96875 65.921875 18.8125 64.3125 \nQ 13.671875 62.703125 7.8125 59.421875 \nL 7.8125 69.390625 \nQ 13.765625 71.78125 18.9375 73 \nQ 24.125 74.21875 28.421875 74.21875 \nQ 39.75 74.21875 46.484375 68.546875 \nQ 53.21875 62.890625 53.21875 53.421875 \nQ 53.21875 48.921875 51.53125 44.890625 \nQ 49.859375 40.875 45.40625 35.40625 \nQ 44.1875 33.984375 37.640625 27.21875 \nQ 31.109375 20.453125 19.1875 8.296875 \nz\n\" id=\"DejaVuSans-50\"/>\n       </defs>\n       <use xlink:href=\"#DejaVuSans-8722\"/>\n       <use x=\"83.789062\" xlink:href=\"#DejaVuSans-50\"/>\n       <use x=\"147.412109\" xlink:href=\"#DejaVuSans-48\"/>\n      </g>\n     </g>\n    </g>\n    <g id=\"xtick_3\">\n     <g id=\"line2d_3\">\n      <g>\n       <use style=\"stroke:#000000;stroke-width:0.8;\" x=\"261.945447\" xlink:href=\"#m6ec51c9897\" y=\"659.52\"/>\n      </g>\n     </g>\n     <g id=\"text_3\">\n      <!-- −10 -->\n      <g transform=\"translate(251.393103 674.118438)scale(0.1 -0.1)\">\n       <defs>\n        <path d=\"M 12.40625 8.296875 \nL 28.515625 8.296875 \nL 28.515625 63.921875 \nL 10.984375 60.40625 \nL 10.984375 69.390625 \nL 28.421875 72.90625 \nL 38.28125 72.90625 \nL 38.28125 8.296875 \nL 54.390625 8.296875 \nL 54.390625 0 \nL 12.40625 0 \nz\n\" id=\"DejaVuSans-49\"/>\n       </defs>\n       <use xlink:href=\"#DejaVuSans-8722\"/>\n       <use x=\"83.789062\" xlink:href=\"#DejaVuSans-49\"/>\n       <use x=\"147.412109\" xlink:href=\"#DejaVuSans-48\"/>\n      </g>\n     </g>\n    </g>\n    <g id=\"xtick_4\">\n     <g id=\"line2d_4\">\n      <g>\n       <use style=\"stroke:#000000;stroke-width:0.8;\" x=\"364.962347\" xlink:href=\"#m6ec51c9897\" y=\"659.52\"/>\n      </g>\n     </g>\n     <g id=\"text_4\">\n      <!-- 0 -->\n      <g transform=\"translate(361.781097 674.118438)scale(0.1 -0.1)\">\n       <use xlink:href=\"#DejaVuSans-48\"/>\n      </g>\n     </g>\n    </g>\n    <g id=\"xtick_5\">\n     <g id=\"line2d_5\">\n      <g>\n       <use style=\"stroke:#000000;stroke-width:0.8;\" x=\"467.979247\" xlink:href=\"#m6ec51c9897\" y=\"659.52\"/>\n      </g>\n     </g>\n     <g id=\"text_5\">\n      <!-- 10 -->\n      <g transform=\"translate(461.616747 674.118438)scale(0.1 -0.1)\">\n       <use xlink:href=\"#DejaVuSans-49\"/>\n       <use x=\"63.623047\" xlink:href=\"#DejaVuSans-48\"/>\n      </g>\n     </g>\n    </g>\n    <g id=\"xtick_6\">\n     <g id=\"line2d_6\">\n      <g>\n       <use style=\"stroke:#000000;stroke-width:0.8;\" x=\"570.996148\" xlink:href=\"#m6ec51c9897\" y=\"659.52\"/>\n      </g>\n     </g>\n     <g id=\"text_6\">\n      <!-- 20 -->\n      <g transform=\"translate(564.633648 674.118438)scale(0.1 -0.1)\">\n       <use xlink:href=\"#DejaVuSans-50\"/>\n       <use x=\"63.623047\" xlink:href=\"#DejaVuSans-48\"/>\n      </g>\n     </g>\n    </g>\n    <g id=\"xtick_7\">\n     <g id=\"line2d_7\">\n      <g>\n       <use style=\"stroke:#000000;stroke-width:0.8;\" x=\"674.013048\" xlink:href=\"#m6ec51c9897\" y=\"659.52\"/>\n      </g>\n     </g>\n     <g id=\"text_7\">\n      <!-- 30 -->\n      <g transform=\"translate(667.650548 674.118438)scale(0.1 -0.1)\">\n       <use xlink:href=\"#DejaVuSans-51\"/>\n       <use x=\"63.623047\" xlink:href=\"#DejaVuSans-48\"/>\n      </g>\n     </g>\n    </g>\n   </g>\n   <g id=\"matplotlib.axis_2\">\n    <g id=\"ytick_1\">\n     <g id=\"line2d_8\">\n      <defs>\n       <path d=\"M 0 0 \nL -3.5 0 \n\" id=\"ma6ccdf5df5\" style=\"stroke:#000000;stroke-width:0.8;\"/>\n      </defs>\n      <g>\n       <use style=\"stroke:#000000;stroke-width:0.8;\" x=\"35.304688\" xlink:href=\"#ma6ccdf5df5\" y=\"631.800527\"/>\n      </g>\n     </g>\n     <g id=\"text_8\">\n      <!-- −10 -->\n      <g transform=\"translate(7.2 635.599746)scale(0.1 -0.1)\">\n       <use xlink:href=\"#DejaVuSans-8722\"/>\n       <use x=\"83.789062\" xlink:href=\"#DejaVuSans-49\"/>\n       <use x=\"147.412109\" xlink:href=\"#DejaVuSans-48\"/>\n      </g>\n     </g>\n    </g>\n    <g id=\"ytick_2\">\n     <g id=\"line2d_9\">\n      <g>\n       <use style=\"stroke:#000000;stroke-width:0.8;\" x=\"35.304688\" xlink:href=\"#ma6ccdf5df5\" y=\"539.515023\"/>\n      </g>\n     </g>\n     <g id=\"text_9\">\n      <!-- −5 -->\n      <g transform=\"translate(13.5625 543.314242)scale(0.1 -0.1)\">\n       <defs>\n        <path d=\"M 10.796875 72.90625 \nL 49.515625 72.90625 \nL 49.515625 64.59375 \nL 19.828125 64.59375 \nL 19.828125 46.734375 \nQ 21.96875 47.46875 24.109375 47.828125 \nQ 26.265625 48.1875 28.421875 48.1875 \nQ 40.625 48.1875 47.75 41.5 \nQ 54.890625 34.8125 54.890625 23.390625 \nQ 54.890625 11.625 47.5625 5.09375 \nQ 40.234375 -1.421875 26.90625 -1.421875 \nQ 22.3125 -1.421875 17.546875 -0.640625 \nQ 12.796875 0.140625 7.71875 1.703125 \nL 7.71875 11.625 \nQ 12.109375 9.234375 16.796875 8.0625 \nQ 21.484375 6.890625 26.703125 6.890625 \nQ 35.15625 6.890625 40.078125 11.328125 \nQ 45.015625 15.765625 45.015625 23.390625 \nQ 45.015625 31 40.078125 35.4375 \nQ 35.15625 39.890625 26.703125 39.890625 \nQ 22.75 39.890625 18.8125 39.015625 \nQ 14.890625 38.140625 10.796875 36.28125 \nz\n\" id=\"DejaVuSans-53\"/>\n       </defs>\n       <use xlink:href=\"#DejaVuSans-8722\"/>\n       <use x=\"83.789062\" xlink:href=\"#DejaVuSans-53\"/>\n      </g>\n     </g>\n    </g>\n    <g id=\"ytick_3\">\n     <g id=\"line2d_10\">\n      <g>\n       <use style=\"stroke:#000000;stroke-width:0.8;\" x=\"35.304688\" xlink:href=\"#ma6ccdf5df5\" y=\"447.22952\"/>\n      </g>\n     </g>\n     <g id=\"text_10\">\n      <!-- 0 -->\n      <g transform=\"translate(21.942188 451.028739)scale(0.1 -0.1)\">\n       <use xlink:href=\"#DejaVuSans-48\"/>\n      </g>\n     </g>\n    </g>\n    <g id=\"ytick_4\">\n     <g id=\"line2d_11\">\n      <g>\n       <use style=\"stroke:#000000;stroke-width:0.8;\" x=\"35.304688\" xlink:href=\"#ma6ccdf5df5\" y=\"354.944016\"/>\n      </g>\n     </g>\n     <g id=\"text_11\">\n      <!-- 5 -->\n      <g transform=\"translate(21.942188 358.743235)scale(0.1 -0.1)\">\n       <use xlink:href=\"#DejaVuSans-53\"/>\n      </g>\n     </g>\n    </g>\n    <g id=\"ytick_5\">\n     <g id=\"line2d_12\">\n      <g>\n       <use style=\"stroke:#000000;stroke-width:0.8;\" x=\"35.304688\" xlink:href=\"#ma6ccdf5df5\" y=\"262.658513\"/>\n      </g>\n     </g>\n     <g id=\"text_12\">\n      <!-- 10 -->\n      <g transform=\"translate(15.579688 266.457732)scale(0.1 -0.1)\">\n       <use xlink:href=\"#DejaVuSans-49\"/>\n       <use x=\"63.623047\" xlink:href=\"#DejaVuSans-48\"/>\n      </g>\n     </g>\n    </g>\n    <g id=\"ytick_6\">\n     <g id=\"line2d_13\">\n      <g>\n       <use style=\"stroke:#000000;stroke-width:0.8;\" x=\"35.304688\" xlink:href=\"#ma6ccdf5df5\" y=\"170.37301\"/>\n      </g>\n     </g>\n     <g id=\"text_13\">\n      <!-- 15 -->\n      <g transform=\"translate(15.579688 174.172228)scale(0.1 -0.1)\">\n       <use xlink:href=\"#DejaVuSans-49\"/>\n       <use x=\"63.623047\" xlink:href=\"#DejaVuSans-53\"/>\n      </g>\n     </g>\n    </g>\n    <g id=\"ytick_7\">\n     <g id=\"line2d_14\">\n      <g>\n       <use style=\"stroke:#000000;stroke-width:0.8;\" x=\"35.304688\" xlink:href=\"#ma6ccdf5df5\" y=\"78.087506\"/>\n      </g>\n     </g>\n     <g id=\"text_14\">\n      <!-- 20 -->\n      <g transform=\"translate(15.579688 81.886725)scale(0.1 -0.1)\">\n       <use xlink:href=\"#DejaVuSans-50\"/>\n       <use x=\"63.623047\" xlink:href=\"#DejaVuSans-48\"/>\n      </g>\n     </g>\n    </g>\n   </g>\n   <g id=\"patch_3\">\n    <path d=\"M 35.304688 659.52 \nL 35.304688 7.2 \n\" style=\"fill:none;stroke:#000000;stroke-linecap:square;stroke-linejoin:miter;stroke-width:0.8;\"/>\n   </g>\n   <g id=\"patch_4\">\n    <path d=\"M 704.904688 659.52 \nL 704.904688 7.2 \n\" style=\"fill:none;stroke:#000000;stroke-linecap:square;stroke-linejoin:miter;stroke-width:0.8;\"/>\n   </g>\n   <g id=\"patch_5\">\n    <path d=\"M 35.304688 659.52 \nL 704.904687 659.52 \n\" style=\"fill:none;stroke:#000000;stroke-linecap:square;stroke-linejoin:miter;stroke-width:0.8;\"/>\n   </g>\n   <g id=\"patch_6\">\n    <path d=\"M 35.304688 7.2 \nL 704.904687 7.2 \n\" style=\"fill:none;stroke:#000000;stroke-linecap:square;stroke-linejoin:miter;stroke-width:0.8;\"/>\n   </g>\n   <g id=\"legend_1\">\n    <g id=\"patch_7\">\n     <path d=\"M 659.504688 88.590625 \nL 697.904688 88.590625 \nQ 699.904688 88.590625 699.904688 86.590625 \nL 699.904688 14.2 \nQ 699.904688 12.2 697.904688 12.2 \nL 659.504688 12.2 \nQ 657.504688 12.2 657.504688 14.2 \nL 657.504688 86.590625 \nQ 657.504688 88.590625 659.504688 88.590625 \nz\n\" style=\"fill:#ffffff;opacity:0.8;stroke:#cccccc;stroke-linejoin:miter;\"/>\n    </g>\n    <g id=\"line2d_15\"/>\n    <g id=\"line2d_16\">\n     <defs>\n      <path d=\"M 0 3 \nC 0.795609 3 1.55874 2.683901 2.12132 2.12132 \nC 2.683901 1.55874 3 0.795609 3 0 \nC 3 -0.795609 2.683901 -1.55874 2.12132 -2.12132 \nC 1.55874 -2.683901 0.795609 -3 0 -3 \nC -0.795609 -3 -1.55874 -2.683901 -2.12132 -2.12132 \nC -2.683901 -1.55874 -3 -0.795609 -3 0 \nC -3 0.795609 -2.683901 1.55874 -2.12132 2.12132 \nC -1.55874 2.683901 -0.795609 3 0 3 \nz\n\" id=\"me049ea90c5\" style=\"stroke:#440154;\"/>\n     </defs>\n     <g>\n      <use style=\"fill:#440154;stroke:#440154;\" x=\"671.504688\" xlink:href=\"#me049ea90c5\" y=\"20.298437\"/>\n     </g>\n    </g>\n    <g id=\"text_15\">\n     <!-- $\\mathdefault{0}$ -->\n     <g transform=\"translate(689.504688 23.798437)scale(0.1 -0.1)\">\n      <use transform=\"translate(0 0.78125)\" xlink:href=\"#DejaVuSans-48\"/>\n     </g>\n    </g>\n    <g id=\"line2d_17\"/>\n    <g id=\"line2d_18\">\n     <defs>\n      <path d=\"M 0 3 \nC 0.795609 3 1.55874 2.683901 2.12132 2.12132 \nC 2.683901 1.55874 3 0.795609 3 0 \nC 3 -0.795609 2.683901 -1.55874 2.12132 -2.12132 \nC 1.55874 -2.683901 0.795609 -3 0 -3 \nC -0.795609 -3 -1.55874 -2.683901 -2.12132 -2.12132 \nC -2.683901 -1.55874 -3 -0.795609 -3 0 \nC -3 0.795609 -2.683901 1.55874 -2.12132 2.12132 \nC -1.55874 2.683901 -0.795609 3 0 3 \nz\n\" id=\"mec0ac06de2\" style=\"stroke:#3b528b;\"/>\n     </defs>\n     <g>\n      <use style=\"fill:#3b528b;stroke:#3b528b;\" x=\"671.504688\" xlink:href=\"#mec0ac06de2\" y=\"34.976562\"/>\n     </g>\n    </g>\n    <g id=\"text_16\">\n     <!-- $\\mathdefault{1}$ -->\n     <g transform=\"translate(689.504688 38.476562)scale(0.1 -0.1)\">\n      <use transform=\"translate(0 0.09375)\" xlink:href=\"#DejaVuSans-49\"/>\n     </g>\n    </g>\n    <g id=\"line2d_19\"/>\n    <g id=\"line2d_20\">\n     <defs>\n      <path d=\"M 0 3 \nC 0.795609 3 1.55874 2.683901 2.12132 2.12132 \nC 2.683901 1.55874 3 0.795609 3 0 \nC 3 -0.795609 2.683901 -1.55874 2.12132 -2.12132 \nC 1.55874 -2.683901 0.795609 -3 0 -3 \nC -0.795609 -3 -1.55874 -2.683901 -2.12132 -2.12132 \nC -2.683901 -1.55874 -3 -0.795609 -3 0 \nC -3 0.795609 -2.683901 1.55874 -2.12132 2.12132 \nC -1.55874 2.683901 -0.795609 3 0 3 \nz\n\" id=\"m87b2da29d2\" style=\"stroke:#21918c;\"/>\n     </defs>\n     <g>\n      <use style=\"fill:#21918c;stroke:#21918c;\" x=\"671.504688\" xlink:href=\"#m87b2da29d2\" y=\"49.654688\"/>\n     </g>\n    </g>\n    <g id=\"text_17\">\n     <!-- $\\mathdefault{2}$ -->\n     <g transform=\"translate(689.504688 53.154688)scale(0.1 -0.1)\">\n      <use transform=\"translate(0 0.78125)\" xlink:href=\"#DejaVuSans-50\"/>\n     </g>\n    </g>\n    <g id=\"line2d_21\"/>\n    <g id=\"line2d_22\">\n     <defs>\n      <path d=\"M 0 3 \nC 0.795609 3 1.55874 2.683901 2.12132 2.12132 \nC 2.683901 1.55874 3 0.795609 3 0 \nC 3 -0.795609 2.683901 -1.55874 2.12132 -2.12132 \nC 1.55874 -2.683901 0.795609 -3 0 -3 \nC -0.795609 -3 -1.55874 -2.683901 -2.12132 -2.12132 \nC -2.683901 -1.55874 -3 -0.795609 -3 0 \nC -3 0.795609 -2.683901 1.55874 -2.12132 2.12132 \nC -1.55874 2.683901 -0.795609 3 0 3 \nz\n\" id=\"mf963793283\" style=\"stroke:#5ec962;\"/>\n     </defs>\n     <g>\n      <use style=\"fill:#5ec962;stroke:#5ec962;\" x=\"671.504688\" xlink:href=\"#mf963793283\" y=\"64.332812\"/>\n     </g>\n    </g>\n    <g id=\"text_18\">\n     <!-- $\\mathdefault{3}$ -->\n     <g transform=\"translate(689.504688 67.832812)scale(0.1 -0.1)\">\n      <use transform=\"translate(0 0.78125)\" xlink:href=\"#DejaVuSans-51\"/>\n     </g>\n    </g>\n    <g id=\"line2d_23\"/>\n    <g id=\"line2d_24\">\n     <defs>\n      <path d=\"M 0 3 \nC 0.795609 3 1.55874 2.683901 2.12132 2.12132 \nC 2.683901 1.55874 3 0.795609 3 0 \nC 3 -0.795609 2.683901 -1.55874 2.12132 -2.12132 \nC 1.55874 -2.683901 0.795609 -3 0 -3 \nC -0.795609 -3 -1.55874 -2.683901 -2.12132 -2.12132 \nC -2.683901 -1.55874 -3 -0.795609 -3 0 \nC -3 0.795609 -2.683901 1.55874 -2.12132 2.12132 \nC -1.55874 2.683901 -0.795609 3 0 3 \nz\n\" id=\"m43c6d74ed5\" style=\"stroke:#fde725;\"/>\n     </defs>\n     <g>\n      <use style=\"fill:#fde725;stroke:#fde725;\" x=\"671.504688\" xlink:href=\"#m43c6d74ed5\" y=\"79.010937\"/>\n     </g>\n    </g>\n    <g id=\"text_19\">\n     <!-- $\\mathdefault{4}$ -->\n     <g transform=\"translate(689.504688 82.510937)scale(0.1 -0.1)\">\n      <defs>\n       <path d=\"M 37.796875 64.3125 \nL 12.890625 25.390625 \nL 37.796875 25.390625 \nz\nM 35.203125 72.90625 \nL 47.609375 72.90625 \nL 47.609375 25.390625 \nL 58.015625 25.390625 \nL 58.015625 17.1875 \nL 47.609375 17.1875 \nL 47.609375 0 \nL 37.796875 0 \nL 37.796875 17.1875 \nL 4.890625 17.1875 \nL 4.890625 26.703125 \nz\n\" id=\"DejaVuSans-52\"/>\n      </defs>\n      <use transform=\"translate(0 0.09375)\" xlink:href=\"#DejaVuSans-52\"/>\n     </g>\n    </g>\n   </g>\n  </g>\n </g>\n <defs>\n  <clipPath id=\"p1f6d2cddb8\">\n   <rect height=\"652.32\" width=\"669.6\" x=\"35.304688\" y=\"7.2\"/>\n  </clipPath>\n </defs>\n</svg>\n",
      "image/png": "[encoded data removed]"
     },
     "metadata": {
      "needs_background": "light"
     }
    }
   ],
   "source": [
    "pca = PCA(n_components=3, random_state=1)\n",
    "X_train_reduced = pca.fit_transform(X_train)\n",
    "\n",
    "svm = SVC(C=1000, kernel='rbf', gamma=0.001, random_state=1)\n",
    "svm.fit(X_train_reduced, Y_train)\n",
    "\n",
    "X_test_reduced = pca.transform(X_test)\n",
    "print('SVM accuracy: ', svm.score(X_test_reduced, Y_test))\n",
    "\n",
    "fig, ax = plt.subplots(figsize=(12,12))\n",
    "scatter = ax.scatter(X_train_reduced[:, 0], X_train_reduced[:, 1], c=Y_train)\n",
    "handles, labels = scatter.legend_elements()\n",
    "ax.legend(handles, labels)\n",
    "plt.show()\n",
    "\n",
    "del pca\n",
    "del svm"
   ]
  },
  {
   "cell_type": "code",
   "execution_count": null,
   "metadata": {},
   "outputs": [],
   "source": []
  },
  {
   "cell_type": "code",
   "execution_count": 31,
   "metadata": {},
   "outputs": [
    {
     "output_type": "execute_result",
     "data": {
      "text/plain": [
       "numpy.ndarray"
      ]
     },
     "metadata": {},
     "execution_count": 31
    }
   ],
   "source": [
    "type(X_train_reduced)"
   ]
  },
  {
   "cell_type": "code",
   "execution_count": 34,
   "metadata": {},
   "outputs": [
    {
     "output_type": "display_data",
     "data": {
      "application/vnd.plotly.v1+json": {
       "config": {
        "plotlyServerURL": "https://plot.ly"
       },
       "data": [
        {
         "hovertemplate": "x=%{x}<br>y=%{y}<br>z=%{z}<br>color=%{marker.color}<extra></extra>",
         "legendgroup": "",
         "marker": {
          "color": [
           4,
           4,
           0,
           1,
           2,
           3,
           0,
           3,
           0,
           4,
           0,
           4,
           0,
           0,
           0,
           0,
           4,
           0,
           1,
           0,
           3,
           4,
           1,
           4,
           0,
           1,
           2,
           2,
           4,
           4,
           3,
           4,
           4,
           0,
           0,
           0,
           0,
           4,
           3,
           2,
           2,
           1,
           0,
           4,
           0,
           3,
           0,
           0,
           3,
           4,
           0,
           0,
           1,
           0,
           0,
           0,
           1,
           4,
           0,
           0,
           0,
           4,
           0,
           3,
           4,
           1,
           4,
           1,
           0,
           0,
           0,
           0,
           4,
           0,
           2,
           4,
           4,
           0,
           2,
           0,
           2,
           0,
           0,
           2,
           0,
           0,
           1,
           4,
           0,
           4,
           1,
           0,
           3,
           0,
           0,
           4,
           0,
           0,
           0,
           0,
           0,
           0,
           3,
           0,
           0,
           1,
           4,
           3,
           3,
           0,
           4,
           0,
           0,
           0,
           2,
           0,
           1,
           4,
           4,
           1,
           0,
           0,
           0,
           0,
           0,
           4,
           1,
           0,
           4,
           0,
           1,
           4,
           1,
           4
          ],
          "coloraxis": "coloraxis",
          "symbol": "circle"
         },
         "mode": "markers",
         "name": "",
         "scene": "scene",
         "showlegend": false,
         "type": "scatter3d",
         "x": [
          -8.868944772982275,
          -6.894456478812251,
          -21.300559532014823,
          -14.965799142829738,
          24.069915434326454,
          3.083598263357536,
          -8.021230465806092,
          15.074448392140917,
          13.777798181926691,
          21.009444958546318,
          -1.0100249094434934,
          -3.9111910547550734,
          -2.2702869642979406,
          -16.216808918312633,
          -7.036563039070864,
          17.968670414687416,
          20.130136188553827,
          -10.133501683178228,
          -20.8759071368444,
          29.879299481037506,
          -11.907094347032482,
          5.0184695652909,
          3.075781446443923,
          22.117560277067007,
          -29.039934076304647,
          -11.906823998950559,
          13.076441591664446,
          26.081633938815553,
          27.992141645833172,
          12.109552951513356,
          12.054433228372769,
          8.093297474642917,
          17.127985505892305,
          -3.0771312596857805,
          -18.111185664015675,
          18.79766618394744,
          -3.013143588505853,
          11.13801798934711,
          3.0856387458901784,
          26.006183343773653,
          15.008825206272183,
          5.103649234393048,
          4.974042846628361,
          -8.897783815134558,
          -21.196588051230773,
          5.077514741294275,
          -18.08662237651099,
          23.77011013838272,
          -17.98747003889182,
          13.010273195899478,
          -7.160683962048214,
          25.89290908646561,
          -6.974501418634513,
          22.88511030962526,
          -13.046325167476015,
          -15.272738448114255,
          -17.96104239146554,
          -13.915551898902283,
          29.975559549232223,
          24.98324764990669,
          -22.152878988366698,
          17.099878945468433,
          -28.07903045742675,
          3.052450616060006,
          5.0658139891831455,
          -5.94531078913507,
          -23.943980928536156,
          -12.95108665532745,
          -25.210051463146257,
          3.992368653990173,
          21.963324111682027,
          -1.0861280028786326,
          -15.959810908202643,
          -22.25030943358599,
          24.060753987133815,
          30.04419429134346,
          3.1472015143084127,
          20.618841878491533,
          16.01731631030776,
          -28.0179694709637,
          13.997579430488752,
          -23.25921707359302,
          -21.028732181834734,
          16.008656659886427,
          17.767133928186716,
          -13.286993647056754,
          -7.9396307287302115,
          -20.944633534131402,
          -11.342871901946928,
          -15.866716087073968,
          -23.93781344954056,
          -16.091107387818326,
          -21.873723169273173,
          7.6638518206516455,
          13.916375307311467,
          -25.885251172970626,
          -29.045845404905613,
          6.9304356002765894,
          28.922451795509986,
          15.995116564752461,
          -6.280606066036382,
          2.653426433116929,
          3.031057074537625,
          -4.242137214346214,
          2.707916493742137,
          -19.905878715064794,
          1.1150052159284565,
          -2.9301513831904575,
          -27.94323382886931,
          19.790279101521058,
          7.022735815132245,
          13.565224650193786,
          9.822415581874147,
          13.905686772117393,
          16.10304113004159,
          8.849096287569884,
          -12.939287193645326,
          25.084085999367108,
          -6.9530207801171775,
          1.0283459815918388,
          12.91565315259675,
          -5.015580268176097,
          -16.080546718368318,
          -2.121005207042937,
          -16.084328208810884,
          -11.861582152503289,
          -4.909183539804553,
          27.96744301928269,
          -11.93072281584402,
          -20.192645742278156,
          -8.970518218914632,
          -19.917398875280906,
          5.148190370028515,
          -4.985891278856311
         ],
         "y": [
          -8.58878971200696,
          -7.423231667054258,
          15.024981141789038,
          -3.6791786823164245,
          -5.626448544263041,
          -6.142409008453043,
          -0.9139498405812556,
          -5.545170492717777,
          10.634391149139939,
          -2.108259626579564,
          -0.9086822276853566,
          -6.240983237674566,
          12.968532891907586,
          10.495655507120286,
          0.33129422023416155,
          0.6518575899300767,
          -8.142745240265398,
          5.998686392324315,
          -8.63341292138036,
          5.226221958342376,
          -6.772729247707316,
          -2.5738014805302294,
          -5.801247209742419,
          -7.756877442711784,
          -0.0647273610989236,
          -7.032065107811596,
          -6.072353157378322,
          -5.9328807592781345,
          -1.1069112847046878,
          -7.084847709515973,
          -4.477461473340371,
          -6.230460808979788,
          -8.609474447649992,
          2.420175433084368,
          4.313547827180823,
          9.991444832439251,
          -1.1569179193503545,
          -8.805495101892395,
          -6.09624540407353,
          -1.8156634302614125,
          -2.0496083362976383,
          -7.464817440062582,
          0.09507633268971687,
          -7.257988420817826,
          8.70811812429594,
          -5.636607438402371,
          2.5727606384186505,
          11.219240594205056,
          -2.4357297231596884,
          -1.8166588860102386,
          6.70396468688013,
          4.693818211102514,
          -3.2965224380748306,
          4.850315290113642,
          0.5721266867958918,
          12.912494909070768,
          -4.279936683844733,
          -6.084639665657344,
          -0.2711181724560784,
          -0.32936291502471843,
          6.155628862628139,
          -6.51614246495785,
          2.2343706377881816,
          -4.442732112064401,
          -5.157310363040963,
          -5.040440065342278,
          -5.017026862297461,
          -4.624885376397151,
          9.250952438403287,
          -1.1559942405768957,
          0.4904475017784857,
          3.0849467834443294,
          -3.6858210155784237,
          11.629760626121733,
          -4.809819591429754,
          -3.7735066512664637,
          -9.529431229717003,
          19.12093141880843,
          -2.6623015742966074,
          -1.2551383966869165,
          -1.7608100983623687,
          11.950164667551244,
          0.1918008860114462,
          -2.0322489655106395,
          11.247285890931794,
          13.864211711938701,
          -5.207521833426586,
          -4.397326734237891,
          17.015111424044377,
          -8.765855315902364,
          -5.437280888944061,
          3.235917454790289,
          -8.517851832584155,
          16.801603323891527,
          2.9870715348239436,
          -7.9952403267516985,
          0.4153537568292193,
          2.1626895521612983,
          2.620408917660112,
          -0.8075903147932251,
          13.498981372190881,
          17.32968958247361,
          -3.1178115956371952,
          11.489927093280711,
          14.356254823732534,
          -7.1489442554484395,
          -7.874244564799034,
          -5.283575914684704,
          -4.773739601894449,
          9.843105783026639,
          -2.545696322639818,
          22.234186062022896,
          8.567451492638147,
          3.412818221677041,
          -7.341851437261141,
          6.86046758716376,
          -5.268762977146729,
          -5.746559774303075,
          -4.384981609457915,
          -3.3866039478217793,
          3.1020209282365276,
          -0.39528477867667944,
          2.257545901324401,
          4.738763431324698,
          3.108887330219939,
          -9.013357583433898,
          -6.686980200510356,
          0.5575564964448161,
          -5.642555902022965,
          9.14446168210744,
          -3.5302033575202016,
          -6.0328255398872015,
          -9.89535540189834,
          -2.417457908513008
         ],
         "z": [
          0.9700256411930934,
          -0.005018428974880641,
          1.416832148124043,
          -0.6804917011805898,
          -1.1032508903148353,
          0.20440302302574562,
          -0.9103646352114638,
          0.14748110736188955,
          0.25800123578861034,
          -0.0926120573901844,
          0.2391200945270555,
          1.2117406604194843,
          0.12221387142423702,
          1.3619723483956392,
          0.04552263348266517,
          1.1255064803153536,
          1.058050841958804,
          1.302255562033848,
          -0.6823742783323598,
          0.14166685073928942,
          0.2763129470680062,
          -0.03422616998273582,
          -0.7855442751699404,
          0.838009504770616,
          -0.7984043671097424,
          -0.9496345703041423,
          -1.0504105117701248,
          -0.9029633187838211,
          -0.12156076740761483,
          1.1054888107423162,
          0.16964365284263536,
          1.1313288776289057,
          -0.11471301635457,
          0.0585315472107345,
          0.12722406999855537,
          1.181310498119473,
          -0.9569534538951014,
          0.8672557540690419,
          0.1850380260041837,
          -0.8761288557616222,
          -0.8219070041327189,
          -1.0386089470422766,
          1.2074258291483972,
          0.006194312260590986,
          -0.5496828737296766,
          0.17789802381409198,
          -0.8369608352744964,
          0.9515529059732201,
          0.3349871122341801,
          1.154422869733279,
          -0.8657818280251748,
          1.1309733291399158,
          -0.6988748122057722,
          -0.07706032412362744,
          -0.8950054543449785,
          -0.5526875834323625,
          -0.8816241207417501,
          1.2634383903401953,
          -1.1184199944068514,
          0.11113114985119836,
          -0.7933375606201601,
          1.0838560452417378,
          -0.8081534652930282,
          0.2154808732291788,
          -0.05106450229195427,
          -0.9473952838034073,
          0.11648403737948286,
          -0.9288776104375936,
          -0.7579597914849657,
          0.23183471154413116,
          -0.840827001524806,
          0.033062652812225514,
          1.2892087300194723,
          -0.7773251171979344,
          -0.8855078831395914,
          -0.1687422482048528,
          0.9227462799016684,
          -0.946419092968149,
          -0.8113023068456352,
          -0.8112308895071275,
          -1.0273773814207496,
          -0.7505030969364161,
          1.3201550977604355,
          -0.8268617365031941,
          -0.01002792193639095,
          -0.5762862760612327,
          -0.7062621082384161,
          1.2902449022111662,
          0.4262852079837807,
          1.2560989906761524,
          -0.6266736039521305,
          0.3618170118737926,
          0.2959517669105154,
          0.07685175695392922,
          -0.7840119583632117,
          1.0797139061246193,
          -0.8149412541381923,
          -0.7539098486481297,
          -0.8427539651153607,
          1.1261301000328376,
          0.1459426303897019,
          0.10563299402695824,
          0.2044503293900822,
          -0.6373718314336784,
          0.08625327255342274,
          -0.9098533509259449,
          -0.04850095359751955,
          0.22074194295441532,
          0.3507617172704328,
          -0.009649710440121737,
          1.180078524910749,
          0.33360430523580564,
          1.2176403164784817,
          -0.7615712288145791,
          -1.0935541171256393,
          0.2390777284667063,
          -0.9330741607499531,
          1.067994774233455,
          0.03444960797467609,
          -0.7400049227557998,
          -0.037776302813234415,
          1.2352427089940292,
          -0.8491510338808593,
          -0.6718432334009158,
          1.333494065303315,
          1.2342143679504356,
          -0.750774153913178,
          0.10170813210440076,
          0.05159258595162759,
          1.3734372755476565,
          -0.6902621075768709,
          1.2941833402287726,
          -1.0544502728331862,
          0.017471559937974983
         ]
        }
       ],
       "layout": {
        "coloraxis": {
         "colorbar": {
          "title": {
           "text": "color"
          }
         },
         "colorscale": [
          [
           0,
           "#0d0887"
          ],
          [
           0.1111111111111111,
           "#46039f"
          ],
          [
           0.2222222222222222,
           "#7201a8"
          ],
          [
           0.3333333333333333,
           "#9c179e"
          ],
          [
           0.4444444444444444,
           "#bd3786"
          ],
          [
           0.5555555555555556,
           "#d8576b"
          ],
          [
           0.6666666666666666,
           "#ed7953"
          ],
          [
           0.7777777777777778,
           "#fb9f3a"
          ],
          [
           0.8888888888888888,
           "#fdca26"
          ],
          [
           1,
           "#f0f921"
          ]
         ]
        },
        "legend": {
         "tracegroupgap": 0
        },
        "margin": {
         "t": 60
        },
        "scene": {
         "domain": {
          "x": [
           0,
           1
          ],
          "y": [
           0,
           1
          ]
         },
         "xaxis": {
          "title": {
           "text": "x"
          }
         },
         "yaxis": {
          "title": {
           "text": "y"
          }
         },
         "zaxis": {
          "title": {
           "text": "z"
          }
         }
        },
        "template": {
         "data": {
          "bar": [
           {
            "error_x": {
             "color": "#2a3f5f"
            },
            "error_y": {
             "color": "#2a3f5f"
            },
            "marker": {
             "line": {
              "color": "#E5ECF6",
              "width": 0.5
             }
            },
            "type": "bar"
           }
          ],
          "barpolar": [
           {
            "marker": {
             "line": {
              "color": "#E5ECF6",
              "width": 0.5
             }
            },
            "type": "barpolar"
           }
          ],
          "carpet": [
           {
            "aaxis": {
             "endlinecolor": "#2a3f5f",
             "gridcolor": "white",
             "linecolor": "white",
             "minorgridcolor": "white",
             "startlinecolor": "#2a3f5f"
            },
            "baxis": {
             "endlinecolor": "#2a3f5f",
             "gridcolor": "white",
             "linecolor": "white",
             "minorgridcolor": "white",
             "startlinecolor": "#2a3f5f"
            },
            "type": "carpet"
           }
          ],
          "choropleth": [
           {
            "colorbar": {
             "outlinewidth": 0,
             "ticks": ""
            },
            "type": "choropleth"
           }
          ],
          "contour": [
           {
            "colorbar": {
             "outlinewidth": 0,
             "ticks": ""
            },
            "colorscale": [
             [
              0,
              "#0d0887"
             ],
             [
              0.1111111111111111,
              "#46039f"
             ],
             [
              0.2222222222222222,
              "#7201a8"
             ],
             [
              0.3333333333333333,
              "#9c179e"
             ],
             [
              0.4444444444444444,
              "#bd3786"
             ],
             [
              0.5555555555555556,
              "#d8576b"
             ],
             [
              0.6666666666666666,
              "#ed7953"
             ],
             [
              0.7777777777777778,
              "#fb9f3a"
             ],
             [
              0.8888888888888888,
              "#fdca26"
             ],
             [
              1,
              "#f0f921"
             ]
            ],
            "type": "contour"
           }
          ],
          "contourcarpet": [
           {
            "colorbar": {
             "outlinewidth": 0,
             "ticks": ""
            },
            "type": "contourcarpet"
           }
          ],
          "heatmap": [
           {
            "colorbar": {
             "outlinewidth": 0,
             "ticks": ""
            },
            "colorscale": [
             [
              0,
              "#0d0887"
             ],
             [
              0.1111111111111111,
              "#46039f"
             ],
             [
              0.2222222222222222,
              "#7201a8"
             ],
             [
              0.3333333333333333,
              "#9c179e"
             ],
             [
              0.4444444444444444,
              "#bd3786"
             ],
             [
              0.5555555555555556,
              "#d8576b"
             ],
             [
              0.6666666666666666,
              "#ed7953"
             ],
             [
              0.7777777777777778,
              "#fb9f3a"
             ],
             [
              0.8888888888888888,
              "#fdca26"
             ],
             [
              1,
              "#f0f921"
             ]
            ],
            "type": "heatmap"
           }
          ],
          "heatmapgl": [
           {
            "colorbar": {
             "outlinewidth": 0,
             "ticks": ""
            },
            "colorscale": [
             [
              0,
              "#0d0887"
             ],
             [
              0.1111111111111111,
              "#46039f"
             ],
             [
              0.2222222222222222,
              "#7201a8"
             ],
             [
              0.3333333333333333,
              "#9c179e"
             ],
             [
              0.4444444444444444,
              "#bd3786"
             ],
             [
              0.5555555555555556,
              "#d8576b"
             ],
             [
              0.6666666666666666,
              "#ed7953"
             ],
             [
              0.7777777777777778,
              "#fb9f3a"
             ],
             [
              0.8888888888888888,
              "#fdca26"
             ],
             [
              1,
              "#f0f921"
             ]
            ],
            "type": "heatmapgl"
           }
          ],
          "histogram": [
           {
            "marker": {
             "colorbar": {
              "outlinewidth": 0,
              "ticks": ""
             }
            },
            "type": "histogram"
           }
          ],
          "histogram2d": [
           {
            "colorbar": {
             "outlinewidth": 0,
             "ticks": ""
            },
            "colorscale": [
             [
              0,
              "#0d0887"
             ],
             [
              0.1111111111111111,
              "#46039f"
             ],
             [
              0.2222222222222222,
              "#7201a8"
             ],
             [
              0.3333333333333333,
              "#9c179e"
             ],
             [
              0.4444444444444444,
              "#bd3786"
             ],
             [
              0.5555555555555556,
              "#d8576b"
             ],
             [
              0.6666666666666666,
              "#ed7953"
             ],
             [
              0.7777777777777778,
              "#fb9f3a"
             ],
             [
              0.8888888888888888,
              "#fdca26"
             ],
             [
              1,
              "#f0f921"
             ]
            ],
            "type": "histogram2d"
           }
          ],
          "histogram2dcontour": [
           {
            "colorbar": {
             "outlinewidth": 0,
             "ticks": ""
            },
            "colorscale": [
             [
              0,
              "#0d0887"
             ],
             [
              0.1111111111111111,
              "#46039f"
             ],
             [
              0.2222222222222222,
              "#7201a8"
             ],
             [
              0.3333333333333333,
              "#9c179e"
             ],
             [
              0.4444444444444444,
              "#bd3786"
             ],
             [
              0.5555555555555556,
              "#d8576b"
             ],
             [
              0.6666666666666666,
              "#ed7953"
             ],
             [
              0.7777777777777778,
              "#fb9f3a"
             ],
             [
              0.8888888888888888,
              "#fdca26"
             ],
             [
              1,
              "#f0f921"
             ]
            ],
            "type": "histogram2dcontour"
           }
          ],
          "mesh3d": [
           {
            "colorbar": {
             "outlinewidth": 0,
             "ticks": ""
            },
            "type": "mesh3d"
           }
          ],
          "parcoords": [
           {
            "line": {
             "colorbar": {
              "outlinewidth": 0,
              "ticks": ""
             }
            },
            "type": "parcoords"
           }
          ],
          "pie": [
           {
            "automargin": true,
            "type": "pie"
           }
          ],
          "scatter": [
           {
            "marker": {
             "colorbar": {
              "outlinewidth": 0,
              "ticks": ""
             }
            },
            "type": "scatter"
           }
          ],
          "scatter3d": [
           {
            "line": {
             "colorbar": {
              "outlinewidth": 0,
              "ticks": ""
             }
            },
            "marker": {
             "colorbar": {
              "outlinewidth": 0,
              "ticks": ""
             }
            },
            "type": "scatter3d"
           }
          ],
          "scattercarpet": [
           {
            "marker": {
             "colorbar": {
              "outlinewidth": 0,
              "ticks": ""
             }
            },
            "type": "scattercarpet"
           }
          ],
          "scattergeo": [
           {
            "marker": {
             "colorbar": {
              "outlinewidth": 0,
              "ticks": ""
             }
            },
            "type": "scattergeo"
           }
          ],
          "scattergl": [
           {
            "marker": {
             "colorbar": {
              "outlinewidth": 0,
              "ticks": ""
             }
            },
            "type": "scattergl"
           }
          ],
          "scattermapbox": [
           {
            "marker": {
             "colorbar": {
              "outlinewidth": 0,
              "ticks": ""
             }
            },
            "type": "scattermapbox"
           }
          ],
          "scatterpolar": [
           {
            "marker": {
             "colorbar": {
              "outlinewidth": 0,
              "ticks": ""
             }
            },
            "type": "scatterpolar"
           }
          ],
          "scatterpolargl": [
           {
            "marker": {
             "colorbar": {
              "outlinewidth": 0,
              "ticks": ""
             }
            },
            "type": "scatterpolargl"
           }
          ],
          "scatterternary": [
           {
            "marker": {
             "colorbar": {
              "outlinewidth": 0,
              "ticks": ""
             }
            },
            "type": "scatterternary"
           }
          ],
          "surface": [
           {
            "colorbar": {
             "outlinewidth": 0,
             "ticks": ""
            },
            "colorscale": [
             [
              0,
              "#0d0887"
             ],
             [
              0.1111111111111111,
              "#46039f"
             ],
             [
              0.2222222222222222,
              "#7201a8"
             ],
             [
              0.3333333333333333,
              "#9c179e"
             ],
             [
              0.4444444444444444,
              "#bd3786"
             ],
             [
              0.5555555555555556,
              "#d8576b"
             ],
             [
              0.6666666666666666,
              "#ed7953"
             ],
             [
              0.7777777777777778,
              "#fb9f3a"
             ],
             [
              0.8888888888888888,
              "#fdca26"
             ],
             [
              1,
              "#f0f921"
             ]
            ],
            "type": "surface"
           }
          ],
          "table": [
           {
            "cells": {
             "fill": {
              "color": "#EBF0F8"
             },
             "line": {
              "color": "white"
             }
            },
            "header": {
             "fill": {
              "color": "#C8D4E3"
             },
             "line": {
              "color": "white"
             }
            },
            "type": "table"
           }
          ]
         },
         "layout": {
          "annotationdefaults": {
           "arrowcolor": "#2a3f5f",
           "arrowhead": 0,
           "arrowwidth": 1
          },
          "autotypenumbers": "strict",
          "coloraxis": {
           "colorbar": {
            "outlinewidth": 0,
            "ticks": ""
           }
          },
          "colorscale": {
           "diverging": [
            [
             0,
             "#8e0152"
            ],
            [
             0.1,
             "#c51b7d"
            ],
            [
             0.2,
             "#de77ae"
            ],
            [
             0.3,
             "#f1b6da"
            ],
            [
             0.4,
             "#fde0ef"
            ],
            [
             0.5,
             "#f7f7f7"
            ],
            [
             0.6,
             "#e6f5d0"
            ],
            [
             0.7,
             "#b8e186"
            ],
            [
             0.8,
             "#7fbc41"
            ],
            [
             0.9,
             "#4d9221"
            ],
            [
             1,
             "#276419"
            ]
           ],
           "sequential": [
            [
             0,
             "#0d0887"
            ],
            [
             0.1111111111111111,
             "#46039f"
            ],
            [
             0.2222222222222222,
             "#7201a8"
            ],
            [
             0.3333333333333333,
             "#9c179e"
            ],
            [
             0.4444444444444444,
             "#bd3786"
            ],
            [
             0.5555555555555556,
             "#d8576b"
            ],
            [
             0.6666666666666666,
             "#ed7953"
            ],
            [
             0.7777777777777778,
             "#fb9f3a"
            ],
            [
             0.8888888888888888,
             "#fdca26"
            ],
            [
             1,
             "#f0f921"
            ]
           ],
           "sequentialminus": [
            [
             0,
             "#0d0887"
            ],
            [
             0.1111111111111111,
             "#46039f"
            ],
            [
             0.2222222222222222,
             "#7201a8"
            ],
            [
             0.3333333333333333,
             "#9c179e"
            ],
            [
             0.4444444444444444,
             "#bd3786"
            ],
            [
             0.5555555555555556,
             "#d8576b"
            ],
            [
             0.6666666666666666,
             "#ed7953"
            ],
            [
             0.7777777777777778,
             "#fb9f3a"
            ],
            [
             0.8888888888888888,
             "#fdca26"
            ],
            [
             1,
             "#f0f921"
            ]
           ]
          },
          "colorway": [
           "#636efa",
           "#EF553B",
           "#00cc96",
           "#ab63fa",
           "#FFA15A",
           "#19d3f3",
           "#FF6692",
           "#B6E880",
           "#FF97FF",
           "#FECB52"
          ],
          "font": {
           "color": "#2a3f5f"
          },
          "geo": {
           "bgcolor": "white",
           "lakecolor": "white",
           "landcolor": "#E5ECF6",
           "showlakes": true,
           "showland": true,
           "subunitcolor": "white"
          },
          "hoverlabel": {
           "align": "left"
          },
          "hovermode": "closest",
          "mapbox": {
           "style": "light"
          },
          "paper_bgcolor": "white",
          "plot_bgcolor": "#E5ECF6",
          "polar": {
           "angularaxis": {
            "gridcolor": "white",
            "linecolor": "white",
            "ticks": ""
           },
           "bgcolor": "#E5ECF6",
           "radialaxis": {
            "gridcolor": "white",
            "linecolor": "white",
            "ticks": ""
           }
          },
          "scene": {
           "xaxis": {
            "backgroundcolor": "#E5ECF6",
            "gridcolor": "white",
            "gridwidth": 2,
            "linecolor": "white",
            "showbackground": true,
            "ticks": "",
            "zerolinecolor": "white"
           },
           "yaxis": {
            "backgroundcolor": "#E5ECF6",
            "gridcolor": "white",
            "gridwidth": 2,
            "linecolor": "white",
            "showbackground": true,
            "ticks": "",
            "zerolinecolor": "white"
           },
           "zaxis": {
            "backgroundcolor": "#E5ECF6",
            "gridcolor": "white",
            "gridwidth": 2,
            "linecolor": "white",
            "showbackground": true,
            "ticks": "",
            "zerolinecolor": "white"
           }
          },
          "shapedefaults": {
           "line": {
            "color": "#2a3f5f"
           }
          },
          "ternary": {
           "aaxis": {
            "gridcolor": "white",
            "linecolor": "white",
            "ticks": ""
           },
           "baxis": {
            "gridcolor": "white",
            "linecolor": "white",
            "ticks": ""
           },
           "bgcolor": "#E5ECF6",
           "caxis": {
            "gridcolor": "white",
            "linecolor": "white",
            "ticks": ""
           }
          },
          "title": {
           "x": 0.05
          },
          "xaxis": {
           "automargin": true,
           "gridcolor": "white",
           "linecolor": "white",
           "ticks": "",
           "title": {
            "standoff": 15
           },
           "zerolinecolor": "white",
           "zerolinewidth": 2
          },
          "yaxis": {
           "automargin": true,
           "gridcolor": "white",
           "linecolor": "white",
           "ticks": "",
           "title": {
            "standoff": 15
           },
           "zerolinecolor": "white",
           "zerolinewidth": 2
          }
         }
        }
       }
      }
     },
     "metadata": {}
    },
    {
     "output_type": "display_data",
     "data": {
      "text/plain": "<Figure size 864x864 with 1 Axes>",
      "image/svg+xml": "<?xml version=\"1.0\" encoding=\"utf-8\" standalone=\"no\"?>\n<!DOCTYPE svg PUBLIC \"-//W3C//DTD SVG 1.1//EN\"\n  \"http://www.w3.org/Graphics/SVG/1.1/DTD/svg11.dtd\">\n<!-- Created with matplotlib (https://matplotlib.org/) -->\n<svg height=\"687.197344pt\" version=\"1.1\" viewBox=\"0 0 714.854687 687.197344\" width=\"714.854687pt\" xmlns=\"http://www.w3.org/2000/svg\" xmlns:xlink=\"http://www.w3.org/1999/xlink\">\n <metadata>\n  <rdf:RDF xmlns:cc=\"http://creativecommons.org/ns#\" xmlns:dc=\"http://purl.org/dc/elements/1.1/\" xmlns:rdf=\"http://www.w3.org/1999/02/22-rdf-syntax-ns#\">\n   <cc:Work>\n    <dc:type rdf:resource=\"http://purl.org/dc/dcmitype/StillImage\"/>\n    <dc:date>2020-12-21T19:17:00.287324</dc:date>\n    <dc:format>image/svg+xml</dc:format>\n    <dc:creator>\n     <cc:Agent>\n      <dc:title>Matplotlib v3.3.2, https://matplotlib.org/</dc:title>\n     </cc:Agent>\n    </dc:creator>\n   </cc:Work>\n  </rdf:RDF>\n </metadata>\n <defs>\n  <style type=\"text/css\">*{stroke-linecap:butt;stroke-linejoin:round;}</style>\n </defs>\n <g id=\"figure_1\">\n  <g id=\"patch_1\">\n   <path d=\"M 0 687.197344 \nL 714.854687 687.197344 \nL 714.854687 0 \nL 0 0 \nz\n\" style=\"fill:none;\"/>\n  </g>\n  <g id=\"axes_1\">\n   <g id=\"patch_2\">\n    <path d=\"M 30.103125 663.319219 \nL 699.703125 663.319219 \nL 699.703125 10.999219 \nL 30.103125 10.999219 \nz\n\" style=\"fill:#ffffff;\"/>\n   </g>\n   <g id=\"matplotlib.axis_1\">\n    <g id=\"xtick_1\">\n     <g id=\"line2d_1\">\n      <defs>\n       <path d=\"M 0 0 \nL 0 3.5 \n\" id=\"mddd244eade\" style=\"stroke:#000000;stroke-width:0.8;\"/>\n      </defs>\n      <g>\n       <use style=\"stroke:#000000;stroke-width:0.8;\" x=\"30.103125\" xlink:href=\"#mddd244eade\" y=\"663.319219\"/>\n      </g>\n     </g>\n     <g id=\"text_1\">\n      <!-- 0.0 -->\n      <g transform=\"translate(22.151563 677.917656)scale(0.1 -0.1)\">\n       <defs>\n        <path d=\"M 31.78125 66.40625 \nQ 24.171875 66.40625 20.328125 58.90625 \nQ 16.5 51.421875 16.5 36.375 \nQ 16.5 21.390625 20.328125 13.890625 \nQ 24.171875 6.390625 31.78125 6.390625 \nQ 39.453125 6.390625 43.28125 13.890625 \nQ 47.125 21.390625 47.125 36.375 \nQ 47.125 51.421875 43.28125 58.90625 \nQ 39.453125 66.40625 31.78125 66.40625 \nz\nM 31.78125 74.21875 \nQ 44.046875 74.21875 50.515625 64.515625 \nQ 56.984375 54.828125 56.984375 36.375 \nQ 56.984375 17.96875 50.515625 8.265625 \nQ 44.046875 -1.421875 31.78125 -1.421875 \nQ 19.53125 -1.421875 13.0625 8.265625 \nQ 6.59375 17.96875 6.59375 36.375 \nQ 6.59375 54.828125 13.0625 64.515625 \nQ 19.53125 74.21875 31.78125 74.21875 \nz\n\" id=\"DejaVuSans-48\"/>\n        <path d=\"M 10.6875 12.40625 \nL 21 12.40625 \nL 21 0 \nL 10.6875 0 \nz\n\" id=\"DejaVuSans-46\"/>\n       </defs>\n       <use xlink:href=\"#DejaVuSans-48\"/>\n       <use x=\"63.623047\" xlink:href=\"#DejaVuSans-46\"/>\n       <use x=\"95.410156\" xlink:href=\"#DejaVuSans-48\"/>\n      </g>\n     </g>\n    </g>\n    <g id=\"xtick_2\">\n     <g id=\"line2d_2\">\n      <g>\n       <use style=\"stroke:#000000;stroke-width:0.8;\" x=\"164.023125\" xlink:href=\"#mddd244eade\" y=\"663.319219\"/>\n      </g>\n     </g>\n     <g id=\"text_2\">\n      <!-- 0.2 -->\n      <g transform=\"translate(156.071563 677.917656)scale(0.1 -0.1)\">\n       <defs>\n        <path d=\"M 19.1875 8.296875 \nL 53.609375 8.296875 \nL 53.609375 0 \nL 7.328125 0 \nL 7.328125 8.296875 \nQ 12.9375 14.109375 22.625 23.890625 \nQ 32.328125 33.6875 34.8125 36.53125 \nQ 39.546875 41.84375 41.421875 45.53125 \nQ 43.3125 49.21875 43.3125 52.78125 \nQ 43.3125 58.59375 39.234375 62.25 \nQ 35.15625 65.921875 28.609375 65.921875 \nQ 23.96875 65.921875 18.8125 64.3125 \nQ 13.671875 62.703125 7.8125 59.421875 \nL 7.8125 69.390625 \nQ 13.765625 71.78125 18.9375 73 \nQ 24.125 74.21875 28.421875 74.21875 \nQ 39.75 74.21875 46.484375 68.546875 \nQ 53.21875 62.890625 53.21875 53.421875 \nQ 53.21875 48.921875 51.53125 44.890625 \nQ 49.859375 40.875 45.40625 35.40625 \nQ 44.1875 33.984375 37.640625 27.21875 \nQ 31.109375 20.453125 19.1875 8.296875 \nz\n\" id=\"DejaVuSans-50\"/>\n       </defs>\n       <use xlink:href=\"#DejaVuSans-48\"/>\n       <use x=\"63.623047\" xlink:href=\"#DejaVuSans-46\"/>\n       <use x=\"95.410156\" xlink:href=\"#DejaVuSans-50\"/>\n      </g>\n     </g>\n    </g>\n    <g id=\"xtick_3\">\n     <g id=\"line2d_3\">\n      <g>\n       <use style=\"stroke:#000000;stroke-width:0.8;\" x=\"297.943125\" xlink:href=\"#mddd244eade\" y=\"663.319219\"/>\n      </g>\n     </g>\n     <g id=\"text_3\">\n      <!-- 0.4 -->\n      <g transform=\"translate(289.991562 677.917656)scale(0.1 -0.1)\">\n       <defs>\n        <path d=\"M 37.796875 64.3125 \nL 12.890625 25.390625 \nL 37.796875 25.390625 \nz\nM 35.203125 72.90625 \nL 47.609375 72.90625 \nL 47.609375 25.390625 \nL 58.015625 25.390625 \nL 58.015625 17.1875 \nL 47.609375 17.1875 \nL 47.609375 0 \nL 37.796875 0 \nL 37.796875 17.1875 \nL 4.890625 17.1875 \nL 4.890625 26.703125 \nz\n\" id=\"DejaVuSans-52\"/>\n       </defs>\n       <use xlink:href=\"#DejaVuSans-48\"/>\n       <use x=\"63.623047\" xlink:href=\"#DejaVuSans-46\"/>\n       <use x=\"95.410156\" xlink:href=\"#DejaVuSans-52\"/>\n      </g>\n     </g>\n    </g>\n    <g id=\"xtick_4\">\n     <g id=\"line2d_4\">\n      <g>\n       <use style=\"stroke:#000000;stroke-width:0.8;\" x=\"431.863125\" xlink:href=\"#mddd244eade\" y=\"663.319219\"/>\n      </g>\n     </g>\n     <g id=\"text_4\">\n      <!-- 0.6 -->\n      <g transform=\"translate(423.911563 677.917656)scale(0.1 -0.1)\">\n       <defs>\n        <path d=\"M 33.015625 40.375 \nQ 26.375 40.375 22.484375 35.828125 \nQ 18.609375 31.296875 18.609375 23.390625 \nQ 18.609375 15.53125 22.484375 10.953125 \nQ 26.375 6.390625 33.015625 6.390625 \nQ 39.65625 6.390625 43.53125 10.953125 \nQ 47.40625 15.53125 47.40625 23.390625 \nQ 47.40625 31.296875 43.53125 35.828125 \nQ 39.65625 40.375 33.015625 40.375 \nz\nM 52.59375 71.296875 \nL 52.59375 62.3125 \nQ 48.875 64.0625 45.09375 64.984375 \nQ 41.3125 65.921875 37.59375 65.921875 \nQ 27.828125 65.921875 22.671875 59.328125 \nQ 17.53125 52.734375 16.796875 39.40625 \nQ 19.671875 43.65625 24.015625 45.921875 \nQ 28.375 48.1875 33.59375 48.1875 \nQ 44.578125 48.1875 50.953125 41.515625 \nQ 57.328125 34.859375 57.328125 23.390625 \nQ 57.328125 12.15625 50.6875 5.359375 \nQ 44.046875 -1.421875 33.015625 -1.421875 \nQ 20.359375 -1.421875 13.671875 8.265625 \nQ 6.984375 17.96875 6.984375 36.375 \nQ 6.984375 53.65625 15.1875 63.9375 \nQ 23.390625 74.21875 37.203125 74.21875 \nQ 40.921875 74.21875 44.703125 73.484375 \nQ 48.484375 72.75 52.59375 71.296875 \nz\n\" id=\"DejaVuSans-54\"/>\n       </defs>\n       <use xlink:href=\"#DejaVuSans-48\"/>\n       <use x=\"63.623047\" xlink:href=\"#DejaVuSans-46\"/>\n       <use x=\"95.410156\" xlink:href=\"#DejaVuSans-54\"/>\n      </g>\n     </g>\n    </g>\n    <g id=\"xtick_5\">\n     <g id=\"line2d_5\">\n      <g>\n       <use style=\"stroke:#000000;stroke-width:0.8;\" x=\"565.783125\" xlink:href=\"#mddd244eade\" y=\"663.319219\"/>\n      </g>\n     </g>\n     <g id=\"text_5\">\n      <!-- 0.8 -->\n      <g transform=\"translate(557.831563 677.917656)scale(0.1 -0.1)\">\n       <defs>\n        <path d=\"M 31.78125 34.625 \nQ 24.75 34.625 20.71875 30.859375 \nQ 16.703125 27.09375 16.703125 20.515625 \nQ 16.703125 13.921875 20.71875 10.15625 \nQ 24.75 6.390625 31.78125 6.390625 \nQ 38.8125 6.390625 42.859375 10.171875 \nQ 46.921875 13.96875 46.921875 20.515625 \nQ 46.921875 27.09375 42.890625 30.859375 \nQ 38.875 34.625 31.78125 34.625 \nz\nM 21.921875 38.8125 \nQ 15.578125 40.375 12.03125 44.71875 \nQ 8.5 49.078125 8.5 55.328125 \nQ 8.5 64.0625 14.71875 69.140625 \nQ 20.953125 74.21875 31.78125 74.21875 \nQ 42.671875 74.21875 48.875 69.140625 \nQ 55.078125 64.0625 55.078125 55.328125 \nQ 55.078125 49.078125 51.53125 44.71875 \nQ 48 40.375 41.703125 38.8125 \nQ 48.828125 37.15625 52.796875 32.3125 \nQ 56.78125 27.484375 56.78125 20.515625 \nQ 56.78125 9.90625 50.3125 4.234375 \nQ 43.84375 -1.421875 31.78125 -1.421875 \nQ 19.734375 -1.421875 13.25 4.234375 \nQ 6.78125 9.90625 6.78125 20.515625 \nQ 6.78125 27.484375 10.78125 32.3125 \nQ 14.796875 37.15625 21.921875 38.8125 \nz\nM 18.3125 54.390625 \nQ 18.3125 48.734375 21.84375 45.5625 \nQ 25.390625 42.390625 31.78125 42.390625 \nQ 38.140625 42.390625 41.71875 45.5625 \nQ 45.3125 48.734375 45.3125 54.390625 \nQ 45.3125 60.0625 41.71875 63.234375 \nQ 38.140625 66.40625 31.78125 66.40625 \nQ 25.390625 66.40625 21.84375 63.234375 \nQ 18.3125 60.0625 18.3125 54.390625 \nz\n\" id=\"DejaVuSans-56\"/>\n       </defs>\n       <use xlink:href=\"#DejaVuSans-48\"/>\n       <use x=\"63.623047\" xlink:href=\"#DejaVuSans-46\"/>\n       <use x=\"95.410156\" xlink:href=\"#DejaVuSans-56\"/>\n      </g>\n     </g>\n    </g>\n    <g id=\"xtick_6\">\n     <g id=\"line2d_6\">\n      <g>\n       <use style=\"stroke:#000000;stroke-width:0.8;\" x=\"699.703125\" xlink:href=\"#mddd244eade\" y=\"663.319219\"/>\n      </g>\n     </g>\n     <g id=\"text_6\">\n      <!-- 1.0 -->\n      <g transform=\"translate(691.751562 677.917656)scale(0.1 -0.1)\">\n       <defs>\n        <path d=\"M 12.40625 8.296875 \nL 28.515625 8.296875 \nL 28.515625 63.921875 \nL 10.984375 60.40625 \nL 10.984375 69.390625 \nL 28.421875 72.90625 \nL 38.28125 72.90625 \nL 38.28125 8.296875 \nL 54.390625 8.296875 \nL 54.390625 0 \nL 12.40625 0 \nz\n\" id=\"DejaVuSans-49\"/>\n       </defs>\n       <use xlink:href=\"#DejaVuSans-49\"/>\n       <use x=\"63.623047\" xlink:href=\"#DejaVuSans-46\"/>\n       <use x=\"95.410156\" xlink:href=\"#DejaVuSans-48\"/>\n      </g>\n     </g>\n    </g>\n   </g>\n   <g id=\"matplotlib.axis_2\">\n    <g id=\"ytick_1\">\n     <g id=\"line2d_7\">\n      <defs>\n       <path d=\"M 0 0 \nL -3.5 0 \n\" id=\"m4442594bd8\" style=\"stroke:#000000;stroke-width:0.8;\"/>\n      </defs>\n      <g>\n       <use style=\"stroke:#000000;stroke-width:0.8;\" x=\"30.103125\" xlink:href=\"#m4442594bd8\" y=\"663.319219\"/>\n      </g>\n     </g>\n     <g id=\"text_7\">\n      <!-- 0.0 -->\n      <g transform=\"translate(7.2 667.118437)scale(0.1 -0.1)\">\n       <use xlink:href=\"#DejaVuSans-48\"/>\n       <use x=\"63.623047\" xlink:href=\"#DejaVuSans-46\"/>\n       <use x=\"95.410156\" xlink:href=\"#DejaVuSans-48\"/>\n      </g>\n     </g>\n    </g>\n    <g id=\"ytick_2\">\n     <g id=\"line2d_8\">\n      <g>\n       <use style=\"stroke:#000000;stroke-width:0.8;\" x=\"30.103125\" xlink:href=\"#m4442594bd8\" y=\"532.855219\"/>\n      </g>\n     </g>\n     <g id=\"text_8\">\n      <!-- 0.2 -->\n      <g transform=\"translate(7.2 536.654437)scale(0.1 -0.1)\">\n       <use xlink:href=\"#DejaVuSans-48\"/>\n       <use x=\"63.623047\" xlink:href=\"#DejaVuSans-46\"/>\n       <use x=\"95.410156\" xlink:href=\"#DejaVuSans-50\"/>\n      </g>\n     </g>\n    </g>\n    <g id=\"ytick_3\">\n     <g id=\"line2d_9\">\n      <g>\n       <use style=\"stroke:#000000;stroke-width:0.8;\" x=\"30.103125\" xlink:href=\"#m4442594bd8\" y=\"402.391219\"/>\n      </g>\n     </g>\n     <g id=\"text_9\">\n      <!-- 0.4 -->\n      <g transform=\"translate(7.2 406.190437)scale(0.1 -0.1)\">\n       <use xlink:href=\"#DejaVuSans-48\"/>\n       <use x=\"63.623047\" xlink:href=\"#DejaVuSans-46\"/>\n       <use x=\"95.410156\" xlink:href=\"#DejaVuSans-52\"/>\n      </g>\n     </g>\n    </g>\n    <g id=\"ytick_4\">\n     <g id=\"line2d_10\">\n      <g>\n       <use style=\"stroke:#000000;stroke-width:0.8;\" x=\"30.103125\" xlink:href=\"#m4442594bd8\" y=\"271.927219\"/>\n      </g>\n     </g>\n     <g id=\"text_10\">\n      <!-- 0.6 -->\n      <g transform=\"translate(7.2 275.726437)scale(0.1 -0.1)\">\n       <use xlink:href=\"#DejaVuSans-48\"/>\n       <use x=\"63.623047\" xlink:href=\"#DejaVuSans-46\"/>\n       <use x=\"95.410156\" xlink:href=\"#DejaVuSans-54\"/>\n      </g>\n     </g>\n    </g>\n    <g id=\"ytick_5\">\n     <g id=\"line2d_11\">\n      <g>\n       <use style=\"stroke:#000000;stroke-width:0.8;\" x=\"30.103125\" xlink:href=\"#m4442594bd8\" y=\"141.463219\"/>\n      </g>\n     </g>\n     <g id=\"text_11\">\n      <!-- 0.8 -->\n      <g transform=\"translate(7.2 145.262437)scale(0.1 -0.1)\">\n       <use xlink:href=\"#DejaVuSans-48\"/>\n       <use x=\"63.623047\" xlink:href=\"#DejaVuSans-46\"/>\n       <use x=\"95.410156\" xlink:href=\"#DejaVuSans-56\"/>\n      </g>\n     </g>\n    </g>\n    <g id=\"ytick_6\">\n     <g id=\"line2d_12\">\n      <g>\n       <use style=\"stroke:#000000;stroke-width:0.8;\" x=\"30.103125\" xlink:href=\"#m4442594bd8\" y=\"10.999219\"/>\n      </g>\n     </g>\n     <g id=\"text_12\">\n      <!-- 1.0 -->\n      <g transform=\"translate(7.2 14.798437)scale(0.1 -0.1)\">\n       <use xlink:href=\"#DejaVuSans-49\"/>\n       <use x=\"63.623047\" xlink:href=\"#DejaVuSans-46\"/>\n       <use x=\"95.410156\" xlink:href=\"#DejaVuSans-48\"/>\n      </g>\n     </g>\n    </g>\n   </g>\n   <g id=\"patch_3\">\n    <path d=\"M 30.103125 663.319219 \nL 30.103125 10.999219 \n\" style=\"fill:none;stroke:#000000;stroke-linecap:square;stroke-linejoin:miter;stroke-width:0.8;\"/>\n   </g>\n   <g id=\"patch_4\">\n    <path d=\"M 699.703125 663.319219 \nL 699.703125 10.999219 \n\" style=\"fill:none;stroke:#000000;stroke-linecap:square;stroke-linejoin:miter;stroke-width:0.8;\"/>\n   </g>\n   <g id=\"patch_5\">\n    <path d=\"M 30.103125 663.319219 \nL 699.703125 663.319219 \n\" style=\"fill:none;stroke:#000000;stroke-linecap:square;stroke-linejoin:miter;stroke-width:0.8;\"/>\n   </g>\n   <g id=\"patch_6\">\n    <path d=\"M 30.103125 10.999219 \nL 699.703125 10.999219 \n\" style=\"fill:none;stroke:#000000;stroke-linecap:square;stroke-linejoin:miter;stroke-width:0.8;\"/>\n   </g>\n  </g>\n </g>\n</svg>\n",
      "image/png": "[encoded data removed]"
     },
     "metadata": {
      "needs_background": "light"
     }
    }
   ],
   "source": [
    "import plotly.express as px\n",
    "\n",
    "ax.scatter_3d(x=X_train_reduced[:,0], y=X_train_reduced[:,1], z=X_train_reduced[:,2], color=Y_train)\n",
    "fig.show()"
   ]
  },
  {
   "cell_type": "code",
   "execution_count": 15,
   "metadata": {},
   "outputs": [
    {
     "output_type": "execute_result",
     "data": {
      "text/plain": [
       "'\\nhttps://www.kaggle.com/philippurwokoap/svm-multiclass-classification\\nSVM: 0.7\\n\\nhttps://www.kaggle.com/karanpatel219/drug-classification-100-random-forest\\nRF: 1.0 (?)\\n'"
      ]
     },
     "metadata": {},
     "execution_count": 15
    }
   ],
   "source": [
    "\n",
    "\"\"\"\n",
    "https://www.kaggle.com/philippurwokoap/svm-multiclass-classification\n",
    "SVM: 0.7\n",
    "\n",
    "https://www.kaggle.com/karanpatel219/drug-classification-100-random-forest\n",
    "RF: 1.0 (?)\n",
    "\"\"\""
   ]
  }
 ]
}